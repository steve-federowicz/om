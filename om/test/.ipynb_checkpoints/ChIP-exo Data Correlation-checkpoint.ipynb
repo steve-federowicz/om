{
 "metadata": {
  "name": "",
  "signature": "sha256:2d57a4280fecb0a745a6bed2d068b672c61e973d49e199ac138ded240560b39c"
 },
 "nbformat": 3,
 "nbformat_minor": 0,
 "worksheets": [
  {
   "cells": [
    {
     "cell_type": "markdown",
     "metadata": {},
     "source": [
      "### Calculate ChIP Rep Correlations & Plot"
     ]
    },
    {
     "cell_type": "code",
     "collapsed": false,
     "input": [
      "from om.orm import base\n",
      "from om.orm.data import *\n",
      "from om.orm.components import *\n",
      "from om.loading.load_data import *\n",
      "from om.lib import settings\n",
      "from IPython.display import HTML\n",
      "\n",
      "import pandas as pd\n",
      "\n",
      "ome = base.Session()\n",
      "genome_data = omics_database.genome_data"
     ],
     "language": "python",
     "metadata": {},
     "outputs": [
      {
       "output_type": "stream",
       "stream": "stderr",
       "text": [
        "/Library/Python/2.7/site-packages/pytz/__init__.py:29: UserWarning: Module pysam was already imported from /Library/Python/2.7/site-packages/pysam-0.7.4-py2.7-macosx-10.7-intel.egg/pysam/__init__.pyc, but /Library/Python/2.7/site-packages/RSeQC-2.3.7-py2.7-macosx-10.7-intel.egg is being added to sys.path\n",
        "  from pkg_resources import resource_stream\n",
        "/Library/Python/2.7/site-packages/pytz/__init__.py:29: UserWarning: Module pysam was already imported from /Library/Python/2.7/site-packages/pysam-0.7.4-py2.7-macosx-10.7-intel.egg/pysam/__init__.pyc, but /Library/Python/2.7/site-packages/MACE-1.0-py2.7-macosx-10.7-intel.egg is being added to sys.path\n",
        "  from pkg_resources import resource_stream\n"
       ]
      }
     ],
     "prompt_number": 1
    },
    {
     "cell_type": "markdown",
     "metadata": {},
     "source": [
      "####Fetch all individual replicates of ChIP-exo data from Mongo DB\n",
      "\n",
      "    - Can filter or set to all conditions, strains, etc"
     ]
    },
    {
     "cell_type": "code",
     "collapsed": false,
     "input": [
      "chip_exps = ome.query(ChIPExperiment).join(Strain,InVivoEnvironment).\\\n",
      "                                          filter(and_(ChIPExperiment.antibody.ilike('%'),\n",
      "                                                      ChIPExperiment.normalization_factor > 0,\\\n",
      "                                                      InVivoEnvironment.carbon_source.ilike('%'),\\\n",
      "                                                      InVivoEnvironment.supplements.ilike(''),\\\n",
      "                                                      Strain.name.ilike('%'))).all()"
     ],
     "language": "python",
     "metadata": {},
     "outputs": [],
     "prompt_number": 6
    },
    {
     "cell_type": "markdown",
     "metadata": {},
     "source": [
      "####Write all condition data to dataframe for each replicate and for each strand\n",
      "    \n",
      "    - Prints out instances where datafra"
     ]
    },
    {
     "cell_type": "code",
     "collapsed": false,
     "input": [
      "df = pd.DataFrame(index=range(100000))\n",
      "for exp in chip_exps:\n",
      "    for strnd in ['+','-']:\n",
      "        try: df[exp.name+'_'+strnd] = pd.DataFrame.from_dict({int(x['leftpos']):x['value'] \\\n",
      "                                         for x in query_genome_data([exp.id],leftpos=0,rightpos=100000,strand=[strnd])}, orient='index')\n",
      "        except: print exp.name, strnd\n",
      "df = df.fillna(value=0.)"
     ],
     "language": "python",
     "metadata": {},
     "outputs": [],
     "prompt_number": 7
    },
    {
     "cell_type": "code",
     "collapsed": false,
     "input": [
      "df.corr()"
     ],
     "language": "python",
     "metadata": {},
     "outputs": [
      {
       "html": [
        "<pre>\n",
        "&lt;class 'pandas.core.frame.DataFrame'&gt;\n",
        "Index: 236 entries, chipExo-ArcA_ArcA8myc_glucose_NH4Cl_anaerobic_2_anti-myc_0.9_+ to chipExo-RpoD_wt_glycerol_NH4Cl_O2_3_anti-rpod_1.0_-\n",
        "Columns: 236 entries, chipExo-ArcA_ArcA8myc_glucose_NH4Cl_anaerobic_2_anti-myc_0.9_+ to chipExo-RpoD_wt_glycerol_NH4Cl_O2_3_anti-rpod_1.0_-\n",
        "dtypes: float64(236)\n",
        "</pre>"
       ],
       "metadata": {},
       "output_type": "pyout",
       "prompt_number": 8,
       "text": [
        "<class 'pandas.core.frame.DataFrame'>\n",
        "Index: 236 entries, chipExo-ArcA_ArcA8myc_glucose_NH4Cl_anaerobic_2_anti-myc_0.9_+ to chipExo-RpoD_wt_glycerol_NH4Cl_O2_3_anti-rpod_1.0_-\n",
        "Columns: 236 entries, chipExo-ArcA_ArcA8myc_glucose_NH4Cl_anaerobic_2_anti-myc_0.9_+ to chipExo-RpoD_wt_glycerol_NH4Cl_O2_3_anti-rpod_1.0_-\n",
        "dtypes: float64(236)"
       ]
      }
     ],
     "prompt_number": 8
    },
    {
     "cell_type": "code",
     "collapsed": false,
     "input": [
      "strains = ['wt','delAr1delAr2','Ar3','delAr2','delAr1']\n",
      "carbon_sources = ['glycerol','fructose','glucose']\n",
      "supplements = ['','rif']\n",
      "antibodies = ['anti-crp','anti-rpod','anti-myc']\n",
      "\n",
      "chip_exps = ome.query(ChIPExperiment).join(Strain,InVivoEnvironment).\\\n",
      "                                          filter(and_(ChIPExperiment.antibody.in_(antibodies),\\\n",
      "                                                      InVivoEnvironment.carbon_source.in_(carbon_sources),\\\n",
      "                                                      InVivoEnvironment.supplements.in_(supplements),\\\n",
      "                                                      Strain.name.in_(strains))).all()\n",
      "\n",
      "\n",
      "grouped = ome.query(func.distinct(ChIPPeakData.data_set_id).label('data_set_id'),\\\n",
      "                    func.max(ChIPPeakData.value).label('value'),\\\n",
      "                    ChIPPeakData.grouped_eventpos.label('eventpos'),\\\n",
      "                    GenomeRegion.strand.label('strand')).\\\n",
      "                    join(GenomeRegion).\\\n",
      "                    group_by(ChIPPeakData.data_set_id, ChIPPeakData.grouped_eventpos, GenomeRegion.strand).subquery()\n",
      "\n",
      "regions = ome.query(ChIPPeakData).join(grouped, and_(grouped.c.data_set_id == ChIPPeakData.data_set_id,\\\n",
      "                                                         grouped.c.eventpos == ChIPPeakData.grouped_eventpos,\\\n",
      "                                                         grouped.c.value == ChIPPeakData.value)).\\\n",
      "                                  join(ChIPPeakAnalysis, Strain, InVivoEnvironment, GenomeRegion).\\\n",
      "                                  join(AnalysisComposition, AnalysisComposition.analysis_id == ChIPPeakAnalysis.id).\\\n",
      "                                  join(ChIPExperiment, AnalysisComposition.data_set_id == ChIPExperiment.id).\\\n",
      "                                  filter(and_(ChIPExperiment.antibody.in_(antibodies),\n",
      "                                             Strain.name.in_(strains),\\\n",
      "                                             InVivoEnvironment.carbon_source.in_(carbon_sources))).\\\n",
      "                                  order_by(ChIPPeakData.eventpos).all()"
     ],
     "language": "python",
     "metadata": {},
     "outputs": [],
     "prompt_number": 9
    },
    {
     "cell_type": "code",
     "collapsed": false,
     "input": [
      "idx = set([position for region in regions for position in range(region.genome_region.leftpos,region.genome_region.rightpos)])\n",
      "df = pd.DataFrame(index=list(idx))\n",
      "\n",
      "for exp in chip_exps:\n",
      "    for strnd in ['-']:\n",
      "        data_dict = {}\n",
      "        for region in regions:\n",
      "            for x in query_genome_data([exp.id],\\\n",
      "                                        leftpos = region.genome_region.leftpos,\\\n",
      "                                        rightpos = region.genome_region.rightpos,\\\n",
      "                                        strand=[strnd]):\n",
      "                data_dict[x['leftpos']] = x['value']\n",
      "        try: df[exp.name+'_'+strnd] = pd.DataFrame.from_dict(data_dict, orient='index')\n",
      "        except: print exp.name, strnd\n",
      "df = df.fillna(value=0.)\n"
     ],
     "language": "python",
     "metadata": {},
     "outputs": [],
     "prompt_number": 11
    },
    {
     "cell_type": "code",
     "collapsed": false,
     "input": [
      "regions"
     ],
     "language": "python",
     "metadata": {},
     "outputs": [
      {
       "metadata": {},
       "output_type": "pyout",
       "prompt_number": 8,
       "text": [
        "[]"
       ]
      }
     ],
     "prompt_number": 8
    },
    {
     "cell_type": "code",
     "collapsed": false,
     "input": [],
     "language": "python",
     "metadata": {},
     "outputs": []
    }
   ],
   "metadata": {}
  }
 ]
}