{
 "metadata": {
  "name": ""
 },
 "nbformat": 3,
 "nbformat_minor": 0,
 "worksheets": [
  {
   "cells": [
    {
     "cell_type": "code",
     "collapsed": false,
     "input": [
      "from om import base,data,components,settings\n",
      "from om.data import *\n",
      "from om.components import *\n",
      "from om.loading.data_loading import *\n",
      "from sqlalchemy import func\n",
      "import simplejson as json\n",
      "import numpy as np\n",
      "import os\n",
      "import math\n",
      "import shutil\n",
      "import subprocess\n",
      "\n",
      "ome = base.Session()"
     ],
     "language": "python",
     "metadata": {},
     "outputs": [],
     "prompt_number": 1
    },
    {
     "cell_type": "code",
     "collapsed": false,
     "input": [
      "base.engine"
     ],
     "language": "python",
     "metadata": {},
     "outputs": [
      {
       "metadata": {},
       "output_type": "pyout",
       "prompt_number": 5,
       "text": [
        "Engine(postgresql://sfederow:@localhost:5432/om)"
       ]
      }
     ],
     "prompt_number": 5
    },
    {
     "cell_type": "heading",
     "level": 4,
     "metadata": {},
     "source": [
      "Reset the db for dev purposes (wipes ALL data!!!)"
     ]
    },
    {
     "cell_type": "code",
     "collapsed": false,
     "input": [
      "base.Base.metadata.drop_all()\n",
      "base.omics_database.genome_data.drop()\n",
      "base.Base.metadata.create_all()"
     ],
     "language": "python",
     "metadata": {},
     "outputs": []
    },
    {
     "cell_type": "heading",
     "level": 4,
     "metadata": {},
     "source": [
      "Get normalization factors for ChIP and RNAseq experiments"
     ]
    },
    {
     "cell_type": "code",
     "collapsed": false,
     "input": [],
     "language": "python",
     "metadata": {},
     "outputs": [],
     "prompt_number": 4
    },
    {
     "cell_type": "heading",
     "level": 4,
     "metadata": {},
     "source": [
      "Name based experiment loading"
     ]
    },
    {
     "cell_type": "code",
     "collapsed": false,
     "input": [
      "files_to_load = os.listdir(settings.dropbox_directory+'/crp/data/ChIP/bam') + \\\n",
      "                os.listdir(settings.dropbox_directory+'/crp/data/RNAseq/bam') + \\\n",
      "                os.listdir(settings.data_directory+'/Microarray/asv2') + \\\n",
      "                os.listdir(settings.data_directory+'/Microarray/ec2')\n",
      "\n",
      "for file_name in files_to_load:\n",
      "    if file_name[-3:] != 'bam' and file_name[-3:] != 'CEL': continue\n",
      "    print file_name\n",
      "    \n",
      "    try: \n",
      "        norm_factor = mapped_read_norm_factor[file_name]\n",
      "        name_based_experiment_loading(file_name, bulk_file_load=True, norm_factor=norm_factor)\n",
      "        name_based_experiment_loading(file_name, bulk_file_load=True, norm_factor=1.)\n",
      "    except: \n",
      "        name_based_experiment_loading(file_name, bulk_file_load=True)\n",
      "        \n",
      "\n",
      "\n",
      "\n",
      "omics_database.genome_data.create_index([(\"data_set_id\",ASCENDING), (\"leftpos\", ASCENDING)])\n",
      "\n",
      "rnaseq_exp_sets = ome.query(func.array_agg(RNASeqExperiment.name),func.array_agg(RNASeqExperiment.file_name)).\\\n",
      "                            group_by(RNASeqExperiment.strain_id, RNASeqExperiment.environment_id,\\\n",
      "                                     RNASeqExperiment.machine_id,RNASeqExperiment.sequencing_type).all()\n",
      "\n",
      "array_exp_sets = ome.query(func.array_agg(ArrayExperiment.name),func.array_agg(ArrayExperiment.file_name)).\\\n",
      "                            group_by(ArrayExperiment.strain_id, ArrayExperiment.environment_id,\\\n",
      "                                     ArrayExperiment.platform).all()\n",
      "    \n",
      "chip_exp_sets = ome.query(func.array_agg(ChIPExperiment.name),func.array_agg(ChIPExperiment.file_name)).\\\n",
      "                          group_by(ChIPExperiment.strain_id, ChIPExperiment.environment_id,\\\n",
      "                                   ChIPExperiment.antibody, ChIPExperiment.protocol_type,\\\n",
      "                                   ChIPExperiment.target).all()\n"
     ],
     "language": "python",
     "metadata": {},
     "outputs": [
      {
       "output_type": "stream",
       "stream": "stdout",
       "text": [
        "chipExo-ArcA_ArcA8myc_glucose_NH4Cl_anaerobic_2_anti-myc.sorted.bam\n",
        "starting name_based_experiment_loading ...\r"
       ]
      },
      {
       "output_type": "stream",
       "stream": "stdout",
       "text": [
        "name_based_experiment_loading complete (0.08 sec)\n",
        "chipExo-ArcA_ArcA8myc_glucose_NH4Cl_anaerobic_3_anti-myc.sorted.bam\n",
        "starting name_based_experiment_loading ...\r"
       ]
      },
      {
       "output_type": "stream",
       "stream": "stdout",
       "text": [
        "name_based_experiment_loading complete (0.01 sec)\n",
        "chipExo-Crp_Ar3_glycerol_NH4Cl_O2_1_anti-crp.sorted.bam\n",
        "starting name_based_experiment_loading ...\r"
       ]
      },
      {
       "output_type": "stream",
       "stream": "stdout",
       "text": [
        "name_based_experiment_loading complete (0.01 sec)\n",
        "chipExo-Crp_Ar3_glycerol_NH4Cl_O2_2_anti-crp.sorted.bam\n",
        "starting name_based_experiment_loading ...\r"
       ]
      },
      {
       "output_type": "stream",
       "stream": "stdout",
       "text": [
        "name_based_experiment_loading complete (0.01 sec)\n",
        "chipExo-Crp_Ar3_glycerol_NH4Cl_O2_3_anti-crp.sorted.bam\n",
        "starting name_based_experiment_loading ...\r"
       ]
      },
      {
       "output_type": "stream",
       "stream": "stdout",
       "text": [
        "name_based_experiment_loading complete (0.01 sec)\n",
        "chipExo-Crp_Crp8myc_fructose_NH4Cl_O2_1_anti-crp.sorted.bam\n",
        "starting name_based_experiment_loading ...\r"
       ]
      },
      {
       "output_type": "stream",
       "stream": "stdout",
       "text": [
        "name_based_experiment_loading complete (0.01 sec)\n",
        "chipExo-Crp_Crp8myc_fructose_NH4Cl_O2_1_anti-myc.sorted.bam\n",
        "starting name_based_experiment_loading ...\r"
       ]
      },
      {
       "output_type": "stream",
       "stream": "stdout",
       "text": [
        "name_based_experiment_loading complete (0.01 sec)\n",
        "chipExo-Crp_Crp8myc_fructose_NH4Cl_O2_2_anti-crp.sorted.bam\n",
        "starting name_based_experiment_loading ...\r"
       ]
      },
      {
       "output_type": "stream",
       "stream": "stdout",
       "text": [
        "name_based_experiment_loading complete (0.01 sec)\n",
        "chipExo-Crp_Crp8myc_fructose_NH4Cl_O2_2_anti-myc.sorted.bam\n",
        "starting name_based_experiment_loading ...\r"
       ]
      },
      {
       "output_type": "stream",
       "stream": "stdout",
       "text": [
        "name_based_experiment_loading complete (0.01 sec)\n",
        "chipExo-Crp_Crp8myc_fructose_NH4Cl_O2_3_anti-crp.sorted.bam\n",
        "starting name_based_experiment_loading ...\r"
       ]
      },
      {
       "output_type": "stream",
       "stream": "stdout",
       "text": [
        "name_based_experiment_loading complete (0.01 sec)\n",
        "chipExo-Crp_Crp8myc_fructose_NH4Cl_O2_3_anti-myc.sorted.bam\n",
        "starting name_based_experiment_loading ...\r"
       ]
      },
      {
       "output_type": "stream",
       "stream": "stdout",
       "text": [
        "name_based_experiment_loading complete (0.01 sec)\n",
        "chipExo-Crp_Crp8myc_glucose_NH4Cl_O2_1_anti-myc.sorted.bam\n",
        "starting name_based_experiment_loading ...\r"
       ]
      },
      {
       "output_type": "stream",
       "stream": "stdout",
       "text": [
        "name_based_experiment_loading complete (0.01 sec)\n",
        "chipExo-Crp_Crp8myc_glucose_NH4Cl_O2_2_anti-myc.sorted.bam\n",
        "starting name_based_experiment_loading ...\r"
       ]
      },
      {
       "output_type": "stream",
       "stream": "stdout",
       "text": [
        "name_based_experiment_loading complete (0.01 sec)\n",
        "chipExo-Crp_Crp8myc_glycerol_NH4Cl_O2_1_anti-crp.bam\n",
        "starting name_based_experiment_loading ...\r"
       ]
      },
      {
       "output_type": "stream",
       "stream": "stdout",
       "text": [
        "name_based_experiment_loading complete (0.01 sec)\n",
        "chipExo-Crp_Crp8myc_glycerol_NH4Cl_O2_1_anti-mock-crp.bam\n",
        "starting name_based_experiment_loading ...\r"
       ]
      },
      {
       "output_type": "stream",
       "stream": "stdout",
       "text": [
        "name_based_experiment_loading complete (0.01 sec)\n",
        "chipExo-Crp_Crp8myc_glycerol_NH4Cl_O2_1_anti-mock-myc.bam\n",
        "starting name_based_experiment_loading ...\r"
       ]
      },
      {
       "output_type": "stream",
       "stream": "stdout",
       "text": [
        "name_based_experiment_loading complete (0.01 sec)\n",
        "chipExo-Crp_Crp8myc_glycerol_NH4Cl_O2_1_anti-myc.bam\n",
        "starting name_based_experiment_loading ...\r"
       ]
      },
      {
       "output_type": "stream",
       "stream": "stdout",
       "text": [
        "name_based_experiment_loading complete (0.01 sec)\n",
        "chipExo-Crp_Crp8myc_glycerol_NH4Cl_O2_2_anti-crp.sorted.bam\n",
        "starting name_based_experiment_loading ...\r"
       ]
      },
      {
       "output_type": "stream",
       "stream": "stdout",
       "text": [
        "name_based_experiment_loading complete (0.01 sec)\n",
        "chipExo-Crp_Crp8myc_glycerol_NH4Cl_O2_3_anti-myc.sorted.bam\n",
        "starting name_based_experiment_loading ...\r"
       ]
      },
      {
       "output_type": "stream",
       "stream": "stdout",
       "text": [
        "name_based_experiment_loading complete (0.01 sec)\n",
        "chipExo-Crp_delAr1_glycerol_NH4Cl_O2_1_anti-crp.sorted.bam\n",
        "starting name_based_experiment_loading ...\r"
       ]
      },
      {
       "output_type": "stream",
       "stream": "stdout",
       "text": [
        "name_based_experiment_loading complete (0.01 sec)\n",
        "chipExo-Crp_delAr1_glycerol_NH4Cl_O2_2_anti-crp.sorted.bam\n",
        "starting name_based_experiment_loading ...\r"
       ]
      },
      {
       "output_type": "stream",
       "stream": "stdout",
       "text": [
        "name_based_experiment_loading complete (0.01 sec)\n",
        "chipExo-Crp_delAr1_glycerol_NH4Cl_O2_3_anti-crp.sorted.bam\n",
        "starting name_based_experiment_loading ...\r"
       ]
      },
      {
       "output_type": "stream",
       "stream": "stdout",
       "text": [
        "name_based_experiment_loading complete (0.01 sec)\n",
        "chipExo-Crp_delAr1delAr2_glycerol_NH4Cl_O2_1_anti-crp.sorted.bam\n",
        "starting name_based_experiment_loading ...\r"
       ]
      },
      {
       "output_type": "stream",
       "stream": "stdout",
       "text": [
        "name_based_experiment_loading complete (0.01 sec)\n",
        "chipExo-Crp_delAr1delAr2_glycerol_NH4Cl_O2_2_anti-crp.sorted.bam\n",
        "starting name_based_experiment_loading ...\r"
       ]
      },
      {
       "output_type": "stream",
       "stream": "stdout",
       "text": [
        "name_based_experiment_loading complete (0.01 sec)\n",
        "chipExo-Crp_delAr1delAr2_glycerol_NH4Cl_O2_3_anti-crp.sorted.bam\n",
        "starting name_based_experiment_loading ...\r"
       ]
      },
      {
       "output_type": "stream",
       "stream": "stdout",
       "text": [
        "name_based_experiment_loading complete (0.01 sec)\n",
        "chipExo-Crp_delAr2_glycerol_NH4Cl_O2_1_anti-crp.sorted.bam\n",
        "starting name_based_experiment_loading ...\r"
       ]
      },
      {
       "output_type": "stream",
       "stream": "stdout",
       "text": [
        "name_based_experiment_loading complete (0.01 sec)\n",
        "chipExo-Crp_delAr2_glycerol_NH4Cl_O2_2_anti-crp.sorted.bam\n",
        "starting name_based_experiment_loading ...\r"
       ]
      },
      {
       "output_type": "stream",
       "stream": "stdout",
       "text": [
        "name_based_experiment_loading complete (0.01 sec)\n",
        "chipExo-Crp_delAr2_glycerol_NH4Cl_O2_3_anti-crp.sorted.bam\n",
        "starting name_based_experiment_loading ...\r"
       ]
      },
      {
       "output_type": "stream",
       "stream": "stdout",
       "text": [
        "name_based_experiment_loading complete (0.01 sec)\n",
        "chipExo-Crp_delta-crp_glycerol_NH4Cl_O2_1_anti-crp.sorted.bam\n",
        "starting name_based_experiment_loading ...\r"
       ]
      },
      {
       "output_type": "stream",
       "stream": "stdout",
       "text": [
        "name_based_experiment_loading complete (0.01 sec)\n",
        "chipExo-Crp_delta-crp_glycerol_NH4Cl_O2_2_anti-crp.sorted.bam\n",
        "starting name_based_experiment_loading ...\r"
       ]
      },
      {
       "output_type": "stream",
       "stream": "stdout",
       "text": [
        "name_based_experiment_loading complete (0.01 sec)\n",
        "chipExo-Crp_delta-crp_glycerol_NH4Cl_O2_3_anti-crp.sorted.bam\n",
        "starting name_based_experiment_loading ...\r"
       ]
      },
      {
       "output_type": "stream",
       "stream": "stdout",
       "text": [
        "name_based_experiment_loading complete (0.01 sec)\n",
        "chipExo-Crp_wt_fructose_NH4Cl_O2_1_anti-crp.bam\n",
        "starting name_based_experiment_loading ...\r"
       ]
      },
      {
       "output_type": "stream",
       "stream": "stdout",
       "text": [
        "name_based_experiment_loading complete (0.01 sec)\n",
        "chipExo-Crp_wt_fructose_NH4Cl_O2_1_anti-mock-crp.bam\n",
        "starting name_based_experiment_loading ...\r"
       ]
      },
      {
       "output_type": "stream",
       "stream": "stdout",
       "text": [
        "name_based_experiment_loading complete (0.01 sec)\n",
        "chipExo-Crp_wt_fructose_NH4Cl_O2_2_anti-crp.sorted.bam\n",
        "starting name_based_experiment_loading ...\r"
       ]
      },
      {
       "output_type": "stream",
       "stream": "stdout",
       "text": [
        "name_based_experiment_loading complete (0.01 sec)\n",
        "chipExo-Crp_wt_fructose_NH4Cl_O2_3_anti-crp.sorted.bam\n",
        "starting name_based_experiment_loading ...\r"
       ]
      },
      {
       "output_type": "stream",
       "stream": "stdout",
       "text": [
        "name_based_experiment_loading complete (0.01 sec)\n",
        "chipExo-Crp_wt_fructose_NH4Cl_O2_4_anti-crp.sorted.bam\n",
        "starting name_based_experiment_loading ...\r"
       ]
      },
      {
       "output_type": "stream",
       "stream": "stdout",
       "text": [
        "name_based_experiment_loading complete (0.01 sec)\n",
        "chipExo-Crp_wt_fructose_NH4Cl_O2_5_anti-crp.sorted.bam\n",
        "starting name_based_experiment_loading ...\r"
       ]
      },
      {
       "output_type": "stream",
       "stream": "stdout",
       "text": [
        "name_based_experiment_loading complete (0.01 sec)\n",
        "chipExo-Crp_wt_glucose_NH4Cl_O2_1_anti-crp.sorted.bam\n",
        "starting name_based_experiment_loading ...\r"
       ]
      },
      {
       "output_type": "stream",
       "stream": "stdout",
       "text": [
        "name_based_experiment_loading complete (0.01 sec)\n",
        "chipExo-Crp_wt_glucose_NH4Cl_O2_2_anti-crp.sorted.bam\n",
        "starting name_based_experiment_loading ...\r"
       ]
      },
      {
       "output_type": "stream",
       "stream": "stdout",
       "text": [
        "name_based_experiment_loading complete (0.01 sec)\n",
        "chipExo-Crp_wt_glycerol_NH4Cl_O2_1_anti-crp.bam\n",
        "starting name_based_experiment_loading ...\r"
       ]
      },
      {
       "output_type": "stream",
       "stream": "stdout",
       "text": [
        "name_based_experiment_loading complete (0.01 sec)\n",
        "chipExo-Crp_wt_glycerol_NH4Cl_O2_1_anti-crp_rif.sorted.bam\n",
        "starting name_based_experiment_loading ...\r"
       ]
      },
      {
       "output_type": "stream",
       "stream": "stdout",
       "text": [
        "name_based_experiment_loading complete (0.01 sec)\n",
        "chipExo-Crp_wt_glycerol_NH4Cl_O2_1_anti-mock-crp.bam\n",
        "starting name_based_experiment_loading ...\r"
       ]
      },
      {
       "output_type": "stream",
       "stream": "stdout",
       "text": [
        "name_based_experiment_loading complete (0.01 sec)\n",
        "chipExo-Crp_wt_glycerol_NH4Cl_O2_2_anti-crp.sorted.bam\n",
        "starting name_based_experiment_loading ...\r"
       ]
      },
      {
       "output_type": "stream",
       "stream": "stdout",
       "text": [
        "name_based_experiment_loading complete (0.01 sec)\n",
        "chipExo-Crp_wt_glycerol_NH4Cl_O2_2_anti-crp_rif.sorted.bam\n",
        "starting name_based_experiment_loading ...\r"
       ]
      },
      {
       "output_type": "stream",
       "stream": "stdout",
       "text": [
        "name_based_experiment_loading complete (0.01 sec)\n",
        "chipExo-Crp_wt_glycerol_NH4Cl_O2_3_anti-crp.sorted.bam\n",
        "starting name_based_experiment_loading ...\r"
       ]
      },
      {
       "output_type": "stream",
       "stream": "stdout",
       "text": [
        "name_based_experiment_loading complete (0.01 sec)\n",
        "chipExo-Crp_wt_glycerol_NH4Cl_O2_3_anti-crp_rif.sorted.bam\n",
        "starting name_based_experiment_loading ...\r"
       ]
      },
      {
       "output_type": "stream",
       "stream": "stdout",
       "text": [
        "name_based_experiment_loading complete (0.01 sec)\n",
        "chipExo-Crp_wt_glycerol_NH4Cl_O2_4_anti-crp.sorted.bam\n",
        "starting name_based_experiment_loading ...\r"
       ]
      },
      {
       "output_type": "stream",
       "stream": "stdout",
       "text": [
        "name_based_experiment_loading complete (0.01 sec)\n",
        "chipExo-Crp_wt_glycerol_NH4Cl_O2_5_anti-crp.sorted.bam\n",
        "starting name_based_experiment_loading ...\r"
       ]
      },
      {
       "output_type": "stream",
       "stream": "stdout",
       "text": [
        "name_based_experiment_loading complete (0.01 sec)\n",
        "chipExo-Crp_wt_glycerol_NH4Cl_O2_6_anti-crp.sorted.bam\n",
        "starting name_based_experiment_loading ...\r"
       ]
      },
      {
       "output_type": "stream",
       "stream": "stdout",
       "text": [
        "name_based_experiment_loading complete (0.01 sec)\n",
        "chipExo-Fnr_Fnr8myc_glucose_NH4Cl_anaerobic_2_anti-myc.sorted.bam\n",
        "starting name_based_experiment_loading ...\r"
       ]
      },
      {
       "output_type": "stream",
       "stream": "stdout",
       "text": [
        "name_based_experiment_loading complete (0.01 sec)\n",
        "chipExo-Fnr_Fnr8myc_glucose_NH4Cl_anaerobic_3_anti-myc.sorted.bam\n",
        "starting name_based_experiment_loading ...\r"
       ]
      },
      {
       "output_type": "stream",
       "stream": "stdout",
       "text": [
        "name_based_experiment_loading complete (0.01 sec)\n",
        "chipExo-RpoA_wt_glucose_NH4Cl_O2_1_anti-rpoA.sorted.bam\n",
        "starting name_based_experiment_loading ...\r"
       ]
      },
      {
       "output_type": "stream",
       "stream": "stdout",
       "text": [
        "name_based_experiment_loading complete (0.01 sec)\n",
        "chipExo-RpoA_wt_glucose_NH4Cl_O2_2_anti-rpoA.sorted.bam\n",
        "starting name_based_experiment_loading ...\r"
       ]
      },
      {
       "output_type": "stream",
       "stream": "stdout",
       "text": [
        "name_based_experiment_loading complete (0.01 sec)\n",
        "chipExo-RpoD_wt_fructose_NH4Cl_O2_1_anti-rpod.sorted.bam\n",
        "starting name_based_experiment_loading ...\r"
       ]
      },
      {
       "output_type": "stream",
       "stream": "stdout",
       "text": [
        "name_based_experiment_loading complete (0.01 sec)\n",
        "chipExo-RpoD_wt_fructose_NH4Cl_O2_2_anti-rpod.sorted.bam\n",
        "starting name_based_experiment_loading ...\r"
       ]
      },
      {
       "output_type": "stream",
       "stream": "stdout",
       "text": [
        "name_based_experiment_loading complete (0.01 sec)\n",
        "chipExo-RpoD_wt_fructose_NH4Cl_O2_3_anti-rpod.sorted.bam\n",
        "starting name_based_experiment_loading ...\r"
       ]
      },
      {
       "output_type": "stream",
       "stream": "stdout",
       "text": [
        "name_based_experiment_loading complete (0.01 sec)\n",
        "chipExo-RpoD_wt_glucose_NH4Cl_O2_1_anti-rpod.sorted.bam\n",
        "starting name_based_experiment_loading ...\r"
       ]
      },
      {
       "output_type": "stream",
       "stream": "stdout",
       "text": [
        "name_based_experiment_loading complete (0.01 sec)\n",
        "chipExo-RpoD_wt_glucose_NH4Cl_O2_2_anti-rpod.sorted.bam\n",
        "starting name_based_experiment_loading ...\r"
       ]
      },
      {
       "output_type": "stream",
       "stream": "stdout",
       "text": [
        "name_based_experiment_loading complete (0.01 sec)\n",
        "chipExo-RpoD_wt_glucose_NH4Cl_O2_3_anti-rpod.sorted.bam\n",
        "starting name_based_experiment_loading ...\r"
       ]
      },
      {
       "output_type": "stream",
       "stream": "stdout",
       "text": [
        "name_based_experiment_loading complete (0.01 sec)\n",
        "chipExo-RpoD_wt_glycerol_NH4Cl_O2_1_anti-rpod.sorted.bam\n",
        "starting name_based_experiment_loading ...\r"
       ]
      },
      {
       "output_type": "stream",
       "stream": "stdout",
       "text": [
        "name_based_experiment_loading complete (0.01 sec)\n",
        "chipExo-RpoD_wt_glycerol_NH4Cl_O2_2_anti-rpod.sorted.bam\n",
        "starting name_based_experiment_loading ...\r"
       ]
      },
      {
       "output_type": "stream",
       "stream": "stdout",
       "text": [
        "name_based_experiment_loading complete (0.01 sec)\n",
        "chipExo-RpoD_wt_glycerol_NH4Cl_O2_3_anti-rpod.sorted.bam\n",
        "starting name_based_experiment_loading ...\r"
       ]
      },
      {
       "output_type": "stream",
       "stream": "stdout",
       "text": [
        "name_based_experiment_loading complete (0.01 sec)\n",
        "RNAseq_Ar3_glycerol_NH4Cl_O2_1.sorted.bam\n",
        "starting name_based_experiment_loading ...\r"
       ]
      },
      {
       "output_type": "stream",
       "stream": "stdout",
       "text": [
        "name_based_experiment_loading complete (0.02 sec)\n",
        "RNAseq_Ar3_glycerol_NH4Cl_O2_2.sorted.bam\n",
        "starting name_based_experiment_loading ...\r"
       ]
      },
      {
       "output_type": "stream",
       "stream": "stdout",
       "text": [
        "name_based_experiment_loading complete (0.01 sec)\n",
        "RNAseq_Ar3_glycerol_NH4Cl_O2_3.sorted.bam\n",
        "starting name_based_experiment_loading ...\r"
       ]
      },
      {
       "output_type": "stream",
       "stream": "stdout",
       "text": [
        "name_based_experiment_loading complete (0.01 sec)\n",
        "RNAseq_delAr1_glycerol_NH4Cl_O2_1.sorted.bam\n",
        "starting name_based_experiment_loading ...\r"
       ]
      },
      {
       "output_type": "stream",
       "stream": "stdout",
       "text": [
        "name_based_experiment_loading complete (0.01 sec)\n",
        "RNAseq_delAr1_glycerol_NH4Cl_O2_2.sorted.bam\n",
        "starting name_based_experiment_loading ...\r"
       ]
      },
      {
       "output_type": "stream",
       "stream": "stdout",
       "text": [
        "name_based_experiment_loading complete (0.01 sec)\n",
        "RNAseq_delAr1_glycerol_NH4Cl_O2_3.sorted.bam\n",
        "starting name_based_experiment_loading ...\r"
       ]
      },
      {
       "output_type": "stream",
       "stream": "stdout",
       "text": [
        "name_based_experiment_loading complete (0.01 sec)\n",
        "RNAseq_delAr1delAr2_glycerol_NH4Cl_O2_1.sorted.bam\n",
        "starting name_based_experiment_loading ...\r"
       ]
      },
      {
       "output_type": "stream",
       "stream": "stdout",
       "text": [
        "name_based_experiment_loading complete (0.01 sec)\n",
        "RNAseq_delAr1delAr2_glycerol_NH4Cl_O2_2.sorted.bam\n",
        "starting name_based_experiment_loading ...\r"
       ]
      },
      {
       "output_type": "stream",
       "stream": "stdout",
       "text": [
        "name_based_experiment_loading complete (0.01 sec)\n",
        "RNAseq_delAr1delAr2_glycerol_NH4Cl_O2_3.sorted.bam\n",
        "starting name_based_experiment_loading ...\r"
       ]
      },
      {
       "output_type": "stream",
       "stream": "stdout",
       "text": [
        "name_based_experiment_loading complete (0.01 sec)\n",
        "RNAseq_delAr2_glycerol_NH4Cl_O2_1.sorted.bam\n",
        "starting name_based_experiment_loading ...\r"
       ]
      },
      {
       "output_type": "stream",
       "stream": "stdout",
       "text": [
        "name_based_experiment_loading complete (0.01 sec)\n",
        "RNAseq_delAr2_glycerol_NH4Cl_O2_2.sorted.bam\n",
        "starting name_based_experiment_loading ...\r"
       ]
      },
      {
       "output_type": "stream",
       "stream": "stdout",
       "text": [
        "name_based_experiment_loading complete (0.01 sec)\n",
        "RNAseq_delAr2_glycerol_NH4Cl_O2_3.sorted.bam\n",
        "starting name_based_experiment_loading ...\r"
       ]
      },
      {
       "output_type": "stream",
       "stream": "stdout",
       "text": [
        "name_based_experiment_loading complete (0.01 sec)\n",
        "RNAseq_delta-crp_fructose_NH4Cl_O2_1.sorted.bam\n",
        "starting name_based_experiment_loading ...\r"
       ]
      },
      {
       "output_type": "stream",
       "stream": "stdout",
       "text": [
        "name_based_experiment_loading complete (0.01 sec)\n",
        "RNAseq_delta-crp_fructose_NH4Cl_O2_2.sorted.bam\n",
        "starting name_based_experiment_loading ...\r"
       ]
      },
      {
       "output_type": "stream",
       "stream": "stdout",
       "text": [
        "name_based_experiment_loading complete (0.01 sec)\n",
        "RNAseq_delta-crp_fructose_NH4Cl_O2_3.sorted.bam\n",
        "starting name_based_experiment_loading ...\r"
       ]
      },
      {
       "output_type": "stream",
       "stream": "stdout",
       "text": [
        "name_based_experiment_loading complete (0.01 sec)\n",
        "RNAseq_delta-crp_glucose_NH4Cl_O2_1.sorted.bam\n",
        "starting name_based_experiment_loading ...\r"
       ]
      },
      {
       "output_type": "stream",
       "stream": "stdout",
       "text": [
        "name_based_experiment_loading complete (0.01 sec)\n",
        "RNAseq_delta-crp_glucose_NH4Cl_O2_2.sorted.bam\n",
        "starting name_based_experiment_loading ...\r"
       ]
      },
      {
       "output_type": "stream",
       "stream": "stdout",
       "text": [
        "name_based_experiment_loading complete (0.01 sec)\n",
        "RNAseq_delta-crp_glucose_NH4Cl_O2_3.sorted.bam\n",
        "starting name_based_experiment_loading ...\r"
       ]
      },
      {
       "output_type": "stream",
       "stream": "stdout",
       "text": [
        "name_based_experiment_loading complete (0.01 sec)\n",
        "RNAseq_delta-crp_glycerol_NH4Cl_O2_1.sorted.bam\n",
        "starting name_based_experiment_loading ...\r"
       ]
      },
      {
       "output_type": "stream",
       "stream": "stdout",
       "text": [
        "name_based_experiment_loading complete (0.01 sec)\n",
        "RNAseq_delta-crp_glycerol_NH4Cl_O2_2.sorted.bam\n",
        "starting name_based_experiment_loading ...\r"
       ]
      },
      {
       "output_type": "stream",
       "stream": "stdout",
       "text": [
        "name_based_experiment_loading complete (0.01 sec)\n",
        "RNAseq_delta-crp_glycerol_NH4Cl_O2_3.sorted.bam\n",
        "starting name_based_experiment_loading ...\r"
       ]
      },
      {
       "output_type": "stream",
       "stream": "stdout",
       "text": [
        "name_based_experiment_loading complete (0.01 sec)\n",
        "RNAseq_wt_fructose_NH4Cl_O2_1.sorted.bam\n",
        "starting name_based_experiment_loading ...\r"
       ]
      },
      {
       "output_type": "stream",
       "stream": "stdout",
       "text": [
        "name_based_experiment_loading complete (0.01 sec)\n",
        "RNAseq_wt_fructose_NH4Cl_O2_2.sorted.bam\n",
        "starting name_based_experiment_loading ...\r"
       ]
      },
      {
       "output_type": "stream",
       "stream": "stdout",
       "text": [
        "name_based_experiment_loading complete (0.01 sec)\n",
        "RNAseq_wt_glucose_NH4Cl_O2_1.bam\n",
        "starting name_based_experiment_loading ...\r"
       ]
      },
      {
       "output_type": "stream",
       "stream": "stdout",
       "text": [
        "name_based_experiment_loading complete (0.01 sec)\n",
        "RNAseq_wt_glucose_NH4Cl_O2_2.bam\n",
        "starting name_based_experiment_loading ...\r"
       ]
      },
      {
       "output_type": "stream",
       "stream": "stdout",
       "text": [
        "name_based_experiment_loading complete (0.01 sec)\n",
        "RNAseq_wt_glucose_NH4Cl_O2_3.bam\n",
        "starting name_based_experiment_loading ...\r"
       ]
      },
      {
       "output_type": "stream",
       "stream": "stdout",
       "text": [
        "name_based_experiment_loading complete (0.01 sec)\n",
        "RNAseq_wt_glycerol_NH4Cl_O2_1.sorted.bam\n",
        "starting name_based_experiment_loading ...\r"
       ]
      },
      {
       "output_type": "stream",
       "stream": "stdout",
       "text": [
        "name_based_experiment_loading complete (0.01 sec)\n",
        "RNAseq_wt_glycerol_NH4Cl_O2_2.sorted.bam\n",
        "starting name_based_experiment_loading ...\r"
       ]
      },
      {
       "output_type": "stream",
       "stream": "stdout",
       "text": [
        "name_based_experiment_loading complete (0.01 sec)\n",
        "affyexp_delta-arcA_glucose_NH4Cl_anaerobic_1_asv2.CEL\n",
        "starting name_based_experiment_loading ...\r"
       ]
      },
      {
       "output_type": "stream",
       "stream": "stdout",
       "text": [
        "name_based_experiment_loading complete (0.01 sec)\n",
        "affyexp_delta-arcA_glucose_NH4Cl_anaerobic_2_asv2.CEL\n",
        "starting name_based_experiment_loading ...\r"
       ]
      },
      {
       "output_type": "stream",
       "stream": "stdout",
       "text": [
        "name_based_experiment_loading complete (0.01 sec)\n",
        "affyexp_delta-arcA_glucose_NH4Cl_anaerobic_3_asv2.CEL\n",
        "starting name_based_experiment_loading ...\r"
       ]
      },
      {
       "output_type": "stream",
       "stream": "stdout",
       "text": [
        "name_based_experiment_loading complete (0.01 sec)\n",
        "affyexp_delta-arcA_glucose_NH4Cl_O2_1_asv2.CEL\n",
        "starting name_based_experiment_loading ...\r"
       ]
      },
      {
       "output_type": "stream",
       "stream": "stdout",
       "text": [
        "name_based_experiment_loading complete (0.01 sec)\n",
        "affyexp_delta-arcA_glucose_NH4Cl_O2_2_asv2.CEL\n",
        "starting name_based_experiment_loading ...\r"
       ]
      },
      {
       "output_type": "stream",
       "stream": "stdout",
       "text": [
        "name_based_experiment_loading complete (0.01 sec)\n",
        "affyexp_delta-arcA_glucose_NH4Cl_O2_3_asv2.CEL\n",
        "starting name_based_experiment_loading ...\r"
       ]
      },
      {
       "output_type": "stream",
       "stream": "stdout",
       "text": [
        "name_based_experiment_loading complete (0.01 sec)\n",
        "affyexp_delta-arcAfnr_glucose_NH4Cl_anaerobic_1_asv2.CEL\n",
        "starting name_based_experiment_loading ...\r"
       ]
      },
      {
       "output_type": "stream",
       "stream": "stdout",
       "text": [
        "name_based_experiment_loading complete (0.01 sec)\n",
        "affyexp_delta-arcAfnr_glucose_NH4Cl_anaerobic_2_asv2.CEL\n",
        "starting name_based_experiment_loading ...\r"
       ]
      },
      {
       "output_type": "stream",
       "stream": "stdout",
       "text": [
        "name_based_experiment_loading complete (0.01 sec)\n",
        "affyexp_delta-arcAfnr_glucose_NH4Cl_anaerobic_3_asv2.CEL\n",
        "starting name_based_experiment_loading ...\r"
       ]
      },
      {
       "output_type": "stream",
       "stream": "stdout",
       "text": [
        "name_based_experiment_loading complete (0.01 sec)\n",
        "affyexp_delta-arcAfnr_glucose_NH4Cl_O2_1_asv2.CEL\n",
        "starting name_based_experiment_loading ...\r"
       ]
      },
      {
       "output_type": "stream",
       "stream": "stdout",
       "text": [
        "name_based_experiment_loading complete (0.01 sec)\n",
        "affyexp_delta-arcAfnr_glucose_NH4Cl_O2_2_asv2.CEL\n",
        "starting name_based_experiment_loading ...\r"
       ]
      },
      {
       "output_type": "stream",
       "stream": "stdout",
       "text": [
        "name_based_experiment_loading complete (0.01 sec)\n",
        "affyexp_delta-arcAfnr_glucose_NH4Cl_O2_3_asv2.CEL\n",
        "starting name_based_experiment_loading ...\r"
       ]
      },
      {
       "output_type": "stream",
       "stream": "stdout",
       "text": [
        "name_based_experiment_loading complete (0.01 sec)\n",
        "affyexp_delta-fnr_glucose_NH4Cl_anaerobic_1_asv2.CEL\n",
        "starting name_based_experiment_loading ...\r"
       ]
      },
      {
       "output_type": "stream",
       "stream": "stdout",
       "text": [
        "name_based_experiment_loading complete (0.01 sec)\n",
        "affyexp_delta-fnr_glucose_NH4Cl_anaerobic_2_asv2.CEL\n",
        "starting name_based_experiment_loading ...\r"
       ]
      },
      {
       "output_type": "stream",
       "stream": "stdout",
       "text": [
        "name_based_experiment_loading complete (0.01 sec)\n",
        "affyexp_delta-fnr_glucose_NH4Cl_anaerobic_3_asv2.CEL\n",
        "starting name_based_experiment_loading ...\r"
       ]
      },
      {
       "output_type": "stream",
       "stream": "stdout",
       "text": [
        "name_based_experiment_loading complete (0.01 sec)\n",
        "affyexp_delta-fnr_glucose_NH4Cl_O2_1_asv2.CEL\n",
        "starting name_based_experiment_loading ...\r"
       ]
      },
      {
       "output_type": "stream",
       "stream": "stdout",
       "text": [
        "name_based_experiment_loading complete (0.01 sec)\n",
        "affyexp_delta-fnr_glucose_NH4Cl_O2_2_asv2.CEL\n",
        "starting name_based_experiment_loading ...\r"
       ]
      },
      {
       "output_type": "stream",
       "stream": "stdout",
       "text": [
        "name_based_experiment_loading complete (0.01 sec)\n",
        "affyexp_delta-fnr_glucose_NH4Cl_O2_3_asv2.CEL\n",
        "starting name_based_experiment_loading ...\r"
       ]
      },
      {
       "output_type": "stream",
       "stream": "stdout",
       "text": [
        "name_based_experiment_loading complete (0.01 sec)\n",
        "affyexp_delta-narL_glucose_NH4Cl_anaerobic_1_asv2.CEL\n",
        "starting name_based_experiment_loading ...\r"
       ]
      },
      {
       "output_type": "stream",
       "stream": "stdout",
       "text": [
        "name_based_experiment_loading complete (0.01 sec)\n",
        "affyexp_delta-narL_glucose_NH4Cl_anaerobic_2_asv2.CEL\n",
        "starting name_based_experiment_loading ...\r"
       ]
      },
      {
       "output_type": "stream",
       "stream": "stdout",
       "text": [
        "name_based_experiment_loading complete (0.01 sec)\n",
        "affyexp_delta-narL_glucose_NH4Cl_anaerobic_3_asv2.CEL\n",
        "starting name_based_experiment_loading ...\r"
       ]
      },
      {
       "output_type": "stream",
       "stream": "stdout",
       "text": [
        "name_based_experiment_loading complete (0.01 sec)\n",
        "affyexp_delta-narL_glucose_NH4Cl_NO3_1_asv2.CEL\n",
        "starting name_based_experiment_loading ...\r"
       ]
      },
      {
       "output_type": "stream",
       "stream": "stdout",
       "text": [
        "name_based_experiment_loading complete (0.01 sec)\n",
        "affyexp_delta-narL_glucose_NH4Cl_NO3_2_asv2.CEL\n",
        "starting name_based_experiment_loading ...\r"
       ]
      },
      {
       "output_type": "stream",
       "stream": "stdout",
       "text": [
        "name_based_experiment_loading complete (0.01 sec)\n",
        "affyexp_delta-narL_glucose_NH4Cl_NO3_3_asv2.CEL\n",
        "starting name_based_experiment_loading ...\r"
       ]
      },
      {
       "output_type": "stream",
       "stream": "stdout",
       "text": [
        "name_based_experiment_loading complete (0.01 sec)\n",
        "affyexp_delta-narLnarP_glucose_NH4Cl_anaerobic_1_asv2.CEL\n",
        "starting name_based_experiment_loading ...\r"
       ]
      },
      {
       "output_type": "stream",
       "stream": "stdout",
       "text": [
        "name_based_experiment_loading complete (0.01 sec)\n",
        "affyexp_delta-narLnarP_glucose_NH4Cl_anaerobic_2_asv2.CEL\n",
        "starting name_based_experiment_loading ...\r"
       ]
      },
      {
       "output_type": "stream",
       "stream": "stdout",
       "text": [
        "name_based_experiment_loading complete (0.01 sec)\n",
        "affyexp_delta-narLnarP_glucose_NH4Cl_anaerobic_3_asv2.CEL\n",
        "starting name_based_experiment_loading ...\r"
       ]
      },
      {
       "output_type": "stream",
       "stream": "stdout",
       "text": [
        "name_based_experiment_loading complete (0.01 sec)\n",
        "affyexp_delta-narLnarP_glucose_NH4Cl_NO3_1_asv2.CEL\n",
        "starting name_based_experiment_loading ...\r"
       ]
      },
      {
       "output_type": "stream",
       "stream": "stdout",
       "text": [
        "name_based_experiment_loading complete (0.01 sec)\n",
        "affyexp_delta-narLnarP_glucose_NH4Cl_NO3_2_asv2.CEL\n",
        "starting name_based_experiment_loading ...\r"
       ]
      },
      {
       "output_type": "stream",
       "stream": "stdout",
       "text": [
        "name_based_experiment_loading complete (0.01 sec)\n",
        "affyexp_delta-narLnarP_glucose_NH4Cl_NO3_3_asv2.CEL\n",
        "starting name_based_experiment_loading ...\r"
       ]
      },
      {
       "output_type": "stream",
       "stream": "stdout",
       "text": [
        "name_based_experiment_loading complete (0.01 sec)\n",
        "affyexp_delta-narP_glucose_NH4Cl_anaerobic_1_asv2.CEL\n",
        "starting name_based_experiment_loading ...\r"
       ]
      },
      {
       "output_type": "stream",
       "stream": "stdout",
       "text": [
        "name_based_experiment_loading complete (0.01 sec)\n",
        "affyexp_delta-narP_glucose_NH4Cl_anaerobic_2_asv2.CEL\n",
        "starting name_based_experiment_loading ...\r"
       ]
      },
      {
       "output_type": "stream",
       "stream": "stdout",
       "text": [
        "name_based_experiment_loading complete (0.01 sec)\n",
        "affyexp_delta-narP_glucose_NH4Cl_anaerobic_3_asv2.CEL\n",
        "starting name_based_experiment_loading ...\r"
       ]
      },
      {
       "output_type": "stream",
       "stream": "stdout",
       "text": [
        "name_based_experiment_loading complete (0.01 sec)\n",
        "affyexp_delta-narP_glucose_NH4Cl_NO3_2_asv2.CEL\n",
        "starting name_based_experiment_loading ...\r"
       ]
      },
      {
       "output_type": "stream",
       "stream": "stdout",
       "text": [
        "name_based_experiment_loading complete (0.01 sec)\n",
        "affyexp_delta-narP_glucose_NH4Cl_NO3_3_asv2.CEL\n",
        "starting name_based_experiment_loading ...\r"
       ]
      },
      {
       "output_type": "stream",
       "stream": "stdout",
       "text": [
        "name_based_experiment_loading complete (0.01 sec)\n",
        "affyexp_wt_glucose_NH4Cl_anaerobic_1_asv2.CEL\n",
        "starting name_based_experiment_loading ...\r"
       ]
      },
      {
       "output_type": "stream",
       "stream": "stdout",
       "text": [
        "name_based_experiment_loading complete (0.01 sec)\n",
        "affyexp_wt_glucose_NH4Cl_anaerobic_2_asv2.CEL\n",
        "starting name_based_experiment_loading ...\r"
       ]
      },
      {
       "output_type": "stream",
       "stream": "stdout",
       "text": [
        "name_based_experiment_loading complete (0.01 sec)\n",
        "affyexp_wt_glucose_NH4Cl_anaerobic_3_asv2.CEL\n",
        "starting name_based_experiment_loading ...\r"
       ]
      },
      {
       "output_type": "stream",
       "stream": "stdout",
       "text": [
        "name_based_experiment_loading complete (0.01 sec)\n",
        "affyexp_wt_glucose_NH4Cl_anaerobic_4_asv2.CEL\n",
        "starting name_based_experiment_loading ...\r"
       ]
      },
      {
       "output_type": "stream",
       "stream": "stdout",
       "text": [
        "name_based_experiment_loading complete (0.01 sec)\n",
        "affyexp_wt_glucose_NH4Cl_anaerobic_5_asv2.CEL\n",
        "starting name_based_experiment_loading ...\r"
       ]
      },
      {
       "output_type": "stream",
       "stream": "stdout",
       "text": [
        "name_based_experiment_loading complete (0.01 sec)\n",
        "affyexp_wt_glucose_NH4Cl_anaerobic_6_asv2.CEL\n",
        "starting name_based_experiment_loading ...\r"
       ]
      },
      {
       "output_type": "stream",
       "stream": "stdout",
       "text": [
        "name_based_experiment_loading complete (0.01 sec)\n",
        "affyexp_wt_glucose_NH4Cl_NO3_1_asv2.CEL\n",
        "starting name_based_experiment_loading ...\r"
       ]
      },
      {
       "output_type": "stream",
       "stream": "stdout",
       "text": [
        "name_based_experiment_loading complete (0.01 sec)\n",
        "affyexp_wt_glucose_NH4Cl_NO3_2_asv2.CEL\n",
        "starting name_based_experiment_loading ...\r"
       ]
      },
      {
       "output_type": "stream",
       "stream": "stdout",
       "text": [
        "name_based_experiment_loading complete (0.01 sec)\n",
        "affyexp_wt_glucose_NH4Cl_NO3_3_asv2.CEL\n",
        "starting name_based_experiment_loading ...\r"
       ]
      },
      {
       "output_type": "stream",
       "stream": "stdout",
       "text": [
        "name_based_experiment_loading complete (0.01 sec)\n",
        "affyexp_wt_glucose_NH4Cl_O2_1_asv2.CEL\n",
        "starting name_based_experiment_loading ...\r"
       ]
      },
      {
       "output_type": "stream",
       "stream": "stdout",
       "text": [
        "name_based_experiment_loading complete (0.01 sec)\n",
        "affyexp_wt_glucose_NH4Cl_O2_2_asv2.CEL\n",
        "starting name_based_experiment_loading ...\r"
       ]
      },
      {
       "output_type": "stream",
       "stream": "stdout",
       "text": [
        "name_based_experiment_loading complete (0.01 sec)\n",
        "affyexp_wt_glucose_NH4Cl_O2_3_asv2.CEL\n",
        "starting name_based_experiment_loading ...\r"
       ]
      },
      {
       "output_type": "stream",
       "stream": "stdout",
       "text": [
        "name_based_experiment_loading complete (0.01 sec)\n",
        "affyexp_delta-arcA_glucose_NH4Cl_NO3_1_ec2.CEL\n",
        "starting name_based_experiment_loading ...\r"
       ]
      },
      {
       "output_type": "stream",
       "stream": "stdout",
       "text": [
        "name_based_experiment_loading complete (0.01 sec)\n",
        "affyexp_delta-arcA_glucose_NH4Cl_NO3_2_ec2.CEL\n",
        "starting name_based_experiment_loading ...\r"
       ]
      },
      {
       "output_type": "stream",
       "stream": "stdout",
       "text": [
        "name_based_experiment_loading complete (0.01 sec)\n",
        "affyexp_delta-arcA_glucose_NH4Cl_NO3_3_ec2.CEL\n",
        "starting name_based_experiment_loading ...\r"
       ]
      },
      {
       "output_type": "stream",
       "stream": "stdout",
       "text": [
        "name_based_experiment_loading complete (0.01 sec)\n",
        "affyexp_delta-cra_acetate_NH4Cl_O2_1_ec2.CEL\n",
        "starting name_based_experiment_loading ...\r"
       ]
      },
      {
       "output_type": "stream",
       "stream": "stdout",
       "text": [
        "name_based_experiment_loading complete (0.01 sec)\n",
        "affyexp_delta-cra_acetate_NH4Cl_O2_2_ec2.CEL\n",
        "starting name_based_experiment_loading ...\r"
       ]
      },
      {
       "output_type": "stream",
       "stream": "stdout",
       "text": [
        "name_based_experiment_loading complete (0.01 sec)\n",
        "affyexp_delta-cra_acetate_NH4Cl_O2_3_ec2.CEL\n",
        "starting name_based_experiment_loading ...\r"
       ]
      },
      {
       "output_type": "stream",
       "stream": "stdout",
       "text": [
        "name_based_experiment_loading complete (0.01 sec)\n",
        "affyexp_delta-cra_glucose_NH4Cl_anaerobic_1_ec2.CEL\n",
        "starting name_based_experiment_loading ...\r"
       ]
      },
      {
       "output_type": "stream",
       "stream": "stdout",
       "text": [
        "name_based_experiment_loading complete (0.01 sec)\n",
        "affyexp_delta-cra_glucose_NH4Cl_anaerobic_2_ec2.CEL\n",
        "starting name_based_experiment_loading ...\r"
       ]
      },
      {
       "output_type": "stream",
       "stream": "stdout",
       "text": [
        "name_based_experiment_loading complete (0.01 sec)\n",
        "affyexp_delta-cra_glucose_NH4Cl_anaerobic_3_ec2.CEL\n",
        "starting name_based_experiment_loading ...\r"
       ]
      },
      {
       "output_type": "stream",
       "stream": "stdout",
       "text": [
        "name_based_experiment_loading complete (0.01 sec)\n",
        "affyexp_delta-cra_glucose_NH4Cl_O2_1_ec2.CEL\n",
        "starting name_based_experiment_loading ...\r"
       ]
      },
      {
       "output_type": "stream",
       "stream": "stdout",
       "text": [
        "name_based_experiment_loading complete (0.01 sec)\n",
        "affyexp_delta-cra_glucose_NH4Cl_O2_2_ec2.CEL\n",
        "starting name_based_experiment_loading ...\r"
       ]
      },
      {
       "output_type": "stream",
       "stream": "stdout",
       "text": [
        "name_based_experiment_loading complete (0.01 sec)\n",
        "affyexp_delta-cra_glucose_NH4Cl_O2_3_ec2.CEL\n",
        "starting name_based_experiment_loading ...\r"
       ]
      },
      {
       "output_type": "stream",
       "stream": "stdout",
       "text": [
        "name_based_experiment_loading complete (0.01 sec)\n",
        "affyexp_delta-crp_fructose_NH4Cl_O2_1_ec2.CEL\n",
        "starting name_based_experiment_loading ...\r"
       ]
      },
      {
       "output_type": "stream",
       "stream": "stdout",
       "text": [
        "name_based_experiment_loading complete (0.01 sec)\n",
        "affyexp_delta-crp_fructose_NH4Cl_O2_2_ec2.CEL\n",
        "starting name_based_experiment_loading ...\r"
       ]
      },
      {
       "output_type": "stream",
       "stream": "stdout",
       "text": [
        "name_based_experiment_loading complete (0.01 sec)\n",
        "affyexp_delta-crp_fructose_NH4Cl_O2_3_ec2.CEL\n",
        "starting name_based_experiment_loading ...\r"
       ]
      },
      {
       "output_type": "stream",
       "stream": "stdout",
       "text": [
        "name_based_experiment_loading complete (0.01 sec)\n",
        "affyexp_delta-crp_glucose_NH4Cl_O2_1_ec2.CEL\n",
        "starting name_based_experiment_loading ...\r"
       ]
      },
      {
       "output_type": "stream",
       "stream": "stdout",
       "text": [
        "name_based_experiment_loading complete (0.01 sec)\n",
        "affyexp_delta-crp_glucose_NH4Cl_O2_2_ec2.CEL\n",
        "starting name_based_experiment_loading ...\r"
       ]
      },
      {
       "output_type": "stream",
       "stream": "stdout",
       "text": [
        "name_based_experiment_loading complete (0.01 sec)\n",
        "affyexp_delta-crp_glucose_NH4Cl_O2_3_ec2.CEL\n",
        "starting name_based_experiment_loading ...\r"
       ]
      },
      {
       "output_type": "stream",
       "stream": "stdout",
       "text": [
        "name_based_experiment_loading complete (0.01 sec)\n",
        "affyexp_delta-fnr_glucose_NH4Cl_NO3_1_ec2.CEL\n",
        "starting name_based_experiment_loading ...\r"
       ]
      },
      {
       "output_type": "stream",
       "stream": "stdout",
       "text": [
        "name_based_experiment_loading complete (0.01 sec)\n",
        "affyexp_delta-fnr_glucose_NH4Cl_NO3_2_ec2.CEL\n",
        "starting name_based_experiment_loading ...\r"
       ]
      },
      {
       "output_type": "stream",
       "stream": "stdout",
       "text": [
        "name_based_experiment_loading complete (0.01 sec)\n",
        "affyexp_delta-fnr_glucose_NH4Cl_NO3_3_ec2.CEL\n",
        "starting name_based_experiment_loading ...\r"
       ]
      },
      {
       "output_type": "stream",
       "stream": "stdout",
       "text": [
        "name_based_experiment_loading complete (0.01 sec)\n",
        "affyexp_delta-lrp_glucose_leucine_O2_1_ec2.CEL\n",
        "starting name_based_experiment_loading ...\r"
       ]
      },
      {
       "output_type": "stream",
       "stream": "stdout",
       "text": [
        "name_based_experiment_loading complete (0.01 sec)\n",
        "affyexp_delta-lrp_glucose_leucine_O2_2_ec2.CEL\n",
        "starting name_based_experiment_loading ...\r"
       ]
      },
      {
       "output_type": "stream",
       "stream": "stdout",
       "text": [
        "name_based_experiment_loading complete (0.01 sec)\n",
        "affyexp_delta-lrp_glucose_leucine_O2_3_ec2.CEL\n",
        "starting name_based_experiment_loading ...\r"
       ]
      },
      {
       "output_type": "stream",
       "stream": "stdout",
       "text": [
        "name_based_experiment_loading complete (0.01 sec)\n",
        "affyexp_delta-lrp_glucose_NH4Cl_O2_1_ec2.CEL\n",
        "starting name_based_experiment_loading ...\r"
       ]
      },
      {
       "output_type": "stream",
       "stream": "stdout",
       "text": [
        "name_based_experiment_loading complete (0.01 sec)\n",
        "affyexp_delta-lrp_glucose_NH4Cl_O2_2_ec2.CEL\n",
        "starting name_based_experiment_loading ...\r"
       ]
      },
      {
       "output_type": "stream",
       "stream": "stdout",
       "text": [
        "name_based_experiment_loading complete (0.01 sec)\n",
        "affyexp_delta-lrp_glucose_NH4Cl_O2_3_ec2.CEL\n",
        "starting name_based_experiment_loading ...\r"
       ]
      },
      {
       "output_type": "stream",
       "stream": "stdout",
       "text": [
        "name_based_experiment_loading complete (0.01 sec)\n",
        "affyexp_delta-purR_glucose_adenine_O2_1_ec2.CEL\n",
        "starting name_based_experiment_loading ...\r"
       ]
      },
      {
       "output_type": "stream",
       "stream": "stdout",
       "text": [
        "name_based_experiment_loading complete (0.01 sec)\n",
        "affyexp_delta-purR_glucose_adenine_O2_2_ec2.CEL\n",
        "starting name_based_experiment_loading ...\r"
       ]
      },
      {
       "output_type": "stream",
       "stream": "stdout",
       "text": [
        "name_based_experiment_loading complete (0.01 sec)\n",
        "affyexp_delta-purR_glucose_NH4Cl_O2_1_ec2.CEL\n",
        "starting name_based_experiment_loading ...\r"
       ]
      },
      {
       "output_type": "stream",
       "stream": "stdout",
       "text": [
        "name_based_experiment_loading complete (0.01 sec)\n",
        "affyexp_delta-purR_glucose_NH4Cl_O2_2_ec2.CEL\n",
        "starting name_based_experiment_loading ...\r"
       ]
      },
      {
       "output_type": "stream",
       "stream": "stdout",
       "text": [
        "name_based_experiment_loading complete (0.01 sec)\n",
        "affyexp_wt_acetate_NH4Cl_O2_1_ec2.CEL\n",
        "starting name_based_experiment_loading ...\r"
       ]
      },
      {
       "output_type": "stream",
       "stream": "stdout",
       "text": [
        "name_based_experiment_loading complete (0.01 sec)\n",
        "affyexp_wt_acetate_NH4Cl_O2_2_ec2.CEL\n",
        "starting name_based_experiment_loading ...\r"
       ]
      },
      {
       "output_type": "stream",
       "stream": "stdout",
       "text": [
        "name_based_experiment_loading complete (0.01 sec)\n",
        "affyexp_wt_acetate_NH4Cl_O2_3_ec2.CEL\n",
        "starting name_based_experiment_loading ...\r"
       ]
      },
      {
       "output_type": "stream",
       "stream": "stdout",
       "text": [
        "name_based_experiment_loading complete (0.01 sec)\n",
        "affyexp_wt_fructose_NH4Cl_O2_1_ec2.CEL\n",
        "starting name_based_experiment_loading ...\r"
       ]
      },
      {
       "output_type": "stream",
       "stream": "stdout",
       "text": [
        "name_based_experiment_loading complete (0.01 sec)\n",
        "affyexp_wt_fructose_NH4Cl_O2_2_ec2.CEL\n",
        "starting name_based_experiment_loading ...\r"
       ]
      },
      {
       "output_type": "stream",
       "stream": "stdout",
       "text": [
        "name_based_experiment_loading complete (0.01 sec)\n",
        "affyexp_wt_fructose_NH4Cl_O2_3_ec2.CEL\n",
        "starting name_based_experiment_loading ...\r"
       ]
      },
      {
       "output_type": "stream",
       "stream": "stdout",
       "text": [
        "name_based_experiment_loading complete (0.01 sec)\n",
        "affyexp_wt_glucose_adenine_O2_1_ec2.CEL\n",
        "starting name_based_experiment_loading ...\r"
       ]
      },
      {
       "output_type": "stream",
       "stream": "stdout",
       "text": [
        "name_based_experiment_loading complete (0.01 sec)\n",
        "affyexp_wt_glucose_adenine_O2_2_ec2.CEL\n",
        "starting name_based_experiment_loading ...\r"
       ]
      },
      {
       "output_type": "stream",
       "stream": "stdout",
       "text": [
        "name_based_experiment_loading complete (0.01 sec)\n",
        "affyexp_wt_glucose_leucine_O2_1_ec2.CEL\n",
        "starting name_based_experiment_loading ...\r"
       ]
      },
      {
       "output_type": "stream",
       "stream": "stdout",
       "text": [
        "name_based_experiment_loading complete (0.01 sec)\n",
        "affyexp_wt_glucose_leucine_O2_2_ec2.CEL\n",
        "starting name_based_experiment_loading ...\r"
       ]
      },
      {
       "output_type": "stream",
       "stream": "stdout",
       "text": [
        "name_based_experiment_loading complete (0.01 sec)\n",
        "affyexp_wt_glucose_leucine_O2_3_ec2.CEL\n",
        "starting name_based_experiment_loading ...\r"
       ]
      },
      {
       "output_type": "stream",
       "stream": "stdout",
       "text": [
        "name_based_experiment_loading complete (0.01 sec)\n",
        "affyexp_wt_glucose_NH4Cl_anaerobic_1_ec2.CEL\n",
        "starting name_based_experiment_loading ...\r"
       ]
      },
      {
       "output_type": "stream",
       "stream": "stdout",
       "text": [
        "name_based_experiment_loading complete (0.01 sec)\n",
        "affyexp_wt_glucose_NH4Cl_anaerobic_2_ec2.CEL\n",
        "starting name_based_experiment_loading ...\r"
       ]
      },
      {
       "output_type": "stream",
       "stream": "stdout",
       "text": [
        "name_based_experiment_loading complete (0.01 sec)\n",
        "affyexp_wt_glucose_NH4Cl_anaerobic_3_ec2.CEL\n",
        "starting name_based_experiment_loading ...\r"
       ]
      },
      {
       "output_type": "stream",
       "stream": "stdout",
       "text": [
        "name_based_experiment_loading complete (0.01 sec)\n",
        "affyexp_wt_glucose_NH4Cl_NO3_1_ec2.CEL\n",
        "starting name_based_experiment_loading ...\r"
       ]
      },
      {
       "output_type": "stream",
       "stream": "stdout",
       "text": [
        "name_based_experiment_loading complete (0.01 sec)\n",
        "affyexp_wt_glucose_NH4Cl_NO3_2_ec2.CEL\n",
        "starting name_based_experiment_loading ...\r"
       ]
      },
      {
       "output_type": "stream",
       "stream": "stdout",
       "text": [
        "name_based_experiment_loading complete (0.01 sec)\n",
        "affyexp_wt_glucose_NH4Cl_NO3_3_ec2.CEL\n",
        "starting name_based_experiment_loading ...\r"
       ]
      },
      {
       "output_type": "stream",
       "stream": "stdout",
       "text": [
        "name_based_experiment_loading complete (0.01 sec)\n",
        "affyexp_wt_glucose_NH4Cl_O2_1_ec2.CEL\n",
        "starting name_based_experiment_loading ...\r"
       ]
      },
      {
       "output_type": "stream",
       "stream": "stdout",
       "text": [
        "name_based_experiment_loading complete (0.01 sec)\n",
        "affyexp_wt_glucose_NH4Cl_O2_2_ec2.CEL\n",
        "starting name_based_experiment_loading ...\r"
       ]
      },
      {
       "output_type": "stream",
       "stream": "stdout",
       "text": [
        "name_based_experiment_loading complete (0.01 sec)\n",
        "affyexp_wt_glucose_NH4Cl_O2_3_ec2.CEL\n",
        "starting name_based_experiment_loading ...\r"
       ]
      },
      {
       "output_type": "stream",
       "stream": "stdout",
       "text": [
        "name_based_experiment_loading complete (0.01 sec)\n"
       ]
      }
     ],
     "prompt_number": 2
    },
    {
     "cell_type": "code",
     "collapsed": false,
     "input": [
      "for exp_group in rnaseq_exp_sets: \n",
      "    exp_group_name = '_'.join(exp_group[0][0].split('_')[:-2])\n",
      "    exp = ome.query(RNASeqExperiment).filter_by(name=exp_group[0][0]).one()\n",
      "    exp_analysis = ome.get_or_create(NormalizedExpression, name=exp_group_name, environment_id=exp.environment.id, strain_id=exp.strain.id)\n",
      "    for exp_name in exp_group[0]:\n",
      "        exp = ome.query(RNASeqExperiment).filter_by(name=exp_name).one()\n",
      "        ome.get_or_create(AnalysisComposition, analysis_id = exp_analysis.id, data_set_id = exp.id)\n",
      "\n",
      "for exp_group in array_exp_sets: \n",
      "    exp_group_name = '_'.join(exp_group[0][0].split('_')[:-1])\n",
      "    exp = ome.query(ArrayExperiment).filter_by(name=exp_group[0][0]).one()\n",
      "    exp_analysis = ome.get_or_create(NormalizedExpression, name=exp_group_name, environment_id=exp.environment.id, strain_id=exp.strain.id)\n",
      "    for exp_name in exp_group[0]:\n",
      "        exp = ome.query(ArrayExperiment).filter_by(name=exp_name).one()\n",
      "        ome.get_or_create(AnalysisComposition, analysis_id = exp_analysis.id, data_set_id = exp.id)\n",
      "\n",
      "        \n",
      "default_parameters = {'mrc':20, 'smooth':3, 'nrf':'', 'outNP':'', 'nf':''}\n",
      "\n",
      "for exp_group in chip_exp_sets:\n",
      "    parameters = {'mrc':20, 'smooth':3, 'nrf':'', 'outNP':'', 'nf':''}\n",
      "    if not set(parameters.items()) - set(default_parameters.items()): \n",
      "        parameter_name = 'default'\n",
      "    else: \n",
      "        parameter_name = '_'.join([y+'-'+str(z) for y,z in dict(set(parameters.items()) - set(default_parameters.items())).iteritems()])\n",
      "    \n",
      "    exp_group_name = '_'.join(exp_group[0][0].split('_')[0:5]+exp_group[0][0].split('_')[6:7]+[parameter_name,'peaks'])\n",
      "    exp = ome.query(ChIPExperiment).filter_by(name=exp_group[0][0]).one()\n",
      "\n",
      "    exp_analysis = ome.get_or_create(ChIPPeakAnalysis, name=exp_group_name, environment_id=exp.environment.id, strain_id=exp.strain.id,\\\n",
      "                                     parameters=json.dumps(parameters))\n",
      "    for exp_name in exp_group[0]:\n",
      "        exp = ome.query(ChIPExperiment).filter_by(name=exp_name).one()\n",
      "        ome.get_or_create(AnalysisComposition, analysis_id = exp_analysis.id, data_set_id = exp.id)\n"
     ],
     "language": "python",
     "metadata": {},
     "outputs": [],
     "prompt_number": 6
    },
    {
     "cell_type": "heading",
     "level": 4,
     "metadata": {},
     "source": [
      "Sweeping parameters for Crp glycerol peak calling"
     ]
    },
    {
     "cell_type": "code",
     "collapsed": false,
     "input": [
      "exps = ome.query(ChIPExperiment).join(Strain,InVivoEnvironment).\\\n",
      "                                 filter(and_(Strain.name == 'delta-crp',\\\n",
      "                                             InVivoEnvironment.carbon_source == 'glycerol',\n",
      "                                             ChIPExperiment.antibody == 'anti-crp')).all()\n",
      "\n",
      "default_parameters = {'mrc':20, 'smooth':3, 'nrf':'','nf':'', 'outNP':''}\n",
      "parameters = {'mrc':20, 'smooth':3, 'nrf':'', 'outNP':'','nf':''}\n",
      "if not set(parameters.items()) - set(default_parameters.items()): \n",
      "    parameter_name = 'default'\n",
      "else: \n",
      "    parameter_name = '_'.join([y+'-'+str(z) for y,z in dict(set(parameters.items()) - set(default_parameters.items())).iteritems()])\n",
      "       \n",
      "exp_group_name = '_'.join(exps[0].name.split('_')[0:5]+exps[0].name.split('_')[6:7]+[parameter_name,'peaks'])\n",
      "\n",
      "peak_analysis = ome.get_or_create(ChIPPeakAnalysis, name=exp_group_name, environment=exps[0].environment, strain=exps[0].strain,\\\n",
      "                                     parameters=json.dumps(parameters))\n",
      "for exp in exps:\n",
      "    ome.get_or_create(AnalysisComposition, analysis_id = peak_analysis.id, data_set_id = exp.id)\n",
      "\n"
     ],
     "language": "python",
     "metadata": {},
     "outputs": [],
     "prompt_number": 7
    },
    {
     "cell_type": "code",
     "collapsed": false,
     "input": [
      "#from IPython.parallel import Client\n",
      "\n",
      "#c = Client()\n",
      "#c[:].execute('from PrototypeDB.loading import load_data')\n",
      "#v = c[:]\n",
      "#d = v.map(lambda x:load_data.run_cuffquant(x), [exp for exp in ome.query(RNASeqExperiment).all()])\n"
     ],
     "language": "python",
     "metadata": {},
     "outputs": [],
     "prompt_number": 3
    },
    {
     "cell_type": "code",
     "collapsed": false,
     "input": [
      "#run_cuffnorm(rnaseq_exp_sets)\n",
      "run_cuffdiff(rnaseq_exp_sets, debug=True)\n",
      "#run_gem(chip_exp_sets)\n",
      "\n",
      "#load_gem(ome.query(ChIPPeakAnalysis).all())\n",
      "#load_cuffnorm()\n",
      "#load_cuffdiff()\n",
      "#load_arraydata(settings.dropbox_directory+'/ome/data/Microarray/formatted_asv2.txt')\n",
      "#load_arraydata(settings.dropbox_directory+'/ome/data/Microarray/formatted_ec2.txt')\n"
     ],
     "language": "python",
     "metadata": {},
     "outputs": [
      {
       "output_type": "stream",
       "stream": "stdout",
       "text": [
        "starting run_cuffdiff ...\r"
       ]
      },
      {
       "output_type": "stream",
       "stream": "stdout",
       "text": [
        "cuffdiff -v -p 24 --library-type fr-firststrand --FDR 0.05 -L RNAseq_delAr1_glycerol_NH4Cl_O2_1_0,RNAseq_wt_glucose_NH4Cl_O2_1_0,RNAseq_delta-crp_glucose_NH4Cl_O2_1_0,RNAseq_delAr2_glycerol_NH4Cl_O2_1_0,RNAseq_delta-crp_fructose_NH4Cl_O2_1_0,RNAseq_delta-crp_glycerol_NH4Cl_O2_1_0,RNAseq_Ar3_glycerol_NH4Cl_O2_1_0,RNAseq_wt_fructose_NH4Cl_O2_1_0,RNAseq_wt_glycerol_NH4Cl_O2_1_0,RNAseq_delAr1delAr2_glycerol_NH4Cl_O2_1_0 /Volumes/extra/Dropbox//crp/data/annotation/e_coli_notRNA_rRNA.gtf /Volumes/extra/Dropbox//crp/data/RNAseq/cxb/RNAseq_delAr1_glycerol_NH4Cl_O2_1_0/abundances.cxb,/Volumes/extra/Dropbox//crp/data/RNAseq/cxb/RNAseq_delAr1_glycerol_NH4Cl_O2_1_1/abundances.cxb,/Volumes/extra/Dropbox//crp/data/RNAseq/cxb/RNAseq_delAr1_glycerol_NH4Cl_O2_2_0/abundances.cxb,/Volumes/extra/Dropbox//crp/data/RNAseq/cxb/RNAseq_delAr1_glycerol_NH4Cl_O2_2_1/abundances.cxb,/Volumes/extra/Dropbox//crp/data/RNAseq/cxb/RNAseq_delAr1_glycerol_NH4Cl_O2_3_0/abundances.cxb,/Volumes/extra/Dropbox//crp/data/RNAseq/cxb/RNAseq_delAr1_glycerol_NH4Cl_O2_3_1/abundances.cxb /Volumes/extra/Dropbox//crp/data/RNAseq/cxb/RNAseq_wt_glucose_NH4Cl_O2_1_0/abundances.cxb,/Volumes/extra/Dropbox//crp/data/RNAseq/cxb/RNAseq_wt_glucose_NH4Cl_O2_1_1/abundances.cxb,/Volumes/extra/Dropbox//crp/data/RNAseq/cxb/RNAseq_wt_glucose_NH4Cl_O2_2_0/abundances.cxb,/Volumes/extra/Dropbox//crp/data/RNAseq/cxb/RNAseq_wt_glucose_NH4Cl_O2_2_1/abundances.cxb,/Volumes/extra/Dropbox//crp/data/RNAseq/cxb/RNAseq_wt_glucose_NH4Cl_O2_3_0/abundances.cxb,/Volumes/extra/Dropbox//crp/data/RNAseq/cxb/RNAseq_wt_glucose_NH4Cl_O2_3_1/abundances.cxb /Volumes/extra/Dropbox//crp/data/RNAseq/cxb/RNAseq_delta-crp_glucose_NH4Cl_O2_1_0/abundances.cxb,/Volumes/extra/Dropbox//crp/data/RNAseq/cxb/RNAseq_delta-crp_glucose_NH4Cl_O2_1_1/abundances.cxb,/Volumes/extra/Dropbox//crp/data/RNAseq/cxb/RNAseq_delta-crp_glucose_NH4Cl_O2_2_0/abundances.cxb,/Volumes/extra/Dropbox//crp/data/RNAseq/cxb/RNAseq_delta-crp_glucose_NH4Cl_O2_2_1/abundances.cxb,/Volumes/extra/Dropbox//crp/data/RNAseq/cxb/RNAseq_delta-crp_glucose_NH4Cl_O2_3_0/abundances.cxb,/Volumes/extra/Dropbox//crp/data/RNAseq/cxb/RNAseq_delta-crp_glucose_NH4Cl_O2_3_1/abundances.cxb /Volumes/extra/Dropbox//crp/data/RNAseq/cxb/RNAseq_delAr2_glycerol_NH4Cl_O2_1_0/abundances.cxb,/Volumes/extra/Dropbox//crp/data/RNAseq/cxb/RNAseq_delAr2_glycerol_NH4Cl_O2_1_1/abundances.cxb,/Volumes/extra/Dropbox//crp/data/RNAseq/cxb/RNAseq_delAr2_glycerol_NH4Cl_O2_2_0/abundances.cxb,/Volumes/extra/Dropbox//crp/data/RNAseq/cxb/RNAseq_delAr2_glycerol_NH4Cl_O2_2_1/abundances.cxb,/Volumes/extra/Dropbox//crp/data/RNAseq/cxb/RNAseq_delAr2_glycerol_NH4Cl_O2_3_0/abundances.cxb,/Volumes/extra/Dropbox//crp/data/RNAseq/cxb/RNAseq_delAr2_glycerol_NH4Cl_O2_3_1/abundances.cxb /Volumes/extra/Dropbox//crp/data/RNAseq/cxb/RNAseq_delta-crp_fructose_NH4Cl_O2_1_0/abundances.cxb,/Volumes/extra/Dropbox//crp/data/RNAseq/cxb/RNAseq_delta-crp_fructose_NH4Cl_O2_1_1/abundances.cxb,/Volumes/extra/Dropbox//crp/data/RNAseq/cxb/RNAseq_delta-crp_fructose_NH4Cl_O2_2_0/abundances.cxb,/Volumes/extra/Dropbox//crp/data/RNAseq/cxb/RNAseq_delta-crp_fructose_NH4Cl_O2_2_1/abundances.cxb,/Volumes/extra/Dropbox//crp/data/RNAseq/cxb/RNAseq_delta-crp_fructose_NH4Cl_O2_3_0/abundances.cxb,/Volumes/extra/Dropbox//crp/data/RNAseq/cxb/RNAseq_delta-crp_fructose_NH4Cl_O2_3_1/abundances.cxb /Volumes/extra/Dropbox//crp/data/RNAseq/cxb/RNAseq_delta-crp_glycerol_NH4Cl_O2_1_0/abundances.cxb,/Volumes/extra/Dropbox//crp/data/RNAseq/cxb/RNAseq_delta-crp_glycerol_NH4Cl_O2_1_1/abundances.cxb,/Volumes/extra/Dropbox//crp/data/RNAseq/cxb/RNAseq_delta-crp_glycerol_NH4Cl_O2_2_0/abundances.cxb,/Volumes/extra/Dropbox//crp/data/RNAseq/cxb/RNAseq_delta-crp_glycerol_NH4Cl_O2_2_1/abundances.cxb,/Volumes/extra/Dropbox//crp/data/RNAseq/cxb/RNAseq_delta-crp_glycerol_NH4Cl_O2_3_0/abundances.cxb,/Volumes/extra/Dropbox//crp/data/RNAseq/cxb/RNAseq_delta-crp_glycerol_NH4Cl_O2_3_1/abundances.cxb /Volumes/extra/Dropbox//crp/data/RNAseq/cxb/RNAseq_Ar3_glycerol_NH4Cl_O2_1_0/abundances.cxb,/Volumes/extra/Dropbox//crp/data/RNAseq/cxb/RNAseq_Ar3_glycerol_NH4Cl_O2_1_1/abundances.cxb,/Volumes/extra/Dropbox//crp/data/RNAseq/cxb/RNAseq_Ar3_glycerol_NH4Cl_O2_2_0/abundances.cxb,/Volumes/extra/Dropbox//crp/data/RNAseq/cxb/RNAseq_Ar3_glycerol_NH4Cl_O2_2_1/abundances.cxb,/Volumes/extra/Dropbox//crp/data/RNAseq/cxb/RNAseq_Ar3_glycerol_NH4Cl_O2_3_0/abundances.cxb,/Volumes/extra/Dropbox//crp/data/RNAseq/cxb/RNAseq_Ar3_glycerol_NH4Cl_O2_3_1/abundances.cxb /Volumes/extra/Dropbox//crp/data/RNAseq/cxb/RNAseq_wt_fructose_NH4Cl_O2_1_0/abundances.cxb,/Volumes/extra/Dropbox//crp/data/RNAseq/cxb/RNAseq_wt_fructose_NH4Cl_O2_1_1/abundances.cxb,/Volumes/extra/Dropbox//crp/data/RNAseq/cxb/RNAseq_wt_fructose_NH4Cl_O2_2_0/abundances.cxb,/Volumes/extra/Dropbox//crp/data/RNAseq/cxb/RNAseq_wt_fructose_NH4Cl_O2_2_1/abundances.cxb /Volumes/extra/Dropbox//crp/data/RNAseq/cxb/RNAseq_wt_glycerol_NH4Cl_O2_1_0/abundances.cxb,/Volumes/extra/Dropbox//crp/data/RNAseq/cxb/RNAseq_wt_glycerol_NH4Cl_O2_1_1/abundances.cxb,/Volumes/extra/Dropbox//crp/data/RNAseq/cxb/RNAseq_wt_glycerol_NH4Cl_O2_2_0/abundances.cxb,/Volumes/extra/Dropbox//crp/data/RNAseq/cxb/RNAseq_wt_glycerol_NH4Cl_O2_2_1/abundances.cxb /Volumes/extra/Dropbox//crp/data/RNAseq/cxb/RNAseq_delAr1delAr2_glycerol_NH4Cl_O2_1_0/abundances.cxb,/Volumes/extra/Dropbox//crp/data/RNAseq/cxb/RNAseq_delAr1delAr2_glycerol_NH4Cl_O2_1_1/abundances.cxb,/Volumes/extra/Dropbox//crp/data/RNAseq/cxb/RNAseq_delAr1delAr2_glycerol_NH4Cl_O2_2_0/abundances.cxb,/Volumes/extra/Dropbox//crp/data/RNAseq/cxb/RNAseq_delAr1delAr2_glycerol_NH4Cl_O2_2_1/abundances.cxb,/Volumes/extra/Dropbox//crp/data/RNAseq/cxb/RNAseq_delAr1delAr2_glycerol_NH4Cl_O2_3_0/abundances.cxb,/Volumes/extra/Dropbox//crp/data/RNAseq/cxb/RNAseq_delAr1delAr2_glycerol_NH4Cl_O2_3_1/abundances.cxb\n",
        "run_cuffdiff complete (0.00 sec)\n"
       ]
      }
     ],
     "prompt_number": 4
    },
    {
     "cell_type": "code",
     "collapsed": false,
     "input": [
      "class_type = Gene\n",
      "\n",
      "if '__mapper_args__' in class_type.__dict__ and 'inherits' in class_type.__mapper_args__:\n",
      "\tinherited_class_type = class_type.__mapper_args__['inherits']\n",
      "\tfor constraint in list(inherited_class_type.__table_args__):\n",
      "\t\tif constraint.__class__.__name__ == 'UniqueConstraint':\n",
      "\t\t\tinherited_unique_cols = constraint.columns.keys()\n",
      "inherited_unique_cols"
     ],
     "language": "python",
     "metadata": {},
     "outputs": [
      {
       "metadata": {},
       "output_type": "pyout",
       "prompt_number": 12,
       "text": [
        "['leftpos', 'rightpos', 'strand']"
       ]
      }
     ],
     "prompt_number": 12
    },
    {
     "cell_type": "code",
     "collapsed": false,
     "input": [
      "ome.query(ChIPPeakData.eventpos).join(ChIPPeak).join(AnalysisComposition, ChIPPeak.id == AnalysisComposition.analysis_id).\\\n",
      "                                group_by(ChIPPeakData.eventpos).count()"
     ],
     "language": "python",
     "metadata": {},
     "outputs": [
      {
       "metadata": {},
       "output_type": "pyout",
       "prompt_number": 15,
       "text": [
        "4418L"
       ]
      }
     ],
     "prompt_number": 15
    },
    {
     "cell_type": "heading",
     "level": 4,
     "metadata": {},
     "source": [
      "Normalize all of the gff files"
     ]
    },
    {
     "cell_type": "code",
     "collapsed": false,
     "input": [
      "mapped_reads"
     ],
     "language": "python",
     "metadata": {},
     "outputs": [
      {
       "metadata": {},
       "output_type": "pyout",
       "prompt_number": 7,
       "text": [
        "{'chipExo-ArcA_ArcA8myc_glucose_NH4Cl_anaerobic_2_anti-myc.sorted.bam': 3223084,\n",
        " 'chipExo-ArcA_ArcA8myc_glucose_NH4Cl_anaerobic_3_anti-myc.sorted.bam': 3977246,\n",
        " 'chipExo-Crp_Ar3_glycerol_NH4Cl_O2_1_anti-crp.sorted.bam': 2294107,\n",
        " 'chipExo-Crp_Ar3_glycerol_NH4Cl_O2_2_anti-crp.sorted.bam': 1548708,\n",
        " 'chipExo-Crp_Ar3_glycerol_NH4Cl_O2_3_anti-crp.sorted.bam': 2990481,\n",
        " 'chipExo-Crp_Crp8myc_fructose_NH4Cl_O2_1_anti-crp.sorted.bam': 4848045,\n",
        " 'chipExo-Crp_Crp8myc_fructose_NH4Cl_O2_1_anti-myc.sorted.bam': 4645511,\n",
        " 'chipExo-Crp_Crp8myc_fructose_NH4Cl_O2_2_anti-crp.sorted.bam': 2388581,\n",
        " 'chipExo-Crp_Crp8myc_fructose_NH4Cl_O2_2_anti-myc.sorted.bam': 2715099,\n",
        " 'chipExo-Crp_Crp8myc_fructose_NH4Cl_O2_3_anti-crp.sorted.bam': 2417687,\n",
        " 'chipExo-Crp_Crp8myc_fructose_NH4Cl_O2_3_anti-myc.sorted.bam': 2950355,\n",
        " 'chipExo-Crp_Crp8myc_glucose_NH4Cl_O2_1_anti-myc.sorted.bam': 2176456,\n",
        " 'chipExo-Crp_Crp8myc_glucose_NH4Cl_O2_2_anti-myc.sorted.bam': 915218,\n",
        " 'chipExo-Crp_Crp8myc_glycerol_NH4Cl_O2_1_anti-crp.bam': 2902667,\n",
        " 'chipExo-Crp_Crp8myc_glycerol_NH4Cl_O2_1_anti-mock-crp.bam': 2324880,\n",
        " 'chipExo-Crp_Crp8myc_glycerol_NH4Cl_O2_1_anti-mock-myc.bam': 1706205,\n",
        " 'chipExo-Crp_Crp8myc_glycerol_NH4Cl_O2_1_anti-myc.bam': 2485482,\n",
        " 'chipExo-Crp_Crp8myc_glycerol_NH4Cl_O2_2_anti-crp.sorted.bam': 3373815,\n",
        " 'chipExo-Crp_Crp8myc_glycerol_NH4Cl_O2_3_anti-myc.sorted.bam': 3848211,\n",
        " 'chipExo-Crp_delAr1_glycerol_NH4Cl_O2_1_anti-crp.sorted.bam': 3692993,\n",
        " 'chipExo-Crp_delAr1_glycerol_NH4Cl_O2_2_anti-crp.sorted.bam': 2185441,\n",
        " 'chipExo-Crp_delAr1_glycerol_NH4Cl_O2_3_anti-crp.sorted.bam': 2575115,\n",
        " 'chipExo-Crp_delAr1delAr2_glycerol_NH4Cl_O2_1_anti-crp.sorted.bam': 2692227,\n",
        " 'chipExo-Crp_delAr1delAr2_glycerol_NH4Cl_O2_2_anti-crp.sorted.bam': 1944417,\n",
        " 'chipExo-Crp_delAr1delAr2_glycerol_NH4Cl_O2_3_anti-crp.sorted.bam': 2079014,\n",
        " 'chipExo-Crp_delAr2_glycerol_NH4Cl_O2_1_anti-crp.sorted.bam': 3004792,\n",
        " 'chipExo-Crp_delAr2_glycerol_NH4Cl_O2_2_anti-crp.sorted.bam': 2496025,\n",
        " 'chipExo-Crp_delAr2_glycerol_NH4Cl_O2_3_anti-crp.sorted.bam': 2444983,\n",
        " 'chipExo-Crp_delta-crp_glycerol_NH4Cl_O2_1_anti-crp.sorted.bam': 4989731,\n",
        " 'chipExo-Crp_delta-crp_glycerol_NH4Cl_O2_2_anti-crp.sorted.bam': 1670713,\n",
        " 'chipExo-Crp_delta-crp_glycerol_NH4Cl_O2_3_anti-crp.sorted.bam': 4124544,\n",
        " 'chipExo-Crp_wt_fructose_NH4Cl_O2_1_anti-crp.bam': 2124438,\n",
        " 'chipExo-Crp_wt_fructose_NH4Cl_O2_1_anti-mock-crp.bam': 1335814,\n",
        " 'chipExo-Crp_wt_fructose_NH4Cl_O2_2_anti-crp.sorted.bam': 2058582,\n",
        " 'chipExo-Crp_wt_fructose_NH4Cl_O2_3_anti-crp.sorted.bam': 1836597,\n",
        " 'chipExo-Crp_wt_fructose_NH4Cl_O2_4_anti-crp.sorted.bam': 2903324,\n",
        " 'chipExo-Crp_wt_fructose_NH4Cl_O2_5_anti-crp.sorted.bam': 9660913,\n",
        " 'chipExo-Crp_wt_glucose_NH4Cl_O2_1_anti-crp.sorted.bam': 2602298,\n",
        " 'chipExo-Crp_wt_glucose_NH4Cl_O2_2_anti-crp.sorted.bam': 1881168,\n",
        " 'chipExo-Crp_wt_glycerol_NH4Cl_O2_1_anti-crp.bam': 1750050,\n",
        " 'chipExo-Crp_wt_glycerol_NH4Cl_O2_1_anti-crp_rif.sorted.bam': 2070796,\n",
        " 'chipExo-Crp_wt_glycerol_NH4Cl_O2_1_anti-mock-crp.bam': 1473210,\n",
        " 'chipExo-Crp_wt_glycerol_NH4Cl_O2_2_anti-crp.sorted.bam': 2884367,\n",
        " 'chipExo-Crp_wt_glycerol_NH4Cl_O2_2_anti-crp_rif.sorted.bam': 1760582,\n",
        " 'chipExo-Crp_wt_glycerol_NH4Cl_O2_3_anti-crp.sorted.bam': 2865966,\n",
        " 'chipExo-Crp_wt_glycerol_NH4Cl_O2_3_anti-crp_rif.sorted.bam': 2669911,\n",
        " 'chipExo-Crp_wt_glycerol_NH4Cl_O2_4_anti-crp.sorted.bam': 2107967,\n",
        " 'chipExo-Crp_wt_glycerol_NH4Cl_O2_5_anti-crp.sorted.bam': 3806257,\n",
        " 'chipExo-Crp_wt_glycerol_NH4Cl_O2_6_anti-crp.sorted.bam': 2166514,\n",
        " 'chipExo-Fnr_Fnr8myc_glucose_NH4Cl_anaerobic_2_anti-myc.sorted.bam': 1743677,\n",
        " 'chipExo-Fnr_Fnr8myc_glucose_NH4Cl_anaerobic_3_anti-myc.sorted.bam': 2821823,\n",
        " 'chipExo-RpoA_wt_glucose_NH4Cl_O2_1_anti-rpoA.sorted.bam': 2755637,\n",
        " 'chipExo-RpoA_wt_glucose_NH4Cl_O2_2_anti-rpoA.sorted.bam': 3304362,\n",
        " 'chipExo-RpoD_wt_fructose_NH4Cl_O2_1_anti-rpod.sorted.bam': 3783344,\n",
        " 'chipExo-RpoD_wt_fructose_NH4Cl_O2_2_anti-rpod.sorted.bam': 3732530,\n",
        " 'chipExo-RpoD_wt_fructose_NH4Cl_O2_3_anti-rpod.sorted.bam': 3972085,\n",
        " 'chipExo-RpoD_wt_glucose_NH4Cl_O2_1_anti-rpod.sorted.bam': 6681520,\n",
        " 'chipExo-RpoD_wt_glucose_NH4Cl_O2_2_anti-rpod.sorted.bam': 4386115,\n",
        " 'chipExo-RpoD_wt_glucose_NH4Cl_O2_3_anti-rpod.sorted.bam': 4423868,\n",
        " 'chipExo-RpoD_wt_glycerol_NH4Cl_O2_1_anti-rpod.sorted.bam': 4343067,\n",
        " 'chipExo-RpoD_wt_glycerol_NH4Cl_O2_2_anti-rpod.sorted.bam': 4310500,\n",
        " 'chipExo-RpoD_wt_glycerol_NH4Cl_O2_3_anti-rpod.sorted.bam': 4388044}"
       ]
      }
     ],
     "prompt_number": 7
    },
    {
     "cell_type": "code",
     "collapsed": false,
     "input": [
      "for file_name in os.listdir(settings.dropbox_directory+'/crp/data/ChIP/gff'):\n",
      "    try: \n",
      "        reads_mapped = mapped_reads[file_name[0:-3]+'bam']\n",
      "        \n",
      "    except: None"
     ],
     "language": "python",
     "metadata": {},
     "outputs": [
      {
       "output_type": "stream",
       "stream": "stdout",
       "text": [
        "3223084\n",
        "3977246\n",
        "2294107\n",
        "1548708\n",
        "2990481\n",
        "4848045\n",
        "4645511\n",
        "2388581\n",
        "2715099\n",
        "2417687\n",
        "2950355\n",
        "2176456\n",
        "915218\n",
        "2902667\n",
        "2324880\n",
        "1706205\n",
        "2485482\n",
        "3373815\n",
        "3848211\n",
        "3692993\n",
        "2185441\n",
        "2575115\n",
        "2692227\n",
        "1944417\n",
        "2079014\n",
        "3004792\n",
        "2496025\n",
        "2444983\n",
        "2124438\n",
        "1335814\n",
        "2058582\n",
        "1836597\n",
        "2903324\n",
        "9660913\n",
        "2602298\n",
        "1881168\n",
        "1750050\n",
        "1473210\n",
        "2884367\n",
        "2865966\n",
        "2107967\n",
        "3806257\n",
        "2166514\n",
        "1743677\n",
        "2821823\n",
        "2755637\n",
        "3304362\n",
        "3783344\n",
        "3732530\n",
        "3972085\n",
        "6681520\n",
        "4386115\n",
        "4423868\n",
        "4343067\n",
        "4310500\n",
        "4388044\n"
       ]
      }
     ],
     "prompt_number": 51
    },
    {
     "cell_type": "code",
     "collapsed": false,
     "input": [
      "pd = DataFrame(index=index,data=array(data).T)"
     ],
     "language": "python",
     "metadata": {},
     "outputs": [],
     "prompt_number": 26
    },
    {
     "cell_type": "code",
     "collapsed": false,
     "input": [
      "from IPython.core.display import HTML\n",
      "from pandas import DataFrame\n",
      "from numpy import array\n",
      "import math\n",
      "\n",
      "index = []\n",
      "data = [[],[]]\n",
      "for file_name in os.listdir(settings.dropbox_directory+'/crp/data/ChIP/gff'):\n",
      "    if file_name[-3:] == 'gff':\n",
      "        try:\n",
      "            variance = gff_variance(settings.dropbox_directory+'/crp/data/ChIP/gff/'+file_name)\n",
      "        except: \n",
      "            variance = 0\n",
      "            \n",
      "        index.append(file_name)\n",
      "        data[0].append(variance)\n",
      "        data[1].append(math.sqrt(variance))\n",
      "\n",
      "df = DataFrame(array(data).T,index) \n",
      "HTML(df.to_html())"
     ],
     "language": "python",
     "metadata": {},
     "outputs": [
      {
       "html": [
        "<table border=\"1\" class=\"dataframe\">\n",
        "  <thead>\n",
        "    <tr style=\"text-align: right;\">\n",
        "      <th></th>\n",
        "      <th>0</th>\n",
        "      <th>1</th>\n",
        "    </tr>\n",
        "  </thead>\n",
        "  <tbody>\n",
        "    <tr>\n",
        "      <th>chipExo-ArcA_ArcA8myc_glucose_NH4Cl_anaerobic_2_anti-myc_S3_L001_R1_001_sorted.gff</th>\n",
        "      <td> 30606.896943</td>\n",
        "      <td> 174.948269</td>\n",
        "    </tr>\n",
        "    <tr>\n",
        "      <th>chipExo-ArcA_ArcA8myc_glucose_NH4Cl_anaerobic_2_anti-myc_S3_L001_R1_001_sorted_5prime.gff</th>\n",
        "      <td>  7680.727149</td>\n",
        "      <td>  87.639758</td>\n",
        "    </tr>\n",
        "    <tr>\n",
        "      <th>chipExo-ArcA_ArcA8myc_glucose_NH4Cl_anaerobic_3_anti-myc_S4_L001_R1_001_sorted.gff</th>\n",
        "      <td> 67571.824531</td>\n",
        "      <td> 259.945811</td>\n",
        "    </tr>\n",
        "    <tr>\n",
        "      <th>chipExo-ArcA_ArcA8myc_glucose_NH4Cl_anaerobic_3_anti-myc_S4_L001_R1_001_sorted_5prime.gff</th>\n",
        "      <td> 14644.561259</td>\n",
        "      <td> 121.014715</td>\n",
        "    </tr>\n",
        "    <tr>\n",
        "      <th>chipExo-Crp_Ar3_glycerol_NH4Cl_O2_1_anti-crp.sorted.gff</th>\n",
        "      <td>   368.354660</td>\n",
        "      <td>  19.192568</td>\n",
        "    </tr>\n",
        "    <tr>\n",
        "      <th>chipExo-Crp_Ar3_glycerol_NH4Cl_O2_1_anti-crp.sorted_5prime.gff</th>\n",
        "      <td>    56.639644</td>\n",
        "      <td>   7.525931</td>\n",
        "    </tr>\n",
        "    <tr>\n",
        "      <th>chipExo-Crp_Ar3_glycerol_NH4Cl_O2_2_anti-crp.sorted.gff</th>\n",
        "      <td>   111.947331</td>\n",
        "      <td>  10.580517</td>\n",
        "    </tr>\n",
        "    <tr>\n",
        "      <th>chipExo-Crp_Ar3_glycerol_NH4Cl_O2_2_anti-crp.sorted_5prime.gff</th>\n",
        "      <td>     2.300534</td>\n",
        "      <td>   1.516751</td>\n",
        "    </tr>\n",
        "    <tr>\n",
        "      <th>chipExo-Crp_Ar3_glycerol_NH4Cl_O2_3_anti-crp.sorted.gff</th>\n",
        "      <td>   308.147548</td>\n",
        "      <td>  17.554132</td>\n",
        "    </tr>\n",
        "    <tr>\n",
        "      <th>chipExo-Crp_Ar3_glycerol_NH4Cl_O2_3_anti-crp.sorted_5prime.gff</th>\n",
        "      <td>     5.067378</td>\n",
        "      <td>   2.251084</td>\n",
        "    </tr>\n",
        "    <tr>\n",
        "      <th>chipExo-Crp_Crp8myc_fructose_NH4Cl_O2_1_anti-crp.sorted.gff</th>\n",
        "      <td>  1556.474607</td>\n",
        "      <td>  39.452181</td>\n",
        "    </tr>\n",
        "    <tr>\n",
        "      <th>chipExo-Crp_Crp8myc_fructose_NH4Cl_O2_1_anti-crp.sorted_5prime.gff</th>\n",
        "      <td>    96.208170</td>\n",
        "      <td>   9.808576</td>\n",
        "    </tr>\n",
        "    <tr>\n",
        "      <th>chipExo-Crp_Crp8myc_fructose_NH4Cl_O2_1_anti-myc.sorted.gff</th>\n",
        "      <td>   299.948952</td>\n",
        "      <td>  17.319034</td>\n",
        "    </tr>\n",
        "    <tr>\n",
        "      <th>chipExo-Crp_Crp8myc_fructose_NH4Cl_O2_1_anti-myc.sorted_5prime.gff</th>\n",
        "      <td>     7.139193</td>\n",
        "      <td>   2.671927</td>\n",
        "    </tr>\n",
        "    <tr>\n",
        "      <th>chipExo-Crp_Crp8myc_fructose_NH4Cl_O2_2_anti-crp_S6_L001_R1_001_sorted.gff</th>\n",
        "      <td>   609.151848</td>\n",
        "      <td>  24.681002</td>\n",
        "    </tr>\n",
        "    <tr>\n",
        "      <th>chipExo-Crp_Crp8myc_fructose_NH4Cl_O2_2_anti-crp_S6_L001_R1_001_sorted_5prime.gff</th>\n",
        "      <td>   138.918902</td>\n",
        "      <td>  11.786386</td>\n",
        "    </tr>\n",
        "    <tr>\n",
        "      <th>chipExo-Crp_Crp8myc_fructose_NH4Cl_O2_2_anti-myc_S1_L001_R1_001_sorted.gff</th>\n",
        "      <td>   145.758125</td>\n",
        "      <td>  12.073033</td>\n",
        "    </tr>\n",
        "    <tr>\n",
        "      <th>chipExo-Crp_Crp8myc_fructose_NH4Cl_O2_2_anti-myc_S1_L001_R1_001_sorted_5prime.gff</th>\n",
        "      <td>    25.274762</td>\n",
        "      <td>   5.027401</td>\n",
        "    </tr>\n",
        "    <tr>\n",
        "      <th>chipExo-Crp_Crp8myc_fructose_NH4Cl_O2_3_anti-crp_S7_L001_R1_001_sorted.gff</th>\n",
        "      <td>   713.483633</td>\n",
        "      <td>  26.711114</td>\n",
        "    </tr>\n",
        "    <tr>\n",
        "      <th>chipExo-Crp_Crp8myc_fructose_NH4Cl_O2_3_anti-crp_S7_L001_R1_001_sorted_5prime.gff</th>\n",
        "      <td>   173.477785</td>\n",
        "      <td>  13.171097</td>\n",
        "    </tr>\n",
        "    <tr>\n",
        "      <th>chipExo-Crp_Crp8myc_fructose_NH4Cl_O2_3_anti-myc_S2_L001_R1_001_sorted.gff</th>\n",
        "      <td>   164.996547</td>\n",
        "      <td>  12.845098</td>\n",
        "    </tr>\n",
        "    <tr>\n",
        "      <th>chipExo-Crp_Crp8myc_fructose_NH4Cl_O2_3_anti-myc_S2_L001_R1_001_sorted_5prime.gff</th>\n",
        "      <td>    23.565400</td>\n",
        "      <td>   4.854421</td>\n",
        "    </tr>\n",
        "    <tr>\n",
        "      <th>chipExo-Crp_Crp8myc_glucose_NH4Cl_O2_1_anti-myc_S2_L001_R1_001_sorted.gff</th>\n",
        "      <td>   103.937394</td>\n",
        "      <td>  10.194969</td>\n",
        "    </tr>\n",
        "    <tr>\n",
        "      <th>chipExo-Crp_Crp8myc_glucose_NH4Cl_O2_1_anti-myc_S2_L001_R1_001_sorted_5prime.gff</th>\n",
        "      <td>     3.594008</td>\n",
        "      <td>   1.895787</td>\n",
        "    </tr>\n",
        "    <tr>\n",
        "      <th>chipExo-Crp_Crp8myc_glucose_NH4Cl_O2_2_anti-myc_S3_L001_R1_001_sorted.gff</th>\n",
        "      <td>    15.339743</td>\n",
        "      <td>   3.916598</td>\n",
        "    </tr>\n",
        "    <tr>\n",
        "      <th>chipExo-Crp_Crp8myc_glucose_NH4Cl_O2_2_anti-myc_S3_L001_R1_001_sorted_5prime.gff</th>\n",
        "      <td>     0.857582</td>\n",
        "      <td>   0.926057</td>\n",
        "    </tr>\n",
        "    <tr>\n",
        "      <th>chipExo-Crp_Crp8myc_glycerol_NH4Cl_O2_1_anti-crp.gff</th>\n",
        "      <td>  1331.103765</td>\n",
        "      <td>  36.484295</td>\n",
        "    </tr>\n",
        "    <tr>\n",
        "      <th>chipExo-Crp_Crp8myc_glycerol_NH4Cl_O2_1_anti-crp_5prime.gff</th>\n",
        "      <td>    26.294861</td>\n",
        "      <td>   5.127852</td>\n",
        "    </tr>\n",
        "    <tr>\n",
        "      <th>chipExo-Crp_Crp8myc_glycerol_NH4Cl_O2_1_anti-mock-crp.gff</th>\n",
        "      <td>    53.621643</td>\n",
        "      <td>   7.322680</td>\n",
        "    </tr>\n",
        "    <tr>\n",
        "      <th>chipExo-Crp_Crp8myc_glycerol_NH4Cl_O2_1_anti-mock-crp_5prime.gff</th>\n",
        "      <td>     2.741449</td>\n",
        "      <td>   1.655732</td>\n",
        "    </tr>\n",
        "    <tr>\n",
        "      <th>chipExo-Crp_Crp8myc_glycerol_NH4Cl_O2_1_anti-mock-myc.gff</th>\n",
        "      <td>    34.818389</td>\n",
        "      <td>   5.900711</td>\n",
        "    </tr>\n",
        "    <tr>\n",
        "      <th>chipExo-Crp_Crp8myc_glycerol_NH4Cl_O2_1_anti-mock-myc_5prime.gff</th>\n",
        "      <td>     2.224755</td>\n",
        "      <td>   1.491561</td>\n",
        "    </tr>\n",
        "    <tr>\n",
        "      <th>chipExo-Crp_Crp8myc_glycerol_NH4Cl_O2_1_anti-myc.gff</th>\n",
        "      <td>   138.706322</td>\n",
        "      <td>  11.777365</td>\n",
        "    </tr>\n",
        "    <tr>\n",
        "      <th>chipExo-Crp_Crp8myc_glycerol_NH4Cl_O2_1_anti-myc_5prime.gff</th>\n",
        "      <td>     2.270379</td>\n",
        "      <td>   1.506778</td>\n",
        "    </tr>\n",
        "    <tr>\n",
        "      <th>chipExo-Crp_Crp8myc_glycerol_NH4Cl_O2_2_anti-crp_S4_L001_R1_001_sorted.gff</th>\n",
        "      <td>   713.978071</td>\n",
        "      <td>  26.720368</td>\n",
        "    </tr>\n",
        "    <tr>\n",
        "      <th>chipExo-Crp_Crp8myc_glycerol_NH4Cl_O2_2_anti-crp_S4_L001_R1_001_sorted_5prime.gff</th>\n",
        "      <td>   155.573883</td>\n",
        "      <td>  12.472926</td>\n",
        "    </tr>\n",
        "    <tr>\n",
        "      <th>chipExo-Crp_Crp8myc_glycerol_NH4Cl_O2_3_anti-myc_S5_L001_R1_001_sorted.gff</th>\n",
        "      <td>   335.128031</td>\n",
        "      <td>  18.306502</td>\n",
        "    </tr>\n",
        "    <tr>\n",
        "      <th>chipExo-Crp_Crp8myc_glycerol_NH4Cl_O2_3_anti-myc_S5_L001_R1_001_sorted_5prime.gff</th>\n",
        "      <td>    13.120859</td>\n",
        "      <td>   3.622273</td>\n",
        "    </tr>\n",
        "    <tr>\n",
        "      <th>chipExo-Crp_delAr1_glycerol_NH4Cl_O2_1_anti-crp.sorted.gff</th>\n",
        "      <td>  2962.618077</td>\n",
        "      <td>  54.429937</td>\n",
        "    </tr>\n",
        "    <tr>\n",
        "      <th>chipExo-Crp_delAr1_glycerol_NH4Cl_O2_1_anti-crp.sorted_5prime.gff</th>\n",
        "      <td>   168.848632</td>\n",
        "      <td>  12.994177</td>\n",
        "    </tr>\n",
        "    <tr>\n",
        "      <th>chipExo-Crp_delAr1_glycerol_NH4Cl_O2_2_anti-crp.sorted.gff</th>\n",
        "      <td>  1892.694469</td>\n",
        "      <td>  43.505109</td>\n",
        "    </tr>\n",
        "    <tr>\n",
        "      <th>chipExo-Crp_delAr1_glycerol_NH4Cl_O2_2_anti-crp.sorted_5prime.gff</th>\n",
        "      <td>   112.002104</td>\n",
        "      <td>  10.583105</td>\n",
        "    </tr>\n",
        "    <tr>\n",
        "      <th>chipExo-Crp_delAr1_glycerol_NH4Cl_O2_3_anti-crp.sorted.gff</th>\n",
        "      <td>  1542.598806</td>\n",
        "      <td>  39.275932</td>\n",
        "    </tr>\n",
        "    <tr>\n",
        "      <th>chipExo-Crp_delAr1_glycerol_NH4Cl_O2_3_anti-crp.sorted_5prime.gff</th>\n",
        "      <td>    66.135333</td>\n",
        "      <td>   8.132363</td>\n",
        "    </tr>\n",
        "    <tr>\n",
        "      <th>chipExo-Crp_delAr1delAr2_glycerol_NH4Cl_O2_1_anti-crp.sorted.gff</th>\n",
        "      <td>   492.796306</td>\n",
        "      <td>  22.199016</td>\n",
        "    </tr>\n",
        "    <tr>\n",
        "      <th>chipExo-Crp_delAr1delAr2_glycerol_NH4Cl_O2_1_anti-crp.sorted_5prime.gff</th>\n",
        "      <td>     6.540956</td>\n",
        "      <td>   2.557529</td>\n",
        "    </tr>\n",
        "    <tr>\n",
        "      <th>chipExo-Crp_delAr1delAr2_glycerol_NH4Cl_O2_2_anti-crp.sorted.gff</th>\n",
        "      <td>   315.717716</td>\n",
        "      <td>  17.768447</td>\n",
        "    </tr>\n",
        "    <tr>\n",
        "      <th>chipExo-Crp_delAr1delAr2_glycerol_NH4Cl_O2_2_anti-crp.sorted_5prime.gff</th>\n",
        "      <td>     4.668618</td>\n",
        "      <td>   2.160698</td>\n",
        "    </tr>\n",
        "    <tr>\n",
        "      <th>chipExo-Crp_delAr1delAr2_glycerol_NH4Cl_O2_3_anti-crp.sorted.gff</th>\n",
        "      <td>   265.854616</td>\n",
        "      <td>  16.305049</td>\n",
        "    </tr>\n",
        "    <tr>\n",
        "      <th>chipExo-Crp_delAr1delAr2_glycerol_NH4Cl_O2_3_anti-crp.sorted_5prime.gff</th>\n",
        "      <td>     5.610355</td>\n",
        "      <td>   2.368619</td>\n",
        "    </tr>\n",
        "    <tr>\n",
        "      <th>chipExo-Crp_delAr2_glycerol_NH4Cl_O2_1_anti-crp.sorted.gff</th>\n",
        "      <td>   149.517867</td>\n",
        "      <td>  12.227750</td>\n",
        "    </tr>\n",
        "    <tr>\n",
        "      <th>chipExo-Crp_delAr2_glycerol_NH4Cl_O2_1_anti-crp.sorted_5prime.gff</th>\n",
        "      <td>     1.159204</td>\n",
        "      <td>   1.076663</td>\n",
        "    </tr>\n",
        "    <tr>\n",
        "      <th>chipExo-Crp_delAr2_glycerol_NH4Cl_O2_2_anti-crp.sorted.gff</th>\n",
        "      <td>   108.727648</td>\n",
        "      <td>  10.427255</td>\n",
        "    </tr>\n",
        "    <tr>\n",
        "      <th>chipExo-Crp_delAr2_glycerol_NH4Cl_O2_2_anti-crp.sorted_5prime.gff</th>\n",
        "      <td>     0.726833</td>\n",
        "      <td>   0.852545</td>\n",
        "    </tr>\n",
        "    <tr>\n",
        "      <th>chipExo-Crp_delAr2_glycerol_NH4Cl_O2_3_anti-crp.sorted.gff</th>\n",
        "      <td>    87.635105</td>\n",
        "      <td>   9.361362</td>\n",
        "    </tr>\n",
        "    <tr>\n",
        "      <th>chipExo-Crp_delAr2_glycerol_NH4Cl_O2_3_anti-crp.sorted_5prime.gff</th>\n",
        "      <td>     0.900782</td>\n",
        "      <td>   0.949095</td>\n",
        "    </tr>\n",
        "    <tr>\n",
        "      <th>chipExo-Crp_wt_fructose_NH4Cl_O2_1_anti-crp.gff</th>\n",
        "      <td>   478.439000</td>\n",
        "      <td>  21.873248</td>\n",
        "    </tr>\n",
        "    <tr>\n",
        "      <th>chipExo-Crp_wt_fructose_NH4Cl_O2_1_anti-crp_5prime.gff</th>\n",
        "      <td>    12.276317</td>\n",
        "      <td>   3.503758</td>\n",
        "    </tr>\n",
        "    <tr>\n",
        "      <th>chipExo-Crp_wt_fructose_NH4Cl_O2_1_anti-mock-crp.gff</th>\n",
        "      <td>    53.494810</td>\n",
        "      <td>   7.314015</td>\n",
        "    </tr>\n",
        "    <tr>\n",
        "      <th>chipExo-Crp_wt_fructose_NH4Cl_O2_1_anti-mock-crp_5prime.gff</th>\n",
        "      <td>     5.213971</td>\n",
        "      <td>   2.283412</td>\n",
        "    </tr>\n",
        "    <tr>\n",
        "      <th>chipExo-Crp_wt_fructose_NH4Cl_O2_2_anti-crp_S3_L001_R1_001_sorted.gff</th>\n",
        "      <td>   837.643273</td>\n",
        "      <td>  28.942068</td>\n",
        "    </tr>\n",
        "    <tr>\n",
        "      <th>chipExo-Crp_wt_fructose_NH4Cl_O2_2_anti-crp_S3_L001_R1_001_sorted_5prime.gff</th>\n",
        "      <td>    71.567535</td>\n",
        "      <td>   8.459760</td>\n",
        "    </tr>\n",
        "    <tr>\n",
        "      <th>chipExo-Crp_wt_fructose_NH4Cl_O2_3_anti-crp.sorted.gff</th>\n",
        "      <td>   940.464304</td>\n",
        "      <td>  30.666990</td>\n",
        "    </tr>\n",
        "    <tr>\n",
        "      <th>chipExo-Crp_wt_fructose_NH4Cl_O2_3_anti-crp.sorted_5prime.gff</th>\n",
        "      <td>    11.943465</td>\n",
        "      <td>   3.455932</td>\n",
        "    </tr>\n",
        "    <tr>\n",
        "      <th>chipExo-Crp_wt_fructose_NH4Cl_O2_4_anti-crp.sorted.gff</th>\n",
        "      <td>  1892.833243</td>\n",
        "      <td>  43.506703</td>\n",
        "    </tr>\n",
        "    <tr>\n",
        "      <th>chipExo-Crp_wt_fructose_NH4Cl_O2_4_anti-crp.sorted_5prime.gff</th>\n",
        "      <td>    12.450556</td>\n",
        "      <td>   3.528535</td>\n",
        "    </tr>\n",
        "    <tr>\n",
        "      <th>chipExo-Crp_wt_fructose_NH4Cl_O2_5_anti-crp.sorted.gff</th>\n",
        "      <td> 20404.255253</td>\n",
        "      <td> 142.843464</td>\n",
        "    </tr>\n",
        "    <tr>\n",
        "      <th>chipExo-Crp_wt_fructose_NH4Cl_O2_5_anti-crp.sorted_5prime.gff</th>\n",
        "      <td>    73.205172</td>\n",
        "      <td>   8.556002</td>\n",
        "    </tr>\n",
        "    <tr>\n",
        "      <th>chipExo-Crp_wt_glucose_NH4Cl_O2_1_anti-crp_S4_L001_R1_001_sorted.gff</th>\n",
        "      <td>    89.576840</td>\n",
        "      <td>   9.464504</td>\n",
        "    </tr>\n",
        "    <tr>\n",
        "      <th>chipExo-Crp_wt_glucose_NH4Cl_O2_1_anti-crp_S4_L001_R1_001_sorted_5prime.gff</th>\n",
        "      <td>     1.784299</td>\n",
        "      <td>   1.335777</td>\n",
        "    </tr>\n",
        "    <tr>\n",
        "      <th>chipExo-Crp_wt_glucose_NH4Cl_O2_2_anti-crp_1_10_S5_L001_R1_001_sorted.gff</th>\n",
        "      <td>    48.097342</td>\n",
        "      <td>   6.935225</td>\n",
        "    </tr>\n",
        "    <tr>\n",
        "      <th>chipExo-Crp_wt_glucose_NH4Cl_O2_2_anti-crp_1_10_S5_L001_R1_001_sorted_5prime.gff</th>\n",
        "      <td>     1.209888</td>\n",
        "      <td>   1.099949</td>\n",
        "    </tr>\n",
        "    <tr>\n",
        "      <th>chipExo-Crp_wt_glycerol_NH4Cl_O2_1_anti-crp.gff</th>\n",
        "      <td>   388.585142</td>\n",
        "      <td>  19.712563</td>\n",
        "    </tr>\n",
        "    <tr>\n",
        "      <th>chipExo-Crp_wt_glycerol_NH4Cl_O2_1_anti-crp_5prime.gff</th>\n",
        "      <td>     7.823198</td>\n",
        "      <td>   2.796998</td>\n",
        "    </tr>\n",
        "    <tr>\n",
        "      <th>chipExo-Crp_wt_glycerol_NH4Cl_O2_1_anti-mock-crp.gff</th>\n",
        "      <td>    18.929613</td>\n",
        "      <td>   4.350818</td>\n",
        "    </tr>\n",
        "    <tr>\n",
        "      <th>chipExo-Crp_wt_glycerol_NH4Cl_O2_1_anti-mock-crp_5prime.gff</th>\n",
        "      <td>     1.593589</td>\n",
        "      <td>   1.262375</td>\n",
        "    </tr>\n",
        "    <tr>\n",
        "      <th>chipExo-Crp_wt_glycerol_NH4Cl_O2_2_anti-crp_S1_L001_R1_001_sorted.gff</th>\n",
        "      <td>   682.147852</td>\n",
        "      <td>  26.117960</td>\n",
        "    </tr>\n",
        "    <tr>\n",
        "      <th>chipExo-Crp_wt_glycerol_NH4Cl_O2_2_anti-crp_S1_L001_R1_001_sorted_5prime.gff</th>\n",
        "      <td>    36.798712</td>\n",
        "      <td>   6.066194</td>\n",
        "    </tr>\n",
        "    <tr>\n",
        "      <th>chipExo-Crp_wt_glycerol_NH4Cl_O2_3_anti-crp_S2_L001_R1_001_sorted.gff</th>\n",
        "      <td>  1024.681715</td>\n",
        "      <td>  32.010650</td>\n",
        "    </tr>\n",
        "    <tr>\n",
        "      <th>chipExo-Crp_wt_glycerol_NH4Cl_O2_3_anti-crp_S2_L001_R1_001_sorted_5prime.gff</th>\n",
        "      <td>    42.829604</td>\n",
        "      <td>   6.544433</td>\n",
        "    </tr>\n",
        "    <tr>\n",
        "      <th>chipExo-Crp_wt_glycerol_NH4Cl_O2_4_anti-crp.sorted.gff</th>\n",
        "      <td>  1098.850144</td>\n",
        "      <td>  33.148909</td>\n",
        "    </tr>\n",
        "    <tr>\n",
        "      <th>chipExo-Crp_wt_glycerol_NH4Cl_O2_4_anti-crp.sorted_5prime.gff</th>\n",
        "      <td>    10.539095</td>\n",
        "      <td>   3.246397</td>\n",
        "    </tr>\n",
        "    <tr>\n",
        "      <th>chipExo-Crp_wt_glycerol_NH4Cl_O2_5_anti-crp.sorted.gff</th>\n",
        "      <td>  5120.334876</td>\n",
        "      <td>  71.556515</td>\n",
        "    </tr>\n",
        "    <tr>\n",
        "      <th>chipExo-Crp_wt_glycerol_NH4Cl_O2_5_anti-crp.sorted_5prime.gff</th>\n",
        "      <td>    27.883079</td>\n",
        "      <td>   5.280443</td>\n",
        "    </tr>\n",
        "    <tr>\n",
        "      <th>chipExo-Crp_wt_glycerol_NH4Cl_O2_6_anti-crp.sorted.gff</th>\n",
        "      <td>   961.475027</td>\n",
        "      <td>  31.007661</td>\n",
        "    </tr>\n",
        "    <tr>\n",
        "      <th>chipExo-Crp_wt_glycerol_NH4Cl_O2_6_anti-crp.sorted_5prime.gff</th>\n",
        "      <td>    10.515507</td>\n",
        "      <td>   3.242762</td>\n",
        "    </tr>\n",
        "    <tr>\n",
        "      <th>chipExo-Fnr_Fnr8myc_glucose_NH4Cl_anaerobic_2_anti-myc_S5_L001_R1_001_sorted.gff</th>\n",
        "      <td>   936.686950</td>\n",
        "      <td>  30.605342</td>\n",
        "    </tr>\n",
        "    <tr>\n",
        "      <th>chipExo-Fnr_Fnr8myc_glucose_NH4Cl_anaerobic_2_anti-myc_S5_L001_R1_001_sorted_5prime.gff</th>\n",
        "      <td>    97.742308</td>\n",
        "      <td>   9.886471</td>\n",
        "    </tr>\n",
        "    <tr>\n",
        "      <th>chipExo-Fnr_Fnr8myc_glucose_NH4Cl_anaerobic_3_anti-myc_S6_L001_R1_001_sorted.gff</th>\n",
        "      <td>  4534.890069</td>\n",
        "      <td>  67.341592</td>\n",
        "    </tr>\n",
        "    <tr>\n",
        "      <th>chipExo-Fnr_Fnr8myc_glucose_NH4Cl_anaerobic_3_anti-myc_S6_L001_R1_001_sorted_5prime.gff</th>\n",
        "      <td>  1139.915349</td>\n",
        "      <td>  33.762632</td>\n",
        "    </tr>\n",
        "    <tr>\n",
        "      <th>chipExo-RpoA_wt_glucose_NH4Cl_O2_1_anti-rpoA_S6_L001_R1_001_sorted.gff</th>\n",
        "      <td>  1575.879746</td>\n",
        "      <td>  39.697352</td>\n",
        "    </tr>\n",
        "    <tr>\n",
        "      <th>chipExo-RpoA_wt_glucose_NH4Cl_O2_1_anti-rpoA_S6_L001_R1_001_sorted_5prime.gff</th>\n",
        "      <td>    13.564633</td>\n",
        "      <td>   3.683020</td>\n",
        "    </tr>\n",
        "    <tr>\n",
        "      <th>chipExo-RpoA_wt_glucose_NH4Cl_O2_2_anti-rpoA_S7_L001_R1_001_sorted.gff</th>\n",
        "      <td>  1737.007683</td>\n",
        "      <td>  41.677424</td>\n",
        "    </tr>\n",
        "    <tr>\n",
        "      <th>chipExo-RpoA_wt_glucose_NH4Cl_O2_2_anti-rpoA_S7_L001_R1_001_sorted_5prime.gff</th>\n",
        "      <td>    12.136759</td>\n",
        "      <td>   3.483785</td>\n",
        "    </tr>\n",
        "    <tr>\n",
        "      <th>chipExo-RpoD_wt_fructose_NH4Cl_O2_1_anti-rpod.sorted.gff</th>\n",
        "      <td> 25764.548097</td>\n",
        "      <td> 160.513389</td>\n",
        "    </tr>\n",
        "    <tr>\n",
        "      <th>chipExo-RpoD_wt_fructose_NH4Cl_O2_1_anti-rpod.sorted_5prime.gff</th>\n",
        "      <td>   120.599413</td>\n",
        "      <td>  10.981776</td>\n",
        "    </tr>\n",
        "    <tr>\n",
        "      <th>chipExo-RpoD_wt_fructose_NH4Cl_O2_2_anti-rpod.sorted.gff</th>\n",
        "      <td> 25997.217679</td>\n",
        "      <td> 161.236527</td>\n",
        "    </tr>\n",
        "    <tr>\n",
        "      <th>chipExo-RpoD_wt_fructose_NH4Cl_O2_2_anti-rpod.sorted_5prime.gff</th>\n",
        "      <td>   124.474266</td>\n",
        "      <td>  11.156804</td>\n",
        "    </tr>\n",
        "    <tr>\n",
        "      <th>chipExo-RpoD_wt_fructose_NH4Cl_O2_3_anti-rpod.sorted.gff</th>\n",
        "      <td> 28497.081409</td>\n",
        "      <td> 168.810786</td>\n",
        "    </tr>\n",
        "    <tr>\n",
        "      <th>chipExo-RpoD_wt_fructose_NH4Cl_O2_3_anti-rpod.sorted_5prime.gff</th>\n",
        "      <td>   126.095147</td>\n",
        "      <td>  11.229210</td>\n",
        "    </tr>\n",
        "    <tr>\n",
        "      <th>chipExo-RpoD_wt_glucose_NH4Cl_O2_1_anti-rpod.sorted.gff</th>\n",
        "      <td> 21979.889380</td>\n",
        "      <td> 148.256161</td>\n",
        "    </tr>\n",
        "    <tr>\n",
        "      <th>chipExo-RpoD_wt_glucose_NH4Cl_O2_1_anti-rpod.sorted_5prime.gff</th>\n",
        "      <td>   240.073731</td>\n",
        "      <td>  15.494313</td>\n",
        "    </tr>\n",
        "    <tr>\n",
        "      <th>chipExo-RpoD_wt_glucose_NH4Cl_O2_2_anti-rpod.sorted.gff</th>\n",
        "      <td> 31380.410780</td>\n",
        "      <td> 177.145169</td>\n",
        "    </tr>\n",
        "    <tr>\n",
        "      <th>chipExo-RpoD_wt_glucose_NH4Cl_O2_2_anti-rpod.sorted_5prime.gff</th>\n",
        "      <td>   124.965955</td>\n",
        "      <td>  11.178817</td>\n",
        "    </tr>\n",
        "    <tr>\n",
        "      <th>chipExo-RpoD_wt_glucose_NH4Cl_O2_3_anti-rpod.sorted.gff</th>\n",
        "      <td> 28173.084606</td>\n",
        "      <td> 167.848398</td>\n",
        "    </tr>\n",
        "    <tr>\n",
        "      <th>chipExo-RpoD_wt_glucose_NH4Cl_O2_3_anti-rpod.sorted_5prime.gff</th>\n",
        "      <td>   105.963594</td>\n",
        "      <td>  10.293862</td>\n",
        "    </tr>\n",
        "    <tr>\n",
        "      <th>chipExo-RpoD_wt_glycerol_NH4Cl_O2_1_anti-rpod.sorted.gff</th>\n",
        "      <td> 35253.596817</td>\n",
        "      <td> 187.759412</td>\n",
        "    </tr>\n",
        "    <tr>\n",
        "      <th>chipExo-RpoD_wt_glycerol_NH4Cl_O2_1_anti-rpod.sorted_5prime.gff</th>\n",
        "      <td>   153.061535</td>\n",
        "      <td>  12.371804</td>\n",
        "    </tr>\n",
        "    <tr>\n",
        "      <th>chipExo-RpoD_wt_glycerol_NH4Cl_O2_2_anti-rpod.sorted.gff</th>\n",
        "      <td> 36835.229054</td>\n",
        "      <td> 191.925061</td>\n",
        "    </tr>\n",
        "    <tr>\n",
        "      <th>chipExo-RpoD_wt_glycerol_NH4Cl_O2_2_anti-rpod.sorted_5prime.gff</th>\n",
        "      <td>   164.003142</td>\n",
        "      <td>  12.806371</td>\n",
        "    </tr>\n",
        "    <tr>\n",
        "      <th>chipExo-RpoD_wt_glycerol_NH4Cl_O2_3_anti-rpod.sorted.gff</th>\n",
        "      <td> 28901.266510</td>\n",
        "      <td> 170.003725</td>\n",
        "    </tr>\n",
        "    <tr>\n",
        "      <th>chipExo-RpoD_wt_glycerol_NH4Cl_O2_3_anti-rpod.sorted_5prime.gff</th>\n",
        "      <td>   120.175812</td>\n",
        "      <td>  10.962473</td>\n",
        "    </tr>\n",
        "  </tbody>\n",
        "</table>"
       ],
       "metadata": {},
       "output_type": "pyout",
       "prompt_number": 29,
       "text": [
        "<IPython.core.display.HTML at 0x1029eb410>"
       ]
      }
     ],
     "prompt_number": 29
    },
    {
     "cell_type": "code",
     "collapsed": false,
     "input": [
      "ome.query(ChIPExperiment).all()"
     ],
     "language": "python",
     "metadata": {},
     "outputs": [
      {
       "metadata": {},
       "output_type": "pyout",
       "prompt_number": 6,
       "text": [
        "[ChIPExperiment (#1, chipExo-ArcA_ArcA8myc_glucose_NH4Cl_anaerobic_2_anti-myc): chipExo ArcA 2,\n",
        " ChIPExperiment (#2, chipExo-ArcA_ArcA8myc_glucose_NH4Cl_anaerobic_3_anti-myc): chipExo ArcA 3,\n",
        " ChIPExperiment (#3, chipExo-Crp_Ar3_glycerol_NH4Cl_O2_1_anti-crp): chipExo Crp 1,\n",
        " ChIPExperiment (#4, chipExo-Crp_Ar3_glycerol_NH4Cl_O2_2_anti-crp): chipExo Crp 2,\n",
        " ChIPExperiment (#5, chipExo-Crp_Ar3_glycerol_NH4Cl_O2_3_anti-crp): chipExo Crp 3]"
       ]
      }
     ],
     "prompt_number": 6
    },
    {
     "cell_type": "code",
     "collapsed": false,
     "input": [
      "genome_data = base.omics_database.genome_data\n",
      "genome_data.count()"
     ],
     "language": "python",
     "metadata": {},
     "outputs": [
      {
       "metadata": {},
       "output_type": "pyout",
       "prompt_number": 5,
       "text": [
        "397876"
       ]
      }
     ],
     "prompt_number": 5
    },
    {
     "cell_type": "code",
     "collapsed": false,
     "input": [
      "from pymongo import ASCENDING, DESCENDING\n",
      "#genome_data.drop_indexes()\n",
      "genome_data.create_index([(\"data_set_id\",ASCENDING), (\"leftpos\", ASCENDING)])"
     ],
     "language": "python",
     "metadata": {},
     "outputs": [
      {
       "metadata": {},
       "output_type": "pyout",
       "prompt_number": 5,
       "text": [
        "u'data_set_id_1_leftpos_1'"
       ]
      }
     ],
     "prompt_number": 5
    },
    {
     "cell_type": "code",
     "collapsed": false,
     "input": [
      "%%timeit\n",
      "[x['value'] for x in data.query_genome_data([1,2,3])]"
     ],
     "language": "python",
     "metadata": {},
     "outputs": [
      {
       "output_type": "stream",
       "stream": "stdout",
       "text": [
        "1000 loops, best of 3: 1.25 ms per loop\n"
       ]
      }
     ],
     "prompt_number": 8
    },
    {
     "cell_type": "code",
     "collapsed": false,
     "input": [
      "[x for x in query_genome_data([5], 0, 3000)]"
     ],
     "language": "python",
     "metadata": {},
     "outputs": [
      {
       "metadata": {},
       "output_type": "pyout",
       "prompt_number": 9,
       "text": [
        "[{u'_id': ObjectId('537e869c41f33db3cff7d142'),\n",
        "  u'data_set_id': 5,\n",
        "  u'leftpos': 16,\n",
        "  u'rightpos': 16,\n",
        "  u'strand': u'+',\n",
        "  u'value': 8.0},\n",
        " {u'_id': ObjectId('537e869f41f33db3cff903bc'),\n",
        "  u'data_set_id': 5,\n",
        "  u'leftpos': 96,\n",
        "  u'rightpos': 96,\n",
        "  u'strand': u'-',\n",
        "  u'value': 8.0},\n",
        " {u'_id': ObjectId('537e869c41f33db3cff7d143'),\n",
        "  u'data_set_id': 5,\n",
        "  u'leftpos': 131,\n",
        "  u'rightpos': 131,\n",
        "  u'strand': u'+',\n",
        "  u'value': 7.0},\n",
        " {u'_id': ObjectId('537e869c41f33db3cff7d144'),\n",
        "  u'data_set_id': 5,\n",
        "  u'leftpos': 135,\n",
        "  u'rightpos': 135,\n",
        "  u'strand': u'+',\n",
        "  u'value': 8.0},\n",
        " {u'_id': ObjectId('537e869f41f33db3cff903bd'),\n",
        "  u'data_set_id': 5,\n",
        "  u'leftpos': 135,\n",
        "  u'rightpos': 135,\n",
        "  u'strand': u'-',\n",
        "  u'value': 5.0},\n",
        " {u'_id': ObjectId('537e869c41f33db3cff7d145'),\n",
        "  u'data_set_id': 5,\n",
        "  u'leftpos': 145,\n",
        "  u'rightpos': 145,\n",
        "  u'strand': u'+',\n",
        "  u'value': 8.0},\n",
        " {u'_id': ObjectId('537e869c41f33db3cff7d146'),\n",
        "  u'data_set_id': 5,\n",
        "  u'leftpos': 152,\n",
        "  u'rightpos': 152,\n",
        "  u'strand': u'+',\n",
        "  u'value': 7.0},\n",
        " {u'_id': ObjectId('537e869f41f33db3cff903be'),\n",
        "  u'data_set_id': 5,\n",
        "  u'leftpos': 155,\n",
        "  u'rightpos': 155,\n",
        "  u'strand': u'-',\n",
        "  u'value': 7.0},\n",
        " {u'_id': ObjectId('537e869f41f33db3cff903bf'),\n",
        "  u'data_set_id': 5,\n",
        "  u'leftpos': 160,\n",
        "  u'rightpos': 160,\n",
        "  u'strand': u'-',\n",
        "  u'value': 6.0},\n",
        " {u'_id': ObjectId('537e869f41f33db3cff903c0'),\n",
        "  u'data_set_id': 5,\n",
        "  u'leftpos': 161,\n",
        "  u'rightpos': 161,\n",
        "  u'strand': u'-',\n",
        "  u'value': 9.0},\n",
        " {u'_id': ObjectId('537e869f41f33db3cff903c1'),\n",
        "  u'data_set_id': 5,\n",
        "  u'leftpos': 164,\n",
        "  u'rightpos': 164,\n",
        "  u'strand': u'-',\n",
        "  u'value': 5.0},\n",
        " {u'_id': ObjectId('537e869f41f33db3cff903c2'),\n",
        "  u'data_set_id': 5,\n",
        "  u'leftpos': 181,\n",
        "  u'rightpos': 181,\n",
        "  u'strand': u'-',\n",
        "  u'value': 7.0},\n",
        " {u'_id': ObjectId('537e869f41f33db3cff903c3'),\n",
        "  u'data_set_id': 5,\n",
        "  u'leftpos': 186,\n",
        "  u'rightpos': 186,\n",
        "  u'strand': u'-',\n",
        "  u'value': 7.0},\n",
        " {u'_id': ObjectId('537e869c41f33db3cff7d147'),\n",
        "  u'data_set_id': 5,\n",
        "  u'leftpos': 197,\n",
        "  u'rightpos': 197,\n",
        "  u'strand': u'+',\n",
        "  u'value': 6.0},\n",
        " {u'_id': ObjectId('537e869f41f33db3cff903c4'),\n",
        "  u'data_set_id': 5,\n",
        "  u'leftpos': 199,\n",
        "  u'rightpos': 199,\n",
        "  u'strand': u'-',\n",
        "  u'value': 5.0},\n",
        " {u'_id': ObjectId('537e869f41f33db3cff903c5'),\n",
        "  u'data_set_id': 5,\n",
        "  u'leftpos': 210,\n",
        "  u'rightpos': 210,\n",
        "  u'strand': u'-',\n",
        "  u'value': 5.0},\n",
        " {u'_id': ObjectId('537e869c41f33db3cff7d148'),\n",
        "  u'data_set_id': 5,\n",
        "  u'leftpos': 232,\n",
        "  u'rightpos': 232,\n",
        "  u'strand': u'+',\n",
        "  u'value': 5.0},\n",
        " {u'_id': ObjectId('537e869c41f33db3cff7d149'),\n",
        "  u'data_set_id': 5,\n",
        "  u'leftpos': 234,\n",
        "  u'rightpos': 234,\n",
        "  u'strand': u'+',\n",
        "  u'value': 7.0},\n",
        " {u'_id': ObjectId('537e869f41f33db3cff903c6'),\n",
        "  u'data_set_id': 5,\n",
        "  u'leftpos': 234,\n",
        "  u'rightpos': 234,\n",
        "  u'strand': u'-',\n",
        "  u'value': 5.0},\n",
        " {u'_id': ObjectId('537e869f41f33db3cff903c7'),\n",
        "  u'data_set_id': 5,\n",
        "  u'leftpos': 239,\n",
        "  u'rightpos': 239,\n",
        "  u'strand': u'-',\n",
        "  u'value': 5.0},\n",
        " {u'_id': ObjectId('537e869f41f33db3cff903c8'),\n",
        "  u'data_set_id': 5,\n",
        "  u'leftpos': 249,\n",
        "  u'rightpos': 249,\n",
        "  u'strand': u'-',\n",
        "  u'value': 7.0},\n",
        " {u'_id': ObjectId('537e869f41f33db3cff903c9'),\n",
        "  u'data_set_id': 5,\n",
        "  u'leftpos': 258,\n",
        "  u'rightpos': 258,\n",
        "  u'strand': u'-',\n",
        "  u'value': 7.0},\n",
        " {u'_id': ObjectId('537e869f41f33db3cff903ca'),\n",
        "  u'data_set_id': 5,\n",
        "  u'leftpos': 259,\n",
        "  u'rightpos': 259,\n",
        "  u'strand': u'-',\n",
        "  u'value': 15.0},\n",
        " {u'_id': ObjectId('537e869f41f33db3cff903cb'),\n",
        "  u'data_set_id': 5,\n",
        "  u'leftpos': 263,\n",
        "  u'rightpos': 263,\n",
        "  u'strand': u'-',\n",
        "  u'value': 8.0},\n",
        " {u'_id': ObjectId('537e869f41f33db3cff903cc'),\n",
        "  u'data_set_id': 5,\n",
        "  u'leftpos': 269,\n",
        "  u'rightpos': 269,\n",
        "  u'strand': u'-',\n",
        "  u'value': 6.0},\n",
        " {u'_id': ObjectId('537e869f41f33db3cff903cd'),\n",
        "  u'data_set_id': 5,\n",
        "  u'leftpos': 272,\n",
        "  u'rightpos': 272,\n",
        "  u'strand': u'-',\n",
        "  u'value': 6.0},\n",
        " {u'_id': ObjectId('537e869f41f33db3cff903ce'),\n",
        "  u'data_set_id': 5,\n",
        "  u'leftpos': 275,\n",
        "  u'rightpos': 275,\n",
        "  u'strand': u'-',\n",
        "  u'value': 5.0},\n",
        " {u'_id': ObjectId('537e869f41f33db3cff903cf'),\n",
        "  u'data_set_id': 5,\n",
        "  u'leftpos': 282,\n",
        "  u'rightpos': 282,\n",
        "  u'strand': u'-',\n",
        "  u'value': 9.0},\n",
        " {u'_id': ObjectId('537e869f41f33db3cff903d0'),\n",
        "  u'data_set_id': 5,\n",
        "  u'leftpos': 283,\n",
        "  u'rightpos': 283,\n",
        "  u'strand': u'-',\n",
        "  u'value': 8.0},\n",
        " {u'_id': ObjectId('537e869f41f33db3cff903d1'),\n",
        "  u'data_set_id': 5,\n",
        "  u'leftpos': 284,\n",
        "  u'rightpos': 284,\n",
        "  u'strand': u'-',\n",
        "  u'value': 16.0},\n",
        " {u'_id': ObjectId('537e869f41f33db3cff903d2'),\n",
        "  u'data_set_id': 5,\n",
        "  u'leftpos': 298,\n",
        "  u'rightpos': 298,\n",
        "  u'strand': u'-',\n",
        "  u'value': 6.0},\n",
        " {u'_id': ObjectId('537e869f41f33db3cff903d3'),\n",
        "  u'data_set_id': 5,\n",
        "  u'leftpos': 300,\n",
        "  u'rightpos': 300,\n",
        "  u'strand': u'-',\n",
        "  u'value': 7.0},\n",
        " {u'_id': ObjectId('537e869f41f33db3cff903d4'),\n",
        "  u'data_set_id': 5,\n",
        "  u'leftpos': 311,\n",
        "  u'rightpos': 311,\n",
        "  u'strand': u'-',\n",
        "  u'value': 6.0},\n",
        " {u'_id': ObjectId('537e869c41f33db3cff7d14a'),\n",
        "  u'data_set_id': 5,\n",
        "  u'leftpos': 313,\n",
        "  u'rightpos': 313,\n",
        "  u'strand': u'+',\n",
        "  u'value': 5.0},\n",
        " {u'_id': ObjectId('537e869c41f33db3cff7d14b'),\n",
        "  u'data_set_id': 5,\n",
        "  u'leftpos': 319,\n",
        "  u'rightpos': 319,\n",
        "  u'strand': u'+',\n",
        "  u'value': 6.0},\n",
        " {u'_id': ObjectId('537e869f41f33db3cff903d5'),\n",
        "  u'data_set_id': 5,\n",
        "  u'leftpos': 321,\n",
        "  u'rightpos': 321,\n",
        "  u'strand': u'-',\n",
        "  u'value': 6.0},\n",
        " {u'_id': ObjectId('537e869c41f33db3cff7d14c'),\n",
        "  u'data_set_id': 5,\n",
        "  u'leftpos': 329,\n",
        "  u'rightpos': 329,\n",
        "  u'strand': u'+',\n",
        "  u'value': 9.0},\n",
        " {u'_id': ObjectId('537e869c41f33db3cff7d14d'),\n",
        "  u'data_set_id': 5,\n",
        "  u'leftpos': 379,\n",
        "  u'rightpos': 379,\n",
        "  u'strand': u'+',\n",
        "  u'value': 9.0},\n",
        " {u'_id': ObjectId('537e869c41f33db3cff7d14e'),\n",
        "  u'data_set_id': 5,\n",
        "  u'leftpos': 417,\n",
        "  u'rightpos': 417,\n",
        "  u'strand': u'+',\n",
        "  u'value': 5.0},\n",
        " {u'_id': ObjectId('537e869c41f33db3cff7d14f'),\n",
        "  u'data_set_id': 5,\n",
        "  u'leftpos': 437,\n",
        "  u'rightpos': 437,\n",
        "  u'strand': u'+',\n",
        "  u'value': 5.0},\n",
        " {u'_id': ObjectId('537e869c41f33db3cff7d150'),\n",
        "  u'data_set_id': 5,\n",
        "  u'leftpos': 457,\n",
        "  u'rightpos': 457,\n",
        "  u'strand': u'+',\n",
        "  u'value': 6.0},\n",
        " {u'_id': ObjectId('537e869c41f33db3cff7d151'),\n",
        "  u'data_set_id': 5,\n",
        "  u'leftpos': 509,\n",
        "  u'rightpos': 509,\n",
        "  u'strand': u'+',\n",
        "  u'value': 11.0},\n",
        " {u'_id': ObjectId('537e869c41f33db3cff7d152'),\n",
        "  u'data_set_id': 5,\n",
        "  u'leftpos': 549,\n",
        "  u'rightpos': 549,\n",
        "  u'strand': u'+',\n",
        "  u'value': 10.0},\n",
        " {u'_id': ObjectId('537e869f41f33db3cff903d6'),\n",
        "  u'data_set_id': 5,\n",
        "  u'leftpos': 553,\n",
        "  u'rightpos': 553,\n",
        "  u'strand': u'-',\n",
        "  u'value': 5.0},\n",
        " {u'_id': ObjectId('537e869f41f33db3cff903d7'),\n",
        "  u'data_set_id': 5,\n",
        "  u'leftpos': 599,\n",
        "  u'rightpos': 599,\n",
        "  u'strand': u'-',\n",
        "  u'value': 5.0},\n",
        " {u'_id': ObjectId('537e869f41f33db3cff903d8'),\n",
        "  u'data_set_id': 5,\n",
        "  u'leftpos': 611,\n",
        "  u'rightpos': 611,\n",
        "  u'strand': u'-',\n",
        "  u'value': 5.0},\n",
        " {u'_id': ObjectId('537e869c41f33db3cff7d153'),\n",
        "  u'data_set_id': 5,\n",
        "  u'leftpos': 617,\n",
        "  u'rightpos': 617,\n",
        "  u'strand': u'+',\n",
        "  u'value': 5.0},\n",
        " {u'_id': ObjectId('537e869f41f33db3cff903d9'),\n",
        "  u'data_set_id': 5,\n",
        "  u'leftpos': 629,\n",
        "  u'rightpos': 629,\n",
        "  u'strand': u'-',\n",
        "  u'value': 5.0},\n",
        " {u'_id': ObjectId('537e869c41f33db3cff7d154'),\n",
        "  u'data_set_id': 5,\n",
        "  u'leftpos': 657,\n",
        "  u'rightpos': 657,\n",
        "  u'strand': u'+',\n",
        "  u'value': 5.0},\n",
        " {u'_id': ObjectId('537e869f41f33db3cff903da'),\n",
        "  u'data_set_id': 5,\n",
        "  u'leftpos': 715,\n",
        "  u'rightpos': 715,\n",
        "  u'strand': u'-',\n",
        "  u'value': 6.0},\n",
        " {u'_id': ObjectId('537e869c41f33db3cff7d155'),\n",
        "  u'data_set_id': 5,\n",
        "  u'leftpos': 744,\n",
        "  u'rightpos': 744,\n",
        "  u'strand': u'+',\n",
        "  u'value': 7.0},\n",
        " {u'_id': ObjectId('537e869f41f33db3cff903db'),\n",
        "  u'data_set_id': 5,\n",
        "  u'leftpos': 790,\n",
        "  u'rightpos': 790,\n",
        "  u'strand': u'-',\n",
        "  u'value': 10.0},\n",
        " {u'_id': ObjectId('537e869f41f33db3cff903dc'),\n",
        "  u'data_set_id': 5,\n",
        "  u'leftpos': 795,\n",
        "  u'rightpos': 795,\n",
        "  u'strand': u'-',\n",
        "  u'value': 5.0},\n",
        " {u'_id': ObjectId('537e869f41f33db3cff903dd'),\n",
        "  u'data_set_id': 5,\n",
        "  u'leftpos': 800,\n",
        "  u'rightpos': 800,\n",
        "  u'strand': u'-',\n",
        "  u'value': 8.0},\n",
        " {u'_id': ObjectId('537e869c41f33db3cff7d156'),\n",
        "  u'data_set_id': 5,\n",
        "  u'leftpos': 806,\n",
        "  u'rightpos': 806,\n",
        "  u'strand': u'+',\n",
        "  u'value': 5.0},\n",
        " {u'_id': ObjectId('537e869c41f33db3cff7d157'),\n",
        "  u'data_set_id': 5,\n",
        "  u'leftpos': 874,\n",
        "  u'rightpos': 874,\n",
        "  u'strand': u'+',\n",
        "  u'value': 5.0},\n",
        " {u'_id': ObjectId('537e869c41f33db3cff7d158'),\n",
        "  u'data_set_id': 5,\n",
        "  u'leftpos': 934,\n",
        "  u'rightpos': 934,\n",
        "  u'strand': u'+',\n",
        "  u'value': 6.0},\n",
        " {u'_id': ObjectId('537e869c41f33db3cff7d159'),\n",
        "  u'data_set_id': 5,\n",
        "  u'leftpos': 941,\n",
        "  u'rightpos': 941,\n",
        "  u'strand': u'+',\n",
        "  u'value': 5.0},\n",
        " {u'_id': ObjectId('537e869c41f33db3cff7d15a'),\n",
        "  u'data_set_id': 5,\n",
        "  u'leftpos': 951,\n",
        "  u'rightpos': 951,\n",
        "  u'strand': u'+',\n",
        "  u'value': 8.0},\n",
        " {u'_id': ObjectId('537e869c41f33db3cff7d15b'),\n",
        "  u'data_set_id': 5,\n",
        "  u'leftpos': 957,\n",
        "  u'rightpos': 957,\n",
        "  u'strand': u'+',\n",
        "  u'value': 9.0},\n",
        " {u'_id': ObjectId('537e869c41f33db3cff7d15c'),\n",
        "  u'data_set_id': 5,\n",
        "  u'leftpos': 963,\n",
        "  u'rightpos': 963,\n",
        "  u'strand': u'+',\n",
        "  u'value': 7.0},\n",
        " {u'_id': ObjectId('537e869c41f33db3cff7d15d'),\n",
        "  u'data_set_id': 5,\n",
        "  u'leftpos': 972,\n",
        "  u'rightpos': 972,\n",
        "  u'strand': u'+',\n",
        "  u'value': 5.0},\n",
        " {u'_id': ObjectId('537e869f41f33db3cff903de'),\n",
        "  u'data_set_id': 5,\n",
        "  u'leftpos': 982,\n",
        "  u'rightpos': 982,\n",
        "  u'strand': u'-',\n",
        "  u'value': 5.0},\n",
        " {u'_id': ObjectId('537e869f41f33db3cff903df'),\n",
        "  u'data_set_id': 5,\n",
        "  u'leftpos': 1009,\n",
        "  u'rightpos': 1009,\n",
        "  u'strand': u'-',\n",
        "  u'value': 9.0},\n",
        " {u'_id': ObjectId('537e869c41f33db3cff7d15e'),\n",
        "  u'data_set_id': 5,\n",
        "  u'leftpos': 1064,\n",
        "  u'rightpos': 1064,\n",
        "  u'strand': u'+',\n",
        "  u'value': 7.0},\n",
        " {u'_id': ObjectId('537e869f41f33db3cff903e0'),\n",
        "  u'data_set_id': 5,\n",
        "  u'leftpos': 1117,\n",
        "  u'rightpos': 1117,\n",
        "  u'strand': u'-',\n",
        "  u'value': 5.0},\n",
        " {u'_id': ObjectId('537e869f41f33db3cff903e1'),\n",
        "  u'data_set_id': 5,\n",
        "  u'leftpos': 1134,\n",
        "  u'rightpos': 1134,\n",
        "  u'strand': u'-',\n",
        "  u'value': 6.0},\n",
        " {u'_id': ObjectId('537e869c41f33db3cff7d15f'),\n",
        "  u'data_set_id': 5,\n",
        "  u'leftpos': 1203,\n",
        "  u'rightpos': 1203,\n",
        "  u'strand': u'+',\n",
        "  u'value': 5.0},\n",
        " {u'_id': ObjectId('537e869f41f33db3cff903e2'),\n",
        "  u'data_set_id': 5,\n",
        "  u'leftpos': 1206,\n",
        "  u'rightpos': 1206,\n",
        "  u'strand': u'-',\n",
        "  u'value': 5.0},\n",
        " {u'_id': ObjectId('537e869f41f33db3cff903e3'),\n",
        "  u'data_set_id': 5,\n",
        "  u'leftpos': 1370,\n",
        "  u'rightpos': 1370,\n",
        "  u'strand': u'-',\n",
        "  u'value': 5.0},\n",
        " {u'_id': ObjectId('537e869f41f33db3cff903e4'),\n",
        "  u'data_set_id': 5,\n",
        "  u'leftpos': 1386,\n",
        "  u'rightpos': 1386,\n",
        "  u'strand': u'-',\n",
        "  u'value': 5.0},\n",
        " {u'_id': ObjectId('537e869c41f33db3cff7d160'),\n",
        "  u'data_set_id': 5,\n",
        "  u'leftpos': 1416,\n",
        "  u'rightpos': 1416,\n",
        "  u'strand': u'+',\n",
        "  u'value': 6.0},\n",
        " {u'_id': ObjectId('537e869f41f33db3cff903e5'),\n",
        "  u'data_set_id': 5,\n",
        "  u'leftpos': 1425,\n",
        "  u'rightpos': 1425,\n",
        "  u'strand': u'-',\n",
        "  u'value': 6.0},\n",
        " {u'_id': ObjectId('537e869f41f33db3cff903e6'),\n",
        "  u'data_set_id': 5,\n",
        "  u'leftpos': 1436,\n",
        "  u'rightpos': 1436,\n",
        "  u'strand': u'-',\n",
        "  u'value': 7.0},\n",
        " {u'_id': ObjectId('537e869f41f33db3cff903e7'),\n",
        "  u'data_set_id': 5,\n",
        "  u'leftpos': 1459,\n",
        "  u'rightpos': 1459,\n",
        "  u'strand': u'-',\n",
        "  u'value': 5.0},\n",
        " {u'_id': ObjectId('537e869c41f33db3cff7d161'),\n",
        "  u'data_set_id': 5,\n",
        "  u'leftpos': 1488,\n",
        "  u'rightpos': 1488,\n",
        "  u'strand': u'+',\n",
        "  u'value': 5.0},\n",
        " {u'_id': ObjectId('537e869f41f33db3cff903e8'),\n",
        "  u'data_set_id': 5,\n",
        "  u'leftpos': 1490,\n",
        "  u'rightpos': 1490,\n",
        "  u'strand': u'-',\n",
        "  u'value': 8.0},\n",
        " {u'_id': ObjectId('537e869f41f33db3cff903e9'),\n",
        "  u'data_set_id': 5,\n",
        "  u'leftpos': 1517,\n",
        "  u'rightpos': 1517,\n",
        "  u'strand': u'-',\n",
        "  u'value': 5.0},\n",
        " {u'_id': ObjectId('537e869f41f33db3cff903ea'),\n",
        "  u'data_set_id': 5,\n",
        "  u'leftpos': 1521,\n",
        "  u'rightpos': 1521,\n",
        "  u'strand': u'-',\n",
        "  u'value': 5.0},\n",
        " {u'_id': ObjectId('537e869f41f33db3cff903eb'),\n",
        "  u'data_set_id': 5,\n",
        "  u'leftpos': 1567,\n",
        "  u'rightpos': 1567,\n",
        "  u'strand': u'-',\n",
        "  u'value': 7.0},\n",
        " {u'_id': ObjectId('537e869c41f33db3cff7d162'),\n",
        "  u'data_set_id': 5,\n",
        "  u'leftpos': 1574,\n",
        "  u'rightpos': 1574,\n",
        "  u'strand': u'+',\n",
        "  u'value': 6.0},\n",
        " {u'_id': ObjectId('537e869c41f33db3cff7d163'),\n",
        "  u'data_set_id': 5,\n",
        "  u'leftpos': 1583,\n",
        "  u'rightpos': 1583,\n",
        "  u'strand': u'+',\n",
        "  u'value': 5.0},\n",
        " {u'_id': ObjectId('537e869f41f33db3cff903ec'),\n",
        "  u'data_set_id': 5,\n",
        "  u'leftpos': 1585,\n",
        "  u'rightpos': 1585,\n",
        "  u'strand': u'-',\n",
        "  u'value': 5.0},\n",
        " {u'_id': ObjectId('537e869f41f33db3cff903ed'),\n",
        "  u'data_set_id': 5,\n",
        "  u'leftpos': 1601,\n",
        "  u'rightpos': 1601,\n",
        "  u'strand': u'-',\n",
        "  u'value': 5.0},\n",
        " {u'_id': ObjectId('537e869f41f33db3cff903ee'),\n",
        "  u'data_set_id': 5,\n",
        "  u'leftpos': 1616,\n",
        "  u'rightpos': 1616,\n",
        "  u'strand': u'-',\n",
        "  u'value': 12.0},\n",
        " {u'_id': ObjectId('537e869f41f33db3cff903ef'),\n",
        "  u'data_set_id': 5,\n",
        "  u'leftpos': 1617,\n",
        "  u'rightpos': 1617,\n",
        "  u'strand': u'-',\n",
        "  u'value': 5.0},\n",
        " {u'_id': ObjectId('537e869c41f33db3cff7d164'),\n",
        "  u'data_set_id': 5,\n",
        "  u'leftpos': 1645,\n",
        "  u'rightpos': 1645,\n",
        "  u'strand': u'+',\n",
        "  u'value': 9.0},\n",
        " {u'_id': ObjectId('537e869f41f33db3cff903f0'),\n",
        "  u'data_set_id': 5,\n",
        "  u'leftpos': 1696,\n",
        "  u'rightpos': 1696,\n",
        "  u'strand': u'-',\n",
        "  u'value': 7.0},\n",
        " {u'_id': ObjectId('537e869c41f33db3cff7d165'),\n",
        "  u'data_set_id': 5,\n",
        "  u'leftpos': 1723,\n",
        "  u'rightpos': 1723,\n",
        "  u'strand': u'+',\n",
        "  u'value': 11.0},\n",
        " {u'_id': ObjectId('537e869f41f33db3cff903f1'),\n",
        "  u'data_set_id': 5,\n",
        "  u'leftpos': 1784,\n",
        "  u'rightpos': 1784,\n",
        "  u'strand': u'-',\n",
        "  u'value': 8.0},\n",
        " {u'_id': ObjectId('537e869c41f33db3cff7d166'),\n",
        "  u'data_set_id': 5,\n",
        "  u'leftpos': 1788,\n",
        "  u'rightpos': 1788,\n",
        "  u'strand': u'+',\n",
        "  u'value': 6.0},\n",
        " {u'_id': ObjectId('537e869c41f33db3cff7d167'),\n",
        "  u'data_set_id': 5,\n",
        "  u'leftpos': 1840,\n",
        "  u'rightpos': 1840,\n",
        "  u'strand': u'+',\n",
        "  u'value': 5.0},\n",
        " {u'_id': ObjectId('537e869f41f33db3cff903f2'),\n",
        "  u'data_set_id': 5,\n",
        "  u'leftpos': 1862,\n",
        "  u'rightpos': 1862,\n",
        "  u'strand': u'-',\n",
        "  u'value': 6.0},\n",
        " {u'_id': ObjectId('537e869c41f33db3cff7d168'),\n",
        "  u'data_set_id': 5,\n",
        "  u'leftpos': 1920,\n",
        "  u'rightpos': 1920,\n",
        "  u'strand': u'+',\n",
        "  u'value': 8.0},\n",
        " {u'_id': ObjectId('537e869c41f33db3cff7d169'),\n",
        "  u'data_set_id': 5,\n",
        "  u'leftpos': 1925,\n",
        "  u'rightpos': 1925,\n",
        "  u'strand': u'+',\n",
        "  u'value': 8.0},\n",
        " {u'_id': ObjectId('537e869f41f33db3cff903f3'),\n",
        "  u'data_set_id': 5,\n",
        "  u'leftpos': 1963,\n",
        "  u'rightpos': 1963,\n",
        "  u'strand': u'-',\n",
        "  u'value': 6.0},\n",
        " {u'_id': ObjectId('537e869f41f33db3cff903f4'),\n",
        "  u'data_set_id': 5,\n",
        "  u'leftpos': 1990,\n",
        "  u'rightpos': 1990,\n",
        "  u'strand': u'-',\n",
        "  u'value': 6.0},\n",
        " {u'_id': ObjectId('537e869f41f33db3cff903f5'),\n",
        "  u'data_set_id': 5,\n",
        "  u'leftpos': 2013,\n",
        "  u'rightpos': 2013,\n",
        "  u'strand': u'-',\n",
        "  u'value': 5.0},\n",
        " {u'_id': ObjectId('537e869f41f33db3cff903f6'),\n",
        "  u'data_set_id': 5,\n",
        "  u'leftpos': 2054,\n",
        "  u'rightpos': 2054,\n",
        "  u'strand': u'-',\n",
        "  u'value': 6.0},\n",
        " {u'_id': ObjectId('537e869c41f33db3cff7d16a'),\n",
        "  u'data_set_id': 5,\n",
        "  u'leftpos': 2060,\n",
        "  u'rightpos': 2060,\n",
        "  u'strand': u'+',\n",
        "  u'value': 5.0},\n",
        " {u'_id': ObjectId('537e869c41f33db3cff7d16b'),\n",
        "  u'data_set_id': 5,\n",
        "  u'leftpos': 2085,\n",
        "  u'rightpos': 2085,\n",
        "  u'strand': u'+',\n",
        "  u'value': 10.0},\n",
        " {u'_id': ObjectId('537e869c41f33db3cff7d16c'),\n",
        "  u'data_set_id': 5,\n",
        "  u'leftpos': 2103,\n",
        "  u'rightpos': 2103,\n",
        "  u'strand': u'+',\n",
        "  u'value': 6.0},\n",
        " {u'_id': ObjectId('537e869f41f33db3cff903f7'),\n",
        "  u'data_set_id': 5,\n",
        "  u'leftpos': 2110,\n",
        "  u'rightpos': 2110,\n",
        "  u'strand': u'-',\n",
        "  u'value': 5.0},\n",
        " {u'_id': ObjectId('537e869f41f33db3cff903f8'),\n",
        "  u'data_set_id': 5,\n",
        "  u'leftpos': 2138,\n",
        "  u'rightpos': 2138,\n",
        "  u'strand': u'-',\n",
        "  u'value': 6.0},\n",
        " {u'_id': ObjectId('537e869c41f33db3cff7d16d'),\n",
        "  u'data_set_id': 5,\n",
        "  u'leftpos': 2166,\n",
        "  u'rightpos': 2166,\n",
        "  u'strand': u'+',\n",
        "  u'value': 5.0},\n",
        " {u'_id': ObjectId('537e869f41f33db3cff903f9'),\n",
        "  u'data_set_id': 5,\n",
        "  u'leftpos': 2190,\n",
        "  u'rightpos': 2190,\n",
        "  u'strand': u'-',\n",
        "  u'value': 5.0},\n",
        " {u'_id': ObjectId('537e869c41f33db3cff7d16e'),\n",
        "  u'data_set_id': 5,\n",
        "  u'leftpos': 2191,\n",
        "  u'rightpos': 2191,\n",
        "  u'strand': u'+',\n",
        "  u'value': 6.0},\n",
        " {u'_id': ObjectId('537e869c41f33db3cff7d16f'),\n",
        "  u'data_set_id': 5,\n",
        "  u'leftpos': 2315,\n",
        "  u'rightpos': 2315,\n",
        "  u'strand': u'+',\n",
        "  u'value': 9.0},\n",
        " {u'_id': ObjectId('537e869f41f33db3cff903fa'),\n",
        "  u'data_set_id': 5,\n",
        "  u'leftpos': 2362,\n",
        "  u'rightpos': 2362,\n",
        "  u'strand': u'-',\n",
        "  u'value': 7.0},\n",
        " {u'_id': ObjectId('537e869f41f33db3cff903fb'),\n",
        "  u'data_set_id': 5,\n",
        "  u'leftpos': 2466,\n",
        "  u'rightpos': 2466,\n",
        "  u'strand': u'-',\n",
        "  u'value': 6.0},\n",
        " {u'_id': ObjectId('537e869f41f33db3cff903fc'),\n",
        "  u'data_set_id': 5,\n",
        "  u'leftpos': 2467,\n",
        "  u'rightpos': 2467,\n",
        "  u'strand': u'-',\n",
        "  u'value': 5.0},\n",
        " {u'_id': ObjectId('537e869f41f33db3cff903fd'),\n",
        "  u'data_set_id': 5,\n",
        "  u'leftpos': 2505,\n",
        "  u'rightpos': 2505,\n",
        "  u'strand': u'-',\n",
        "  u'value': 5.0},\n",
        " {u'_id': ObjectId('537e869c41f33db3cff7d170'),\n",
        "  u'data_set_id': 5,\n",
        "  u'leftpos': 2523,\n",
        "  u'rightpos': 2523,\n",
        "  u'strand': u'+',\n",
        "  u'value': 5.0},\n",
        " {u'_id': ObjectId('537e869c41f33db3cff7d171'),\n",
        "  u'data_set_id': 5,\n",
        "  u'leftpos': 2530,\n",
        "  u'rightpos': 2530,\n",
        "  u'strand': u'+',\n",
        "  u'value': 6.0},\n",
        " {u'_id': ObjectId('537e869c41f33db3cff7d172'),\n",
        "  u'data_set_id': 5,\n",
        "  u'leftpos': 2566,\n",
        "  u'rightpos': 2566,\n",
        "  u'strand': u'+',\n",
        "  u'value': 9.0},\n",
        " {u'_id': ObjectId('537e869c41f33db3cff7d173'),\n",
        "  u'data_set_id': 5,\n",
        "  u'leftpos': 2575,\n",
        "  u'rightpos': 2575,\n",
        "  u'strand': u'+',\n",
        "  u'value': 5.0},\n",
        " {u'_id': ObjectId('537e869c41f33db3cff7d174'),\n",
        "  u'data_set_id': 5,\n",
        "  u'leftpos': 2636,\n",
        "  u'rightpos': 2636,\n",
        "  u'strand': u'+',\n",
        "  u'value': 10.0},\n",
        " {u'_id': ObjectId('537e869c41f33db3cff7d175'),\n",
        "  u'data_set_id': 5,\n",
        "  u'leftpos': 2653,\n",
        "  u'rightpos': 2653,\n",
        "  u'strand': u'+',\n",
        "  u'value': 5.0},\n",
        " {u'_id': ObjectId('537e869f41f33db3cff903fe'),\n",
        "  u'data_set_id': 5,\n",
        "  u'leftpos': 2683,\n",
        "  u'rightpos': 2683,\n",
        "  u'strand': u'-',\n",
        "  u'value': 8.0},\n",
        " {u'_id': ObjectId('537e869c41f33db3cff7d176'),\n",
        "  u'data_set_id': 5,\n",
        "  u'leftpos': 2720,\n",
        "  u'rightpos': 2720,\n",
        "  u'strand': u'+',\n",
        "  u'value': 10.0},\n",
        " {u'_id': ObjectId('537e869f41f33db3cff903ff'),\n",
        "  u'data_set_id': 5,\n",
        "  u'leftpos': 2754,\n",
        "  u'rightpos': 2754,\n",
        "  u'strand': u'-',\n",
        "  u'value': 5.0},\n",
        " {u'_id': ObjectId('537e869f41f33db3cff90400'),\n",
        "  u'data_set_id': 5,\n",
        "  u'leftpos': 2797,\n",
        "  u'rightpos': 2797,\n",
        "  u'strand': u'-',\n",
        "  u'value': 5.0},\n",
        " {u'_id': ObjectId('537e869f41f33db3cff90401'),\n",
        "  u'data_set_id': 5,\n",
        "  u'leftpos': 2848,\n",
        "  u'rightpos': 2848,\n",
        "  u'strand': u'-',\n",
        "  u'value': 5.0},\n",
        " {u'_id': ObjectId('537e869f41f33db3cff90402'),\n",
        "  u'data_set_id': 5,\n",
        "  u'leftpos': 2962,\n",
        "  u'rightpos': 2962,\n",
        "  u'strand': u'-',\n",
        "  u'value': 5.0}]"
       ]
      }
     ],
     "prompt_number": 9
    },
    {
     "cell_type": "code",
     "collapsed": false,
     "input": [],
     "language": "python",
     "metadata": {},
     "outputs": []
    }
   ],
   "metadata": {}
  }
 ]
}