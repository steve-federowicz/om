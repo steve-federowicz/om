{
 "metadata": {
  "name": "",
  "signature": "sha256:0eda05c1d564ca346168e3200452a6c980174e95fc096843847ee7c8648c77d2"
 },
 "nbformat": 3,
 "nbformat_minor": 0,
 "worksheets": [
  {
   "cells": [
    {
     "cell_type": "code",
     "collapsed": false,
     "input": [],
     "language": "python",
     "metadata": {},
     "outputs": []
    }
   ],
   "metadata": {}
  }
 ]
}