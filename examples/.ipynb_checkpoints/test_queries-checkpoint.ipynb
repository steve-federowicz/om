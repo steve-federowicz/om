{
 "metadata": {
  "name": "",
  "signature": "sha256:4ba5139e8166f67b3e05647ec9f9c2d7244a9290e7fac07179d36094f65ad61c"
 },
 "nbformat": 3,
 "nbformat_minor": 0,
 "worksheets": [
  {
   "cells": [
    {
     "cell_type": "code",
     "collapsed": false,
     "input": [
      "from om import base, settings\n",
      "from om.data import *\n",
      "from om.components import *\n",
      "\n",
      "from IPython.display import HTML\n",
      "from matplotlib import pylab as plt\n",
      "\n",
      "from math import log\n",
      "from itertools import combinations\n",
      "import pandas as pd\n",
      "\n",
      "ome = base.Session()\n",
      "genome_data = omics_database.genome_data\n",
      "%matplotlib inline"
     ],
     "language": "python",
     "metadata": {},
     "outputs": [],
     "prompt_number": 1
    },
    {
     "cell_type": "code",
     "collapsed": false,
     "input": [
      "with open('/Volumes/extra/Dropbox/crp/data/annotation/ecocyc_tu.gff','wb') as tu_file:\n",
      "    for tu in ome.query(TU).all():\n",
      "        tu_file.write('%s\\t%s\\t%s\\t%s\\t%s\\t%s\\t%s\\t%s\\t%s\\n' % \n",
      "                      ('NC_000913','ecocyc_TUs', 'transcript', tu.genome_region.leftpos,\n",
      "                       tu.genome_region.rightpos, '.', tu.genome_region.strand, '.', tu.name))"
     ],
     "language": "python",
     "metadata": {},
     "outputs": [],
     "prompt_number": 10
    },
    {
     "cell_type": "code",
     "collapsed": false,
     "input": [
      "ome.query(RNASeqExperiment).all()"
     ],
     "language": "python",
     "metadata": {},
     "outputs": [
      {
       "metadata": {},
       "output_type": "pyout",
       "prompt_number": 2,
       "text": [
        "[RNASeqExperiment (#97, RNAseq_Ar3_glycerol_NH4Cl_O2_1_1.0):  1,\n",
        " RNASeqExperiment (#98, RNAseq_Ar3_glycerol_NH4Cl_O2_2_1.0):  2,\n",
        " RNASeqExperiment (#99, RNAseq_Ar3_glycerol_NH4Cl_O2_3_1.0):  3,\n",
        " RNASeqExperiment (#100, RNAseq_bw25113_acetate_NH4Cl_O2_1_thiamine_1.0):  1,\n",
        " RNASeqExperiment (#101, RNAseq_bw25113_acetate_NH4Cl_O2_2_thiamine_1.0):  2,\n",
        " RNASeqExperiment (#102, RNAseq_bw25113_fumarate_NH4Cl_O2_1_thiamine_1.0):  1,\n",
        " RNASeqExperiment (#103, RNAseq_bw25113_fumarate_NH4Cl_O2_2_thiamine_1.0):  2,\n",
        " RNASeqExperiment (#104, RNAseq_bw25113_glutamine_NH4Cl_O2_1_thiamine_1.0):  1,\n",
        " RNASeqExperiment (#105, RNAseq_bw25113_glutamine_NH4Cl_O2_2_thiamine_1.0):  2,\n",
        " RNASeqExperiment (#106, RNAseq_bw25113_pyruvate_NH4Cl_O2_1_thiamine_1.0):  1,\n",
        " RNASeqExperiment (#107, RNAseq_bw25113_pyruvate_NH4Cl_O2_2_thiamine_1.0):  2,\n",
        " RNASeqExperiment (#108, RNAseq_delAr1_glycerol_NH4Cl_O2_1_1.0):  1,\n",
        " RNASeqExperiment (#109, RNAseq_delAr1_glycerol_NH4Cl_O2_2_1.0):  2,\n",
        " RNASeqExperiment (#110, RNAseq_delAr1_glycerol_NH4Cl_O2_3_1.0):  3,\n",
        " RNASeqExperiment (#111, RNAseq_delAr1delAr2_glycerol_NH4Cl_O2_1_1.0):  1,\n",
        " RNASeqExperiment (#112, RNAseq_delAr1delAr2_glycerol_NH4Cl_O2_2_1.0):  2,\n",
        " RNASeqExperiment (#113, RNAseq_delAr1delAr2_glycerol_NH4Cl_O2_3_1.0):  3,\n",
        " RNASeqExperiment (#114, RNAseq_delAr2_glycerol_NH4Cl_O2_1_1.0):  1,\n",
        " RNASeqExperiment (#115, RNAseq_delAr2_glycerol_NH4Cl_O2_2_1.0):  2,\n",
        " RNASeqExperiment (#116, RNAseq_delAr2_glycerol_NH4Cl_O2_3_1.0):  3,\n",
        " RNASeqExperiment (#117, RNAseq_delfur_glucose_NH4Cl_O2_1_dpd_1.0):  1,\n",
        " RNASeqExperiment (#118, RNAseq_delfur_glucose_NH4Cl_O2_1_FeCl2_1.0):  1,\n",
        " RNASeqExperiment (#119, RNAseq_delfur_glucose_NH4Cl_O2_2_dpd_1.0):  2,\n",
        " RNASeqExperiment (#120, RNAseq_delfur_glucose_NH4Cl_O2_2_FeCl2_1.0):  2,\n",
        " RNASeqExperiment (#121, RNAseq_delta-crp_fructose_NH4Cl_O2_1_1.0):  1,\n",
        " RNASeqExperiment (#122, RNAseq_delta-crp_fructose_NH4Cl_O2_2_1.0):  2,\n",
        " RNASeqExperiment (#123, RNAseq_delta-crp_fructose_NH4Cl_O2_3_1.0):  3,\n",
        " RNASeqExperiment (#124, RNAseq_delta-crp_glucose_NH4Cl_O2_1_1.0):  1,\n",
        " RNASeqExperiment (#125, RNAseq_delta-crp_glucose_NH4Cl_O2_2_1.0):  2,\n",
        " RNASeqExperiment (#126, RNAseq_delta-crp_glucose_NH4Cl_O2_3_1.0):  3,\n",
        " RNASeqExperiment (#127, RNAseq_delta-crp_glycerol_NH4Cl_O2_1_1.0):  1,\n",
        " RNASeqExperiment (#128, RNAseq_delta-crp_glycerol_NH4Cl_O2_2_1.0):  2,\n",
        " RNASeqExperiment (#129, RNAseq_delta-crp_glycerol_NH4Cl_O2_3_1.0):  3,\n",
        " RNASeqExperiment (#130, RNAseq_wt_fructose_NH4Cl_O2_1_1.0):  1,\n",
        " RNASeqExperiment (#131, RNAseq_wt_fructose_NH4Cl_O2_2_1.0):  2,\n",
        " RNASeqExperiment (#132, RNAseq_wt_glucose_cytidine_O2_1_1.0):  1,\n",
        " RNASeqExperiment (#133, RNAseq_wt_glucose_cytidine_O2_2_1.0):  2,\n",
        " RNASeqExperiment (#134, RNAseq_wt_glucose_cytosine_O2_1_1.0):  1,\n",
        " RNASeqExperiment (#135, RNAseq_wt_glucose_cytosine_O2_2_1.0):  2,\n",
        " RNASeqExperiment (#136, RNAseq_wt_glucose_glutamine_O2_1_1.0):  1,\n",
        " RNASeqExperiment (#137, RNAseq_wt_glucose_glutamine_O2_2_1.0):  2,\n",
        " RNASeqExperiment (#138, RNAseq_wt_glucose_NH4Cl_O2_1_1.0):  1,\n",
        " RNASeqExperiment (#139, RNAseq_wt_glucose_NH4Cl_O2_1_dpd_1.0):  1,\n",
        " RNASeqExperiment (#140, RNAseq_wt_glucose_NH4Cl_O2_1_FeCl2_1.0):  1,\n",
        " RNASeqExperiment (#141, RNAseq_wt_glucose_NH4Cl_O2_2_1.0):  2,\n",
        " RNASeqExperiment (#142, RNAseq_wt_glucose_NH4Cl_O2_2_dpd_1.0):  2,\n",
        " RNASeqExperiment (#143, RNAseq_wt_glucose_NH4Cl_O2_2_FeCl2_1.0):  2,\n",
        " RNASeqExperiment (#144, RNAseq_wt_glucose_NH4Cl_O2_3_1.0):  3,\n",
        " RNASeqExperiment (#145, RNAseq_wt_glucose_NH4Cl_O2_4_1.0):  4,\n",
        " RNASeqExperiment (#146, RNAseq_wt_glucose_NH4Cl_O2_5_1.0):  5,\n",
        " RNASeqExperiment (#147, RNAseq_wt_glycerol_NH4Cl_O2_1_1.0):  1,\n",
        " RNASeqExperiment (#148, RNAseq_wt_glycerol_NH4Cl_O2_2_1.0):  2]"
       ]
      }
     ],
     "prompt_number": 2
    },
    {
     "cell_type": "code",
     "collapsed": false,
     "input": [],
     "language": "python",
     "metadata": {},
     "outputs": []
    }
   ],
   "metadata": {}
  }
 ]
}