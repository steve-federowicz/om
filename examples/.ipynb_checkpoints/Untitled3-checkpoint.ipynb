{
 "metadata": {
  "name": "",
  "signature": "sha256:8563d8a0038cf62445deb72abf5043d64cefc7832135c8db3026142bf9d75a49"
 },
 "nbformat": 3,
 "nbformat_minor": 0,
 "worksheets": [
  {
   "cells": [
    {
     "cell_type": "code",
     "collapsed": false,
     "input": [
      "from om import base, settings\n",
      "from om.data import *\n",
      "from om.components import *\n",
      "\n",
      "from IPython.display import HTML\n",
      "from matplotlib import pylab as plt\n",
      "from math import log\n",
      "import pandas as pd\n",
      "\n",
      "from __future__ import print_function # For py 2.7 compat\n",
      "\n",
      "from IPython.html import widgets # Widget definitions\n",
      "from IPython.display import display # Used to display widgets in the notebook\n",
      "from IPython.utils.traitlets import Unicode\n",
      "\n",
      "ome = base.Session()\n",
      "genome_data = omics_database.genome_data\n",
      "%matplotlib inline"
     ],
     "language": "python",
     "metadata": {},
     "outputs": [],
     "prompt_number": 1
    },
    {
     "cell_type": "code",
     "collapsed": false,
     "input": [
      "chip_peak_sets = ome.query(ChIPPeakAnalysis).join(AnalysisComposition, ChIPPeakAnalysis.id == AnalysisComposition.analysis_id).\\\n",
      "                    join(ChIPExperiment, ChIPExperiment.id == AnalysisComposition.data_set_id).\\\n",
      "                    join(Strain).\\\n",
      "                    join(InVivoEnvironment, InVivoEnvironment.id == ChIPExperiment.environment_id).\\\n",
      "                    filter(and_(not_(Strain.name.in_(['Crp8myc','delta-crp','Ar3','delAr1delAr2','delAr1'])),\n",
      "                                ChIPExperiment.antibody == 'anti-crp',\n",
      "                                InVivoEnvironment.supplements == '')).all()\n",
      "\n",
      "overlap_df = pd.DataFrame(index=[x.strain.name+'_'+x.environment.carbon_source for x in chip_peak_sets],\\\n",
      "                          columns=[x.strain.name+'_'+x.environment.carbon_source for x in chip_peak_sets])\n",
      "\n",
      "for peak_set_1 in chip_peak_sets:\n",
      "    chip_peaks_1 = ome.query(ChIPPeakData).filter(ChIPPeakData.data_set_id == peak_set_1.id).all()\n",
      "    #overlap_df.loc[peak_set_1.strain.name+'_'+peak_set_1.environment.carbon_source,'total'] = len(chip_peaks_1)\n",
      "    for peak_set_2 in chip_peak_sets:\n",
      "        overlap_cnt = 0\n",
      "        chip_peaks_2 = ome.query(ChIPPeakData).filter(ChIPPeakData.data_set_id == peak_set_2.id).all()\n",
      "        for peak_1 in chip_peaks_1:\n",
      "            for peak_2 in chip_peaks_2:\n",
      "                if abs(peak_1.eventpos - peak_2.eventpos) < 10: \n",
      "                    overlap_cnt+=1\n",
      "        #print peak_set_1.name+'\\t'+peak_set_2.name+'\\t'+str(overlap_cnt)\n",
      "        overlap_df.loc[peak_set_1.strain.name+'_'+peak_set_1.environment.carbon_source,peak_set_2.strain.name+'_'+peak_set_2.environment.carbon_source] = overlap_cnt\n",
      "\n",
      "        "
     ],
     "language": "python",
     "metadata": {},
     "outputs": [],
     "prompt_number": 2
    },
    {
     "cell_type": "code",
     "collapsed": false,
     "input": [
      "sets = []\n",
      "overlaps = []\n",
      "\n",
      "for i,x in enumerate(overlap_df.index):\n",
      "    for j,y in enumerate(overlap_df.index):\n",
      "        if i == j: \n",
      "            sets.append({'label':x, 'size':overlap_df.ix[x][y]})\n",
      "        elif j <= i:\n",
      "            overlaps.append({'sets':[i,j], 'size': overlap_df.ix[x][y]})"
     ],
     "language": "python",
     "metadata": {},
     "outputs": [],
     "prompt_number": 3
    },
    {
     "cell_type": "code",
     "collapsed": false,
     "input": [
      "class DataWidget(widgets.DOMWidget):\n",
      "    _view_name = Unicode('DataTransferView', sync=True)\n",
      "    python_data = Unicode(sync=True)"
     ],
     "language": "python",
     "metadata": {},
     "outputs": [],
     "prompt_number": 4
    },
    {
     "cell_type": "code",
     "collapsed": false,
     "input": [
      "%%javascript\n",
      "require.config({paths: {d3: \"https://mpld3.github.io/js/d3.v3.min\", venn: \"https://steve-federowicz.github.io/om/examples/lib/venn\"}});\n",
      "\n",
      "\n",
      "require([\"widgets/js/widget\",\"d3\",\"venn\"], function(WidgetManager,d3, venn){\n",
      "    \n",
      "    // Define the DatePickerView\n",
      "    var DataTransferView = IPython.DOMWidgetView.extend({\n",
      "        render: function(){\n",
      "            \n",
      "            this.$el;\n",
      "\n",
      "        },\n",
      "        \n",
      "        update: function() {\n",
      "            \n",
      "            // Set the value of the date control and then call base.\n",
      "            //this.$date.val(this.model.get('value')); // ISO format \"YYYY-MM-DDTHH:mm:ss.sssZ\" is required\n",
      "            \n",
      "            var data = JSON.parse(this.model.get('python_data'));\n",
      "            var sets = data.sets;\n",
      "            var overlaps = data.overlaps;\n",
      "            \n",
      "            //console.log(overlaps);\n",
      "            // get positions for each set\n",
      "            sets = venn.venn().venn(sets, overlaps);\n",
      "            //window.venn = venn.venn();\n",
      "            console.log(\"Wooo\");\n",
      "            // draw the diagram in the 'simple_example' div\n",
      "\n",
      "            venn.venn().drawD3Diagram(d3.select(this.$el, sets,650,650);\n",
      "                                                        \n",
      "            //return DataTransferView.__super__.update.apply(this);\n",
      "        }\n",
      "        \n",
      "        \n",
      "    });\n",
      "    \n",
      "    // Register the DatePickerView with the widget manager.\n",
      "    WidgetManager.register_widget_view('DataTransferView', DataTransferView);\n",
      "});"
     ],
     "language": "python",
     "metadata": {},
     "outputs": [
      {
       "javascript": [
        "require.config({paths: {d3: \"https://mpld3.github.io/js/d3.v3.min\", venn: \"https://steve-federowicz.github.io/om/examples/lib/venn\"}});\n",
        "\n",
        "\n",
        "require([\"widgets/js/widget\",\"d3\",\"venn\"], function(WidgetManager,d3, venn){\n",
        "    \n",
        "    // Define the DatePickerView\n",
        "    var DataTransferView = IPython.DOMWidgetView.extend({\n",
        "        render: function(){\n",
        "            \n",
        "            this.$el();\n",
        "\n",
        "        },\n",
        "        \n",
        "        update: function() {\n",
        "            \n",
        "            // Set the value of the date control and then call base.\n",
        "            //this.$date.val(this.model.get('value')); // ISO format \"YYYY-MM-DDTHH:mm:ss.sssZ\" is required\n",
        "            \n",
        "            var data = JSON.parse(this.model.get('python_data'));\n",
        "            var sets = data.sets;\n",
        "            var overlaps = data.overlaps;\n",
        "            \n",
        "            //console.log(overlaps);\n",
        "            // get positions for each set\n",
        "            sets = venn.venn().venn(sets, overlaps);\n",
        "            //window.venn = venn.venn();\n",
        "            console.log(\"Wooo\");\n",
        "            // draw the diagram in the 'simple_example' div\n",
        "\n",
        "            venn.venn().drawD3Diagram(d3.select(this.$el()), sets,650,650);\n",
        "                                                        \n",
        "            //return DataTransferView.__super__.update.apply(this);\n",
        "        }\n",
        "        \n",
        "        \n",
        "    });\n",
        "    \n",
        "    // Register the DatePickerView with the widget manager.\n",
        "    WidgetManager.register_widget_view('DataTransferView', DataTransferView);\n",
        "});"
       ],
       "metadata": {},
       "output_type": "display_data",
       "text": [
        "<IPython.core.display.Javascript at 0x107de1190>"
       ]
      }
     ],
     "prompt_number": 8
    },
    {
     "cell_type": "code",
     "collapsed": false,
     "input": [
      "my_widget = DataWidget()\n",
      "display(my_widget)"
     ],
     "language": "python",
     "metadata": {},
     "outputs": [],
     "prompt_number": 9
    },
    {
     "cell_type": "code",
     "collapsed": false,
     "input": [
      "my_widget.python_data = json.dumps({\"sets\":sets, \"overlaps\":overlaps})\n"
     ],
     "language": "python",
     "metadata": {},
     "outputs": [],
     "prompt_number": 10
    },
    {
     "cell_type": "code",
     "collapsed": false,
     "input": [],
     "language": "python",
     "metadata": {},
     "outputs": [],
     "prompt_number": 7
    },
    {
     "cell_type": "code",
     "collapsed": false,
     "input": [],
     "language": "python",
     "metadata": {},
     "outputs": []
    }
   ],
   "metadata": {}
  }
 ]
}