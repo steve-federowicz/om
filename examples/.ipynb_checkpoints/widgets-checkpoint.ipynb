{
 "metadata": {
  "name": "",
  "signature": "sha256:b8e8f00619daad34efa99206290ee70e9c371b95e0f6f817be0d4072589995b2"
 },
 "nbformat": 3,
 "nbformat_minor": 0,
 "worksheets": [
  {
   "cells": [
    {
     "cell_type": "code",
     "collapsed": false,
     "input": [
      "%matplotlib inline\n",
      "import matplotlib.pyplot as plt\n",
      "from IPython.html.widgets import interact\n",
      "from sklearn import datasets\n",
      "\n"
     ],
     "language": "python",
     "metadata": {},
     "outputs": [],
     "prompt_number": 5
    },
    {
     "cell_type": "code",
     "collapsed": false,
     "input": [
      "digits = datasets.load_digits()"
     ],
     "language": "python",
     "metadata": {},
     "outputs": [],
     "prompt_number": 6
    },
    {
     "cell_type": "code",
     "collapsed": false,
     "input": [
      "def browse_images(digits):\n",
      "    n = len(digits.images)\n",
      "    def view_image(i):\n",
      "        plt.imshow(digits.images[i], cmap=plt.cm.gray_r, interpolation='nearest')\n",
      "        plt.title('Training: %s' % digits.target[i])\n",
      "        plt.show()\n",
      "    interact(view_image, i=(0,n-1))"
     ],
     "language": "python",
     "metadata": {},
     "outputs": [],
     "prompt_number": 7
    },
    {
     "cell_type": "code",
     "collapsed": false,
     "input": [
      "browse_images(digits)"
     ],
     "language": "python",
     "metadata": {},
     "outputs": [
      {
       "metadata": {},
       "output_type": "display_data",
       "png": "[encoded data removed]",
       "text": [
        "<matplotlib.figure.Figure at 0x104296bd0>"
       ]
      }
     ],
     "prompt_number": 8
    },
    {
     "cell_type": "code",
     "collapsed": false,
     "input": [
      "def browse_list(digits):\n",
      "    n = len(digits)\n",
      "    def view_image(i):\n",
      "        plt.plot(i)\n",
      "        plt.title('Training: %s' % i)\n",
      "        plt.show()\n",
      "    interact(view_image, i=(0,n-1))"
     ],
     "language": "python",
     "metadata": {},
     "outputs": [],
     "prompt_number": 15
    },
    {
     "cell_type": "code",
     "collapsed": false,
     "input": [
      "browse_list(range(7))"
     ],
     "language": "python",
     "metadata": {},
     "outputs": [
      {
       "metadata": {},
       "output_type": "display_data",
       "png": "[encoded data removed]",
       "text": [
        "<matplotlib.figure.Figure at 0x105716ad0>"
       ]
      }
     ],
     "prompt_number": 16
    },
    {
     "cell_type": "code",
     "collapsed": false,
     "input": [
      "from IPython.html.widgets import interact, interactive, fixed\n",
      "from IPython.html import widgets\n",
      "from IPython.display import clear_output, display, HTML"
     ],
     "language": "python",
     "metadata": {},
     "outputs": [],
     "prompt_number": 17
    },
    {
     "cell_type": "code",
     "collapsed": false,
     "input": [
      "def show_args(**kwargs):\n",
      "    s = '<h3>Arguments:</h3><table>\\n'\n",
      "    for k,v in kwargs.items():\n",
      "        s += '<tr><td>{0}</td><td>{1}</td></tr>\\n'.format(k,v)\n",
      "    s += '</table>'\n",
      "    display(HTML(s))"
     ],
     "language": "python",
     "metadata": {},
     "outputs": [],
     "prompt_number": 18
    },
    {
     "cell_type": "code",
     "collapsed": false,
     "input": [
      "show_args(a=10, b='Hi There', c=True)\n"
     ],
     "language": "python",
     "metadata": {},
     "outputs": [
      {
       "html": [
        "<h3>Arguments:</h3><table>\n",
        "<tr><td>a</td><td>10</td></tr>\n",
        "<tr><td>c</td><td>True</td></tr>\n",
        "<tr><td>b</td><td>Hi There</td></tr>\n",
        "</table>"
       ],
       "metadata": {},
       "output_type": "display_data",
       "text": [
        "<IPython.core.display.HTML at 0x1059f3b10>"
       ]
      }
     ],
     "prompt_number": 19
    },
    {
     "cell_type": "code",
     "collapsed": false,
     "input": [
      "i = interact(show_args,\n",
      "         Temp=(0,10),\n",
      "         Current=(0.,10.,0.01),\n",
      "         z=True,\n",
      "         Text=u'Type here!',\n",
      "         #Algorithm=['This','That','Other'],\n",
      "         a=widgets.FloatSliderWidget(min=-10.0, max=10.0, step=1, value=5.0, description=\"Float (a)\")\n",
      "         )"
     ],
     "language": "python",
     "metadata": {},
     "outputs": [
      {
       "html": [
        "<h3>Arguments:</h3><table>\n",
        "<tr><td>Current</td><td>4.58</td></tr>\n",
        "<tr><td>Text</td><td>Type here!</td></tr>\n",
        "<tr><td>z</td><td>True</td></tr>\n",
        "<tr><td>Temp</td><td>8</td></tr>\n",
        "<tr><td>Float (a)</td><td>3.3</td></tr>\n",
        "</table>"
       ],
       "metadata": {},
       "output_type": "display_data",
       "text": [
        "<IPython.core.display.HTML at 0x105763cd0>"
       ]
      }
     ],
     "prompt_number": 20
    },
    {
     "cell_type": "code",
     "collapsed": false,
     "input": [
      "mywidget = widgets.BoundedIntTextWidget()"
     ],
     "language": "python",
     "metadata": {},
     "outputs": []
    },
    {
     "cell_type": "code",
     "collapsed": false,
     "input": [],
     "language": "python",
     "metadata": {},
     "outputs": []
    }
   ],
   "metadata": {}
  }
 ]
}