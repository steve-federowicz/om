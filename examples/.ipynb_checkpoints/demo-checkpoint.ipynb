{
 "metadata": {
  "name": "",
  "signature": "sha256:fc9bc23f6714a729f134a5ccf962378f6674d539504ec5872e640f54ed84baf4"
 },
 "nbformat": 3,
 "nbformat_minor": 0,
 "worksheets": []
}