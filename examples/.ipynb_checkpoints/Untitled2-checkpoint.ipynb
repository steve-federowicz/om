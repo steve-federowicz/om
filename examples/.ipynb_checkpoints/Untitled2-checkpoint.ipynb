{
 "metadata": {
  "name": "",
  "signature": "sha256:68d014264bbb733646bedf935d0a32c92d5bdaa3a67023f271e4f7c502e68849"
 },
 "nbformat": 3,
 "nbformat_minor": 0,
 "worksheets": []
}