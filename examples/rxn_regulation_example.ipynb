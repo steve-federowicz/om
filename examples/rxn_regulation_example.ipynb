{
 "metadata": {
  "name": "",
  "signature": "sha256:84481503b2cf53ebe6c498943d5a2ec0516ca4fe457520f68859488b8553782c"
 },
 "nbformat": 3,
 "nbformat_minor": 0,
 "worksheets": [
  {
   "cells": [
    {
     "cell_type": "code",
     "collapsed": false,
     "input": [
      "from om import base, settings\n",
      "from om.util import *\n",
      "\n",
      "import pandas as pd\n",
      "import cobra\n",
      "\n",
      "ome = base.Session()\n",
      "model = cobra.io.read_sbml_model('/Users/dbuser/Dropbox/om_data/annotation/iJO1366.xml')"
     ],
     "language": "python",
     "metadata": {},
     "outputs": [
      {
       "output_type": "stream",
       "stream": "stderr",
       "text": [
        "cobra/io/__init__.py:17 \u001b[1;31mUserWarning\u001b[0m: cobra.io.sbml requires libsbml\n"
       ]
      },
      {
       "ename": "AttributeError",
       "evalue": "'module' object has no attribute 'read_sbml_model'",
       "output_type": "pyerr",
       "traceback": [
        "\u001b[0;31m---------------------------------------------------------------------------\u001b[0m\n\u001b[0;31mAttributeError\u001b[0m                            Traceback (most recent call last)",
        "\u001b[0;32m<ipython-input-1-0accedd4b1f3>\u001b[0m in \u001b[0;36m<module>\u001b[0;34m()\u001b[0m\n\u001b[1;32m      6\u001b[0m \u001b[0;34m\u001b[0m\u001b[0m\n\u001b[1;32m      7\u001b[0m \u001b[0mome\u001b[0m \u001b[0;34m=\u001b[0m \u001b[0mbase\u001b[0m\u001b[0;34m.\u001b[0m\u001b[0mSession\u001b[0m\u001b[0;34m(\u001b[0m\u001b[0;34m)\u001b[0m\u001b[0;34m\u001b[0m\u001b[0m\n\u001b[0;32m----> 8\u001b[0;31m \u001b[0mmodel\u001b[0m \u001b[0;34m=\u001b[0m \u001b[0mcobra\u001b[0m\u001b[0;34m.\u001b[0m\u001b[0mio\u001b[0m\u001b[0;34m.\u001b[0m\u001b[0mread_sbml_model\u001b[0m\u001b[0;34m(\u001b[0m\u001b[0;34m'/Users/dbuser/Dropbox/om_data/annotation/iJO1366.xml'\u001b[0m\u001b[0;34m)\u001b[0m\u001b[0;34m\u001b[0m\u001b[0m\n\u001b[0m",
        "\u001b[0;31mAttributeError\u001b[0m: 'module' object has no attribute 'read_sbml_model'"
       ]
      }
     ],
     "prompt_number": 1
    },
    {
     "cell_type": "code",
     "collapsed": false,
     "input": [
      "from om.data import *"
     ],
     "language": "python",
     "metadata": {},
     "outputs": [],
     "prompt_number": 2
    },
    {
     "cell_type": "code",
     "collapsed": false,
     "input": [
      "ome.query(ChIPExperiment).all()"
     ],
     "language": "python",
     "metadata": {},
     "outputs": [
      {
       "metadata": {},
       "output_type": "pyout",
       "prompt_number": 5,
       "text": [
        "[ChIPExperiment (#1, chipExo-ArcA_ArcA8myc_glucose_NH4Cl_anaerobic_2_anti-myc): chipExo ArcA 2,\n",
        " ChIPExperiment (#2, chipExo-ArcA_ArcA8myc_glucose_NH4Cl_anaerobic_3_anti-myc): chipExo ArcA 3,\n",
        " ChIPExperiment (#3, chipExo-Crp_Ar3_glycerol_NH4Cl_O2_1_anti-crp): chipExo Crp 1,\n",
        " ChIPExperiment (#4, chipExo-Crp_Ar3_glycerol_NH4Cl_O2_2_anti-crp): chipExo Crp 2,\n",
        " ChIPExperiment (#5, chipExo-Crp_Ar3_glycerol_NH4Cl_O2_3_anti-crp): chipExo Crp 3,\n",
        " ChIPExperiment (#6, chipExo-Crp_Crp8myc_fructose_NH4Cl_O2_1_anti-crp): chipExo Crp 1,\n",
        " ChIPExperiment (#7, chipExo-Crp_Crp8myc_fructose_NH4Cl_O2_1_anti-myc): chipExo Crp 1,\n",
        " ChIPExperiment (#8, chipExo-Crp_Crp8myc_fructose_NH4Cl_O2_2_anti-crp): chipExo Crp 2,\n",
        " ChIPExperiment (#9, chipExo-Crp_Crp8myc_fructose_NH4Cl_O2_2_anti-myc): chipExo Crp 2,\n",
        " ChIPExperiment (#10, chipExo-Crp_Crp8myc_fructose_NH4Cl_O2_3_anti-crp): chipExo Crp 3,\n",
        " ChIPExperiment (#11, chipExo-Crp_Crp8myc_fructose_NH4Cl_O2_3_anti-myc): chipExo Crp 3,\n",
        " ChIPExperiment (#12, chipExo-Crp_Crp8myc_glucose_NH4Cl_O2_1_anti-myc): chipExo Crp 1,\n",
        " ChIPExperiment (#13, chipExo-Crp_Crp8myc_glucose_NH4Cl_O2_2_anti-myc): chipExo Crp 2,\n",
        " ChIPExperiment (#14, chipExo-Crp_Crp8myc_glycerol_NH4Cl_O2_1_anti-crp): chipExo Crp 1,\n",
        " ChIPExperiment (#15, chipExo-Crp_Crp8myc_glycerol_NH4Cl_O2_1_anti-mock-crp): chipExo Crp 1,\n",
        " ChIPExperiment (#16, chipExo-Crp_Crp8myc_glycerol_NH4Cl_O2_1_anti-mock-myc): chipExo Crp 1,\n",
        " ChIPExperiment (#17, chipExo-Crp_Crp8myc_glycerol_NH4Cl_O2_1_anti-myc): chipExo Crp 1,\n",
        " ChIPExperiment (#18, chipExo-Crp_Crp8myc_glycerol_NH4Cl_O2_2_anti-crp): chipExo Crp 2,\n",
        " ChIPExperiment (#19, chipExo-Crp_Crp8myc_glycerol_NH4Cl_O2_3_anti-myc): chipExo Crp 3,\n",
        " ChIPExperiment (#20, chipExo-Crp_delAr1_glycerol_NH4Cl_O2_1_anti-crp): chipExo Crp 1,\n",
        " ChIPExperiment (#21, chipExo-Crp_delAr1_glycerol_NH4Cl_O2_2_anti-crp): chipExo Crp 2,\n",
        " ChIPExperiment (#22, chipExo-Crp_delAr1_glycerol_NH4Cl_O2_3_anti-crp): chipExo Crp 3,\n",
        " ChIPExperiment (#23, chipExo-Crp_delAr1delAr2_glycerol_NH4Cl_O2_1_anti-crp): chipExo Crp 1,\n",
        " ChIPExperiment (#24, chipExo-Crp_delAr1delAr2_glycerol_NH4Cl_O2_2_anti-crp): chipExo Crp 2,\n",
        " ChIPExperiment (#25, chipExo-Crp_delAr1delAr2_glycerol_NH4Cl_O2_3_anti-crp): chipExo Crp 3,\n",
        " ChIPExperiment (#26, chipExo-Crp_delAr2_glycerol_NH4Cl_O2_1_anti-crp): chipExo Crp 1,\n",
        " ChIPExperiment (#27, chipExo-Crp_delAr2_glycerol_NH4Cl_O2_2_anti-crp): chipExo Crp 2,\n",
        " ChIPExperiment (#28, chipExo-Crp_delAr2_glycerol_NH4Cl_O2_3_anti-crp): chipExo Crp 3,\n",
        " ChIPExperiment (#29, chipExo-Crp_delta-crp_glycerol_NH4Cl_O2_1_anti-crp): chipExo Crp 1,\n",
        " ChIPExperiment (#30, chipExo-Crp_delta-crp_glycerol_NH4Cl_O2_2_anti-crp): chipExo Crp 2,\n",
        " ChIPExperiment (#31, chipExo-Crp_delta-crp_glycerol_NH4Cl_O2_3_anti-crp): chipExo Crp 3,\n",
        " ChIPExperiment (#32, chipExo-Crp_wt_fructose_NH4Cl_O2_1_anti-crp): chipExo Crp 1,\n",
        " ChIPExperiment (#33, chipExo-Crp_wt_fructose_NH4Cl_O2_1_anti-mock-crp): chipExo Crp 1,\n",
        " ChIPExperiment (#34, chipExo-Crp_wt_fructose_NH4Cl_O2_2_anti-crp): chipExo Crp 2,\n",
        " ChIPExperiment (#35, chipExo-Crp_wt_fructose_NH4Cl_O2_3_anti-crp): chipExo Crp 3,\n",
        " ChIPExperiment (#36, chipExo-Crp_wt_fructose_NH4Cl_O2_4_anti-crp): chipExo Crp 4,\n",
        " ChIPExperiment (#37, chipExo-Crp_wt_fructose_NH4Cl_O2_5_anti-crp): chipExo Crp 5,\n",
        " ChIPExperiment (#38, chipExo-Crp_wt_glucose_NH4Cl_O2_1_anti-crp): chipExo Crp 1,\n",
        " ChIPExperiment (#39, chipExo-Crp_wt_glucose_NH4Cl_O2_2_anti-crp): chipExo Crp 2,\n",
        " ChIPExperiment (#40, chipExo-Crp_wt_glycerol_NH4Cl_O2_1_anti-crp): chipExo Crp 1,\n",
        " ChIPExperiment (#41, chipExo-Crp_wt_glycerol_NH4Cl_O2_1_anti-crp_rif): chipExo Crp 1,\n",
        " ChIPExperiment (#42, chipExo-Crp_wt_glycerol_NH4Cl_O2_1_anti-mock-crp): chipExo Crp 1,\n",
        " ChIPExperiment (#43, chipExo-Crp_wt_glycerol_NH4Cl_O2_2_anti-crp): chipExo Crp 2,\n",
        " ChIPExperiment (#44, chipExo-Crp_wt_glycerol_NH4Cl_O2_2_anti-crp_rif): chipExo Crp 2,\n",
        " ChIPExperiment (#45, chipExo-Crp_wt_glycerol_NH4Cl_O2_3_anti-crp): chipExo Crp 3,\n",
        " ChIPExperiment (#46, chipExo-Crp_wt_glycerol_NH4Cl_O2_3_anti-crp_rif): chipExo Crp 3,\n",
        " ChIPExperiment (#47, chipExo-Crp_wt_glycerol_NH4Cl_O2_4_anti-crp): chipExo Crp 4,\n",
        " ChIPExperiment (#48, chipExo-Crp_wt_glycerol_NH4Cl_O2_5_anti-crp): chipExo Crp 5,\n",
        " ChIPExperiment (#49, chipExo-Crp_wt_glycerol_NH4Cl_O2_6_anti-crp): chipExo Crp 6,\n",
        " ChIPExperiment (#50, chipExo-Fnr_Fnr8myc_glucose_NH4Cl_anaerobic_2_anti-myc): chipExo Fnr 2,\n",
        " ChIPExperiment (#51, chipExo-Fnr_Fnr8myc_glucose_NH4Cl_anaerobic_3_anti-myc): chipExo Fnr 3,\n",
        " ChIPExperiment (#52, chipExo-RpoA_wt_glucose_NH4Cl_O2_1_anti-rpoA): chipExo RpoA 1,\n",
        " ChIPExperiment (#53, chipExo-RpoA_wt_glucose_NH4Cl_O2_2_anti-rpoA): chipExo RpoA 2,\n",
        " ChIPExperiment (#54, chipExo-RpoD_wt_fructose_NH4Cl_O2_1_anti-rpod): chipExo RpoD 1,\n",
        " ChIPExperiment (#55, chipExo-RpoD_wt_fructose_NH4Cl_O2_2_anti-rpod): chipExo RpoD 2,\n",
        " ChIPExperiment (#56, chipExo-RpoD_wt_fructose_NH4Cl_O2_3_anti-rpod): chipExo RpoD 3,\n",
        " ChIPExperiment (#57, chipExo-RpoD_wt_glucose_NH4Cl_O2_1_anti-rpod): chipExo RpoD 1,\n",
        " ChIPExperiment (#58, chipExo-RpoD_wt_glucose_NH4Cl_O2_2_anti-rpod): chipExo RpoD 2,\n",
        " ChIPExperiment (#59, chipExo-RpoD_wt_glucose_NH4Cl_O2_3_anti-rpod): chipExo RpoD 3,\n",
        " ChIPExperiment (#60, chipExo-RpoD_wt_glycerol_NH4Cl_O2_1_anti-rpod): chipExo RpoD 1,\n",
        " ChIPExperiment (#61, chipExo-RpoD_wt_glycerol_NH4Cl_O2_2_anti-rpod): chipExo RpoD 2,\n",
        " ChIPExperiment (#62, chipExo-RpoD_wt_glycerol_NH4Cl_O2_3_anti-rpod): chipExo RpoD 3,\n",
        " ChIPExperiment (#63, chipExo-Fur_Fur8myc_glucose_NH4Cl_O2_1_anti-myc_dpd): chipExo Fur 1,\n",
        " ChIPExperiment (#64, chipExo-Fur_Fur8myc_glucose_NH4Cl_O2_1_anti-myc_FeCl2): chipExo Fur 1,\n",
        " ChIPExperiment (#65, chipExo-Fur_Fur8myc_glucose_NH4Cl_O2_2_anti-myc_dpd): chipExo Fur 2,\n",
        " ChIPExperiment (#66, chipExo-Fur_Fur8myc_glucose_NH4Cl_O2_2_anti-myc_FeCl2): chipExo Fur 2,\n",
        " ChIPExperiment (#67, chipExo-Nac_Nac8myc_glucose_cytidine_O2_1_anti-myc): chipExo Nac 1,\n",
        " ChIPExperiment (#68, chipExo-Nac_Nac8myc_glucose_cytidine_O2_2_anti-myc): chipExo Nac 2,\n",
        " ChIPExperiment (#69, chipExo-Nac_Nac8myc_glucose_cytosine_O2_1_anti-myc): chipExo Nac 1,\n",
        " ChIPExperiment (#70, chipExo-Nac_Nac8myc_glucose_cytosine_O2_2_anti-myc): chipExo Nac 2,\n",
        " ChIPExperiment (#71, chipExo-Nac_Nac8myc_glucose_glutamine_O2_1_anti-myc): chipExo Nac 1,\n",
        " ChIPExperiment (#72, chipExo-Nac_Nac8myc_glucose_glutamine_O2_2_anti-myc): chipExo Nac 2,\n",
        " ChIPExperiment (#73, chipExo-Nac_Nac8myc_glucose_NH4Cl_O2_1_anti-myc): chipExo Nac 1,\n",
        " ChIPExperiment (#74, chipExo-Nac_Nac8myc_glucose_NH4Cl_O2_2_anti-myc): chipExo Nac 2,\n",
        " ChIPExperiment (#75, chipExo-NtrC_NtrC8myc_glucose_cytidine_O2_1_anti-myc): chipExo NtrC 1,\n",
        " ChIPExperiment (#76, chipExo-NtrC_NtrC8myc_glucose_cytidine_O2_2_anti-myc): chipExo NtrC 2,\n",
        " ChIPExperiment (#77, chipExo-NtrC_NtrC8myc_glucose_cytosine_O2_1_anti-myc): chipExo NtrC 1,\n",
        " ChIPExperiment (#78, chipExo-NtrC_NtrC8myc_glucose_cytosine_O2_2_anti-myc): chipExo NtrC 2,\n",
        " ChIPExperiment (#79, chipExo-NtrC_NtrC8myc_glucose_glutamine_O2_1_anti-myc): chipExo NtrC 1,\n",
        " ChIPExperiment (#80, chipExo-NtrC_NtrC8myc_glucose_glutamine_O2_2_anti-myc): chipExo NtrC 2,\n",
        " ChIPExperiment (#81, chipExo-NtrC_NtrC8myc_glucose_NH4Cl_O2_1_anti-myc): chipExo NtrC 1,\n",
        " ChIPExperiment (#82, chipExo-NtrC_NtrC8myc_glucose_NH4Cl_O2_2_anti-myc): chipExo NtrC 2,\n",
        " ChIPExperiment (#83, chipExo-RpoD_wt_glucose_cytidine_O2_1_anti-rpod): chipExo RpoD 1,\n",
        " ChIPExperiment (#84, chipExo-RpoD_wt_glucose_cytidine_O2_2_anti-rpod): chipExo RpoD 2,\n",
        " ChIPExperiment (#85, chipExo-RpoD_wt_glucose_cytosine_O2_1_anti-rpod): chipExo RpoD 1,\n",
        " ChIPExperiment (#86, chipExo-RpoD_wt_glucose_cytosine_O2_2_anti-rpod): chipExo RpoD 2,\n",
        " ChIPExperiment (#87, chipExo-RpoD_wt_glucose_glutamine_O2_1_anti-rpod): chipExo RpoD 1,\n",
        " ChIPExperiment (#88, chipExo-RpoD_wt_glucose_glutamine_O2_2_anti-rpod): chipExo RpoD 2,\n",
        " ChIPExperiment (#89, chipExo-RpoD_wt_glucose_NH4Cl_O2_4_anti-rpod_nitrogenstudy): chipExo RpoD 4,\n",
        " ChIPExperiment (#90, chipExo-RpoD_wt_glucose_NH4Cl_O2_5_anti-rpod): chipExo RpoD 5,\n",
        " ChIPExperiment (#91, chipExo-RpoD_wt_glucose_NH4Cl_O2_6_anti-rpod): chipExo RpoD 6,\n",
        " ChIPExperiment (#92, chipExo-RpoD_wt_glucose_NH4Cl_O2_7_anti-rpod_nitrogenstudy): chipExo RpoD 7,\n",
        " ChIPExperiment (#93, chipExo-RpoN_wt_glucose_NH4Cl_O2_1_anti-rpon): chipExo RpoN 1,\n",
        " ChIPExperiment (#94, chipExo-RpoN_wt_glucose_NH4Cl_O2_2_anti-rpon): chipExo RpoN 2,\n",
        " ChIPExperiment (#95, chipExo-RpoS_wt_glucose_NH4Cl_O2_1_anti-rpos): chipExo RpoS 1,\n",
        " ChIPExperiment (#96, chipExo-RpoS_wt_glucose_NH4Cl_O2_2_anti-rpos): chipExo RpoS 2]"
       ]
      }
     ],
     "prompt_number": 5
    },
    {
     "cell_type": "code",
     "collapsed": false,
     "input": [
      "get_regulation_data(model.reactions.GAPD, expanded_dataset=True)"
     ],
     "language": "python",
     "metadata": {},
     "outputs": [
      {
       "ename": "TypeError",
       "evalue": "get_regulation_data() got an unexpected keyword argument 'expanded_dataset'",
       "output_type": "pyerr",
       "traceback": [
        "\u001b[0;31m---------------------------------------------------------------------------\u001b[0m\n\u001b[0;31mTypeError\u001b[0m                                 Traceback (most recent call last)",
        "\u001b[0;32m<ipython-input-2-5e86bc877cdc>\u001b[0m in \u001b[0;36m<module>\u001b[0;34m()\u001b[0m\n\u001b[0;32m----> 1\u001b[0;31m \u001b[0mget_regulation_data\u001b[0m\u001b[0;34m(\u001b[0m\u001b[0mmodel\u001b[0m\u001b[0;34m.\u001b[0m\u001b[0mreactions\u001b[0m\u001b[0;34m.\u001b[0m\u001b[0mGAPD\u001b[0m\u001b[0;34m,\u001b[0m \u001b[0mexpanded_dataset\u001b[0m\u001b[0;34m=\u001b[0m\u001b[0mTrue\u001b[0m\u001b[0;34m)\u001b[0m\u001b[0;34m\u001b[0m\u001b[0m\n\u001b[0m",
        "\u001b[0;31mTypeError\u001b[0m: get_regulation_data() got an unexpected keyword argument 'expanded_dataset'"
       ]
      }
     ],
     "prompt_number": 2
    },
    {
     "cell_type": "code",
     "collapsed": false,
     "input": [
      "pd.DataFrame(get_regulation_data(model.reactions.SUCDi.id, expanded_dataset=True))"
     ],
     "language": "python",
     "metadata": {},
     "outputs": [
      {
       "ename": "TypeError",
       "evalue": "get_regulation_data() got an unexpected keyword argument 'expanded_dataset'",
       "output_type": "pyerr",
       "traceback": [
        "\u001b[0;31m---------------------------------------------------------------------------\u001b[0m\n\u001b[0;31mTypeError\u001b[0m                                 Traceback (most recent call last)",
        "\u001b[0;32m<ipython-input-3-e234d17127f1>\u001b[0m in \u001b[0;36m<module>\u001b[0;34m()\u001b[0m\n\u001b[0;32m----> 1\u001b[0;31m \u001b[0mpd\u001b[0m\u001b[0;34m.\u001b[0m\u001b[0mDataFrame\u001b[0m\u001b[0;34m(\u001b[0m\u001b[0mget_regulation_data\u001b[0m\u001b[0;34m(\u001b[0m\u001b[0mmodel\u001b[0m\u001b[0;34m.\u001b[0m\u001b[0mreactions\u001b[0m\u001b[0;34m.\u001b[0m\u001b[0mSUCDi\u001b[0m\u001b[0;34m.\u001b[0m\u001b[0mid\u001b[0m\u001b[0;34m,\u001b[0m \u001b[0mexpanded_dataset\u001b[0m\u001b[0;34m=\u001b[0m\u001b[0mTrue\u001b[0m\u001b[0;34m)\u001b[0m\u001b[0;34m)\u001b[0m\u001b[0;34m\u001b[0m\u001b[0m\n\u001b[0m",
        "\u001b[0;31mTypeError\u001b[0m: get_regulation_data() got an unexpected keyword argument 'expanded_dataset'"
       ]
      }
     ],
     "prompt_number": 3
    },
    {
     "cell_type": "code",
     "collapsed": false,
     "input": [],
     "language": "python",
     "metadata": {},
     "outputs": []
    }
   ],
   "metadata": {}
  }
 ]
}