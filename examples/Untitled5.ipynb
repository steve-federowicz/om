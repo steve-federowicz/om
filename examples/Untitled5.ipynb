{
 "metadata": {
  "name": "",
  "signature": "sha256:bea97f95d95010bd3046c85d6ac472d4318be463236503211f2fb171648ed470"
 },
 "nbformat": 3,
 "nbformat_minor": 0,
 "worksheets": [
  {
   "cells": [
    {
     "cell_type": "code",
     "collapsed": false,
     "input": [
      "ls"
     ],
     "language": "python",
     "metadata": {},
     "outputs": [
      {
       "output_type": "stream",
       "stream": "stdout",
       "text": [
        "DNA_methylases.ipynb          component_testing.ipynb\r\n",
        "Untitled0.ipynb               \u001b[34mdata\u001b[m\u001b[m/\r\n",
        "Untitled1.ipynb               heatmap.ipynb\r\n",
        "Untitled2.ipynb               \u001b[34mlib\u001b[m\u001b[m/\r\n",
        "Untitled3.ipynb               nohup.out\r\n",
        "Untitled4.ipynb               rxn_regulation_example.ipynb\r\n",
        "Untitled5.ipynb               test_queries.ipynb\r\n"
       ]
      }
     ],
     "prompt_number": 1
    },
    {
     "cell_type": "code",
     "collapsed": false,
     "input": [
      "cd .."
     ],
     "language": "python",
     "metadata": {},
     "outputs": [
      {
       "output_type": "stream",
       "stream": "stdout",
       "text": [
        "/Users/sfederow/ome/om\n"
       ]
      }
     ],
     "prompt_number": 2
    },
    {
     "cell_type": "code",
     "collapsed": false,
     "input": [
      "cd .."
     ],
     "language": "python",
     "metadata": {},
     "outputs": [
      {
       "output_type": "stream",
       "stream": "stdout",
       "text": [
        "/Users/sfederow/ome\n"
       ]
      }
     ],
     "prompt_number": 3
    },
    {
     "cell_type": "code",
     "collapsed": false,
     "input": [
      "ls"
     ],
     "language": "python",
     "metadata": {},
     "outputs": [
      {
       "output_type": "stream",
       "stream": "stdout",
       "text": [
        "\u001b[34mPrototypeDB\u001b[m\u001b[m/        \u001b[34mme\u001b[m\u001b[m/                 \u001b[34mom_copy.bfg-report\u001b[m\u001b[m/ \u001b[34mtrn.git\u001b[m\u001b[m/\r\n",
        "\u001b[34mTheseus\u001b[m\u001b[m/            \u001b[34mmetabolomics\u001b[m\u001b[m/       \u001b[34mom_visual\u001b[m\u001b[m/          \u001b[34mtrn2\u001b[m\u001b[m/\r\n",
        "\u001b[34mcobrapy\u001b[m\u001b[m/            \u001b[34mminspan\u001b[m\u001b[m/            \u001b[34mome\u001b[m\u001b[m/                \u001b[34mtrn_code\u001b[m\u001b[m/\r\n",
        "\u001b[34mcobrapy_internal\u001b[m\u001b[m/   \u001b[34mom\u001b[m\u001b[m/                 \u001b[34msequtil\u001b[m\u001b[m/            \u001b[34mtrn_code.git\u001b[m\u001b[m/\r\n",
        "\u001b[34mcopy\u001b[m\u001b[m/               \u001b[34mom.bfg-report\u001b[m\u001b[m/      \u001b[34mtmp\u001b[m\u001b[m/                \u001b[34mvincent\u001b[m\u001b[m/\r\n",
        "\u001b[34mescher\u001b[m\u001b[m/             \u001b[34mom_copy\u001b[m\u001b[m/            \u001b[34mtrn\u001b[m\u001b[m/\r\n"
       ]
      }
     ],
     "prompt_number": 4
    },
    {
     "cell_type": "code",
     "collapsed": false,
     "input": [
      "cd ~/Dropbox/"
     ],
     "language": "python",
     "metadata": {},
     "outputs": [
      {
       "output_type": "stream",
       "stream": "stdout",
       "text": [
        "/Users/sfederow/Dropbox\n"
       ]
      }
     ],
     "prompt_number": 5
    },
    {
     "cell_type": "code",
     "collapsed": false,
     "input": [
      "ls"
     ],
     "language": "python",
     "metadata": {},
     "outputs": [
      {
       "output_type": "stream",
       "stream": "stdout",
       "text": [
        "\u001b[34mbackup\u001b[m\u001b[m/ \u001b[34mtrn\u001b[m\u001b[m/\r\n"
       ]
      }
     ],
     "prompt_number": 6
    },
    {
     "cell_type": "code",
     "collapsed": false,
     "input": [],
     "language": "python",
     "metadata": {},
     "outputs": []
    }
   ],
   "metadata": {}
  }
 ]
}