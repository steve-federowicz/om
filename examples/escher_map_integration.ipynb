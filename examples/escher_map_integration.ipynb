{
 "metadata": {
  "name": "",
  "signature": "sha256:042398444eab0f8357c729b9c76ecd68ff787bc45e13d64ac9447f21dc75d2c3"
 },
 "nbformat": 3,
 "nbformat_minor": 0,
 "worksheets": [
  {
   "cells": [
    {
     "cell_type": "code",
     "collapsed": false,
     "input": [
      "from om import base, settings\n",
      "from om.components import *\n",
      "from om.data import *\n",
      "from om.util import *\n",
      "\n",
      "import pandas as pd\n",
      "import numpy as np\n",
      "import math,cobra\n",
      "\n",
      "import escher\n",
      "import escher.server\n",
      "import json\n",
      "import os\n",
      "from IPython.display import HTML\n",
      "\n",
      "\n",
      "session = base.Session()\n",
      "\n",
      "from IPython.html.widgets import interact, interactive, fixed\n",
      "from IPython.html import widgets\n",
      "from IPython.display import clear_output, display, HTML\n",
      "\n",
      "escher.clear_cache()\n",
      "d = escher.server.directory\n",
      "#with open(os.path.join(d, 'example_data/reaction_data_iJO1366.json')) as f:\n",
      "#    reaction_data = json.load(f)"
     ],
     "language": "python",
     "metadata": {},
     "outputs": [],
     "prompt_number": 3
    },
    {
     "cell_type": "code",
     "collapsed": false,
     "input": [
      "def show_name(dataset):\n",
      "    rxn_data = {rxn_id:get_reaction_data(rxn_id, dataset)*20 for rxn_id in reaction_data.keys()}\n",
      "    b2 = escher.Builder(map_json='/Users/dbuser/escher-maps/v1/iJO1366/iJO1366_central_metabolism.json',\n",
      "                        model_json='/Users/dbuser/escher/escher/example_data/iJO1366.json',\n",
      "                        reaction_data=rxn_data)\n",
      "    display(b2.display_in_notebook())"
     ],
     "language": "python",
     "metadata": {},
     "outputs": [],
     "prompt_number": 4
    },
    {
     "cell_type": "code",
     "collapsed": false,
     "input": [
      "x = interact(show_name, dataset=widgets.ToggleButtonsWidget(values=[x.name for x in session.query(DifferentialExpression).limit(3).all()]))"
     ],
     "language": "python",
     "metadata": {},
     "outputs": [
      {
       "ename": "NameError",
       "evalue": "global name 'reaction_data' is not defined",
       "output_type": "pyerr",
       "traceback": [
        "\u001b[0;31m---------------------------------------------------------------------------\u001b[0m\n\u001b[0;31mNameError\u001b[0m                                 Traceback (most recent call last)",
        "\u001b[0;32m<ipython-input-4-619403fc5200>\u001b[0m in \u001b[0;36mshow_name\u001b[0;34m(dataset)\u001b[0m\n\u001b[1;32m      1\u001b[0m \u001b[0;32mdef\u001b[0m \u001b[0mshow_name\u001b[0m\u001b[0;34m(\u001b[0m\u001b[0mdataset\u001b[0m\u001b[0;34m)\u001b[0m\u001b[0;34m:\u001b[0m\u001b[0;34m\u001b[0m\u001b[0m\n\u001b[0;32m----> 2\u001b[0;31m     \u001b[0mrxn_data\u001b[0m \u001b[0;34m=\u001b[0m \u001b[0;34m{\u001b[0m\u001b[0mrxn_id\u001b[0m\u001b[0;34m:\u001b[0m\u001b[0mget_reaction_data\u001b[0m\u001b[0;34m(\u001b[0m\u001b[0mrxn_id\u001b[0m\u001b[0;34m,\u001b[0m \u001b[0mdataset\u001b[0m\u001b[0;34m)\u001b[0m\u001b[0;34m*\u001b[0m\u001b[0;36m20\u001b[0m \u001b[0;32mfor\u001b[0m \u001b[0mrxn_id\u001b[0m \u001b[0;32min\u001b[0m \u001b[0mreaction_data\u001b[0m\u001b[0;34m.\u001b[0m\u001b[0mkeys\u001b[0m\u001b[0;34m(\u001b[0m\u001b[0;34m)\u001b[0m\u001b[0;34m}\u001b[0m\u001b[0;34m\u001b[0m\u001b[0m\n\u001b[0m\u001b[1;32m      3\u001b[0m     b2 = escher.Builder(map_json='/Users/dbuser/escher-maps/v1/iJO1366/iJO1366_central_metabolism.json',\n\u001b[1;32m      4\u001b[0m                         \u001b[0mmodel_json\u001b[0m\u001b[0;34m=\u001b[0m\u001b[0;34m'/Users/dbuser/escher/escher/example_data/iJO1366.json'\u001b[0m\u001b[0;34m,\u001b[0m\u001b[0;34m\u001b[0m\u001b[0m\n\u001b[1;32m      5\u001b[0m                         reaction_data=rxn_data)\n",
        "\u001b[0;31mNameError\u001b[0m: global name 'reaction_data' is not defined"
       ]
      }
     ],
     "prompt_number": 5
    },
    {
     "cell_type": "code",
     "collapsed": false,
     "input": [
      "get_regulation_data('GAPD')"
     ],
     "language": "python",
     "metadata": {},
     "outputs": [
      {
       "html": [
        "<div style=\"max-height:1000px;max-width:1500px;overflow:auto;\">\n",
        "<table border=\"1\" class=\"dataframe\">\n",
        "  <thead>\n",
        "    <tr style=\"text-align: right;\">\n",
        "      <th></th>\n",
        "      <th>dataset</th>\n",
        "      <th>regulator</th>\n",
        "      <th>strain</th>\n",
        "      <th>carbon_source</th>\n",
        "      <th>nitrogen_source</th>\n",
        "      <th>electron_acceptor</th>\n",
        "      <th>gene</th>\n",
        "      <th>type</th>\n",
        "      <th>value</th>\n",
        "    </tr>\n",
        "  </thead>\n",
        "  <tbody>\n",
        "    <tr>\n",
        "      <th>2</th>\n",
        "      <td> 338</td>\n",
        "      <td> Crp</td>\n",
        "      <td> delta-crp</td>\n",
        "      <td> fructose</td>\n",
        "      <td> NH4Cl</td>\n",
        "      <td> O2</td>\n",
        "      <td> gapA</td>\n",
        "      <td> transcriptional</td>\n",
        "      <td> 0.79729</td>\n",
        "    </tr>\n",
        "    <tr>\n",
        "      <th>3</th>\n",
        "      <td> 352</td>\n",
        "      <td> Crp</td>\n",
        "      <td> delta-crp</td>\n",
        "      <td> glycerol</td>\n",
        "      <td> NH4Cl</td>\n",
        "      <td> O2</td>\n",
        "      <td> gapA</td>\n",
        "      <td> transcriptional</td>\n",
        "      <td>-1.00276</td>\n",
        "    </tr>\n",
        "    <tr>\n",
        "      <th>0</th>\n",
        "      <td> 352</td>\n",
        "      <td> Crp</td>\n",
        "      <td>        wt</td>\n",
        "      <td> glycerol</td>\n",
        "      <td> NH4Cl</td>\n",
        "      <td> O2</td>\n",
        "      <td> gapA</td>\n",
        "      <td> transcriptional</td>\n",
        "      <td>-1.00276</td>\n",
        "    </tr>\n",
        "    <tr>\n",
        "      <th>1</th>\n",
        "      <td> 338</td>\n",
        "      <td> Crp</td>\n",
        "      <td>        wt</td>\n",
        "      <td> fructose</td>\n",
        "      <td> NH4Cl</td>\n",
        "      <td> O2</td>\n",
        "      <td> gapA</td>\n",
        "      <td> transcriptional</td>\n",
        "      <td> 0.79729</td>\n",
        "    </tr>\n",
        "  </tbody>\n",
        "</table>\n",
        "</div>"
       ],
       "metadata": {},
       "output_type": "pyout",
       "prompt_number": 9,
       "text": [
        "   dataset regulator     strain carbon_source nitrogen_source  \\\n",
        "2      338       Crp  delta-crp      fructose           NH4Cl   \n",
        "3      352       Crp  delta-crp      glycerol           NH4Cl   \n",
        "0      352       Crp         wt      glycerol           NH4Cl   \n",
        "1      338       Crp         wt      fructose           NH4Cl   \n",
        "\n",
        "  electron_acceptor  gene             type    value  \n",
        "2                O2  gapA  transcriptional  0.79729  \n",
        "3                O2  gapA  transcriptional -1.00276  \n",
        "0                O2  gapA  transcriptional -1.00276  \n",
        "1                O2  gapA  transcriptional  0.79729  "
       ]
      }
     ],
     "prompt_number": 9
    },
    {
     "cell_type": "code",
     "collapsed": false,
     "input": [],
     "language": "python",
     "metadata": {},
     "outputs": []
    }
   ],
   "metadata": {}
  }
 ]
}