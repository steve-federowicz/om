{
 "metadata": {
  "name": "",
  "signature": "sha256:4a7af54783258094e754c056feb5ad0fa9b6387274e83a2b8d597633cf5ef3a7"
 },
 "nbformat": 3,
 "nbformat_minor": 0,
 "worksheets": [
  {
   "cells": [
    {
     "cell_type": "code",
     "collapsed": false,
     "input": [
      "from __future__ import print_function # For py 2.7 compat\n",
      "\n",
      "from IPython.html import widgets # Widget definitions\n",
      "from IPython.display import display # Used to display widgets in the notebook\n",
      "from IPython.utils.traitlets import Unicode # Used to declare attributes of our widget"
     ],
     "language": "python",
     "metadata": {},
     "outputs": [],
     "prompt_number": 1
    },
    {
     "cell_type": "code",
     "collapsed": false,
     "input": [
      "class DateWidget(widgets.DOMWidget):\n",
      "    _view_name = Unicode('DatePickerView', sync=True)\n",
      "    value = Unicode(sync=True)"
     ],
     "language": "python",
     "metadata": {},
     "outputs": [],
     "prompt_number": 2
    },
    {
     "cell_type": "code",
     "collapsed": false,
     "input": [
      "%%javascript\n",
      "\n",
      "\n",
      "require([\"widgets/js/widget\"], function(WidgetManager){\n",
      "    \n",
      "    // Define the DatePickerView\n",
      "    var DatePickerView = IPython.DOMWidgetView.extend({\n",
      "        render: function(){\n",
      "            // Create the date picker control.\n",
      "            this.$date = $('<input />')\n",
      "                .attr('type', 'date')\n",
      "                .appendTo(this.$el);\n",
      "        },\n",
      "        \n",
      "        update: function() {\n",
      "            \n",
      "            // Set the value of the date control and then call base.\n",
      "            this.$date.val(this.model.get('value')); // ISO format \"YYYY-MM-DDTHH:mm:ss.sssZ\" is required\n",
      "            return DatePickerView.__super__.update.apply(this);\n",
      "        },\n",
      "        \n",
      "        // Tell Backbone to listen to the change event of input controls (which the HTML date picker is)\n",
      "        events: {\"change\": \"handle_date_change\"},\n",
      "        \n",
      "        // Callback for when the date is changed.\n",
      "        handle_date_change: function(event) {\n",
      "            this.model.set('value', this.$date.val());\n",
      "            this.touch();\n",
      "        },\n",
      "    });\n",
      "    \n",
      "    // Register the DatePickerView with the widget manager.\n",
      "    WidgetManager.register_widget_view('DatePickerView', DatePickerView);\n",
      "});"
     ],
     "language": "python",
     "metadata": {},
     "outputs": [
      {
       "javascript": [
        "\n",
        "\n",
        "require([\"widgets/js/widget\"], function(WidgetManager){\n",
        "    \n",
        "    // Define the DatePickerView\n",
        "    var DatePickerView = IPython.DOMWidgetView.extend({\n",
        "        render: function(){\n",
        "            // Create the date picker control.\n",
        "            this.$date = $('<input />')\n",
        "                .attr('type', 'date')\n",
        "                .appendTo(this.$el);\n",
        "        },\n",
        "        \n",
        "        update: function() {\n",
        "            \n",
        "            // Set the value of the date control and then call base.\n",
        "            this.$date.val(this.model.get('value')); // ISO format \"YYYY-MM-DDTHH:mm:ss.sssZ\" is required\n",
        "            return DatePickerView.__super__.update.apply(this);\n",
        "        },\n",
        "        \n",
        "        // Tell Backbone to listen to the change event of input controls (which the HTML date picker is)\n",
        "        events: {\"change\": \"handle_date_change\"},\n",
        "        \n",
        "        // Callback for when the date is changed.\n",
        "        handle_date_change: function(event) {\n",
        "            this.model.set('value', this.$date.val());\n",
        "            this.touch();\n",
        "        },\n",
        "    });\n",
        "    \n",
        "    // Register the DatePickerView with the widget manager.\n",
        "    WidgetManager.register_widget_view('DatePickerView', DatePickerView);\n",
        "});"
       ],
       "metadata": {},
       "output_type": "display_data",
       "text": [
        "<IPython.core.display.Javascript at 0x10901f5d0>"
       ]
      }
     ],
     "prompt_number": 3
    },
    {
     "cell_type": "code",
     "collapsed": false,
     "input": [
      "my_widget = DateWidget()\n",
      "display(my_widget)"
     ],
     "language": "python",
     "metadata": {},
     "outputs": [],
     "prompt_number": 4
    },
    {
     "cell_type": "code",
     "collapsed": false,
     "input": [
      "my_widget"
     ],
     "language": "python",
     "metadata": {},
     "outputs": [],
     "prompt_number": 5
    },
    {
     "cell_type": "code",
     "collapsed": false,
     "input": [
      "my_widget.value"
     ],
     "language": "python",
     "metadata": {},
     "outputs": [
      {
       "metadata": {},
       "output_type": "pyout",
       "prompt_number": 6,
       "text": [
        "u''"
       ]
      }
     ],
     "prompt_number": 6
    },
    {
     "cell_type": "code",
     "collapsed": false,
     "input": [
      "my_widget.value = \"1998-12-07\" # December 1st, 1998"
     ],
     "language": "python",
     "metadata": {},
     "outputs": [],
     "prompt_number": 7
    },
    {
     "cell_type": "code",
     "collapsed": false,
     "input": [],
     "language": "python",
     "metadata": {},
     "outputs": [],
     "prompt_number": 31
    },
    {
     "cell_type": "code",
     "collapsed": false,
     "input": [],
     "language": "python",
     "metadata": {},
     "outputs": []
    }
   ],
   "metadata": {}
  }
 ]
}