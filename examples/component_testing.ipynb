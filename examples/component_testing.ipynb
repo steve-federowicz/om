{
 "metadata": {
  "name": "",
  "signature": "sha256:21de9ac645e78a20a30cbe0761a244514a33d2e0d719ebce66accb70c649614b"
 },
 "nbformat": 3,
 "nbformat_minor": 0,
 "worksheets": [
  {
   "cells": [
    {
     "cell_type": "code",
     "collapsed": false,
     "input": [
      "from om import base\n",
      "from om.components import *\n",
      "from om.data import *\n",
      "from unittest import TestCase, TestLoader, TextTestRunner\n",
      "\n",
      "ome = base.Session()"
     ],
     "language": "python",
     "metadata": {},
     "outputs": [],
     "prompt_number": 1
    },
    {
     "cell_type": "code",
     "collapsed": false,
     "input": [
      "cpge = ChIPPeakGeneExpression\n",
      "\n",
      "ome.query(cpge).filter(and_(cpge.expression_value < 0, cpge.pval < .05,\n",
      "                            cpge.carbon_source.in_(['fructose','glycerol']))).all()"
     ],
     "language": "python",
     "metadata": {},
     "outputs": [
      {
       "metadata": {},
       "output_type": "pyout",
       "prompt_number": 3,
       "text": [
        "[TF: Crp, Gene: yaiY, b0379, -1.67,  0.00 Condition: glycerol, NH4Cl, O2 Peak: 398681-398882 value:9968.70,\n",
        " TF: Crp, Gene: yaiY, b0379, -1.67,  0.00 Condition: glycerol, NH4Cl, O2 Peak: 398711-398912 value:38234.30,\n",
        " TF: Crp, Gene: entC, b0593, -4.21,  0.00 Condition: glycerol, NH4Cl, O2 Peak: 628991-629192 value:5808.00,\n",
        " TF: Crp, Gene: insH1, b0552,  -inf,  0.00 Condition: glycerol, NH4Cl, O2 Peak: 575989-576190 value:9718.00,\n",
        " TF: Crp, Gene: entE, b0594, -4.39,  0.00 Condition: glycerol, NH4Cl, O2 Peak: 628991-629192 value:5808.00,\n",
        " TF: Crp, Gene: tam, b1519, -1.77,  0.00 Condition: glycerol, NH4Cl, O2 Peak: 1608651-1608852 value:4410.00,\n",
        " TF: Crp, Gene: mdtB, b2075, -0.70,  0.01 Condition: glycerol, NH4Cl, O2 Peak: 2165034-2165235 value:14879.00,\n",
        " TF: Crp, Gene: mdtB, b2075, -0.70,  0.01 Condition: glycerol, NH4Cl, O2 Peak: 2165022-2165223 value:10754.40,\n",
        " TF: Crp, Gene: mdtB, b2075, -0.70,  0.01 Condition: glycerol, NH4Cl, O2 Peak: 2165042-2165243 value:17703.60,\n",
        " TF: Crp, Gene: mdtB, b2075, -0.70,  0.01 Condition: glycerol, NH4Cl, O2 Peak: 2151571-2151772 value:8320.00,\n",
        " TF: Crp, Gene: cdd, b2143, -0.65,  0.01 Condition: glycerol, NH4Cl, O2 Peak: 2229675-2229876 value:8384.00,\n",
        " TF: Crp, Gene: bcp, b2480, -0.69,  0.01 Condition: glycerol, NH4Cl, O2 Peak: 2598914-2599115 value:6163.00,\n",
        " TF: Crp, Gene: guaB, b2508, -1.38,  0.00 Condition: glycerol, NH4Cl, O2 Peak: 2632105-2632306 value:9194.50,\n",
        " TF: Crp, Gene: guaB, b2508, -1.38,  0.00 Condition: glycerol, NH4Cl, O2 Peak: 2632129-2632330 value:4874.50,\n",
        " TF: Crp, Gene: glnB, b2553, -0.73,  0.00 Condition: glycerol, NH4Cl, O2 Peak: 2685353-2685554 value:4657.00,\n",
        " TF: Crp, Gene: nlpD, b2742, -0.83,  0.00 Condition: glycerol, NH4Cl, O2 Peak: 2866029-2866230 value:6459.00,\n",
        " TF: Crp, Gene: fbaA, b2925, -0.71,  0.00 Condition: glycerol, NH4Cl, O2 Peak: 3071738-3071939 value:5903.00,\n",
        " TF: Crp, Gene: mutY, b2961, -0.75,  0.00 Condition: glycerol, NH4Cl, O2 Peak: 3103505-3103706 value:10829.90,\n",
        " TF: Crp, Gene: mutY, b2961, -0.75,  0.00 Condition: glycerol, NH4Cl, O2 Peak: 3103580-3103781 value:3839.10,\n",
        " TF: Crp, Gene: mltC, b2963, -0.69,  0.00 Condition: glycerol, NH4Cl, O2 Peak: 3103505-3103706 value:10829.90,\n",
        " TF: Crp, Gene: mltC, b2963, -0.69,  0.00 Condition: glycerol, NH4Cl, O2 Peak: 3103580-3103781 value:3839.10,\n",
        " TF: Crp, Gene: exbB, b3006, -1.53,  0.00 Condition: glycerol, NH4Cl, O2 Peak: 3151460-3151661 value:5551.00,\n",
        " TF: Crp, Gene: rpoS, b2741, -1.23,  0.00 Condition: glycerol, NH4Cl, O2 Peak: 2866029-2866230 value:6459.00,\n",
        " TF: Crp, Gene: exbD, b3005, -1.49,  0.00 Condition: glycerol, NH4Cl, O2 Peak: 3151460-3151661 value:5551.00,\n",
        " TF: Crp, Gene: deaD, b3162, -0.47,  0.02 Condition: glycerol, NH4Cl, O2 Peak: 3305905-3306106 value:5864.00,\n",
        " TF: Crp, Gene: hslR, b3400, -0.82,  0.00 Condition: glycerol, NH4Cl, O2 Peak: 3530722-3530923 value:7161.00,\n",
        " TF: Crp, Gene: glpR, b3423, -0.56,  0.01 Condition: glycerol, NH4Cl, O2 Peak: 3559902-3560103 value:5143.00,\n",
        " TF: Crp, Gene: panM, b3459, -1.11,  0.00 Condition: glycerol, NH4Cl, O2 Peak: 3598766-3598967 value:10877.50,\n",
        " TF: Crp, Gene: panM, b3459, -1.11,  0.00 Condition: glycerol, NH4Cl, O2 Peak: 3598786-3598987 value:5475.50,\n",
        " TF: Crp, Gene: rpoH, b3461, -0.73,  0.00 Condition: glycerol, NH4Cl, O2 Peak: 3598766-3598967 value:10877.50,\n",
        " TF: Crp, Gene: rpoH, b3461, -0.73,  0.00 Condition: glycerol, NH4Cl, O2 Peak: 3598786-3598987 value:5475.50,\n",
        " TF: Crp, Gene: treF, b3519, -3.01,  0.00 Condition: glycerol, NH4Cl, O2 Peak: 3667366-3667567 value:4329.00,\n",
        " TF: Crp, Gene: hpf, b3203, -1.49,  0.00 Condition: glycerol, NH4Cl, O2 Peak: 3348506-3348707 value:13355.00,\n",
        " TF: Crp, Gene: hslO, b3401, -1.03,  0.00 Condition: glycerol, NH4Cl, O2 Peak: 3530722-3530923 value:7161.00,\n",
        " TF: Crp, Gene: udp, b3831, -0.50,  0.01 Condition: glycerol, NH4Cl, O2 Peak: 4014322-4014523 value:5458.20,\n",
        " TF: Crp, Gene: udp, b3831, -0.50,  0.01 Condition: glycerol, NH4Cl, O2 Peak: 4014246-4014447 value:16854.80,\n",
        " TF: Crp, Gene: ilvM, b3769, -1.56,  0.00 Condition: glycerol, NH4Cl, O2 Peak: 3948329-3948530 value:6923.00,\n",
        " TF: Crp, Gene: ilvD, b3771, -1.16,  0.00 Condition: glycerol, NH4Cl, O2 Peak: 3948329-3948530 value:6923.00,\n",
        " TF: Crp, Gene: ytfB, b4206, -0.86,  0.00 Condition: glycerol, NH4Cl, O2 Peak: 4427527-4427728 value:5120.00,\n",
        " TF: Crp, Gene: osmY, b4376, -4.49,  0.00 Condition: glycerol, NH4Cl, O2 Peak: 4609227-4609428 value:10399.00,\n",
        " TF: Crp, Gene: deoC, b4381, -1.92,  0.00 Condition: glycerol, NH4Cl, O2 Peak: 4615165-4615366 value:5679.40,\n",
        " TF: Crp, Gene: deoC, b4381, -1.92,  0.00 Condition: glycerol, NH4Cl, O2 Peak: 4615133-4615334 value:8743.60,\n",
        " TF: Crp, Gene: deoB, b4383, -1.50,  0.00 Condition: glycerol, NH4Cl, O2 Peak: 4615165-4615366 value:5679.40,\n",
        " TF: Crp, Gene: deoB, b4383, -1.50,  0.00 Condition: glycerol, NH4Cl, O2 Peak: 4615133-4615334 value:8743.60,\n",
        " TF: Crp, Gene: yibT, b4554, -1.94,  0.01 Condition: glycerol, NH4Cl, O2 Peak: 3775247-3775448 value:5468.00,\n",
        " TF: Crp, Gene: metN, b0199, -0.64,  0.01 Condition: fructose, NH4Cl, O2 Peak: 223356-223557 value:9664.00,\n",
        " TF: Crp, Gene: nrdR, b0413, -0.66,  0.00 Condition: fructose, NH4Cl, O2 Peak: 431272-431473 value:9414.00,\n",
        " TF: Crp, Gene: yaiY, b0379, -2.89,  0.00 Condition: fructose, NH4Cl, O2 Peak: 398680-398881 value:19020.80,\n",
        " TF: Crp, Gene: yaiY, b0379, -2.89,  0.00 Condition: fructose, NH4Cl, O2 Peak: 398709-398910 value:67414.20,\n",
        " TF: Crp, Gene: ddlA, b0381, -0.57,  0.01 Condition: fructose, NH4Cl, O2 Peak: 400227-400428 value:4497.70,\n",
        " TF: Crp, Gene: ddlA, b0381, -0.57,  0.01 Condition: fructose, NH4Cl, O2 Peak: 398680-398881 value:19020.80,\n",
        " TF: Crp, Gene: ddlA, b0381, -0.57,  0.01 Condition: fructose, NH4Cl, O2 Peak: 400185-400386 value:5584.30,\n",
        " TF: Crp, Gene: ddlA, b0381, -0.57,  0.01 Condition: fructose, NH4Cl, O2 Peak: 398709-398910 value:67414.20,\n",
        " TF: Crp, Gene: insH1, b0552,  -inf,  0.00 Condition: fructose, NH4Cl, O2 Peak: 575988-576189 value:11681.00,\n",
        " TF: Crp, Gene: entE, b0594, -0.45,  0.03 Condition: fructose, NH4Cl, O2 Peak: 628990-629191 value:6455.00,\n",
        " TF: Crp, Gene: lsrF, b1517, -0.99,  0.00 Condition: fructose, NH4Cl, O2 Peak: 1608651-1608852 value:5234.00,\n",
        " TF: Crp, Gene: tam, b1519, -1.07,  0.00 Condition: fructose, NH4Cl, O2 Peak: 1608651-1608852 value:5234.00,\n",
        " TF: Crp, Gene: mdtB, b2075, -0.72,  0.01 Condition: fructose, NH4Cl, O2 Peak: 2165034-2165235 value:11287.90,\n",
        " TF: Crp, Gene: mdtB, b2075, -0.72,  0.01 Condition: fructose, NH4Cl, O2 Peak: 2165022-2165223 value:10145.00,\n",
        " TF: Crp, Gene: mdtB, b2075, -0.72,  0.01 Condition: fructose, NH4Cl, O2 Peak: 2165042-2165243 value:17084.00,\n",
        " TF: Crp, Gene: mdtB, b2075, -0.72,  0.01 Condition: fructose, NH4Cl, O2 Peak: 2151570-2151771 value:7302.00,\n",
        " TF: Crp, Gene: cdd, b2143, -1.32,  0.00 Condition: fructose, NH4Cl, O2 Peak: 2229675-2229876 value:11425.00,\n",
        " TF: Crp, Gene: nlpD, b2742, -1.40,  0.00 Condition: fructose, NH4Cl, O2 Peak: 2866030-2866231 value:6731.00,\n",
        " TF: Crp, Gene: guaB, b2508, -1.41,  0.00 Condition: fructose, NH4Cl, O2 Peak: 2632105-2632306 value:12036.00,\n",
        " TF: Crp, Gene: rpoS, b2741, -1.49,  0.00 Condition: fructose, NH4Cl, O2 Peak: 2866030-2866231 value:6731.00,\n",
        " TF: Crp, Gene: mutY, b2961, -0.53,  0.01 Condition: fructose, NH4Cl, O2 Peak: 3103505-3103706 value:16925.00,\n",
        " TF: Crp, Gene: mltC, b2963, -0.49,  0.02 Condition: fructose, NH4Cl, O2 Peak: 3103505-3103706 value:16925.00,\n",
        " TF: Crp, Gene: hpf, b3203, -1.21,  0.00 Condition: fructose, NH4Cl, O2 Peak: 3348507-3348708 value:8274.00,\n",
        " TF: Crp, Gene: livJ, b3460, -0.74,  0.00 Condition: fructose, NH4Cl, O2 Peak: 3598829-3599030 value:4175.70,\n",
        " TF: Crp, Gene: livJ, b3460, -0.74,  0.00 Condition: fructose, NH4Cl, O2 Peak: 3598786-3598987 value:6495.80,\n",
        " TF: Crp, Gene: livJ, b3460, -0.74,  0.00 Condition: fructose, NH4Cl, O2 Peak: 3598760-3598961 value:12763.50,\n",
        " TF: Crp, Gene: ilvD, b3771, -0.91,  0.00 Condition: fructose, NH4Cl, O2 Peak: 3948328-3948529 value:8686.00,\n",
        " TF: Crp, Gene: glpK, b3926, -2.39,  0.00 Condition: fructose, NH4Cl, O2 Peak: 4115765-4115966 value:13025.00,\n",
        " TF: Crp, Gene: ytfH, b4212, -0.87,  0.02 Condition: fructose, NH4Cl, O2 Peak: 4434544-4434745 value:6503.00,\n",
        " TF: Crp, Gene: deoC, b4381, -1.72,  0.00 Condition: fructose, NH4Cl, O2 Peak: 4615165-4615366 value:7955.30,\n",
        " TF: Crp, Gene: deoC, b4381, -1.72,  0.00 Condition: fructose, NH4Cl, O2 Peak: 4615133-4615334 value:14764.70,\n",
        " TF: Crp, Gene: deoB, b4383, -1.72,  0.00 Condition: fructose, NH4Cl, O2 Peak: 4615165-4615366 value:7955.30,\n",
        " TF: Crp, Gene: deoB, b4383, -1.72,  0.00 Condition: fructose, NH4Cl, O2 Peak: 4615133-4615334 value:14764.70,\n",
        " TF: Crp, Gene: osmY, b4376, -3.44,  0.00 Condition: fructose, NH4Cl, O2 Peak: 4609228-4609429 value:15395.00,\n",
        " TF: Crp, Gene: thrB, b0003, -0.52,  0.01 Condition: glycerol, NH4Cl, O2 Peak: 70-271 value:5668.50,\n",
        " TF: Crp, Gene: thrB, b0003, -0.52,  0.01 Condition: glycerol, NH4Cl, O2 Peak: 170-371 value:3400.50,\n",
        " TF: Crp, Gene: psiF, b0384, -2.36,  0.00 Condition: glycerol, NH4Cl, O2 Peak: 400185-400386 value:7335.00,\n",
        " TF: Crp, Gene: thrA, b0002, -0.65,  0.00 Condition: glycerol, NH4Cl, O2 Peak: 70-271 value:5668.50,\n",
        " TF: Crp, Gene: thrA, b0002, -0.65,  0.00 Condition: glycerol, NH4Cl, O2 Peak: 170-371 value:3400.50,\n",
        " TF: Crp, Gene: yaiW, b0378, -0.83,  0.00 Condition: glycerol, NH4Cl, O2 Peak: 398681-398882 value:9968.70,\n",
        " TF: Crp, Gene: yaiW, b0378, -0.83,  0.00 Condition: glycerol, NH4Cl, O2 Peak: 398711-398912 value:38234.30,\n",
        " TF: Crp, Gene: entB, b0595, -4.65,  0.00 Condition: glycerol, NH4Cl, O2 Peak: 628991-629192 value:5808.00,\n",
        " TF: Crp, Gene: entH, b0597, -4.21,  0.00 Condition: glycerol, NH4Cl, O2 Peak: 628991-629192 value:5808.00,\n",
        " TF: Crp, Gene: aroG, b0754, -0.86,  0.00 Condition: glycerol, NH4Cl, O2 Peak: 784636-784837 value:12668.00,\n",
        " TF: Crp, Gene: entA, b0596, -4.43,  0.00 Condition: glycerol, NH4Cl, O2 Peak: 628991-629192 value:5808.00,\n",
        " TF: Crp, Gene: pagP, b0622, -1.19,  0.00 Condition: glycerol, NH4Cl, O2 Peak: 656341-656542 value:10022.40,\n",
        " TF: Crp, Gene: pagP, b0622, -1.19,  0.00 Condition: glycerol, NH4Cl, O2 Peak: 656382-656583 value:25806.40,\n",
        " TF: Crp, Gene: pagP, b0622, -1.19,  0.00 Condition: glycerol, NH4Cl, O2 Peak: 656494-656695 value:7505.20,\n",
        " TF: Crp, Gene: fldA, b0684, -0.77,  0.00 Condition: glycerol, NH4Cl, O2 Peak: 709834-710035 value:6641.00,\n",
        " TF: Crp, Gene: ldtB, b0819, -1.05,  0.00 Condition: glycerol, NH4Cl, O2 Peak: 855060-855261 value:7996.00,\n",
        " TF: Crp, Gene: clpA, b0882, -1.14,  0.00 Condition: glycerol, NH4Cl, O2 Peak: 921962-922163 value:7964.00,\n",
        " TF: Crp, Gene: tonB, b1252, -1.51,  0.00 Condition: glycerol, NH4Cl, O2 Peak: 1311925-1312126 value:4794.00,\n",
        " TF: Crp, Gene: ynfE, b1587, -0.54,  0.02 Condition: glycerol, NH4Cl, O2 Peak: 1665330-1665531 value:5461.40,\n",
        " TF: Crp, Gene: ynfE, b1587, -0.54,  0.02 Condition: glycerol, NH4Cl, O2 Peak: 1665304-1665505 value:6801.60,\n",
        " TF: Crp, Gene: spy, b1743, -1.35,  0.00 Condition: glycerol, NH4Cl, O2 Peak: 1823069-1823270 value:3008.00,\n",
        " TF: Crp, Gene: ynfG, b1589, -0.82,  0.03 Condition: glycerol, NH4Cl, O2 Peak: 1665330-1665531 value:5461.40,\n",
        " TF: Crp, Gene: ynfG, b1589, -0.82,  0.03 Condition: glycerol, NH4Cl, O2 Peak: 1665304-1665505 value:6801.60,\n",
        " TF: Crp, Gene: pfkB, b1723, -1.83,  0.00 Condition: glycerol, NH4Cl, O2 Peak: 1805704-1805905 value:2840.00,\n",
        " TF: Crp, Gene: gapA, b1779, -0.60,  0.01 Condition: glycerol, NH4Cl, O2 Peak: 1860382-1860583 value:4451.60,\n",
        " TF: Crp, Gene: gapA, b1779, -0.60,  0.01 Condition: glycerol, NH4Cl, O2 Peak: 1860538-1860739 value:10124.30,\n",
        " TF: Crp, Gene: gapA, b1779, -0.60,  0.01 Condition: glycerol, NH4Cl, O2 Peak: 1860525-1860726 value:14053.10,\n",
        " TF: Crp, Gene: mdtD, b2077, -1.29,  0.02 Condition: glycerol, NH4Cl, O2 Peak: 2165034-2165235 value:14879.00,\n",
        " TF: Crp, Gene: mdtD, b2077, -1.29,  0.02 Condition: glycerol, NH4Cl, O2 Peak: 2165022-2165223 value:10754.40,\n",
        " TF: Crp, Gene: mdtD, b2077, -1.29,  0.02 Condition: glycerol, NH4Cl, O2 Peak: 2151571-2151772 value:8320.00,\n",
        " TF: Crp, Gene: mdtD, b2077, -1.29,  0.02 Condition: glycerol, NH4Cl, O2 Peak: 2165042-2165243 value:17703.60,\n",
        " TF: Crp, Gene: baeR, b2079, -1.18,  0.00 Condition: glycerol, NH4Cl, O2 Peak: 2165034-2165235 value:14879.00,\n",
        " TF: Crp, Gene: baeR, b2079, -1.18,  0.00 Condition: glycerol, NH4Cl, O2 Peak: 2165022-2165223 value:10754.40,\n",
        " TF: Crp, Gene: baeR, b2079, -1.18,  0.00 Condition: glycerol, NH4Cl, O2 Peak: 2151571-2151772 value:8320.00,\n",
        " TF: Crp, Gene: baeR, b2079, -1.18,  0.00 Condition: glycerol, NH4Cl, O2 Peak: 2165042-2165243 value:17703.60,\n",
        " TF: Crp, Gene: mdtA, b2074, -1.24,  0.00 Condition: glycerol, NH4Cl, O2 Peak: 2165034-2165235 value:14879.00,\n",
        " TF: Crp, Gene: mdtA, b2074, -1.24,  0.00 Condition: glycerol, NH4Cl, O2 Peak: 2165022-2165223 value:10754.40,\n",
        " TF: Crp, Gene: mdtA, b2074, -1.24,  0.00 Condition: glycerol, NH4Cl, O2 Peak: 2151571-2151772 value:8320.00,\n",
        " TF: Crp, Gene: mdtA, b2074, -1.24,  0.00 Condition: glycerol, NH4Cl, O2 Peak: 2165042-2165243 value:17703.60,\n",
        " TF: Crp, Gene: mdtC, b2076, -0.74,  0.00 Condition: glycerol, NH4Cl, O2 Peak: 2165034-2165235 value:14879.00,\n",
        " TF: Crp, Gene: mdtC, b2076, -0.74,  0.00 Condition: glycerol, NH4Cl, O2 Peak: 2165022-2165223 value:10754.40,\n",
        " TF: Crp, Gene: mdtC, b2076, -0.74,  0.00 Condition: glycerol, NH4Cl, O2 Peak: 2151571-2151772 value:8320.00,\n",
        " TF: Crp, Gene: mdtC, b2076, -0.74,  0.00 Condition: glycerol, NH4Cl, O2 Peak: 2165042-2165243 value:17703.60,\n",
        " TF: Crp, Gene: baeS, b2078, -1.25,  0.00 Condition: glycerol, NH4Cl, O2 Peak: 2165034-2165235 value:14879.00,\n",
        " TF: Crp, Gene: baeS, b2078, -1.25,  0.00 Condition: glycerol, NH4Cl, O2 Peak: 2165022-2165223 value:10754.40,\n",
        " TF: Crp, Gene: baeS, b2078, -1.25,  0.00 Condition: glycerol, NH4Cl, O2 Peak: 2151571-2151772 value:8320.00,\n",
        " TF: Crp, Gene: baeS, b2078, -1.25,  0.00 Condition: glycerol, NH4Cl, O2 Peak: 2165042-2165243 value:17703.60,\n",
        " TF: Crp, Gene: gcvR, b2479, -1.11,  0.00 Condition: glycerol, NH4Cl, O2 Peak: 2598914-2599115 value:6163.00,\n",
        " TF: Crp, Gene: hyfI, b2489, -0.77,  0.04 Condition: glycerol, NH4Cl, O2 Peak: 2598914-2599115 value:6163.00,\n",
        " TF: Crp, Gene: guaA, b2507, -1.04,  0.00 Condition: glycerol, NH4Cl, O2 Peak: 2632105-2632306 value:9194.50,\n",
        " TF: Crp, Gene: guaA, b2507, -1.04,  0.00 Condition: glycerol, NH4Cl, O2 Peak: 2632129-2632330 value:4874.50,\n",
        " TF: Crp, Gene: xseA, b2509, -1.11,  0.00 Condition: glycerol, NH4Cl, O2 Peak: 2632105-2632306 value:9194.50,\n",
        " TF: Crp, Gene: xseA, b2509, -1.11,  0.00 Condition: glycerol, NH4Cl, O2 Peak: 2632129-2632330 value:4874.50,\n",
        " TF: Crp, Gene: hmp, b2552, -1.25,  0.00 Condition: glycerol, NH4Cl, O2 Peak: 2685353-2685554 value:4657.00,\n",
        " TF: Crp, Gene: yfiF, b2581, -0.57,  0.00 Condition: glycerol, NH4Cl, O2 Peak: 2717860-2718061 value:9748.00,\n",
        " TF: Crp, Gene: mntH, b2392, -2.32,  0.00 Condition: glycerol, NH4Cl, O2 Peak: 2510864-2511065 value:3072.70,\n",
        " TF: Crp, Gene: mntH, b2392, -2.32,  0.00 Condition: glycerol, NH4Cl, O2 Peak: 2510919-2511120 value:4154.30,\n",
        " TF: Crp, Gene: crr, b2417, -0.93,  0.00 Condition: glycerol, NH4Cl, O2 Peak: 2531429-2531630 value:15632.10,\n",
        " TF: Crp, Gene: crr, b2417, -0.93,  0.00 Condition: glycerol, NH4Cl, O2 Peak: 2531298-2531499 value:10995.30,\n",
        " TF: Crp, Gene: crr, b2417, -0.93,  0.00 Condition: glycerol, NH4Cl, O2 Peak: 2531388-2531589 value:8695.30,\n",
        " TF: Crp, Gene: crr, b2417, -0.93,  0.00 Condition: glycerol, NH4Cl, O2 Peak: 2531467-2531668 value:10556.30,\n",
        " TF: Crp, Gene: yffP, b2447, -1.07,  0.01 Condition: glycerol, NH4Cl, O2 Peak: 2561314-2561515 value:3185.70,\n",
        " TF: Crp, Gene: yffP, b2447, -1.07,  0.01 Condition: glycerol, NH4Cl, O2 Peak: 2561335-2561536 value:6335.30,\n",
        " TF: Crp, Gene: pheA, b2599, -0.66,  0.00 Condition: glycerol, NH4Cl, O2 Peak: 2734887-2735088 value:8117.90,\n",
        " TF: Crp, Gene: pheA, b2599, -0.66,  0.00 Condition: glycerol, NH4Cl, O2 Peak: 2735054-2735255 value:34869.10,\n",
        " TF: Crp, Gene: pheA, b2599, -0.66,  0.00 Condition: glycerol, NH4Cl, O2 Peak: 2735031-2735232 value:14952.00,\n",
        " TF: Crp, Gene: yggN, b2958, -0.67,  0.00 Condition: glycerol, NH4Cl, O2 Peak: 3098843-3099044 value:6534.00,\n",
        " TF: Crp, Gene: zupT, b3040, -1.13,  0.00 Condition: glycerol, NH4Cl, O2 Peak: 3182628-3182829 value:5611.00,\n",
        " TF: Crp, Gene: yggX, b2962, -0.62,  0.02 Condition: glycerol, NH4Cl, O2 Peak: 3103580-3103781 value:3839.10,\n",
        " TF: Crp, Gene: yggX, b2962, -0.62,  0.02 Condition: glycerol, NH4Cl, O2 Peak: 3103505-3103706 value:10829.90,\n",
        " TF: Crp, Gene: rpoN, b3202, -0.50,  0.01 Condition: glycerol, NH4Cl, O2 Peak: 3348506-3348707 value:13355.00,\n",
        " TF: Crp, Gene: ptsN, b3204, -1.04,  0.00 Condition: glycerol, NH4Cl, O2 Peak: 3348506-3348707 value:13355.00,\n",
        " TF: Crp, Gene: yrbL, b3207, -0.86,  0.00 Condition: glycerol, NH4Cl, O2 Peak: 3348506-3348707 value:13355.00,\n",
        " TF: Crp, Gene: fic, b3361, -2.41,  0.00 Condition: glycerol, NH4Cl, O2 Peak: 3490445-3490646 value:3937.60,\n",
        " TF: Crp, Gene: fic, b3361, -2.41,  0.00 Condition: glycerol, NH4Cl, O2 Peak: 3490395-3490596 value:10038.60,\n",
        " TF: Crp, Gene: fic, b3361, -2.41,  0.00 Condition: glycerol, NH4Cl, O2 Peak: 3490383-3490584 value:15508.30,\n",
        " TF: Crp, Gene: fic, b3361, -2.41,  0.00 Condition: glycerol, NH4Cl, O2 Peak: 3490508-3490709 value:6215.50,\n",
        " TF: Crp, Gene: lptB, b3201, -0.67,  0.00 Condition: glycerol, NH4Cl, O2 Peak: 3348506-3348707 value:13355.00,\n",
        " TF: Crp, Gene: yhbJ, b3205, -0.73,  0.00 Condition: glycerol, NH4Cl, O2 Peak: 3348506-3348707 value:13355.00,\n",
        " TF: Crp, Gene: pabA, b3360, -0.79,  0.00 Condition: glycerol, NH4Cl, O2 Peak: 3490445-3490646 value:3937.60,\n",
        " TF: Crp, Gene: pabA, b3360, -0.79,  0.00 Condition: glycerol, NH4Cl, O2 Peak: 3490395-3490596 value:10038.60,\n",
        " TF: Crp, Gene: pabA, b3360, -0.79,  0.00 Condition: glycerol, NH4Cl, O2 Peak: 3490383-3490584 value:15508.30,\n",
        " TF: Crp, Gene: pabA, b3360, -0.79,  0.00 Condition: glycerol, NH4Cl, O2 Peak: 3490508-3490709 value:6215.50,\n",
        " TF: Crp, Gene: yifE, b3764, -0.42,  0.04 Condition: glycerol, NH4Cl, O2 Peak: 3948329-3948530 value:6923.00,\n",
        " TF: Crp, Gene: ilvE, b3770, -1.09,  0.00 Condition: glycerol, NH4Cl, O2 Peak: 3948329-3948530 value:6923.00,\n",
        " TF: Crp, Gene: ilvA, b3772, -0.94,  0.00 Condition: glycerol, NH4Cl, O2 Peak: 3948329-3948530 value:6923.00,\n",
        " TF: Crp, Gene: tufB, b3980, -5.39,  0.00 Condition: glycerol, NH4Cl, O2 Peak: 4173309-4173510 value:7655.00,\n",
        " TF: Crp, Gene: nepI, b3662, -1.89,  0.00 Condition: glycerol, NH4Cl, O2 Peak: 3839688-3839889 value:7657.00,\n",
        " TF: Crp, Gene: ysgA, b3830, -1.04,  0.00 Condition: glycerol, NH4Cl, O2 Peak: 4014246-4014447 value:16854.80,\n",
        " TF: Crp, Gene: ysgA, b3830, -1.04,  0.00 Condition: glycerol, NH4Cl, O2 Peak: 4014322-4014523 value:5458.20,\n",
        " TF: Crp, Gene: tyrB, b4054, -0.82,  0.00 Condition: glycerol, NH4Cl, O2 Peak: 4267312-4267513 value:10862.00,\n",
        " TF: Crp, Gene: deoA, b4382, -1.89,  0.00 Condition: glycerol, NH4Cl, O2 Peak: 4615133-4615334 value:8743.60,\n",
        " TF: Crp, Gene: deoA, b4382, -1.89,  0.00 Condition: glycerol, NH4Cl, O2 Peak: 4615165-4615366 value:5679.40,\n",
        " TF: Crp, Gene: deoD, b4384, -0.59,  0.00 Condition: glycerol, NH4Cl, O2 Peak: 4615133-4615334 value:8743.60,\n",
        " TF: Crp, Gene: deoD, b4384, -0.59,  0.00 Condition: glycerol, NH4Cl, O2 Peak: 4615165-4615366 value:5679.40,\n",
        " TF: Crp, Gene: yjiR, b4340, -0.53,  0.02 Condition: glycerol, NH4Cl, O2 Peak: 4570068-4570269 value:4234.80,\n",
        " TF: Crp, Gene: yjiR, b4340, -0.53,  0.02 Condition: glycerol, NH4Cl, O2 Peak: 4570093-4570294 value:3190.20,\n",
        " TF: Crp, Gene: yicS, b4555, -1.66,  0.04 Condition: glycerol, NH4Cl, O2 Peak: 3839688-3839889 value:7657.00,\n",
        " TF: Crp, Gene: thrB, b0003, -0.62,  0.00 Condition: fructose, NH4Cl, O2 Peak: 69-270 value:10116.00,\n",
        " TF: Crp, Gene: thrA, b0002, -0.86,  0.00 Condition: fructose, NH4Cl, O2 Peak: 69-270 value:10116.00,\n",
        " TF: Crp, Gene: caiB, b0038, -0.93,  0.00 Condition: fructose, NH4Cl, O2 Peak: 42217-42418 value:8746.20,\n",
        " TF: Crp, Gene: caiB, b0038, -0.93,  0.00 Condition: fructose, NH4Cl, O2 Peak: 42101-42302 value:12967.70,\n",
        " TF: Crp, Gene: caiB, b0038, -0.93,  0.00 Condition: fructose, NH4Cl, O2 Peak: 42085-42286 value:7966.50,\n",
        " TF: Crp, Gene: caiB, b0038, -0.93,  0.00 Condition: fructose, NH4Cl, O2 Peak: 42004-42205 value:8780.00,\n",
        " TF: Crp, Gene: caiB, b0038, -0.93,  0.00 Condition: fructose, NH4Cl, O2 Peak: 41967-42168 value:10815.00,\n",
        " TF: Crp, Gene: caiB, b0038, -0.93,  0.00 Condition: fructose, NH4Cl, O2 Peak: 41931-42132 value:13650.90,\n",
        " TF: Crp, Gene: caiB, b0038, -0.93,  0.00 Condition: fructose, NH4Cl, O2 Peak: 41843-42044 value:9514.50,\n",
        " TF: Crp, Gene: caiB, b0038, -0.93,  0.00 Condition: fructose, NH4Cl, O2 Peak: 42140-42341 value:8614.20,\n",
        " TF: Crp, Gene: dnaQ, b0215, -0.74,  0.00 Condition: fructose, NH4Cl, O2 Peak: 236817-237018 value:7904.00,\n",
        " TF: Crp, Gene: yaiW, b0378, -0.82,  0.00 Condition: fructose, NH4Cl, O2 Peak: 398680-398881 value:19020.80,\n",
        " TF: Crp, Gene: yaiW, b0378, -0.82,  0.00 Condition: fructose, NH4Cl, O2 Peak: 398709-398910 value:67414.20,\n",
        " TF: Crp, Gene: psiF, b0384, -2.21,  0.00 Condition: fructose, NH4Cl, O2 Peak: 400227-400428 value:4497.70,\n",
        " TF: Crp, Gene: psiF, b0384, -2.21,  0.00 Condition: fructose, NH4Cl, O2 Peak: 400185-400386 value:5584.30,\n",
        " TF: Crp, Gene: pgpA, b0418, -0.81,  0.01 Condition: fructose, NH4Cl, O2 Peak: 431272-431473 value:9414.00,\n",
        " TF: Crp, Gene: entB, b0595, -0.86,  0.01 Condition: fructose, NH4Cl, O2 Peak: 628990-629191 value:6455.00,\n",
        " TF: Crp, Gene: pagP, b0622, -1.95,  0.00 Condition: fructose, NH4Cl, O2 Peak: 656341-656542 value:6916.70,\n",
        " TF: Crp, Gene: pagP, b0622, -1.95,  0.00 Condition: fructose, NH4Cl, O2 Peak: 656382-656583 value:25477.30,\n",
        " TF: Crp, Gene: flc, b0624, -1.02,  0.00 Condition: fructose, NH4Cl, O2 Peak: 656341-656542 value:6916.70,\n",
        " TF: Crp, Gene: flc, b0624, -1.02,  0.00 Condition: fructose, NH4Cl, O2 Peak: 656382-656583 value:25477.30,\n",
        " TF: Crp, Gene: sbmA, b0377, -0.89,  0.00 Condition: fructose, NH4Cl, O2 Peak: 398680-398881 value:19020.80,\n",
        " TF: Crp, Gene: sbmA, b0377, -0.89,  0.00 Condition: fructose, NH4Cl, O2 Peak: 398709-398910 value:67414.20,\n",
        " TF: Crp, Gene: thiL, b0417, -0.97,  0.01 Condition: fructose, NH4Cl, O2 Peak: 431272-431473 value:9414.00,\n",
        " TF: Crp, Gene: entA, b0596, -0.78,  0.02 Condition: fructose, NH4Cl, O2 Peak: 628990-629191 value:6455.00,\n",
        " TF: Crp, Gene: ybeZ, b0660, -0.88,  0.00 Condition: fructose, NH4Cl, O2 Peak: 688285-688486 value:3478.00,\n",
        " TF: Crp, Gene: ldtB, b0819, -0.78,  0.00 Condition: fructose, NH4Cl, O2 Peak: 855044-855245 value:6469.00,\n",
        " TF: Crp, Gene: macB, b0879, -0.66,  0.03 Condition: fructose, NH4Cl, O2 Peak: 921963-922164 value:5576.00,\n",
        " TF: Crp, Gene: clpA, b0882, -1.68,  0.00 Condition: fructose, NH4Cl, O2 Peak: 921963-922164 value:5576.00,\n",
        " TF: Crp, Gene: lsrG, b1518, -1.56,  0.01 Condition: fructose, NH4Cl, O2 Peak: 1608651-1608852 value:5234.00,\n",
        " TF: Crp, Gene: ynfE, b1587, -0.52,  0.04 Condition: fructose, NH4Cl, O2 Peak: 1665330-1665531 value:12193.10,\n",
        " TF: Crp, Gene: ynfE, b1587, -0.52,  0.04 Condition: fructose, NH4Cl, O2 Peak: 1665303-1665504 value:6329.90,\n",
        " TF: Crp, Gene: ynfF, b1588, -0.70,  0.00 Condition: fructose, NH4Cl, O2 Peak: 1665330-1665531 value:12193.10,\n",
        " TF: Crp, Gene: ynfF, b1588, -0.70,  0.00 Condition: fructose, NH4Cl, O2 Peak: 1665303-1665504 value:6329.90,\n",
        " TF: Crp, Gene: mdtD, b2077, -1.07,  0.02 Condition: fructose, NH4Cl, O2 Peak: 2165034-2165235 value:11287.90,\n",
        " TF: Crp, Gene: mdtD, b2077, -1.07,  0.02 Condition: fructose, NH4Cl, O2 Peak: 2165022-2165223 value:10145.00,\n",
        " TF: Crp, Gene: mdtD, b2077, -1.07,  0.02 Condition: fructose, NH4Cl, O2 Peak: 2151570-2151771 value:7302.00,\n",
        " TF: Crp, Gene: mdtD, b2077, -1.07,  0.02 Condition: fructose, NH4Cl, O2 Peak: 2165042-2165243 value:17084.00,\n",
        " TF: Crp, Gene: baeR, b2079, -1.35,  0.00 Condition: fructose, NH4Cl, O2 Peak: 2165034-2165235 value:11287.90,\n",
        " TF: Crp, Gene: baeR, b2079, -1.35,  0.00 Condition: fructose, NH4Cl, O2 Peak: 2165022-2165223 value:10145.00,\n",
        " TF: Crp, Gene: baeR, b2079, -1.35,  0.00 Condition: fructose, NH4Cl, O2 Peak: 2151570-2151771 value:7302.00,\n",
        " TF: Crp, Gene: baeR, b2079, -1.35,  0.00 Condition: fructose, NH4Cl, O2 Peak: 2165042-2165243 value:17084.00,\n",
        " TF: Crp, Gene: mdtA, b2074, -0.99,  0.01 Condition: fructose, NH4Cl, O2 Peak: 2165034-2165235 value:11287.90,\n",
        " TF: Crp, Gene: mdtA, b2074, -0.99,  0.01 Condition: fructose, NH4Cl, O2 Peak: 2165022-2165223 value:10145.00,\n",
        " TF: Crp, Gene: mdtA, b2074, -0.99,  0.01 Condition: fructose, NH4Cl, O2 Peak: 2151570-2151771 value:7302.00,\n",
        " TF: Crp, Gene: mdtA, b2074, -0.99,  0.01 Condition: fructose, NH4Cl, O2 Peak: 2165042-2165243 value:17084.00,\n",
        " TF: Crp, Gene: mdtC, b2076, -0.53,  0.02 Condition: fructose, NH4Cl, O2 Peak: 2165034-2165235 value:11287.90,\n",
        " TF: Crp, Gene: mdtC, b2076, -0.53,  0.02 Condition: fructose, NH4Cl, O2 Peak: 2165022-2165223 value:10145.00,\n",
        " TF: Crp, Gene: mdtC, b2076, -0.53,  0.02 Condition: fructose, NH4Cl, O2 Peak: 2151570-2151771 value:7302.00,\n",
        " TF: Crp, Gene: mdtC, b2076, -0.53,  0.02 Condition: fructose, NH4Cl, O2 Peak: 2165042-2165243 value:17084.00,\n",
        " TF: Crp, Gene: baeS, b2078, -1.28,  0.00 Condition: fructose, NH4Cl, O2 Peak: 2165034-2165235 value:11287.90,\n",
        " TF: Crp, Gene: baeS, b2078, -1.28,  0.00 Condition: fructose, NH4Cl, O2 Peak: 2165022-2165223 value:10145.00,\n",
        " TF: Crp, Gene: baeS, b2078, -1.28,  0.00 Condition: fructose, NH4Cl, O2 Peak: 2151570-2151771 value:7302.00,\n",
        " TF: Crp, Gene: baeS, b2078, -1.28,  0.00 Condition: fructose, NH4Cl, O2 Peak: 2165042-2165243 value:17084.00,\n",
        " TF: Crp, Gene: mntH, b2392, -1.64,  0.00 Condition: fructose, NH4Cl, O2 Peak: 2510918-2511119 value:8403.00,\n",
        " TF: Crp, Gene: cysK, b2414, -0.58,  0.01 Condition: fructose, NH4Cl, O2 Peak: 2531208-2531409 value:4376.00,\n",
        " TF: Crp, Gene: cysK, b2414, -0.58,  0.01 Condition: fructose, NH4Cl, O2 Peak: 2531298-2531499 value:9836.60,\n",
        " TF: Crp, Gene: cysK, b2414, -0.58,  0.01 Condition: fructose, NH4Cl, O2 Peak: 2531388-2531589 value:9176.80,\n",
        " TF: Crp, Gene: cysK, b2414, -0.58,  0.01 Condition: fructose, NH4Cl, O2 Peak: 2531430-2531631 value:14989.50,\n",
        " TF: Crp, Gene: yffP, b2447, -0.86,  0.02 Condition: fructose, NH4Cl, O2 Peak: 2561314-2561515 value:4909.90,\n",
        " TF: Crp, Gene: yffP, b2447, -0.86,  0.02 Condition: fructose, NH4Cl, O2 Peak: 2561335-2561536 value:6928.10,\n",
        " TF: Crp, Gene: hyfJ, b2490, -2.40,  0.04 Condition: fructose, NH4Cl, O2 Peak: 2598929-2599130 value:5701.00,\n",
        " TF: Crp, Gene: guaA, b2507, -0.82,  0.00 Condition: fructose, NH4Cl, O2 Peak: 2632105-2632306 value:12036.00,\n",
        " TF: Crp, Gene: xseA, b2509, -0.44,  0.03 Condition: fructose, NH4Cl, O2 Peak: 2632105-2632306 value:12036.00,\n",
        " TF: Crp, Gene: ssrS, b2911, -1.03,  0.00 Condition: fructose, NH4Cl, O2 Peak: 3056462-3056663 value:7417.00,\n",
        " TF: Crp, Gene: ansB, b2957, -0.86,  0.00 Condition: fructose, NH4Cl, O2 Peak: 3098837-3099038 value:6531.00,\n",
        " TF: Crp, Gene: yggX, b2962, -0.64,  0.01 Condition: fructose, NH4Cl, O2 Peak: 3103505-3103706 value:16925.00,\n",
        " TF: Crp, Gene: hyfI, b2489, -0.97,  0.01 Condition: fructose, NH4Cl, O2 Peak: 2598929-2599130 value:5701.00,\n",
        " TF: Crp, Gene: pheA, b2599, -0.50,  0.01 Condition: fructose, NH4Cl, O2 Peak: 2734886-2735087 value:5334.80,\n",
        " TF: Crp, Gene: pheA, b2599, -0.50,  0.01 Condition: fructose, NH4Cl, O2 Peak: 2735055-2735256 value:20368.10,\n",
        " TF: Crp, Gene: pheA, b2599, -0.50,  0.01 Condition: fructose, NH4Cl, O2 Peak: 2735031-2735232 value:9363.10,\n",
        " TF: Crp, Gene: serA, b2913, -1.36,  0.00 Condition: fructose, NH4Cl, O2 Peak: 3056462-3056663 value:7417.00,\n",
        " TF: Crp, Gene: yggN, b2958, -0.99,  0.00 Condition: fructose, NH4Cl, O2 Peak: 3098837-3099038 value:6531.00,\n",
        " TF: Crp, Gene: zupT, b3040, -1.17,  0.00 Condition: fructose, NH4Cl, O2 Peak: 3182627-3182828 value:4973.00,\n",
        " TF: Crp, Gene: lptB, b3201, -0.50,  0.01 Condition: fructose, NH4Cl, O2 Peak: 3348507-3348708 value:8274.00,\n",
        " TF: Crp, Gene: yhbJ, b3205, -0.61,  0.00 Condition: fructose, NH4Cl, O2 Peak: 3348507-3348708 value:8274.00,\n",
        " TF: Crp, Gene: pabA, b3360, -1.49,  0.00 Condition: fructose, NH4Cl, O2 Peak: 3490445-3490646 value:6541.40,\n",
        " TF: Crp, Gene: pabA, b3360, -1.49,  0.00 Condition: fructose, NH4Cl, O2 Peak: 3490388-3490589 value:19980.00,\n",
        " TF: Crp, Gene: pabA, b3360, -1.49,  0.00 Condition: fructose, NH4Cl, O2 Peak: 3490541-3490742 value:8576.60,\n",
        " TF: Crp, Gene: pabA, b3360, -1.49,  0.00 Condition: fructose, NH4Cl, O2 Peak: 3490383-3490584 value:15987.70,\n",
        " TF: Crp, Gene: pabA, b3360, -1.49,  0.00 Condition: fructose, NH4Cl, O2 Peak: 3490396-3490597 value:15430.80,\n",
        " TF: Crp, Gene: pabA, b3360, -1.49,  0.00 Condition: fructose, NH4Cl, O2 Peak: 3490495-3490696 value:6003.50,\n",
        " TF: Crp, Gene: infB, b3168, -0.66,  0.00 Condition: fructose, NH4Cl, O2 Peak: 3316272-3316473 value:6893.00,\n",
        " TF: Crp, Gene: ptsN, b3204, -1.16,  0.00 Condition: fructose, NH4Cl, O2 Peak: 3348507-3348708 value:8274.00,\n",
        " TF: Crp, Gene: yrbL, b3207, -1.09,  0.00 Condition: fructose, NH4Cl, O2 Peak: 3348507-3348708 value:8274.00,\n",
        " TF: Crp, Gene: fic, b3361, -2.73,  0.00 Condition: fructose, NH4Cl, O2 Peak: 3490445-3490646 value:6541.40,\n",
        " TF: Crp, Gene: fic, b3361, -2.73,  0.00 Condition: fructose, NH4Cl, O2 Peak: 3490388-3490589 value:19980.00,\n",
        " TF: Crp, Gene: fic, b3361, -2.73,  0.00 Condition: fructose, NH4Cl, O2 Peak: 3490541-3490742 value:8576.60,\n",
        " TF: Crp, Gene: fic, b3361, -2.73,  0.00 Condition: fructose, NH4Cl, O2 Peak: 3490383-3490584 value:15987.70,\n",
        " TF: Crp, Gene: fic, b3361, -2.73,  0.00 Condition: fructose, NH4Cl, O2 Peak: 3490396-3490597 value:15430.80,\n",
        " TF: Crp, Gene: fic, b3361, -2.73,  0.00 Condition: fructose, NH4Cl, O2 Peak: 3490495-3490696 value:6003.50,\n",
        " TF: Crp, Gene: ysgA, b3830, -1.23,  0.00 Condition: fructose, NH4Cl, O2 Peak: 4014246-4014447 value:25459.10,\n",
        " TF: Crp, Gene: ysgA, b3830, -1.23,  0.00 Condition: fructose, NH4Cl, O2 Peak: 4014322-4014523 value:6084.90,\n",
        " TF: Crp, Gene: zapB, b3928, -0.97,  0.00 Condition: fructose, NH4Cl, O2 Peak: 4115765-4115966 value:13025.00,\n",
        " TF: Crp, Gene: tufB, b3980, -5.33,  0.00 Condition: fructose, NH4Cl, O2 Peak: 4173311-4173512 value:11982.00,\n",
        " TF: Crp, Gene: nepI, b3662, -0.82,  0.00 Condition: fructose, NH4Cl, O2 Peak: 3839691-3839892 value:9691.00,\n",
        " TF: Crp, Gene: ilvA, b3772, -0.49,  0.02 Condition: fructose, NH4Cl, O2 Peak: 3948328-3948529 value:8686.00,\n",
        " TF: Crp, Gene: metE, b3829, -0.49,  0.04 Condition: fructose, NH4Cl, O2 Peak: 4014322-4014523 value:6084.90,\n",
        " TF: Crp, Gene: glpF, b3927, -1.95,  0.00 Condition: fructose, NH4Cl, O2 Peak: 4115765-4115966 value:13025.00,\n",
        " TF: Crp, Gene: tyrB, b4054, -1.47,  0.00 Condition: fructose, NH4Cl, O2 Peak: 4267313-4267514 value:13482.00,\n",
        " TF: Crp, Gene: yjiR, b4340, -0.70,  0.00 Condition: fructose, NH4Cl, O2 Peak: 4570068-4570269 value:6135.00,\n",
        " TF: Crp, Gene: deoA, b4382, -1.77,  0.00 Condition: fructose, NH4Cl, O2 Peak: 4615133-4615334 value:14764.70,\n",
        " TF: Crp, Gene: deoA, b4382, -1.77,  0.00 Condition: fructose, NH4Cl, O2 Peak: 4615165-4615366 value:7955.30,\n",
        " TF: Crp, Gene: deoD, b4384, -0.54,  0.01 Condition: fructose, NH4Cl, O2 Peak: 4615133-4615334 value:14764.70,\n",
        " TF: Crp, Gene: deoD, b4384, -0.54,  0.01 Condition: fructose, NH4Cl, O2 Peak: 4615165-4615366 value:7955.30]"
       ]
      }
     ],
     "prompt_number": 3
    },
    {
     "cell_type": "code",
     "collapsed": false,
     "input": [
      "ome.query(Protein).limit(20).all()"
     ],
     "language": "python",
     "metadata": {},
     "outputs": [
      {
       "metadata": {},
       "output_type": "pyout",
       "prompt_number": 2,
       "text": [
        "[Protein (#1, leader; Amino acid biosynthesis: Threonine),\n",
        " Protein (#2, ThrA),\n",
        " Protein (#3, ThrB),\n",
        " Protein (#4, enzyme; Amino acid biosynthesis: Threonine),\n",
        " Protein (#5, predicted protein),\n",
        " Protein (#6, protein that reduces intracellular iron levels under peroxide stress),\n",
        " Protein (#7, inner membrane protein YaaJ),\n",
        " Protein (#8, transaldolase B),\n",
        " Protein (#9, MogA),\n",
        " Protein (#10, acetate / succinate:H<sup>+</sup> symporter),\n",
        " Protein (#11, conserved protein),\n",
        " Protein (#12, predicted protein),\n",
        " Protein (#13, chaperone protein DnaK),\n",
        " Protein (#14, chaperone protein DnaJ),\n",
        " Protein (#15, IS186/IS421 transposase),\n",
        " Protein (#16, regulatory peptide whose translation enables hokC (gef) expression),\n",
        " Protein (#17, HokC, Gef toxin; interferes with membrane function when in excess),\n",
        " Protein (#18, NhaA),\n",
        " Protein (#19, NhaR transcriptional activator),\n",
        " Protein (#20, IS1 protein InsB)]"
       ]
      }
     ],
     "prompt_number": 2
    },
    {
     "cell_type": "code",
     "collapsed": false,
     "input": [
      "a = ome.query(Gene).filter(Gene.locus_id == 'b4028').first()"
     ],
     "language": "python",
     "metadata": {},
     "outputs": [],
     "prompt_number": 2
    },
    {
     "cell_type": "code",
     "collapsed": false,
     "input": [
      "from trnlib.model_utility import *"
     ],
     "language": "python",
     "metadata": {},
     "outputs": [],
     "prompt_number": 10
    },
    {
     "cell_type": "code",
     "collapsed": false,
     "input": [
      "model = load_model()\n",
      "model.reactions.PGK.reaction"
     ],
     "language": "python",
     "metadata": {},
     "outputs": [
      {
       "metadata": {},
       "output_type": "pyout",
       "prompt_number": 13,
       "text": [
        "'1.0 atp_c + 1.0 3pg_c <=> 1.0 adp_c + 1.0 13dpg_c'"
       ]
      }
     ],
     "prompt_number": 13
    },
    {
     "cell_type": "code",
     "collapsed": false,
     "input": [
      "class TestGenomeRegion(TestCase):\n",
      "    def setUp(self):\n",
      "        self.test_genome_region = components.GenomeRegion(10000,10200,'+')\n",
      "    \n",
      "    def testAdd(self):\n",
      "        ome.add(self.test_genome_region)\n",
      "        ome.commit()\n",
      "        queried_genome_region = ome.query(components.GenomeRegion).first()\n",
      "        self.assertEqual(self.test_genome_region, queried_genome_region)\n",
      "\n",
      "    def testDelete(self):\n",
      "        ome.delete(components.GenomeRegion(10000,10200,'+'))\n",
      "        ome.commit()\n",
      "        queried_genome_region = ome.query(components.GenomeRegion).first()\n",
      "        self.assertEqual(queried_genome_region, None)\n",
      "\n",
      "    \n",
      "suite = TestLoader().loadTestsFromTestCase(TestGenomeRegion)\n",
      "TextTestRunner(verbosity=2).run(suite)"
     ],
     "language": "python",
     "metadata": {},
     "outputs": [
      {
       "metadata": {},
       "output_type": "pyout",
       "prompt_number": 2,
       "text": [
        "<unittest.runner.TextTestResult run=2 errors=1 failures=0>"
       ]
      }
     ],
     "prompt_number": 2
    },
    {
     "cell_type": "code",
     "collapsed": false,
     "input": [
      "ome.add(components.DNA('test2','gene',10000,10200,'+'))\n",
      "ome.commit()"
     ],
     "language": "python",
     "metadata": {},
     "outputs": [],
     "prompt_number": 2
    },
    {
     "cell_type": "code",
     "collapsed": false,
     "input": [
      "ome.add(components.DNA('test2','gene',10000,10200,'+'))\n",
      "ome.commit()"
     ],
     "language": "python",
     "metadata": {},
     "outputs": [],
     "prompt_number": 3
    },
    {
     "cell_type": "code",
     "collapsed": false,
     "input": [
      "ome.add(components.DNA('test2','gene',10000,10200,'+'))\n",
      "ome.commit()"
     ],
     "language": "python",
     "metadata": {},
     "outputs": [],
     "prompt_number": 4
    },
    {
     "cell_type": "code",
     "collapsed": false,
     "input": [
      "a = components.GenomeRegion(10000,10200,'+')"
     ],
     "language": "python",
     "metadata": {},
     "outputs": [],
     "prompt_number": 6
    },
    {
     "cell_type": "code",
     "collapsed": false,
     "input": [
      "a = ome.query(components.DNA).first()"
     ],
     "language": "python",
     "metadata": {},
     "outputs": [],
     "prompt_number": 6
    },
    {
     "cell_type": "code",
     "collapsed": false,
     "input": [
      "a.type"
     ],
     "language": "python",
     "metadata": {},
     "outputs": [
      {
       "metadata": {},
       "output_type": "pyout",
       "prompt_number": 9,
       "text": [
        "u'DNA'"
       ]
      }
     ],
     "prompt_number": 9
    },
    {
     "cell_type": "code",
     "collapsed": false,
     "input": [
      "ome.query(components.GenomeRegion).filter_by(leftpos=a.leftpos,rightpos=a.rightpos, strand=a.strand).delete()\n"
     ],
     "language": "python",
     "metadata": {},
     "outputs": [
      {
       "metadata": {},
       "output_type": "pyout",
       "prompt_number": 7,
       "text": [
        "1"
       ]
      }
     ],
     "prompt_number": 7
    },
    {
     "cell_type": "code",
     "collapsed": false,
     "input": [
      "ome.query(components.GenomeRegion).all()"
     ],
     "language": "python",
     "metadata": {},
     "outputs": [
      {
       "metadata": {},
       "output_type": "pyout",
       "prompt_number": 8,
       "text": [
        "[]"
       ]
      }
     ],
     "prompt_number": 8
    },
    {
     "cell_type": "code",
     "collapsed": false,
     "input": [
      "#component = base.get_or_create(ome, components.Component, name='crp_gene', component_type_id=1)\n",
      "#genome_region = base.get_or_create(ome, components.GenomeRegion, leftpos=1000, rightpos=1800, strand='+')\n",
      "#dna = base.get_or_create(ome, components.DNA, component_id=component.id, component_type_id=1, dna_type_id=2, genome_region_id=genome_region.id)\n",
      "#crp = base.get_or_create(ome, components.Gene, name='crp', locus_id='b1234', dna_id=dna.id, dna_type_id=2)\n",
      "#base.get_or_create(ome, components.Protein, name='Crp')"
     ],
     "language": "python",
     "metadata": {},
     "outputs": [
      {
       "ename": "InvalidRequestError",
       "evalue": "Entity '<class 'PrototypeDB.orm.components.Component'>' has no property 'component_type_id'",
       "output_type": "pyerr",
       "traceback": [
        "\u001b[0;31m---------------------------------------------------------------------------\u001b[0m\n\u001b[0;31mInvalidRequestError\u001b[0m                       Traceback (most recent call last)",
        "\u001b[0;32m<ipython-input-6-0c35b12c31fb>\u001b[0m in \u001b[0;36m<module>\u001b[0;34m()\u001b[0m\n\u001b[0;32m----> 1\u001b[0;31m \u001b[0mcomponent\u001b[0m \u001b[0;34m=\u001b[0m \u001b[0mbase\u001b[0m\u001b[0;34m.\u001b[0m\u001b[0mget_or_create\u001b[0m\u001b[0;34m(\u001b[0m\u001b[0mome\u001b[0m\u001b[0;34m,\u001b[0m \u001b[0mcomponents\u001b[0m\u001b[0;34m.\u001b[0m\u001b[0mComponent\u001b[0m\u001b[0;34m,\u001b[0m \u001b[0mname\u001b[0m\u001b[0;34m=\u001b[0m\u001b[0;34m'crp_gene'\u001b[0m\u001b[0;34m,\u001b[0m \u001b[0mcomponent_type_id\u001b[0m\u001b[0;34m=\u001b[0m\u001b[0;36m1\u001b[0m\u001b[0;34m)\u001b[0m\u001b[0;34m\u001b[0m\u001b[0m\n\u001b[0m\u001b[1;32m      2\u001b[0m \u001b[0mgenome_region\u001b[0m \u001b[0;34m=\u001b[0m \u001b[0mbase\u001b[0m\u001b[0;34m.\u001b[0m\u001b[0mget_or_create\u001b[0m\u001b[0;34m(\u001b[0m\u001b[0mome\u001b[0m\u001b[0;34m,\u001b[0m \u001b[0mcomponents\u001b[0m\u001b[0;34m.\u001b[0m\u001b[0mGenomeRegion\u001b[0m\u001b[0;34m,\u001b[0m \u001b[0mleftpos\u001b[0m\u001b[0;34m=\u001b[0m\u001b[0;36m1000\u001b[0m\u001b[0;34m,\u001b[0m \u001b[0mrightpos\u001b[0m\u001b[0;34m=\u001b[0m\u001b[0;36m1800\u001b[0m\u001b[0;34m,\u001b[0m \u001b[0mstrand\u001b[0m\u001b[0;34m=\u001b[0m\u001b[0;34m'+'\u001b[0m\u001b[0;34m)\u001b[0m\u001b[0;34m\u001b[0m\u001b[0m\n\u001b[1;32m      3\u001b[0m \u001b[0mdna\u001b[0m \u001b[0;34m=\u001b[0m \u001b[0mbase\u001b[0m\u001b[0;34m.\u001b[0m\u001b[0mget_or_create\u001b[0m\u001b[0;34m(\u001b[0m\u001b[0mome\u001b[0m\u001b[0;34m,\u001b[0m \u001b[0mcomponents\u001b[0m\u001b[0;34m.\u001b[0m\u001b[0mDNA\u001b[0m\u001b[0;34m,\u001b[0m \u001b[0mcomponent_id\u001b[0m\u001b[0;34m=\u001b[0m\u001b[0mcomponent\u001b[0m\u001b[0;34m.\u001b[0m\u001b[0mid\u001b[0m\u001b[0;34m,\u001b[0m \u001b[0mcomponent_type_id\u001b[0m\u001b[0;34m=\u001b[0m\u001b[0;36m1\u001b[0m\u001b[0;34m,\u001b[0m \u001b[0mdna_type_id\u001b[0m\u001b[0;34m=\u001b[0m\u001b[0;36m2\u001b[0m\u001b[0;34m,\u001b[0m \u001b[0mgenome_region_id\u001b[0m\u001b[0;34m=\u001b[0m\u001b[0mgenome_region\u001b[0m\u001b[0;34m.\u001b[0m\u001b[0mid\u001b[0m\u001b[0;34m)\u001b[0m\u001b[0;34m\u001b[0m\u001b[0m\n\u001b[1;32m      4\u001b[0m \u001b[0;31m#crp = base.get_or_create(ome, components.Gene, name='crp', locus_id='b1234', dna_id=dna.id, dna_type_id=2)\u001b[0m\u001b[0;34m\u001b[0m\u001b[0;34m\u001b[0m\u001b[0m\n\u001b[1;32m      5\u001b[0m \u001b[0;31m#base.get_or_create(ome, components.Protein, name='Crp')\u001b[0m\u001b[0;34m\u001b[0m\u001b[0;34m\u001b[0m\u001b[0m\n",
        "\u001b[0;32m/Users/sfederow/ome/PrototypeDB/orm/base.pyc\u001b[0m in \u001b[0;36mget_or_create\u001b[0;34m(session, class_type, **kwargs)\u001b[0m\n\u001b[1;32m     62\u001b[0m     \u001b[0;32mis\u001b[0m \u001b[0mfound\u001b[0m \u001b[0;32min\u001b[0m \u001b[0mthe\u001b[0m \u001b[0mdatabase\u001b[0m\u001b[0;34m,\u001b[0m \u001b[0ma\u001b[0m \u001b[0mnew\u001b[0m \u001b[0mone\u001b[0m \u001b[0mwill\u001b[0m \u001b[0mbe\u001b[0m \u001b[0mcreated\u001b[0m \u001b[0mwhich\u001b[0m \u001b[0msatisfies\u001b[0m\u001b[0;34m\u001b[0m\u001b[0m\n\u001b[1;32m     63\u001b[0m     these constraints\"\"\"\n\u001b[0;32m---> 64\u001b[0;31m     \u001b[0mresult\u001b[0m \u001b[0;34m=\u001b[0m \u001b[0msession\u001b[0m\u001b[0;34m.\u001b[0m\u001b[0mquery\u001b[0m\u001b[0;34m(\u001b[0m\u001b[0mclass_type\u001b[0m\u001b[0;34m)\u001b[0m\u001b[0;34m.\u001b[0m\u001b[0mfilter_by\u001b[0m\u001b[0;34m(\u001b[0m\u001b[0;34m**\u001b[0m\u001b[0mkwargs\u001b[0m\u001b[0;34m)\u001b[0m\u001b[0;34m.\u001b[0m\u001b[0mfirst\u001b[0m\u001b[0;34m(\u001b[0m\u001b[0;34m)\u001b[0m\u001b[0;34m\u001b[0m\u001b[0m\n\u001b[0m\u001b[1;32m     65\u001b[0m     \u001b[0;32mif\u001b[0m \u001b[0mresult\u001b[0m \u001b[0;32mis\u001b[0m \u001b[0mNone\u001b[0m\u001b[0;34m:\u001b[0m\u001b[0;34m\u001b[0m\u001b[0m\n\u001b[1;32m     66\u001b[0m         \u001b[0mresult\u001b[0m \u001b[0;34m=\u001b[0m \u001b[0mclass_type\u001b[0m\u001b[0;34m(\u001b[0m\u001b[0;34m)\u001b[0m\u001b[0;34m\u001b[0m\u001b[0m\n",
        "\u001b[0;32m/Library/Python/2.7/site-packages/sqlalchemy/orm/query.pyc\u001b[0m in \u001b[0;36mfilter_by\u001b[0;34m(self, **kwargs)\u001b[0m\n\u001b[1;32m   1243\u001b[0m \u001b[0;34m\u001b[0m\u001b[0m\n\u001b[1;32m   1244\u001b[0m         clauses = [_entity_descriptor(self._joinpoint_zero(), key) == value\n\u001b[0;32m-> 1245\u001b[0;31m             for key, value in kwargs.iteritems()]\n\u001b[0m\u001b[1;32m   1246\u001b[0m         \u001b[0;32mreturn\u001b[0m \u001b[0mself\u001b[0m\u001b[0;34m.\u001b[0m\u001b[0mfilter\u001b[0m\u001b[0;34m(\u001b[0m\u001b[0msql\u001b[0m\u001b[0;34m.\u001b[0m\u001b[0mand_\u001b[0m\u001b[0;34m(\u001b[0m\u001b[0;34m*\u001b[0m\u001b[0mclauses\u001b[0m\u001b[0;34m)\u001b[0m\u001b[0;34m)\u001b[0m\u001b[0;34m\u001b[0m\u001b[0m\n\u001b[1;32m   1247\u001b[0m \u001b[0;34m\u001b[0m\u001b[0m\n",
        "\u001b[0;32m/Library/Python/2.7/site-packages/sqlalchemy/orm/util.pyc\u001b[0m in \u001b[0;36m_entity_descriptor\u001b[0;34m(entity, key)\u001b[0m\n\u001b[1;32m   1188\u001b[0m         raise sa_exc.InvalidRequestError(\n\u001b[1;32m   1189\u001b[0m                     \u001b[0;34m\"Entity '%s' has no property '%s'\"\u001b[0m \u001b[0;34m%\u001b[0m\u001b[0;34m\u001b[0m\u001b[0m\n\u001b[0;32m-> 1190\u001b[0;31m                     \u001b[0;34m(\u001b[0m\u001b[0mdescription\u001b[0m\u001b[0;34m,\u001b[0m \u001b[0mkey\u001b[0m\u001b[0;34m)\u001b[0m\u001b[0;34m\u001b[0m\u001b[0m\n\u001b[0m\u001b[1;32m   1191\u001b[0m                 )\n\u001b[1;32m   1192\u001b[0m \u001b[0;34m\u001b[0m\u001b[0m\n",
        "\u001b[0;31mInvalidRequestError\u001b[0m: Entity '<class 'PrototypeDB.orm.components.Component'>' has no property 'component_type_id'"
       ]
      }
     ],
     "prompt_number": 6
    },
    {
     "cell_type": "code",
     "collapsed": false,
     "input": [
      "ome.query(components.GenomeRegion).all()"
     ],
     "language": "python",
     "metadata": {},
     "outputs": [
      {
       "metadata": {},
       "output_type": "pyout",
       "prompt_number": 21,
       "text": [
        "[<PrototypeDB.orm.components.GenomeRegion at 0x11187e2d0>]"
       ]
      }
     ],
     "prompt_number": 21
    },
    {
     "cell_type": "code",
     "collapsed": false,
     "input": [
      "a = crp.genome_region"
     ],
     "language": "python",
     "metadata": {},
     "outputs": [],
     "prompt_number": 19
    },
    {
     "cell_type": "code",
     "collapsed": false,
     "input": [
      "a.leftpos"
     ],
     "language": "python",
     "metadata": {},
     "outputs": [
      {
       "ename": "AttributeError",
       "evalue": "'NoneType' object has no attribute 'leftpos'",
       "output_type": "pyerr",
       "traceback": [
        "\u001b[0;31m---------------------------------------------------------------------------\u001b[0m\n\u001b[0;31mAttributeError\u001b[0m                            Traceback (most recent call last)",
        "\u001b[0;32m<ipython-input-20-b9bbd17a80c9>\u001b[0m in \u001b[0;36m<module>\u001b[0;34m()\u001b[0m\n\u001b[0;32m----> 1\u001b[0;31m \u001b[0ma\u001b[0m\u001b[0;34m.\u001b[0m\u001b[0mleftpos\u001b[0m\u001b[0;34m\u001b[0m\u001b[0m\n\u001b[0m",
        "\u001b[0;31mAttributeError\u001b[0m: 'NoneType' object has no attribute 'leftpos'"
       ]
      }
     ],
     "prompt_number": 20
    },
    {
     "cell_type": "code",
     "collapsed": false,
     "input": [
      "base.get_or_create(ome, components.DnaBindingSite, name='gapA_promoter')"
     ],
     "language": "python",
     "metadata": {},
     "outputs": [
      {
       "ename": "IntegrityError",
       "evalue": "(IntegrityError) null value in column \"bound_component_id\" violates not-null constraint\n 'INSERT INTO ecoli.dna_binding_site (dna_id, dna_type_id) VALUES (%(dna_id)s, %(dna_type_id)s) RETURNING ecoli.dna_binding_site.bound_component_id' {'dna_type_id': 1, 'dna_id': 3}",
       "output_type": "pyerr",
       "traceback": [
        "\u001b[0;31m---------------------------------------------------------------------------\u001b[0m\n\u001b[0;31mIntegrityError\u001b[0m                            Traceback (most recent call last)",
        "\u001b[0;32m<ipython-input-6-06454ac5f73d>\u001b[0m in \u001b[0;36m<module>\u001b[0;34m()\u001b[0m\n\u001b[0;32m----> 1\u001b[0;31m \u001b[0mbase\u001b[0m\u001b[0;34m.\u001b[0m\u001b[0mget_or_create\u001b[0m\u001b[0;34m(\u001b[0m\u001b[0mome\u001b[0m\u001b[0;34m,\u001b[0m \u001b[0mcomponents\u001b[0m\u001b[0;34m.\u001b[0m\u001b[0mDnaBindingSite\u001b[0m\u001b[0;34m,\u001b[0m \u001b[0mname\u001b[0m\u001b[0;34m=\u001b[0m\u001b[0;34m'gapA_promoter'\u001b[0m\u001b[0;34m)\u001b[0m\u001b[0;34m\u001b[0m\u001b[0m\n\u001b[0m",
        "\u001b[0;32m/Users/sfederow/ome/ome/orm/base.pyc\u001b[0m in \u001b[0;36mget_or_create\u001b[0;34m(session, class_type, **kwargs)\u001b[0m\n\u001b[1;32m     68\u001b[0m             \u001b[0msetattr\u001b[0m\u001b[0;34m(\u001b[0m\u001b[0mresult\u001b[0m\u001b[0;34m,\u001b[0m \u001b[0mkey\u001b[0m\u001b[0;34m,\u001b[0m \u001b[0mvalue\u001b[0m\u001b[0;34m)\u001b[0m\u001b[0;34m\u001b[0m\u001b[0m\n\u001b[1;32m     69\u001b[0m         \u001b[0msession\u001b[0m\u001b[0;34m.\u001b[0m\u001b[0madd\u001b[0m\u001b[0;34m(\u001b[0m\u001b[0mresult\u001b[0m\u001b[0;34m)\u001b[0m\u001b[0;34m\u001b[0m\u001b[0m\n\u001b[0;32m---> 70\u001b[0;31m         \u001b[0msession\u001b[0m\u001b[0;34m.\u001b[0m\u001b[0mcommit\u001b[0m\u001b[0;34m(\u001b[0m\u001b[0;34m)\u001b[0m\u001b[0;34m\u001b[0m\u001b[0m\n\u001b[0m\u001b[1;32m     71\u001b[0m     \u001b[0;32mreturn\u001b[0m \u001b[0mresult\u001b[0m\u001b[0;34m\u001b[0m\u001b[0m\n\u001b[1;32m     72\u001b[0m \u001b[0;34m\u001b[0m\u001b[0m\n",
        "\u001b[0;32m/Library/Python/2.7/site-packages/sqlalchemy/orm/session.pyc\u001b[0m in \u001b[0;36mcommit\u001b[0;34m(self)\u001b[0m\n\u001b[1;32m    719\u001b[0m                 \u001b[0;32mraise\u001b[0m \u001b[0msa_exc\u001b[0m\u001b[0;34m.\u001b[0m\u001b[0mInvalidRequestError\u001b[0m\u001b[0;34m(\u001b[0m\u001b[0;34m\"No transaction is begun.\"\u001b[0m\u001b[0;34m)\u001b[0m\u001b[0;34m\u001b[0m\u001b[0m\n\u001b[1;32m    720\u001b[0m \u001b[0;34m\u001b[0m\u001b[0m\n\u001b[0;32m--> 721\u001b[0;31m         \u001b[0mself\u001b[0m\u001b[0;34m.\u001b[0m\u001b[0mtransaction\u001b[0m\u001b[0;34m.\u001b[0m\u001b[0mcommit\u001b[0m\u001b[0;34m(\u001b[0m\u001b[0;34m)\u001b[0m\u001b[0;34m\u001b[0m\u001b[0m\n\u001b[0m\u001b[1;32m    722\u001b[0m \u001b[0;34m\u001b[0m\u001b[0m\n\u001b[1;32m    723\u001b[0m     \u001b[0;32mdef\u001b[0m \u001b[0mprepare\u001b[0m\u001b[0;34m(\u001b[0m\u001b[0mself\u001b[0m\u001b[0;34m)\u001b[0m\u001b[0;34m:\u001b[0m\u001b[0;34m\u001b[0m\u001b[0m\n",
        "\u001b[0;32m/Library/Python/2.7/site-packages/sqlalchemy/orm/session.pyc\u001b[0m in \u001b[0;36mcommit\u001b[0;34m(self)\u001b[0m\n\u001b[1;32m    352\u001b[0m         \u001b[0mself\u001b[0m\u001b[0;34m.\u001b[0m\u001b[0m_assert_active\u001b[0m\u001b[0;34m(\u001b[0m\u001b[0mprepared_ok\u001b[0m\u001b[0;34m=\u001b[0m\u001b[0mTrue\u001b[0m\u001b[0;34m)\u001b[0m\u001b[0;34m\u001b[0m\u001b[0m\n\u001b[1;32m    353\u001b[0m         \u001b[0;32mif\u001b[0m \u001b[0mself\u001b[0m\u001b[0;34m.\u001b[0m\u001b[0m_state\u001b[0m \u001b[0;32mis\u001b[0m \u001b[0;32mnot\u001b[0m \u001b[0mPREPARED\u001b[0m\u001b[0;34m:\u001b[0m\u001b[0;34m\u001b[0m\u001b[0m\n\u001b[0;32m--> 354\u001b[0;31m             \u001b[0mself\u001b[0m\u001b[0;34m.\u001b[0m\u001b[0m_prepare_impl\u001b[0m\u001b[0;34m(\u001b[0m\u001b[0;34m)\u001b[0m\u001b[0;34m\u001b[0m\u001b[0m\n\u001b[0m\u001b[1;32m    355\u001b[0m \u001b[0;34m\u001b[0m\u001b[0m\n\u001b[1;32m    356\u001b[0m         \u001b[0;32mif\u001b[0m \u001b[0mself\u001b[0m\u001b[0;34m.\u001b[0m\u001b[0m_parent\u001b[0m \u001b[0;32mis\u001b[0m \u001b[0mNone\u001b[0m \u001b[0;32mor\u001b[0m \u001b[0mself\u001b[0m\u001b[0;34m.\u001b[0m\u001b[0mnested\u001b[0m\u001b[0;34m:\u001b[0m\u001b[0;34m\u001b[0m\u001b[0m\n",
        "\u001b[0;32m/Library/Python/2.7/site-packages/sqlalchemy/orm/session.pyc\u001b[0m in \u001b[0;36m_prepare_impl\u001b[0;34m(self)\u001b[0m\n\u001b[1;32m    332\u001b[0m                 \u001b[0;32mif\u001b[0m \u001b[0mself\u001b[0m\u001b[0;34m.\u001b[0m\u001b[0msession\u001b[0m\u001b[0;34m.\u001b[0m\u001b[0m_is_clean\u001b[0m\u001b[0;34m(\u001b[0m\u001b[0;34m)\u001b[0m\u001b[0;34m:\u001b[0m\u001b[0;34m\u001b[0m\u001b[0m\n\u001b[1;32m    333\u001b[0m                     \u001b[0;32mbreak\u001b[0m\u001b[0;34m\u001b[0m\u001b[0m\n\u001b[0;32m--> 334\u001b[0;31m                 \u001b[0mself\u001b[0m\u001b[0;34m.\u001b[0m\u001b[0msession\u001b[0m\u001b[0;34m.\u001b[0m\u001b[0mflush\u001b[0m\u001b[0;34m(\u001b[0m\u001b[0;34m)\u001b[0m\u001b[0;34m\u001b[0m\u001b[0m\n\u001b[0m\u001b[1;32m    335\u001b[0m             \u001b[0;32melse\u001b[0m\u001b[0;34m:\u001b[0m\u001b[0;34m\u001b[0m\u001b[0m\n\u001b[1;32m    336\u001b[0m                 raise exc.FlushError(\n",
        "\u001b[0;32m/Library/Python/2.7/site-packages/sqlalchemy/orm/session.pyc\u001b[0m in \u001b[0;36mflush\u001b[0;34m(self, objects)\u001b[0m\n\u001b[1;32m   1816\u001b[0m         \u001b[0;32mtry\u001b[0m\u001b[0;34m:\u001b[0m\u001b[0;34m\u001b[0m\u001b[0m\n\u001b[1;32m   1817\u001b[0m             \u001b[0mself\u001b[0m\u001b[0;34m.\u001b[0m\u001b[0m_flushing\u001b[0m \u001b[0;34m=\u001b[0m \u001b[0mTrue\u001b[0m\u001b[0;34m\u001b[0m\u001b[0m\n\u001b[0;32m-> 1818\u001b[0;31m             \u001b[0mself\u001b[0m\u001b[0;34m.\u001b[0m\u001b[0m_flush\u001b[0m\u001b[0;34m(\u001b[0m\u001b[0mobjects\u001b[0m\u001b[0;34m)\u001b[0m\u001b[0;34m\u001b[0m\u001b[0m\n\u001b[0m\u001b[1;32m   1819\u001b[0m         \u001b[0;32mfinally\u001b[0m\u001b[0;34m:\u001b[0m\u001b[0;34m\u001b[0m\u001b[0m\n\u001b[1;32m   1820\u001b[0m             \u001b[0mself\u001b[0m\u001b[0;34m.\u001b[0m\u001b[0m_flushing\u001b[0m \u001b[0;34m=\u001b[0m \u001b[0mFalse\u001b[0m\u001b[0;34m\u001b[0m\u001b[0m\n",
        "\u001b[0;32m/Library/Python/2.7/site-packages/sqlalchemy/orm/session.pyc\u001b[0m in \u001b[0;36m_flush\u001b[0;34m(self, objects)\u001b[0m\n\u001b[1;32m   1934\u001b[0m         \u001b[0;32mexcept\u001b[0m\u001b[0;34m:\u001b[0m\u001b[0;34m\u001b[0m\u001b[0m\n\u001b[1;32m   1935\u001b[0m             \u001b[0;32mwith\u001b[0m \u001b[0mutil\u001b[0m\u001b[0;34m.\u001b[0m\u001b[0msafe_reraise\u001b[0m\u001b[0;34m(\u001b[0m\u001b[0;34m)\u001b[0m\u001b[0;34m:\u001b[0m\u001b[0;34m\u001b[0m\u001b[0m\n\u001b[0;32m-> 1936\u001b[0;31m                 \u001b[0mtransaction\u001b[0m\u001b[0;34m.\u001b[0m\u001b[0mrollback\u001b[0m\u001b[0;34m(\u001b[0m\u001b[0m_capture_exception\u001b[0m\u001b[0;34m=\u001b[0m\u001b[0mTrue\u001b[0m\u001b[0;34m)\u001b[0m\u001b[0;34m\u001b[0m\u001b[0m\n\u001b[0m\u001b[1;32m   1937\u001b[0m \u001b[0;34m\u001b[0m\u001b[0m\n\u001b[1;32m   1938\u001b[0m     def is_modified(self, instance, include_collections=True,\n",
        "\u001b[0;32m/Library/Python/2.7/site-packages/sqlalchemy/util/langhelpers.pyc\u001b[0m in \u001b[0;36m__exit__\u001b[0;34m(self, type_, value, traceback)\u001b[0m\n\u001b[1;32m     56\u001b[0m             \u001b[0mexc_type\u001b[0m\u001b[0;34m,\u001b[0m \u001b[0mexc_value\u001b[0m\u001b[0;34m,\u001b[0m \u001b[0mexc_tb\u001b[0m \u001b[0;34m=\u001b[0m \u001b[0mself\u001b[0m\u001b[0;34m.\u001b[0m\u001b[0m_exc_info\u001b[0m\u001b[0;34m\u001b[0m\u001b[0m\n\u001b[1;32m     57\u001b[0m             \u001b[0mself\u001b[0m\u001b[0;34m.\u001b[0m\u001b[0m_exc_info\u001b[0m \u001b[0;34m=\u001b[0m \u001b[0mNone\u001b[0m   \u001b[0;31m# remove potential circular references\u001b[0m\u001b[0;34m\u001b[0m\u001b[0m\n\u001b[0;32m---> 58\u001b[0;31m             \u001b[0mcompat\u001b[0m\u001b[0;34m.\u001b[0m\u001b[0mreraise\u001b[0m\u001b[0;34m(\u001b[0m\u001b[0mexc_type\u001b[0m\u001b[0;34m,\u001b[0m \u001b[0mexc_value\u001b[0m\u001b[0;34m,\u001b[0m \u001b[0mexc_tb\u001b[0m\u001b[0;34m)\u001b[0m\u001b[0;34m\u001b[0m\u001b[0m\n\u001b[0m\u001b[1;32m     59\u001b[0m         \u001b[0;32melse\u001b[0m\u001b[0;34m:\u001b[0m\u001b[0;34m\u001b[0m\u001b[0m\n\u001b[1;32m     60\u001b[0m             \u001b[0mself\u001b[0m\u001b[0;34m.\u001b[0m\u001b[0m_exc_info\u001b[0m \u001b[0;34m=\u001b[0m \u001b[0mNone\u001b[0m   \u001b[0;31m# remove potential circular references\u001b[0m\u001b[0;34m\u001b[0m\u001b[0m\n",
        "\u001b[0;32m/Library/Python/2.7/site-packages/sqlalchemy/orm/session.pyc\u001b[0m in \u001b[0;36m_flush\u001b[0;34m(self, objects)\u001b[0m\n\u001b[1;32m   1898\u001b[0m             \u001b[0mself\u001b[0m\u001b[0;34m.\u001b[0m\u001b[0m_warn_on_events\u001b[0m \u001b[0;34m=\u001b[0m \u001b[0mTrue\u001b[0m\u001b[0;34m\u001b[0m\u001b[0m\n\u001b[1;32m   1899\u001b[0m             \u001b[0;32mtry\u001b[0m\u001b[0;34m:\u001b[0m\u001b[0;34m\u001b[0m\u001b[0m\n\u001b[0;32m-> 1900\u001b[0;31m                 \u001b[0mflush_context\u001b[0m\u001b[0;34m.\u001b[0m\u001b[0mexecute\u001b[0m\u001b[0;34m(\u001b[0m\u001b[0;34m)\u001b[0m\u001b[0;34m\u001b[0m\u001b[0m\n\u001b[0m\u001b[1;32m   1901\u001b[0m             \u001b[0;32mfinally\u001b[0m\u001b[0;34m:\u001b[0m\u001b[0;34m\u001b[0m\u001b[0m\n\u001b[1;32m   1902\u001b[0m                 \u001b[0mself\u001b[0m\u001b[0;34m.\u001b[0m\u001b[0m_warn_on_events\u001b[0m \u001b[0;34m=\u001b[0m \u001b[0mFalse\u001b[0m\u001b[0;34m\u001b[0m\u001b[0m\n",
        "\u001b[0;32m/Library/Python/2.7/site-packages/sqlalchemy/orm/unitofwork.pyc\u001b[0m in \u001b[0;36mexecute\u001b[0;34m(self)\u001b[0m\n\u001b[1;32m    370\u001b[0m                                     \u001b[0mself\u001b[0m\u001b[0;34m.\u001b[0m\u001b[0mdependencies\u001b[0m\u001b[0;34m,\u001b[0m\u001b[0;34m\u001b[0m\u001b[0m\n\u001b[1;32m    371\u001b[0m                                     postsort_actions):\n\u001b[0;32m--> 372\u001b[0;31m                 \u001b[0mrec\u001b[0m\u001b[0;34m.\u001b[0m\u001b[0mexecute\u001b[0m\u001b[0;34m(\u001b[0m\u001b[0mself\u001b[0m\u001b[0;34m)\u001b[0m\u001b[0;34m\u001b[0m\u001b[0m\n\u001b[0m\u001b[1;32m    373\u001b[0m \u001b[0;34m\u001b[0m\u001b[0m\n\u001b[1;32m    374\u001b[0m     \u001b[0;32mdef\u001b[0m \u001b[0mfinalize_flush_changes\u001b[0m\u001b[0;34m(\u001b[0m\u001b[0mself\u001b[0m\u001b[0;34m)\u001b[0m\u001b[0;34m:\u001b[0m\u001b[0;34m\u001b[0m\u001b[0m\n",
        "\u001b[0;32m/Library/Python/2.7/site-packages/sqlalchemy/orm/unitofwork.pyc\u001b[0m in \u001b[0;36mexecute\u001b[0;34m(self, uow)\u001b[0m\n\u001b[1;32m    523\u001b[0m         persistence.save_obj(self.mapper,\n\u001b[1;32m    524\u001b[0m             \u001b[0muow\u001b[0m\u001b[0;34m.\u001b[0m\u001b[0mstates_for_mapper_hierarchy\u001b[0m\u001b[0;34m(\u001b[0m\u001b[0mself\u001b[0m\u001b[0;34m.\u001b[0m\u001b[0mmapper\u001b[0m\u001b[0;34m,\u001b[0m \u001b[0mFalse\u001b[0m\u001b[0;34m,\u001b[0m \u001b[0mFalse\u001b[0m\u001b[0;34m)\u001b[0m\u001b[0;34m,\u001b[0m\u001b[0;34m\u001b[0m\u001b[0m\n\u001b[0;32m--> 525\u001b[0;31m             \u001b[0muow\u001b[0m\u001b[0;34m\u001b[0m\u001b[0m\n\u001b[0m\u001b[1;32m    526\u001b[0m         )\n\u001b[1;32m    527\u001b[0m \u001b[0;34m\u001b[0m\u001b[0m\n",
        "\u001b[0;32m/Library/Python/2.7/site-packages/sqlalchemy/orm/persistence.pyc\u001b[0m in \u001b[0;36msave_obj\u001b[0;34m(base_mapper, states, uowtransaction, single)\u001b[0m\n\u001b[1;32m     62\u001b[0m             _emit_insert_statements(base_mapper, uowtransaction,\n\u001b[1;32m     63\u001b[0m                                     \u001b[0mcached_connections\u001b[0m\u001b[0;34m,\u001b[0m\u001b[0;34m\u001b[0m\u001b[0m\n\u001b[0;32m---> 64\u001b[0;31m                                     table, insert)\n\u001b[0m\u001b[1;32m     65\u001b[0m \u001b[0;34m\u001b[0m\u001b[0m\n\u001b[1;32m     66\u001b[0m     _finalize_insert_update_commands(base_mapper, uowtransaction,\n",
        "\u001b[0;32m/Library/Python/2.7/site-packages/sqlalchemy/orm/persistence.pyc\u001b[0m in \u001b[0;36m_emit_insert_statements\u001b[0;34m(base_mapper, uowtransaction, cached_connections, table, insert)\u001b[0m\n\u001b[1;32m    567\u001b[0m                 \u001b[0;32melse\u001b[0m\u001b[0;34m:\u001b[0m\u001b[0;34m\u001b[0m\u001b[0m\n\u001b[1;32m    568\u001b[0m                     \u001b[0mresult\u001b[0m \u001b[0;34m=\u001b[0m \u001b[0mcached_connections\u001b[0m\u001b[0;34m[\u001b[0m\u001b[0mconnection\u001b[0m\u001b[0;34m]\u001b[0m\u001b[0;34m.\u001b[0m\u001b[0;31m\\\u001b[0m\u001b[0;34m\u001b[0m\u001b[0m\n\u001b[0;32m--> 569\u001b[0;31m                                         \u001b[0mexecute\u001b[0m\u001b[0;34m(\u001b[0m\u001b[0mstatement\u001b[0m\u001b[0;34m,\u001b[0m \u001b[0mparams\u001b[0m\u001b[0;34m)\u001b[0m\u001b[0;34m\u001b[0m\u001b[0m\n\u001b[0m\u001b[1;32m    570\u001b[0m \u001b[0;34m\u001b[0m\u001b[0m\n\u001b[1;32m    571\u001b[0m                 \u001b[0mprimary_key\u001b[0m \u001b[0;34m=\u001b[0m \u001b[0mresult\u001b[0m\u001b[0;34m.\u001b[0m\u001b[0mcontext\u001b[0m\u001b[0;34m.\u001b[0m\u001b[0minserted_primary_key\u001b[0m\u001b[0;34m\u001b[0m\u001b[0m\n",
        "\u001b[0;32m/Library/Python/2.7/site-packages/sqlalchemy/engine/base.pyc\u001b[0m in \u001b[0;36mexecute\u001b[0;34m(self, object, *multiparams, **params)\u001b[0m\n\u001b[1;32m    660\u001b[0m                                                 \u001b[0mobject\u001b[0m\u001b[0;34m,\u001b[0m\u001b[0;34m\u001b[0m\u001b[0m\n\u001b[1;32m    661\u001b[0m                                                 \u001b[0mmultiparams\u001b[0m\u001b[0;34m,\u001b[0m\u001b[0;34m\u001b[0m\u001b[0m\n\u001b[0;32m--> 662\u001b[0;31m                                                 params)\n\u001b[0m\u001b[1;32m    663\u001b[0m         \u001b[0;32melse\u001b[0m\u001b[0;34m:\u001b[0m\u001b[0;34m\u001b[0m\u001b[0m\n\u001b[1;32m    664\u001b[0m             raise exc.InvalidRequestError(\n",
        "\u001b[0;32m/Library/Python/2.7/site-packages/sqlalchemy/engine/base.pyc\u001b[0m in \u001b[0;36m_execute_clauseelement\u001b[0;34m(self, elem, multiparams, params)\u001b[0m\n\u001b[1;32m    759\u001b[0m             \u001b[0mcompiled_sql\u001b[0m\u001b[0;34m,\u001b[0m\u001b[0;34m\u001b[0m\u001b[0m\n\u001b[1;32m    760\u001b[0m             \u001b[0mdistilled_params\u001b[0m\u001b[0;34m,\u001b[0m\u001b[0;34m\u001b[0m\u001b[0m\n\u001b[0;32m--> 761\u001b[0;31m             \u001b[0mcompiled_sql\u001b[0m\u001b[0;34m,\u001b[0m \u001b[0mdistilled_params\u001b[0m\u001b[0;34m\u001b[0m\u001b[0m\n\u001b[0m\u001b[1;32m    762\u001b[0m         )\n\u001b[1;32m    763\u001b[0m         \u001b[0;32mif\u001b[0m \u001b[0mself\u001b[0m\u001b[0;34m.\u001b[0m\u001b[0m_has_events\u001b[0m\u001b[0;34m:\u001b[0m\u001b[0;34m\u001b[0m\u001b[0m\n",
        "\u001b[0;32m/Library/Python/2.7/site-packages/sqlalchemy/engine/base.pyc\u001b[0m in \u001b[0;36m_execute_context\u001b[0;34m(self, dialect, constructor, statement, parameters, *args)\u001b[0m\n\u001b[1;32m    872\u001b[0m                                 \u001b[0mparameters\u001b[0m\u001b[0;34m,\u001b[0m\u001b[0;34m\u001b[0m\u001b[0m\n\u001b[1;32m    873\u001b[0m                                 \u001b[0mcursor\u001b[0m\u001b[0;34m,\u001b[0m\u001b[0;34m\u001b[0m\u001b[0m\n\u001b[0;32m--> 874\u001b[0;31m                                 context)\n\u001b[0m\u001b[1;32m    875\u001b[0m \u001b[0;34m\u001b[0m\u001b[0m\n\u001b[1;32m    876\u001b[0m         \u001b[0;32mif\u001b[0m \u001b[0mself\u001b[0m\u001b[0;34m.\u001b[0m\u001b[0m_has_events\u001b[0m\u001b[0;34m:\u001b[0m\u001b[0;34m\u001b[0m\u001b[0m\n",
        "\u001b[0;32m/Library/Python/2.7/site-packages/sqlalchemy/engine/base.pyc\u001b[0m in \u001b[0;36m_handle_dbapi_exception\u001b[0;34m(self, e, statement, parameters, cursor, context)\u001b[0m\n\u001b[1;32m   1022\u001b[0m                                         \u001b[0mself\u001b[0m\u001b[0;34m.\u001b[0m\u001b[0mdialect\u001b[0m\u001b[0;34m.\u001b[0m\u001b[0mdbapi\u001b[0m\u001b[0;34m.\u001b[0m\u001b[0mError\u001b[0m\u001b[0;34m,\u001b[0m\u001b[0;34m\u001b[0m\u001b[0m\n\u001b[1;32m   1023\u001b[0m                                         connection_invalidated=self._is_disconnect),\n\u001b[0;32m-> 1024\u001b[0;31m                                     \u001b[0mexc_info\u001b[0m\u001b[0;34m\u001b[0m\u001b[0m\n\u001b[0m\u001b[1;32m   1025\u001b[0m                                 )\n\u001b[1;32m   1026\u001b[0m \u001b[0;34m\u001b[0m\u001b[0m\n",
        "\u001b[0;32m/Library/Python/2.7/site-packages/sqlalchemy/util/compat.pyc\u001b[0m in \u001b[0;36mraise_from_cause\u001b[0;34m(exception, exc_info)\u001b[0m\n\u001b[1;32m    193\u001b[0m         \u001b[0;31m# the code line where the issue occurred\u001b[0m\u001b[0;34m\u001b[0m\u001b[0;34m\u001b[0m\u001b[0m\n\u001b[1;32m    194\u001b[0m         \u001b[0mexc_type\u001b[0m\u001b[0;34m,\u001b[0m \u001b[0mexc_value\u001b[0m\u001b[0;34m,\u001b[0m \u001b[0mexc_tb\u001b[0m \u001b[0;34m=\u001b[0m \u001b[0mexc_info\u001b[0m\u001b[0;34m\u001b[0m\u001b[0m\n\u001b[0;32m--> 195\u001b[0;31m         \u001b[0mreraise\u001b[0m\u001b[0;34m(\u001b[0m\u001b[0mtype\u001b[0m\u001b[0;34m(\u001b[0m\u001b[0mexception\u001b[0m\u001b[0;34m)\u001b[0m\u001b[0;34m,\u001b[0m \u001b[0mexception\u001b[0m\u001b[0;34m,\u001b[0m \u001b[0mtb\u001b[0m\u001b[0;34m=\u001b[0m\u001b[0mexc_tb\u001b[0m\u001b[0;34m)\u001b[0m\u001b[0;34m\u001b[0m\u001b[0m\n\u001b[0m\u001b[1;32m    196\u001b[0m \u001b[0;34m\u001b[0m\u001b[0m\n\u001b[1;32m    197\u001b[0m \u001b[0;34m\u001b[0m\u001b[0m\n",
        "\u001b[0;32m/Library/Python/2.7/site-packages/sqlalchemy/engine/base.pyc\u001b[0m in \u001b[0;36m_execute_context\u001b[0;34m(self, dialect, constructor, statement, parameters, *args)\u001b[0m\n\u001b[1;32m    865\u001b[0m                                     \u001b[0mstatement\u001b[0m\u001b[0;34m,\u001b[0m\u001b[0;34m\u001b[0m\u001b[0m\n\u001b[1;32m    866\u001b[0m                                     \u001b[0mparameters\u001b[0m\u001b[0;34m,\u001b[0m\u001b[0;34m\u001b[0m\u001b[0m\n\u001b[0;32m--> 867\u001b[0;31m                                     context)\n\u001b[0m\u001b[1;32m    868\u001b[0m         \u001b[0;32mexcept\u001b[0m \u001b[0mException\u001b[0m\u001b[0;34m,\u001b[0m \u001b[0me\u001b[0m\u001b[0;34m:\u001b[0m\u001b[0;34m\u001b[0m\u001b[0m\n\u001b[1;32m    869\u001b[0m             self._handle_dbapi_exception(\n",
        "\u001b[0;32m/Library/Python/2.7/site-packages/sqlalchemy/engine/default.pyc\u001b[0m in \u001b[0;36mdo_execute\u001b[0;34m(self, cursor, statement, parameters, context)\u001b[0m\n\u001b[1;32m    322\u001b[0m \u001b[0;34m\u001b[0m\u001b[0m\n\u001b[1;32m    323\u001b[0m     \u001b[0;32mdef\u001b[0m \u001b[0mdo_execute\u001b[0m\u001b[0;34m(\u001b[0m\u001b[0mself\u001b[0m\u001b[0;34m,\u001b[0m \u001b[0mcursor\u001b[0m\u001b[0;34m,\u001b[0m \u001b[0mstatement\u001b[0m\u001b[0;34m,\u001b[0m \u001b[0mparameters\u001b[0m\u001b[0;34m,\u001b[0m \u001b[0mcontext\u001b[0m\u001b[0;34m=\u001b[0m\u001b[0mNone\u001b[0m\u001b[0;34m)\u001b[0m\u001b[0;34m:\u001b[0m\u001b[0;34m\u001b[0m\u001b[0m\n\u001b[0;32m--> 324\u001b[0;31m         \u001b[0mcursor\u001b[0m\u001b[0;34m.\u001b[0m\u001b[0mexecute\u001b[0m\u001b[0;34m(\u001b[0m\u001b[0mstatement\u001b[0m\u001b[0;34m,\u001b[0m \u001b[0mparameters\u001b[0m\u001b[0;34m)\u001b[0m\u001b[0;34m\u001b[0m\u001b[0m\n\u001b[0m\u001b[1;32m    325\u001b[0m \u001b[0;34m\u001b[0m\u001b[0m\n\u001b[1;32m    326\u001b[0m     \u001b[0;32mdef\u001b[0m \u001b[0mdo_execute_no_params\u001b[0m\u001b[0;34m(\u001b[0m\u001b[0mself\u001b[0m\u001b[0;34m,\u001b[0m \u001b[0mcursor\u001b[0m\u001b[0;34m,\u001b[0m \u001b[0mstatement\u001b[0m\u001b[0;34m,\u001b[0m \u001b[0mcontext\u001b[0m\u001b[0;34m=\u001b[0m\u001b[0mNone\u001b[0m\u001b[0;34m)\u001b[0m\u001b[0;34m:\u001b[0m\u001b[0;34m\u001b[0m\u001b[0m\n",
        "\u001b[0;31mIntegrityError\u001b[0m: (IntegrityError) null value in column \"bound_component_id\" violates not-null constraint\n 'INSERT INTO ecoli.dna_binding_site (dna_id, dna_type_id) VALUES (%(dna_id)s, %(dna_type_id)s) RETURNING ecoli.dna_binding_site.bound_component_id' {'dna_type_id': 1, 'dna_id': 3}"
       ]
      }
     ],
     "prompt_number": 6
    },
    {
     "cell_type": "code",
     "collapsed": false,
     "input": [
      "ome.query(components.DNA).all()"
     ],
     "language": "python",
     "metadata": {},
     "outputs": [
      {
       "metadata": {},
       "output_type": "pyout",
       "prompt_number": 6,
       "text": [
        "[DNA (#1, None), DNA (#2, thrA_promoter)]"
       ]
      }
     ],
     "prompt_number": 6
    },
    {
     "cell_type": "code",
     "collapsed": false,
     "input": [
      "components.DNA_binding_site"
     ],
     "language": "python",
     "metadata": {},
     "outputs": [
      {
       "metadata": {},
       "output_type": "pyout",
       "prompt_number": 7,
       "text": [
        "ome.orm.components.DNA_binding_site"
       ]
      }
     ],
     "prompt_number": 7
    },
    {
     "cell_type": "code",
     "collapsed": false,
     "input": [],
     "language": "python",
     "metadata": {},
     "outputs": []
    }
   ],
   "metadata": {}
  }
 ]
}