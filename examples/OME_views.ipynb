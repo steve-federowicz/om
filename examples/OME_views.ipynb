{
 "metadata": {
  "name": "",
  "signature": "sha256:a31f7b7fd22c44f86e3af2a26939dce30ff45b1d5ae52d07a0afeb0c3f837d40"
 },
 "nbformat": 3,
 "nbformat_minor": 0,
 "worksheets": [
  {
   "cells": [
    {
     "cell_type": "code",
     "collapsed": false,
     "input": [
      "from om import base, settings\n",
      "from om.components import *\n",
      "from om.data import *\n",
      "from om.util import *\n",
      "\n",
      "from IPython.display import Javascript\n",
      "\n",
      "session = base.Session()\n",
      "\n",
      "ged = GeneExpressionData\n",
      "dged = DifferentialGeneExpressionData\n",
      "cpge = ChIPPeakGeneExpression"
     ],
     "language": "python",
     "metadata": {},
     "outputs": [
      {
       "output_type": "stream",
       "stream": "stderr",
       "text": [
        "/usr/local/Cellar/python/2.7.6/Frameworks/Python.framework/Versions/2.7/lib/python2.7/site-packages/pandas/io/excel.py:626: UserWarning: Installed openpyxl is not supported at this time. Use >=1.6.1 and <2.0.0.\n",
        "  .format(openpyxl_compat.start_ver, openpyxl_compat.stop_ver))\n"
       ]
      }
     ],
     "prompt_number": 2
    },
    {
     "cell_type": "markdown",
     "metadata": {},
     "source": [
      "[SQL Alchemy querying documentation](http://docs.sqlalchemy.org/en/rel_0_9/orm/query.html)"
     ]
    },
    {
     "cell_type": "heading",
     "level": 3,
     "metadata": {},
     "source": [
      "Gene Expression Data"
     ]
    },
    {
     "cell_type": "markdown",
     "metadata": {},
     "source": [
      "| locus_id | gene_name | fold_change |   stddev |  strain | carbon_source | nitrogen_source | electron_acceptor | supplements | dataset_type         |     \n",
      "|----------|-----------|-------------|----------|---------|---------------|-----------------|-------------------|-------------|----------------------|\n",
      "|  b0001   |   thrL    |   2.1       |   .012   |    wt   |  glucose      |     NH4Cl       |     O2            |    thiamine |     array_experiment |"
     ]
    },
    {
     "cell_type": "code",
     "collapsed": false,
     "input": [
      "session.query(ged).filter(ged.gene_name == 'glpK').all()"
     ],
     "language": "python",
     "metadata": {},
     "outputs": [
      {
       "metadata": {},
       "output_type": "pyout",
       "prompt_number": 5,
       "text": [
        "[Gene: (b3926, glpK), Value:  2.25, std: 0.00, Condition: glucose, NH4Cl, anaerobic, Strain: wt, array_experiment,\n",
        " Gene: (b3926, glpK), Value:  2.25, std: 0.00, Condition: glucose, NH4Cl, anaerobic, Strain: delta-arcA, array_experiment,\n",
        " Gene: (b3926, glpK), Value:  2.25, std: 0.01, Condition: glucose, NH4Cl, anaerobic, Strain: delta-arcAfnr, array_experiment,\n",
        " Gene: (b3926, glpK), Value:  2.25, std: 0.00, Condition: glucose, NH4Cl, anaerobic, Strain: delta-fnr, array_experiment,\n",
        " Gene: (b3926, glpK), Value:  2.25, std: 0.00, Condition: glucose, NH4Cl, anaerobic, Strain: delta-narL, array_experiment,\n",
        " Gene: (b3926, glpK), Value:  2.25, std: 0.00, Condition: glucose, NH4Cl, anaerobic, Strain: delta-narLnarP, array_experiment,\n",
        " Gene: (b3926, glpK), Value:  2.25, std: 0.00, Condition: glucose, NH4Cl, anaerobic, Strain: delta-narP, array_experiment,\n",
        " Gene: (b3926, glpK), Value:  2.25, std: 0.00, Condition: glucose, NH4Cl, O2, Strain: wt, array_experiment,\n",
        " Gene: (b3926, glpK), Value:  2.25, std: 0.00, Condition: glucose, NH4Cl, O2, Strain: delta-arcA, array_experiment,\n",
        " Gene: (b3926, glpK), Value:  2.25, std: 0.00, Condition: glucose, NH4Cl, O2, Strain: delta-arcAfnr, array_experiment,\n",
        " Gene: (b3926, glpK), Value:  2.25, std: 0.00, Condition: glucose, NH4Cl, O2, Strain: delta-fnr, array_experiment,\n",
        " Gene: (b3926, glpK), Value:  2.25, std: 0.00, Condition: glucose, NH4Cl, NO3, Strain: wt, array_experiment,\n",
        " Gene: (b3926, glpK), Value:  2.25, std: 0.00, Condition: glucose, NH4Cl, NO3, Strain: delta-narL, array_experiment,\n",
        " Gene: (b3926, glpK), Value:  2.25, std: 0.00, Condition: glucose, NH4Cl, NO3, Strain: delta-narLnarP, array_experiment,\n",
        " Gene: (b3926, glpK), Value:  2.25, std: 0.00, Condition: glucose, NH4Cl, NO3, Strain: delta-narP, array_experiment,\n",
        " Gene: (b3926, glpK), Value:  9.51, std: 0.21, Condition: acetate, NH4Cl, O2, Strain: wt, array_experiment,\n",
        " Gene: (b3926, glpK), Value:  9.24, std: 0.16, Condition: acetate, NH4Cl, O2, Strain: delta-cra, array_experiment,\n",
        " Gene: (b3926, glpK), Value:  2.62, std: 0.06, Condition: glucose, NH4Cl, O2, Strain: wt, array_experiment,\n",
        " Gene: (b3926, glpK), Value:  7.86, std: 0.09, Condition: glucose, NH4Cl, O2, Strain: delta-crp, array_experiment,\n",
        " Gene: (b3926, glpK), Value:  3.56, std: 0.24, Condition: glucose, NH4Cl, O2, Strain: delta-cra, array_experiment,\n",
        " Gene: (b3926, glpK), Value:  3.22, std: 0.05, Condition: glucose, NH4Cl, O2, Strain: delta-lrp, array_experiment,\n",
        " Gene: (b3926, glpK), Value:  3.02, std: 0.14, Condition: glucose, NH4Cl, O2, Strain: delta-purR, array_experiment,\n",
        " Gene: (b3926, glpK), Value:  7.01, std: 0.91, Condition: fructose, NH4Cl, O2, Strain: wt, array_experiment,\n",
        " Gene: (b3926, glpK), Value:  9.14, std: 0.14, Condition: fructose, NH4Cl, O2, Strain: delta-crp, array_experiment,\n",
        " Gene: (b3926, glpK), Value:  3.21, std: 0.06, Condition: glucose, leucine, O2, Strain: wt, array_experiment,\n",
        " Gene: (b3926, glpK), Value:  3.38, std: 0.00, Condition: glucose, leucine, O2, Strain: delta-lrp, array_experiment,\n",
        " Gene: (b3926, glpK), Value:  2.48, std: 0.03, Condition: glucose, adenine, O2, Strain: wt, array_experiment,\n",
        " Gene: (b3926, glpK), Value:  2.78, std: 0.18, Condition: glucose, adenine, O2, Strain: delta-purR, array_experiment,\n",
        " Gene: (b3926, glpK), Value: 126.07, std:10.89, Condition: fructose, NH4Cl, O2, Strain: wt, rnaseq_experiment,\n",
        " Gene: (b3926, glpK), Value: 444.20, std:42.89, Condition: fructose, NH4Cl, O2, Strain: delta-crp, rnaseq_experiment,\n",
        " Gene: (b3926, glpK), Value: 117.22, std:88.52, Condition: glucose, NH4Cl, O2, Strain: wt, rnaseq_experiment,\n",
        " Gene: (b3926, glpK), Value: 551.12, std:80.99, Condition: glucose, NH4Cl, O2, Strain: delta-crp, rnaseq_experiment,\n",
        " Gene: (b3926, glpK), Value: 4568.24, std:4568.24, Condition: glycerol, NH4Cl, O2, Strain: wt, rnaseq_experiment,\n",
        " Gene: (b3926, glpK), Value: 2835.98, std:685.89, Condition: glycerol, NH4Cl, O2, Strain: Ar3, rnaseq_experiment,\n",
        " Gene: (b3926, glpK), Value: 3445.77, std:794.81, Condition: glycerol, NH4Cl, O2, Strain: delAr1, rnaseq_experiment,\n",
        " Gene: (b3926, glpK), Value: 2409.39, std:79.20, Condition: glycerol, NH4Cl, O2, Strain: delAr1delAr2, rnaseq_experiment,\n",
        " Gene: (b3926, glpK), Value: 5924.43, std:191.23, Condition: glycerol, NH4Cl, O2, Strain: delAr2, rnaseq_experiment,\n",
        " Gene: (b3926, glpK), Value: 1622.35, std:52.04, Condition: glycerol, NH4Cl, O2, Strain: delta-crp, rnaseq_experiment,\n",
        " Gene: (b3926, glpK), Value: 118.59, std: 7.89, Condition: glucose, NH4Cl, O2, Strain: wt, rnaseq_experiment,\n",
        " Gene: (b3926, glpK), Value: 102.32, std: 4.85, Condition: glucose, NH4Cl, O2, Strain: delta-fur, rnaseq_experiment,\n",
        " Gene: (b3926, glpK), Value: 44.85, std: 0.92, Condition: glucose, NH4Cl, O2, Strain: wt, rnaseq_experiment,\n",
        " Gene: (b3926, glpK), Value: 64.78, std: 2.95, Condition: glucose, NH4Cl, O2, Strain: delta-fur, rnaseq_experiment,\n",
        " Gene: (b3926, glpK), Value: 49.15, std: 5.54, Condition: glucose, cytidine, O2, Strain: wt, rnaseq_experiment,\n",
        " Gene: (b3926, glpK), Value: 47.09, std: 2.65, Condition: glucose, cytosine, O2, Strain: wt, rnaseq_experiment,\n",
        " Gene: (b3926, glpK), Value: 47.59, std:12.80, Condition: glucose, glutamine, O2, Strain: wt, rnaseq_experiment,\n",
        " Gene: (b3926, glpK), Value: 150.36, std:25.22, Condition: acetate, NH4Cl, O2, Strain: bw25113, rnaseq_experiment,\n",
        " Gene: (b3926, glpK), Value: 83.81, std:37.37, Condition: fumarate, NH4Cl, O2, Strain: bw25113, rnaseq_experiment,\n",
        " Gene: (b3926, glpK), Value: 30.07, std: 3.24, Condition: glucose, NH4Cl, O2, Strain: bw25113, rnaseq_experiment,\n",
        " Gene: (b3926, glpK), Value: 75.29, std: 8.51, Condition: pyruvate, NH4Cl, O2, Strain: bw25113, rnaseq_experiment]"
       ]
      }
     ],
     "prompt_number": 5
    },
    {
     "cell_type": "code",
     "collapsed": false,
     "input": [
      "session.query(ged).filter(and_(ged.gene_name == 'glpK',\n",
      "                               ged.carbon_source == 'acetate')).all()"
     ],
     "language": "python",
     "metadata": {},
     "outputs": [
      {
       "metadata": {},
       "output_type": "pyout",
       "prompt_number": 11,
       "text": [
        "[Gene: (b3926, glpK), Value:  9.51, std: 0.21, Condition: acetate, NH4Cl, O2, Strain: wt, array_experiment,\n",
        " Gene: (b3926, glpK), Value:  9.24, std: 0.16, Condition: acetate, NH4Cl, O2, Strain: delta-cra, array_experiment,\n",
        " Gene: (b3926, glpK), Value: 150.36, std:25.22, Condition: acetate, NH4Cl, O2, Strain: bw25113, rnaseq_experiment]"
       ]
      }
     ],
     "prompt_number": 11
    },
    {
     "cell_type": "code",
     "collapsed": false,
     "input": [
      "session.query(ged).filter(and_(ged.gene_name == 'glpK',\n",
      "                               ged.carbon_source == 'glucose',\n",
      "                               ged.strain == 'wt')).all()"
     ],
     "language": "python",
     "metadata": {},
     "outputs": [
      {
       "metadata": {},
       "output_type": "pyout",
       "prompt_number": 12,
       "text": [
        "[Gene: (b3926, glpK), Value:  2.25, std: 0.00, Condition: glucose, NH4Cl, anaerobic, Strain: wt, array_experiment,\n",
        " Gene: (b3926, glpK), Value:  2.25, std: 0.00, Condition: glucose, NH4Cl, O2, Strain: wt, array_experiment,\n",
        " Gene: (b3926, glpK), Value:  2.25, std: 0.00, Condition: glucose, NH4Cl, NO3, Strain: wt, array_experiment,\n",
        " Gene: (b3926, glpK), Value:  2.62, std: 0.06, Condition: glucose, NH4Cl, O2, Strain: wt, array_experiment,\n",
        " Gene: (b3926, glpK), Value:  3.21, std: 0.06, Condition: glucose, leucine, O2, Strain: wt, array_experiment,\n",
        " Gene: (b3926, glpK), Value:  2.48, std: 0.03, Condition: glucose, adenine, O2, Strain: wt, array_experiment,\n",
        " Gene: (b3926, glpK), Value: 117.22, std:88.52, Condition: glucose, NH4Cl, O2, Strain: wt, rnaseq_experiment,\n",
        " Gene: (b3926, glpK), Value: 118.59, std: 7.89, Condition: glucose, NH4Cl, O2, Strain: wt, rnaseq_experiment,\n",
        " Gene: (b3926, glpK), Value: 44.85, std: 0.92, Condition: glucose, NH4Cl, O2, Strain: wt, rnaseq_experiment,\n",
        " Gene: (b3926, glpK), Value: 49.15, std: 5.54, Condition: glucose, cytidine, O2, Strain: wt, rnaseq_experiment,\n",
        " Gene: (b3926, glpK), Value: 47.09, std: 2.65, Condition: glucose, cytosine, O2, Strain: wt, rnaseq_experiment,\n",
        " Gene: (b3926, glpK), Value: 47.59, std:12.80, Condition: glucose, glutamine, O2, Strain: wt, rnaseq_experiment]"
       ]
      }
     ],
     "prompt_number": 12
    },
    {
     "cell_type": "heading",
     "level": 3,
     "metadata": {},
     "source": [
      "Differential Gene Expression Data"
     ]
    },
    {
     "cell_type": "markdown",
     "metadata": {},
     "source": [
      "| locus_id | gene_name | fold_change |   pval |  strain1 | strain2 | carbon_source1 | carbon_source2 | nitrogen_source1 | nitrogen_source2 | electron_acceptor1 | electron_acceptor2 | \n",
      "|----------|-----------|-------------|--------|----------|---------|---- -----------|----------------|------------------|------------------|--------------------|--------------------|\n",
      "|  b0001   |   thrL    |   2.1       |   .012 |    wt    |   wt    |   glucose      |  acetate       |    NH4Cl         |   NH4Cl          |    O2              |    O2              |     "
     ]
    },
    {
     "cell_type": "code",
     "collapsed": false,
     "input": [
      "session.query(dged).filter(and_(dged.gene_name.in_(['sucA','sucB']),\n",
      "                               dged.carbon_source1 == 'fructose')).all()"
     ],
     "language": "python",
     "metadata": {},
     "outputs": [
      {
       "metadata": {},
       "output_type": "pyout",
       "prompt_number": 5,
       "text": [
        "[Gene: (b0726, sucA), delta-crp/wt, fructose, NH4Cl, O2, Fold Change:  2.47, FDR:  0.00,\n",
        " Gene: (b0726, sucA), wt, fructose/glucose, NH4Cl, O2, Fold Change: -1.78, FDR:  0.03,\n",
        " Gene: (b0726, sucA), delta-crp, fructose/glucose, NH4Cl, O2, Fold Change:  0.67, FDR:  0.20,\n",
        " Gene: (b0726, sucA), delta-crp, fructose/glucose, NH4Cl, O2, Fold Change:  0.06, FDR:  0.94,\n",
        " Gene: (b0727, sucB), delta-crp/wt, fructose, NH4Cl, O2, Fold Change:  2.38, FDR:  0.00,\n",
        " Gene: (b0727, sucB), wt, fructose/glucose, NH4Cl, O2, Fold Change: -1.70, FDR:  0.03,\n",
        " Gene: (b0727, sucB), delta-crp, fructose/glucose, NH4Cl, O2, Fold Change:  0.62, FDR:  0.21,\n",
        " Gene: (b0727, sucB), delta-crp, fructose/glucose, NH4Cl, O2, Fold Change: -0.06, FDR:  0.34]"
       ]
      }
     ],
     "prompt_number": 5
    },
    {
     "cell_type": "code",
     "collapsed": false,
     "input": [
      "session.query(dged.value).filter(dged.gene_name.in_(['sucA','sucB'])).all()"
     ],
     "language": "python",
     "metadata": {},
     "outputs": [
      {
       "metadata": {},
       "output_type": "pyout",
       "prompt_number": 8,
       "text": [
        "[(-1.05668),\n",
        " (-1.05668),\n",
        " (1.07965),\n",
        " (1.07965),\n",
        " (-1.10332),\n",
        " (-1.10332),\n",
        " (2.4661),\n",
        " (2.4661),\n",
        " (1.87877),\n",
        " (1.87877),\n",
        " (-1.16853),\n",
        " (-1.16853),\n",
        " (-0.909772),\n",
        " (-0.909772),\n",
        " (-0.839486),\n",
        " (-0.839486),\n",
        " (-1.89617),\n",
        " (-1.89617),\n",
        " (2.49735),\n",
        " (2.49735),\n",
        " (0.875101),\n",
        " (0.875101),\n",
        " (1.8707),\n",
        " (1.8707),\n",
        " (-1.77703),\n",
        " (-1.77703),\n",
        " (-2.263),\n",
        " (-2.263),\n",
        " (-0.915208),\n",
        " (-0.915208),\n",
        " (1.43034),\n",
        " (1.43034),\n",
        " (0.674504),\n",
        " (0.674504),\n",
        " (0.0555931204215137),\n",
        " (0.0555931204215137),\n",
        " (-0.0963324849803397),\n",
        " (-0.0963324849803397),\n",
        " (-0.121869437206573),\n",
        " (-0.121869437206573),\n",
        " (0.968127),\n",
        " (0.968127),\n",
        " (-1.05049),\n",
        " (-1.05049),\n",
        " (2.38132),\n",
        " (2.38132),\n",
        " (2.18729),\n",
        " (2.18729),\n",
        " (0.920698),\n",
        " (0.920698),\n",
        " (-0.882855),\n",
        " (-0.882855),\n",
        " (-1.05183),\n",
        " (-1.05183),\n",
        " (-0.724741),\n",
        " (-0.724741),\n",
        " (-1.30119),\n",
        " (-1.30119),\n",
        " (1.48282),\n",
        " (1.48282),\n",
        " (0.859946),\n",
        " (0.859946),\n",
        " (1.02505),\n",
        " (1.02505),\n",
        " (1.84566),\n",
        " (1.84566),\n",
        " (-1.69757),\n",
        " (-1.69757),\n",
        " (-1.98902),\n",
        " (-1.98902),\n",
        " (-0.755685),\n",
        " (-0.755685),\n",
        " (0.846023),\n",
        " (0.846023),\n",
        " (0.618829),\n",
        " (0.618829),\n",
        " (-0.0637467552658677),\n",
        " (-0.0637467552658677),\n",
        " (-1.83071300300125),\n",
        " (-1.83071300300125),\n",
        " (0.364897356589321),\n",
        " (0.364897356589321)]"
       ]
      }
     ],
     "prompt_number": 8
    },
    {
     "cell_type": "heading",
     "level": 3,
     "metadata": {},
     "source": [
      "ChIP Peak Gene Expression "
     ]
    },
    {
     "cell_type": "markdown",
     "metadata": {},
     "source": [
      "| locus_id | gene_name | fold_change |   pval |  target | leftpos | rightpos |  peak_value |strain1 | strain2   | carbon_source1 | nitrogen_source | electron_acceptor |\n",
      "|----------|-----------|-------------|--------|---------|---------|--------- |-------------|--------|-----------|----------------|-----------------|-------------------|\n",
      "|  b0001   |   thrL    |   2.1       |   .012 |    ArcA |  192990 |  193015  |      876.3  |wt      |delta-arcA |   glucose      |   NH4Cl         |       anaerobic   |     "
     ]
    },
    {
     "cell_type": "code",
     "collapsed": false,
     "input": [
      "session.query(cpge).filter(cpge.gene_name.ilike('glp%')).all()"
     ],
     "language": "python",
     "metadata": {},
     "outputs": [
      {
       "metadata": {},
       "output_type": "pyout",
       "prompt_number": 21,
       "text": [
        "[TF: Crp, Gene: (glpX, b3925),  0.65,  0.23 wt-->delta-crp Condition: fructose, NH4Cl, O2 Peak: 4115765-4115966 value:12806.00,\n",
        " TF: Crp, Gene: (glpK, b3926), -1.82,  0.00 wt-->delta-crp Condition: fructose, NH4Cl, O2 Peak: 4115765-4115966 value:12806.00,\n",
        " TF: Crp, Gene: (glpX, b3925),  0.89,  0.21 wt-->delta-crp Condition: glycerol, NH4Cl, O2 Peak: 4115764-4115965 value:4585.00,\n",
        " TF: Crp, Gene: (glpX, b3925),  0.89,  0.21 wt-->delta-crp Condition: glycerol, NH4Cl, O2 Peak: 4116073-4116274 value:14009.00,\n",
        " TF: Crp, Gene: (glpX, b3925),  0.89,  0.21 wt-->delta-crp Condition: glycerol, NH4Cl, O2 Peak: 4115764-4115965 value:17469.00,\n",
        " TF: Crp, Gene: (glpX, b3925),  0.89,  0.21 wt-->delta-crp Condition: glycerol, NH4Cl, O2 Peak: 4115765-4115966 value:6228.00,\n",
        " TF: Crp, Gene: (glpK, b3926),  1.49,  0.05 wt-->delta-crp Condition: glycerol, NH4Cl, O2 Peak: 4115764-4115965 value:4585.00,\n",
        " TF: Crp, Gene: (glpK, b3926),  1.49,  0.05 wt-->delta-crp Condition: glycerol, NH4Cl, O2 Peak: 4116073-4116274 value:14009.00,\n",
        " TF: Crp, Gene: (glpK, b3926),  1.49,  0.05 wt-->delta-crp Condition: glycerol, NH4Cl, O2 Peak: 4115764-4115965 value:17469.00,\n",
        " TF: Crp, Gene: (glpK, b3926),  1.49,  0.05 wt-->delta-crp Condition: glycerol, NH4Cl, O2 Peak: 4115765-4115966 value:6228.00,\n",
        " TF: Crp, Gene: (glpF, b3927), -1.52,  0.01 wt-->delta-crp Condition: fructose, NH4Cl, O2 Peak: 4115765-4115966 value:12806.00,\n",
        " TF: Crp, Gene: (glpB, b2242),  4.06,  0.23 wt-->delta-crp Condition: glycerol, NH4Cl, O2 Peak: 2350360-2350561 value:15438.80,\n",
        " TF: Crp, Gene: (glpB, b2242),  4.06,  0.23 wt-->delta-crp Condition: glycerol, NH4Cl, O2 Peak: 2350274-2350475 value:8230.70,\n",
        " TF: Crp, Gene: (glpB, b2242),  4.06,  0.23 wt-->delta-crp Condition: glycerol, NH4Cl, O2 Peak: 2350199-2350400 value:9544.40,\n",
        " TF: Crp, Gene: (glpB, b2242),  4.06,  0.23 wt-->delta-crp Condition: glycerol, NH4Cl, O2 Peak: 2350370-2350571 value:13455.50,\n",
        " TF: Crp, Gene: (glpB, b2242),  4.06,  0.23 wt-->delta-crp Condition: glycerol, NH4Cl, O2 Peak: 2350378-2350579 value:15475.90,\n",
        " TF: Crp, Gene: (glpB, b2242),  4.06,  0.23 wt-->delta-crp Condition: glycerol, NH4Cl, O2 Peak: 2350513-2350714 value:23854.80,\n",
        " TF: Crp, Gene: (glpF, b3927),  2.94,  0.00 wt-->delta-crp Condition: glycerol, NH4Cl, O2 Peak: 4115764-4115965 value:4585.00,\n",
        " TF: Crp, Gene: (glpF, b3927),  2.94,  0.00 wt-->delta-crp Condition: glycerol, NH4Cl, O2 Peak: 4116073-4116274 value:14009.00,\n",
        " TF: Crp, Gene: (glpF, b3927),  2.94,  0.00 wt-->delta-crp Condition: glycerol, NH4Cl, O2 Peak: 4115764-4115965 value:17469.00,\n",
        " TF: Crp, Gene: (glpF, b3927),  2.94,  0.00 wt-->delta-crp Condition: glycerol, NH4Cl, O2 Peak: 4115765-4115966 value:6228.00,\n",
        " TF: Crp, Gene: (glpQ, b2239),  4.99,  0.00 wt-->delta-crp Condition: glycerol, NH4Cl, O2 Peak: 2350360-2350561 value:15438.80,\n",
        " TF: Crp, Gene: (glpQ, b2239),  4.99,  0.00 wt-->delta-crp Condition: glycerol, NH4Cl, O2 Peak: 2350274-2350475 value:8230.70,\n",
        " TF: Crp, Gene: (glpQ, b2239),  4.99,  0.00 wt-->delta-crp Condition: glycerol, NH4Cl, O2 Peak: 2350199-2350400 value:9544.40,\n",
        " TF: Crp, Gene: (glpQ, b2239),  4.99,  0.00 wt-->delta-crp Condition: glycerol, NH4Cl, O2 Peak: 2350370-2350571 value:13455.50,\n",
        " TF: Crp, Gene: (glpQ, b2239),  4.99,  0.00 wt-->delta-crp Condition: glycerol, NH4Cl, O2 Peak: 2350378-2350579 value:15475.90,\n",
        " TF: Crp, Gene: (glpQ, b2239),  4.99,  0.00 wt-->delta-crp Condition: glycerol, NH4Cl, O2 Peak: 2350513-2350714 value:23854.80,\n",
        " TF: Crp, Gene: (glpT, b2240),  7.11,  0.00 wt-->delta-crp Condition: glycerol, NH4Cl, O2 Peak: 2350360-2350561 value:15438.80,\n",
        " TF: Crp, Gene: (glpT, b2240),  7.11,  0.00 wt-->delta-crp Condition: glycerol, NH4Cl, O2 Peak: 2350274-2350475 value:8230.70,\n",
        " TF: Crp, Gene: (glpT, b2240),  7.11,  0.00 wt-->delta-crp Condition: glycerol, NH4Cl, O2 Peak: 2350199-2350400 value:9544.40,\n",
        " TF: Crp, Gene: (glpT, b2240),  7.11,  0.00 wt-->delta-crp Condition: glycerol, NH4Cl, O2 Peak: 2350370-2350571 value:13455.50,\n",
        " TF: Crp, Gene: (glpT, b2240),  7.11,  0.00 wt-->delta-crp Condition: glycerol, NH4Cl, O2 Peak: 2350378-2350579 value:15475.90,\n",
        " TF: Crp, Gene: (glpT, b2240),  7.11,  0.00 wt-->delta-crp Condition: glycerol, NH4Cl, O2 Peak: 2350513-2350714 value:23854.80]"
       ]
      }
     ],
     "prompt_number": 21
    },
    {
     "cell_type": "code",
     "collapsed": false,
     "input": [],
     "language": "python",
     "metadata": {},
     "outputs": []
    }
   ],
   "metadata": {}
  }
 ]
}