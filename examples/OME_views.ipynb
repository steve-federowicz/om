{
 "metadata": {
  "name": "",
  "signature": "sha256:b68f140b86cfe33d83f5526c362a58672795dbaa8872747951c1c24b5268525f"
 },
 "nbformat": 3,
 "nbformat_minor": 0,
 "worksheets": [
  {
   "cells": [
    {
     "cell_type": "code",
     "collapsed": false,
     "input": [
      "from om import base, settings\n",
      "from om.components import *\n",
      "from om.data import *\n",
      "from om.util import *\n",
      "\n",
      "from IPython.display import Javascript\n",
      "\n",
      "session = base.Session()\n",
      "\n",
      "ged = GeneExpressionData\n",
      "dged = DifferentialGeneExpressionData\n",
      "cpge = ChIPPeakGeneExpression"
     ],
     "language": "python",
     "metadata": {},
     "outputs": [
      {
       "output_type": "stream",
       "stream": "stderr",
       "text": [
        "cobra/io/__init__.py:17 \u001b[1;31mUserWarning\u001b[0m: cobra.io.sbml requires libsbml\n"
       ]
      }
     ],
     "prompt_number": 1
    },
    {
     "cell_type": "code",
     "collapsed": false,
     "input": [
      "session.query(RNASeqExperiment).all()"
     ],
     "language": "python",
     "metadata": {},
     "outputs": [
      {
       "metadata": {},
       "output_type": "pyout",
       "prompt_number": 2,
       "text": [
        "[RNASeqExperiment (#126, RNAseq_Ar3_glycerol_NH4Cl_O2_1):  1  crp,\n",
        " RNASeqExperiment (#127, RNAseq_Ar3_glycerol_NH4Cl_O2_2):  2  crp,\n",
        " RNASeqExperiment (#128, RNAseq_Ar3_glycerol_NH4Cl_O2_3):  3  crp,\n",
        " RNASeqExperiment (#129, RNAseq_delAr1_glycerol_NH4Cl_O2_1):  1  crp,\n",
        " RNASeqExperiment (#130, RNAseq_delAr1_glycerol_NH4Cl_O2_2):  2  crp,\n",
        " RNASeqExperiment (#131, RNAseq_delAr1_glycerol_NH4Cl_O2_3):  3  crp,\n",
        " RNASeqExperiment (#132, RNAseq_delAr1delAr2_glycerol_NH4Cl_O2_1):  1  crp,\n",
        " RNASeqExperiment (#133, RNAseq_delAr1delAr2_glycerol_NH4Cl_O2_2):  2  crp,\n",
        " RNASeqExperiment (#134, RNAseq_delAr1delAr2_glycerol_NH4Cl_O2_3):  3  crp,\n",
        " RNASeqExperiment (#135, RNAseq_delAr2_glycerol_NH4Cl_O2_1):  1  crp,\n",
        " RNASeqExperiment (#136, RNAseq_delAr2_glycerol_NH4Cl_O2_3):  3  crp,\n",
        " RNASeqExperiment (#137, RNAseq_delta-crp_fructose_NH4Cl_O2_1):  1  crp,\n",
        " RNASeqExperiment (#138, RNAseq_delta-crp_fructose_NH4Cl_O2_2):  2  crp,\n",
        " RNASeqExperiment (#139, RNAseq_delta-crp_fructose_NH4Cl_O2_3):  3  crp,\n",
        " RNASeqExperiment (#140, RNAseq_delta-crp_glucose_NH4Cl_O2_1):  1  crp,\n",
        " RNASeqExperiment (#141, RNAseq_delta-crp_glucose_NH4Cl_O2_2):  2  crp,\n",
        " RNASeqExperiment (#142, RNAseq_delta-crp_glucose_NH4Cl_O2_3):  3  crp,\n",
        " RNASeqExperiment (#143, RNAseq_delta-crp_glycerol_NH4Cl_O2_1):  1  crp,\n",
        " RNASeqExperiment (#144, RNAseq_delta-crp_glycerol_NH4Cl_O2_2):  2  crp,\n",
        " RNASeqExperiment (#145, RNAseq_delta-crp_glycerol_NH4Cl_O2_3):  3  crp,\n",
        " RNASeqExperiment (#146, RNAseq_wt_fructose_NH4Cl_O2_1):  1  crp,\n",
        " RNASeqExperiment (#147, RNAseq_wt_fructose_NH4Cl_O2_2):  2  crp,\n",
        " RNASeqExperiment (#148, RNAseq_wt_glucose_NH4Cl_O2_1):  1  crp,\n",
        " RNASeqExperiment (#149, RNAseq_wt_glucose_NH4Cl_O2_2):  2  crp,\n",
        " RNASeqExperiment (#150, RNAseq_wt_glycerol_NH4Cl_O2_1):  1  crp,\n",
        " RNASeqExperiment (#151, RNAseq_wt_glycerol_NH4Cl_O2_2):  2  crp,\n",
        " RNASeqExperiment (#152, RNAseq_delAr2_glycerol_NH4Cl_O2_2):  2  crp,\n",
        " RNASeqExperiment (#153, RNAseq_wt_glucose_NH4Cl_O2_3):  3  crp,\n",
        " RNASeqExperiment (#154, RNAseq_bw25113_acetate_NH4Cl_O2_1_thiamine):  1  yome,\n",
        " RNASeqExperiment (#155, RNAseq_bw25113_acetate_NH4Cl_O2_2_thiamine):  2  yome,\n",
        " RNASeqExperiment (#156, RNAseq_bw25113_fumarate_NH4Cl_O2_1_thiamine):  1  yome,\n",
        " RNASeqExperiment (#157, RNAseq_bw25113_fumarate_NH4Cl_O2_2_thiamine):  2  yome,\n",
        " RNASeqExperiment (#158, RNAseq_bw25113_glucose_NH4Cl_O2_1_thiamine):  1  yome,\n",
        " RNASeqExperiment (#159, RNAseq_bw25113_glucose_NH4Cl_O2_2_thiamine):  2  yome,\n",
        " RNASeqExperiment (#160, RNAseq_bw25113_pyruvate_NH4Cl_O2_1_thiamine):  1  yome,\n",
        " RNASeqExperiment (#161, RNAseq_bw25113_pyruvate_NH4Cl_O2_2_thiamine):  2  yome,\n",
        " RNASeqExperiment (#162, RNAseq_delta-fur_glucose_NH4Cl_O2_1_dpd):  1  yome,\n",
        " RNASeqExperiment (#163, RNAseq_delta-fur_glucose_NH4Cl_O2_1_FeCl2):  1  yome,\n",
        " RNASeqExperiment (#164, RNAseq_delta-fur_glucose_NH4Cl_O2_2_dpd):  2  yome,\n",
        " RNASeqExperiment (#165, RNAseq_delta-fur_glucose_NH4Cl_O2_2_FeCl2):  2  yome,\n",
        " RNASeqExperiment (#166, RNAseq_wt_glucose_cytidine_O2_1):  1  yome,\n",
        " RNASeqExperiment (#167, RNAseq_wt_glucose_cytidine_O2_2):  2  yome,\n",
        " RNASeqExperiment (#168, RNAseq_wt_glucose_cytosine_O2_1):  1  yome,\n",
        " RNASeqExperiment (#169, RNAseq_wt_glucose_cytosine_O2_2):  2  yome,\n",
        " RNASeqExperiment (#170, RNAseq_wt_glucose_glutamine_O2_1):  1  yome,\n",
        " RNASeqExperiment (#171, RNAseq_wt_glucose_glutamine_O2_2):  2  yome,\n",
        " RNASeqExperiment (#172, RNAseq_wt_glucose_NH4Cl_O2_1_dpd):  1  yome,\n",
        " RNASeqExperiment (#173, RNAseq_wt_glucose_NH4Cl_O2_1_FeCl2):  1  yome,\n",
        " RNASeqExperiment (#174, RNAseq_wt_glucose_NH4Cl_O2_2_dpd):  2  yome,\n",
        " RNASeqExperiment (#175, RNAseq_wt_glucose_NH4Cl_O2_2_FeCl2):  2  yome,\n",
        " RNASeqExperiment (#176, RNAseq_wt_glucose_NH4Cl_O2_3):  3  yome,\n",
        " RNASeqExperiment (#177, RNAseq_wt_glucose_NH4Cl_O2_4):  4  yome,\n",
        " RNASeqExperiment (#380, RNAseq_Ar3_glycerol_NH4Cl_O2_2):  2  CDS_rRNA_tRNA_ncRNA,\n",
        " RNASeqExperiment (#382, RNAseq_delAr1_glycerol_NH4Cl_O2_1):  1  CDS_rRNA_tRNA_ncRNA,\n",
        " RNASeqExperiment (#384, RNAseq_delAr1_glycerol_NH4Cl_O2_3):  3  CDS_rRNA_tRNA_ncRNA,\n",
        " RNASeqExperiment (#386, RNAseq_delAr1delAr2_glycerol_NH4Cl_O2_2):  2  CDS_rRNA_tRNA_ncRNA,\n",
        " RNASeqExperiment (#388, RNAseq_delAr2_glycerol_NH4Cl_O2_1):  1  CDS_rRNA_tRNA_ncRNA,\n",
        " RNASeqExperiment (#390, RNAseq_delta-crp_fructose_NH4Cl_O2_1):  1  CDS_rRNA_tRNA_ncRNA,\n",
        " RNASeqExperiment (#392, RNAseq_delta-crp_fructose_NH4Cl_O2_3):  3  CDS_rRNA_tRNA_ncRNA,\n",
        " RNASeqExperiment (#394, RNAseq_delta-crp_glucose_NH4Cl_O2_2):  2  CDS_rRNA_tRNA_ncRNA,\n",
        " RNASeqExperiment (#396, RNAseq_delta-crp_glycerol_NH4Cl_O2_1):  1  CDS_rRNA_tRNA_ncRNA,\n",
        " RNASeqExperiment (#398, RNAseq_delta-crp_glycerol_NH4Cl_O2_3):  3  CDS_rRNA_tRNA_ncRNA,\n",
        " RNASeqExperiment (#400, RNAseq_wt_fructose_NH4Cl_O2_2):  2  CDS_rRNA_tRNA_ncRNA,\n",
        " RNASeqExperiment (#402, RNAseq_wt_glucose_NH4Cl_O2_2):  2  CDS_rRNA_tRNA_ncRNA,\n",
        " RNASeqExperiment (#404, RNAseq_wt_glycerol_NH4Cl_O2_2):  2  CDS_rRNA_tRNA_ncRNA,\n",
        " RNASeqExperiment (#406, RNAseq_wt_glucose_NH4Cl_O2_3):  3  CDS_rRNA_tRNA_ncRNA,\n",
        " RNASeqExperiment (#408, RNAseq_Ar3_glycerol_NH4Cl_O2_2):  2  e_coli_notRNA_rRNA,\n",
        " RNASeqExperiment (#410, RNAseq_delAr1_glycerol_NH4Cl_O2_1):  1  e_coli_notRNA_rRNA,\n",
        " RNASeqExperiment (#412, RNAseq_delAr1_glycerol_NH4Cl_O2_3):  3  e_coli_notRNA_rRNA,\n",
        " RNASeqExperiment (#414, RNAseq_delAr1delAr2_glycerol_NH4Cl_O2_2):  2  e_coli_notRNA_rRNA,\n",
        " RNASeqExperiment (#416, RNAseq_delAr2_glycerol_NH4Cl_O2_1):  1  e_coli_notRNA_rRNA,\n",
        " RNASeqExperiment (#418, RNAseq_delta-crp_fructose_NH4Cl_O2_1):  1  e_coli_notRNA_rRNA,\n",
        " RNASeqExperiment (#420, RNAseq_delta-crp_fructose_NH4Cl_O2_3):  3  e_coli_notRNA_rRNA,\n",
        " RNASeqExperiment (#422, RNAseq_delta-crp_glucose_NH4Cl_O2_2):  2  e_coli_notRNA_rRNA,\n",
        " RNASeqExperiment (#424, RNAseq_delta-crp_glycerol_NH4Cl_O2_1):  1  e_coli_notRNA_rRNA,\n",
        " RNASeqExperiment (#426, RNAseq_delta-crp_glycerol_NH4Cl_O2_3):  3  e_coli_notRNA_rRNA,\n",
        " RNASeqExperiment (#428, RNAseq_wt_fructose_NH4Cl_O2_2):  2  e_coli_notRNA_rRNA,\n",
        " RNASeqExperiment (#430, RNAseq_wt_glucose_NH4Cl_O2_2):  2  e_coli_notRNA_rRNA,\n",
        " RNASeqExperiment (#432, RNAseq_wt_glycerol_NH4Cl_O2_2):  2  e_coli_notRNA_rRNA,\n",
        " RNASeqExperiment (#434, RNAseq_wt_glucose_NH4Cl_O2_3):  3  e_coli_notRNA_rRNA,\n",
        " RNASeqExperiment (#436, RNAseq_Ar3_glycerol_NH4Cl_O2_2):  2  CDS_tRNA_ncRNA,\n",
        " RNASeqExperiment (#438, RNAseq_delAr1_glycerol_NH4Cl_O2_1):  1  CDS_tRNA_ncRNA,\n",
        " RNASeqExperiment (#440, RNAseq_delAr1_glycerol_NH4Cl_O2_3):  3  CDS_tRNA_ncRNA,\n",
        " RNASeqExperiment (#442, RNAseq_delAr1delAr2_glycerol_NH4Cl_O2_2):  2  CDS_tRNA_ncRNA,\n",
        " RNASeqExperiment (#444, RNAseq_delAr2_glycerol_NH4Cl_O2_1):  1  CDS_tRNA_ncRNA,\n",
        " RNASeqExperiment (#446, RNAseq_delta-crp_fructose_NH4Cl_O2_1):  1  CDS_tRNA_ncRNA,\n",
        " RNASeqExperiment (#448, RNAseq_delta-crp_fructose_NH4Cl_O2_3):  3  CDS_tRNA_ncRNA,\n",
        " RNASeqExperiment (#450, RNAseq_delta-crp_glucose_NH4Cl_O2_2):  2  CDS_tRNA_ncRNA,\n",
        " RNASeqExperiment (#452, RNAseq_delta-crp_glycerol_NH4Cl_O2_1):  1  CDS_tRNA_ncRNA,\n",
        " RNASeqExperiment (#454, RNAseq_delta-crp_glycerol_NH4Cl_O2_3):  3  CDS_tRNA_ncRNA,\n",
        " RNASeqExperiment (#456, RNAseq_wt_fructose_NH4Cl_O2_2):  2  CDS_tRNA_ncRNA,\n",
        " RNASeqExperiment (#458, RNAseq_wt_glucose_NH4Cl_O2_2):  2  CDS_tRNA_ncRNA,\n",
        " RNASeqExperiment (#460, RNAseq_wt_glycerol_NH4Cl_O2_2):  2  CDS_tRNA_ncRNA,\n",
        " RNASeqExperiment (#462, RNAseq_wt_glucose_NH4Cl_O2_3):  3  CDS_tRNA_ncRNA,\n",
        " RNASeqExperiment (#464, RNAseq_Ar3_glycerol_NH4Cl_O2_2):  2  CDS,\n",
        " RNASeqExperiment (#466, RNAseq_delAr1_glycerol_NH4Cl_O2_1):  1  CDS,\n",
        " RNASeqExperiment (#468, RNAseq_delAr1_glycerol_NH4Cl_O2_3):  3  CDS,\n",
        " RNASeqExperiment (#470, RNAseq_delAr1delAr2_glycerol_NH4Cl_O2_2):  2  CDS,\n",
        " RNASeqExperiment (#379, RNAseq_Ar3_glycerol_NH4Cl_O2_1):  1  CDS_rRNA_tRNA_ncRNA,\n",
        " RNASeqExperiment (#381, RNAseq_Ar3_glycerol_NH4Cl_O2_3):  3  CDS_rRNA_tRNA_ncRNA,\n",
        " RNASeqExperiment (#383, RNAseq_delAr1_glycerol_NH4Cl_O2_2):  2  CDS_rRNA_tRNA_ncRNA,\n",
        " RNASeqExperiment (#385, RNAseq_delAr1delAr2_glycerol_NH4Cl_O2_1):  1  CDS_rRNA_tRNA_ncRNA,\n",
        " RNASeqExperiment (#387, RNAseq_delAr1delAr2_glycerol_NH4Cl_O2_3):  3  CDS_rRNA_tRNA_ncRNA,\n",
        " RNASeqExperiment (#389, RNAseq_delAr2_glycerol_NH4Cl_O2_3):  3  CDS_rRNA_tRNA_ncRNA,\n",
        " RNASeqExperiment (#391, RNAseq_delta-crp_fructose_NH4Cl_O2_2):  2  CDS_rRNA_tRNA_ncRNA,\n",
        " RNASeqExperiment (#393, RNAseq_delta-crp_glucose_NH4Cl_O2_1):  1  CDS_rRNA_tRNA_ncRNA,\n",
        " RNASeqExperiment (#395, RNAseq_delta-crp_glucose_NH4Cl_O2_3):  3  CDS_rRNA_tRNA_ncRNA,\n",
        " RNASeqExperiment (#397, RNAseq_delta-crp_glycerol_NH4Cl_O2_2):  2  CDS_rRNA_tRNA_ncRNA,\n",
        " RNASeqExperiment (#399, RNAseq_wt_fructose_NH4Cl_O2_1):  1  CDS_rRNA_tRNA_ncRNA,\n",
        " RNASeqExperiment (#401, RNAseq_wt_glucose_NH4Cl_O2_1):  1  CDS_rRNA_tRNA_ncRNA,\n",
        " RNASeqExperiment (#403, RNAseq_wt_glycerol_NH4Cl_O2_1):  1  CDS_rRNA_tRNA_ncRNA,\n",
        " RNASeqExperiment (#405, RNAseq_delAr2_glycerol_NH4Cl_O2_2):  2  CDS_rRNA_tRNA_ncRNA,\n",
        " RNASeqExperiment (#407, RNAseq_Ar3_glycerol_NH4Cl_O2_1):  1  e_coli_notRNA_rRNA,\n",
        " RNASeqExperiment (#409, RNAseq_Ar3_glycerol_NH4Cl_O2_3):  3  e_coli_notRNA_rRNA,\n",
        " RNASeqExperiment (#411, RNAseq_delAr1_glycerol_NH4Cl_O2_2):  2  e_coli_notRNA_rRNA,\n",
        " RNASeqExperiment (#413, RNAseq_delAr1delAr2_glycerol_NH4Cl_O2_1):  1  e_coli_notRNA_rRNA,\n",
        " RNASeqExperiment (#415, RNAseq_delAr1delAr2_glycerol_NH4Cl_O2_3):  3  e_coli_notRNA_rRNA,\n",
        " RNASeqExperiment (#417, RNAseq_delAr2_glycerol_NH4Cl_O2_3):  3  e_coli_notRNA_rRNA,\n",
        " RNASeqExperiment (#419, RNAseq_delta-crp_fructose_NH4Cl_O2_2):  2  e_coli_notRNA_rRNA,\n",
        " RNASeqExperiment (#421, RNAseq_delta-crp_glucose_NH4Cl_O2_1):  1  e_coli_notRNA_rRNA,\n",
        " RNASeqExperiment (#423, RNAseq_delta-crp_glucose_NH4Cl_O2_3):  3  e_coli_notRNA_rRNA,\n",
        " RNASeqExperiment (#425, RNAseq_delta-crp_glycerol_NH4Cl_O2_2):  2  e_coli_notRNA_rRNA,\n",
        " RNASeqExperiment (#427, RNAseq_wt_fructose_NH4Cl_O2_1):  1  e_coli_notRNA_rRNA,\n",
        " RNASeqExperiment (#429, RNAseq_wt_glucose_NH4Cl_O2_1):  1  e_coli_notRNA_rRNA,\n",
        " RNASeqExperiment (#431, RNAseq_wt_glycerol_NH4Cl_O2_1):  1  e_coli_notRNA_rRNA,\n",
        " RNASeqExperiment (#433, RNAseq_delAr2_glycerol_NH4Cl_O2_2):  2  e_coli_notRNA_rRNA,\n",
        " RNASeqExperiment (#435, RNAseq_Ar3_glycerol_NH4Cl_O2_1):  1  CDS_tRNA_ncRNA,\n",
        " RNASeqExperiment (#437, RNAseq_Ar3_glycerol_NH4Cl_O2_3):  3  CDS_tRNA_ncRNA,\n",
        " RNASeqExperiment (#439, RNAseq_delAr1_glycerol_NH4Cl_O2_2):  2  CDS_tRNA_ncRNA,\n",
        " RNASeqExperiment (#441, RNAseq_delAr1delAr2_glycerol_NH4Cl_O2_1):  1  CDS_tRNA_ncRNA,\n",
        " RNASeqExperiment (#443, RNAseq_delAr1delAr2_glycerol_NH4Cl_O2_3):  3  CDS_tRNA_ncRNA,\n",
        " RNASeqExperiment (#445, RNAseq_delAr2_glycerol_NH4Cl_O2_3):  3  CDS_tRNA_ncRNA,\n",
        " RNASeqExperiment (#447, RNAseq_delta-crp_fructose_NH4Cl_O2_2):  2  CDS_tRNA_ncRNA,\n",
        " RNASeqExperiment (#449, RNAseq_delta-crp_glucose_NH4Cl_O2_1):  1  CDS_tRNA_ncRNA,\n",
        " RNASeqExperiment (#451, RNAseq_delta-crp_glucose_NH4Cl_O2_3):  3  CDS_tRNA_ncRNA,\n",
        " RNASeqExperiment (#453, RNAseq_delta-crp_glycerol_NH4Cl_O2_2):  2  CDS_tRNA_ncRNA,\n",
        " RNASeqExperiment (#455, RNAseq_wt_fructose_NH4Cl_O2_1):  1  CDS_tRNA_ncRNA,\n",
        " RNASeqExperiment (#457, RNAseq_wt_glucose_NH4Cl_O2_1):  1  CDS_tRNA_ncRNA,\n",
        " RNASeqExperiment (#459, RNAseq_wt_glycerol_NH4Cl_O2_1):  1  CDS_tRNA_ncRNA,\n",
        " RNASeqExperiment (#461, RNAseq_delAr2_glycerol_NH4Cl_O2_2):  2  CDS_tRNA_ncRNA,\n",
        " RNASeqExperiment (#463, RNAseq_Ar3_glycerol_NH4Cl_O2_1):  1  CDS,\n",
        " RNASeqExperiment (#465, RNAseq_Ar3_glycerol_NH4Cl_O2_3):  3  CDS,\n",
        " RNASeqExperiment (#467, RNAseq_delAr1_glycerol_NH4Cl_O2_2):  2  CDS,\n",
        " RNASeqExperiment (#469, RNAseq_delAr1delAr2_glycerol_NH4Cl_O2_1):  1  CDS,\n",
        " RNASeqExperiment (#471, RNAseq_delAr1delAr2_glycerol_NH4Cl_O2_3):  3  CDS,\n",
        " RNASeqExperiment (#473, RNAseq_delAr2_glycerol_NH4Cl_O2_3):  3  CDS,\n",
        " RNASeqExperiment (#475, RNAseq_delta-crp_fructose_NH4Cl_O2_2):  2  CDS,\n",
        " RNASeqExperiment (#477, RNAseq_delta-crp_glucose_NH4Cl_O2_1):  1  CDS,\n",
        " RNASeqExperiment (#479, RNAseq_delta-crp_glucose_NH4Cl_O2_3):  3  CDS,\n",
        " RNASeqExperiment (#481, RNAseq_delta-crp_glycerol_NH4Cl_O2_2):  2  CDS,\n",
        " RNASeqExperiment (#483, RNAseq_wt_fructose_NH4Cl_O2_1):  1  CDS,\n",
        " RNASeqExperiment (#485, RNAseq_wt_glucose_NH4Cl_O2_1):  1  CDS,\n",
        " RNASeqExperiment (#487, RNAseq_wt_glycerol_NH4Cl_O2_1):  1  CDS,\n",
        " RNASeqExperiment (#489, RNAseq_delAr2_glycerol_NH4Cl_O2_2):  2  CDS,\n",
        " RNASeqExperiment (#472, RNAseq_delAr2_glycerol_NH4Cl_O2_1):  1  CDS,\n",
        " RNASeqExperiment (#474, RNAseq_delta-crp_fructose_NH4Cl_O2_1):  1  CDS,\n",
        " RNASeqExperiment (#476, RNAseq_delta-crp_fructose_NH4Cl_O2_3):  3  CDS,\n",
        " RNASeqExperiment (#478, RNAseq_delta-crp_glucose_NH4Cl_O2_2):  2  CDS,\n",
        " RNASeqExperiment (#480, RNAseq_delta-crp_glycerol_NH4Cl_O2_1):  1  CDS,\n",
        " RNASeqExperiment (#482, RNAseq_delta-crp_glycerol_NH4Cl_O2_3):  3  CDS,\n",
        " RNASeqExperiment (#484, RNAseq_wt_fructose_NH4Cl_O2_2):  2  CDS,\n",
        " RNASeqExperiment (#486, RNAseq_wt_glucose_NH4Cl_O2_2):  2  CDS,\n",
        " RNASeqExperiment (#488, RNAseq_wt_glycerol_NH4Cl_O2_2):  2  CDS,\n",
        " RNASeqExperiment (#490, RNAseq_wt_glucose_NH4Cl_O2_3):  3  CDS]"
       ]
      }
     ],
     "prompt_number": 2
    },
    {
     "cell_type": "markdown",
     "metadata": {},
     "source": [
      "[SQL Alchemy querying documentation](http://docs.sqlalchemy.org/en/rel_0_9/orm/query.html)"
     ]
    },
    {
     "cell_type": "heading",
     "level": 3,
     "metadata": {},
     "source": [
      "Gene Expression Data"
     ]
    },
    {
     "cell_type": "markdown",
     "metadata": {},
     "source": [
      "| locus_id | gene_name | fold_change |   stddev |  strain | carbon_source | nitrogen_source | electron_acceptor | supplements | dataset_type         |     \n",
      "|----------|-----------|-------------|----------|---------|---------------|-----------------|-------------------|-------------|----------------------|\n",
      "|  b0001   |   thrL    |   2.1       |   .012   |    wt   |  glucose      |     NH4Cl       |     O2            |    thiamine |     array_experiment |"
     ]
    },
    {
     "cell_type": "code",
     "collapsed": false,
     "input": [
      "session.query(ged).filter(ged.gene_name == 'glpK').all()"
     ],
     "language": "python",
     "metadata": {},
     "outputs": [
      {
       "metadata": {},
       "output_type": "pyout",
       "prompt_number": 5,
       "text": [
        "[Gene: (b3926, glpK), Value:  2.25, std: 0.00, Condition: glucose, NH4Cl, anaerobic, Strain: wt, array_experiment,\n",
        " Gene: (b3926, glpK), Value:  2.25, std: 0.00, Condition: glucose, NH4Cl, anaerobic, Strain: delta-arcA, array_experiment,\n",
        " Gene: (b3926, glpK), Value:  2.25, std: 0.01, Condition: glucose, NH4Cl, anaerobic, Strain: delta-arcAfnr, array_experiment,\n",
        " Gene: (b3926, glpK), Value:  2.25, std: 0.00, Condition: glucose, NH4Cl, anaerobic, Strain: delta-fnr, array_experiment,\n",
        " Gene: (b3926, glpK), Value:  2.25, std: 0.00, Condition: glucose, NH4Cl, anaerobic, Strain: delta-narL, array_experiment,\n",
        " Gene: (b3926, glpK), Value:  2.25, std: 0.00, Condition: glucose, NH4Cl, anaerobic, Strain: delta-narLnarP, array_experiment,\n",
        " Gene: (b3926, glpK), Value:  2.25, std: 0.00, Condition: glucose, NH4Cl, anaerobic, Strain: delta-narP, array_experiment,\n",
        " Gene: (b3926, glpK), Value:  2.25, std: 0.00, Condition: glucose, NH4Cl, O2, Strain: wt, array_experiment,\n",
        " Gene: (b3926, glpK), Value:  2.25, std: 0.00, Condition: glucose, NH4Cl, O2, Strain: delta-arcA, array_experiment,\n",
        " Gene: (b3926, glpK), Value:  2.25, std: 0.00, Condition: glucose, NH4Cl, O2, Strain: delta-arcAfnr, array_experiment,\n",
        " Gene: (b3926, glpK), Value:  2.25, std: 0.00, Condition: glucose, NH4Cl, O2, Strain: delta-fnr, array_experiment,\n",
        " Gene: (b3926, glpK), Value:  2.25, std: 0.00, Condition: glucose, NH4Cl, NO3, Strain: wt, array_experiment,\n",
        " Gene: (b3926, glpK), Value:  2.25, std: 0.00, Condition: glucose, NH4Cl, NO3, Strain: delta-narL, array_experiment,\n",
        " Gene: (b3926, glpK), Value:  2.25, std: 0.00, Condition: glucose, NH4Cl, NO3, Strain: delta-narLnarP, array_experiment,\n",
        " Gene: (b3926, glpK), Value:  2.25, std: 0.00, Condition: glucose, NH4Cl, NO3, Strain: delta-narP, array_experiment,\n",
        " Gene: (b3926, glpK), Value:  9.51, std: 0.21, Condition: acetate, NH4Cl, O2, Strain: wt, array_experiment,\n",
        " Gene: (b3926, glpK), Value:  9.24, std: 0.16, Condition: acetate, NH4Cl, O2, Strain: delta-cra, array_experiment,\n",
        " Gene: (b3926, glpK), Value:  2.62, std: 0.06, Condition: glucose, NH4Cl, O2, Strain: wt, array_experiment,\n",
        " Gene: (b3926, glpK), Value:  7.86, std: 0.09, Condition: glucose, NH4Cl, O2, Strain: delta-crp, array_experiment,\n",
        " Gene: (b3926, glpK), Value:  3.56, std: 0.24, Condition: glucose, NH4Cl, O2, Strain: delta-cra, array_experiment,\n",
        " Gene: (b3926, glpK), Value:  3.22, std: 0.05, Condition: glucose, NH4Cl, O2, Strain: delta-lrp, array_experiment,\n",
        " Gene: (b3926, glpK), Value:  3.02, std: 0.14, Condition: glucose, NH4Cl, O2, Strain: delta-purR, array_experiment,\n",
        " Gene: (b3926, glpK), Value:  7.01, std: 0.91, Condition: fructose, NH4Cl, O2, Strain: wt, array_experiment,\n",
        " Gene: (b3926, glpK), Value:  9.14, std: 0.14, Condition: fructose, NH4Cl, O2, Strain: delta-crp, array_experiment,\n",
        " Gene: (b3926, glpK), Value:  3.21, std: 0.06, Condition: glucose, leucine, O2, Strain: wt, array_experiment,\n",
        " Gene: (b3926, glpK), Value:  3.38, std: 0.00, Condition: glucose, leucine, O2, Strain: delta-lrp, array_experiment,\n",
        " Gene: (b3926, glpK), Value:  2.48, std: 0.03, Condition: glucose, adenine, O2, Strain: wt, array_experiment,\n",
        " Gene: (b3926, glpK), Value:  2.78, std: 0.18, Condition: glucose, adenine, O2, Strain: delta-purR, array_experiment,\n",
        " Gene: (b3926, glpK), Value: 126.07, std:10.89, Condition: fructose, NH4Cl, O2, Strain: wt, rnaseq_experiment,\n",
        " Gene: (b3926, glpK), Value: 444.20, std:42.89, Condition: fructose, NH4Cl, O2, Strain: delta-crp, rnaseq_experiment,\n",
        " Gene: (b3926, glpK), Value: 117.22, std:88.52, Condition: glucose, NH4Cl, O2, Strain: wt, rnaseq_experiment,\n",
        " Gene: (b3926, glpK), Value: 551.12, std:80.99, Condition: glucose, NH4Cl, O2, Strain: delta-crp, rnaseq_experiment,\n",
        " Gene: (b3926, glpK), Value: 4568.24, std:4568.24, Condition: glycerol, NH4Cl, O2, Strain: wt, rnaseq_experiment,\n",
        " Gene: (b3926, glpK), Value: 2835.98, std:685.89, Condition: glycerol, NH4Cl, O2, Strain: Ar3, rnaseq_experiment,\n",
        " Gene: (b3926, glpK), Value: 3445.77, std:794.81, Condition: glycerol, NH4Cl, O2, Strain: delAr1, rnaseq_experiment,\n",
        " Gene: (b3926, glpK), Value: 2409.39, std:79.20, Condition: glycerol, NH4Cl, O2, Strain: delAr1delAr2, rnaseq_experiment,\n",
        " Gene: (b3926, glpK), Value: 5924.43, std:191.23, Condition: glycerol, NH4Cl, O2, Strain: delAr2, rnaseq_experiment,\n",
        " Gene: (b3926, glpK), Value: 1622.35, std:52.04, Condition: glycerol, NH4Cl, O2, Strain: delta-crp, rnaseq_experiment,\n",
        " Gene: (b3926, glpK), Value: 118.59, std: 7.89, Condition: glucose, NH4Cl, O2, Strain: wt, rnaseq_experiment,\n",
        " Gene: (b3926, glpK), Value: 102.32, std: 4.85, Condition: glucose, NH4Cl, O2, Strain: delta-fur, rnaseq_experiment,\n",
        " Gene: (b3926, glpK), Value: 44.85, std: 0.92, Condition: glucose, NH4Cl, O2, Strain: wt, rnaseq_experiment,\n",
        " Gene: (b3926, glpK), Value: 64.78, std: 2.95, Condition: glucose, NH4Cl, O2, Strain: delta-fur, rnaseq_experiment,\n",
        " Gene: (b3926, glpK), Value: 49.15, std: 5.54, Condition: glucose, cytidine, O2, Strain: wt, rnaseq_experiment,\n",
        " Gene: (b3926, glpK), Value: 47.09, std: 2.65, Condition: glucose, cytosine, O2, Strain: wt, rnaseq_experiment,\n",
        " Gene: (b3926, glpK), Value: 47.59, std:12.80, Condition: glucose, glutamine, O2, Strain: wt, rnaseq_experiment,\n",
        " Gene: (b3926, glpK), Value: 150.36, std:25.22, Condition: acetate, NH4Cl, O2, Strain: bw25113, rnaseq_experiment,\n",
        " Gene: (b3926, glpK), Value: 83.81, std:37.37, Condition: fumarate, NH4Cl, O2, Strain: bw25113, rnaseq_experiment,\n",
        " Gene: (b3926, glpK), Value: 30.07, std: 3.24, Condition: glucose, NH4Cl, O2, Strain: bw25113, rnaseq_experiment,\n",
        " Gene: (b3926, glpK), Value: 75.29, std: 8.51, Condition: pyruvate, NH4Cl, O2, Strain: bw25113, rnaseq_experiment]"
       ]
      }
     ],
     "prompt_number": 5
    },
    {
     "cell_type": "code",
     "collapsed": false,
     "input": [
      "session.query(ged).filter(and_(ged.gene_name == 'glpK',\n",
      "                               ged.carbon_source == 'acetate')).all()"
     ],
     "language": "python",
     "metadata": {},
     "outputs": [
      {
       "metadata": {},
       "output_type": "pyout",
       "prompt_number": 11,
       "text": [
        "[Gene: (b3926, glpK), Value:  9.51, std: 0.21, Condition: acetate, NH4Cl, O2, Strain: wt, array_experiment,\n",
        " Gene: (b3926, glpK), Value:  9.24, std: 0.16, Condition: acetate, NH4Cl, O2, Strain: delta-cra, array_experiment,\n",
        " Gene: (b3926, glpK), Value: 150.36, std:25.22, Condition: acetate, NH4Cl, O2, Strain: bw25113, rnaseq_experiment]"
       ]
      }
     ],
     "prompt_number": 11
    },
    {
     "cell_type": "code",
     "collapsed": false,
     "input": [
      "session.query(ged).filter(and_(ged.gene_name == 'glpK',\n",
      "                               ged.carbon_source == 'glucose',\n",
      "                               ged.strain == 'wt')).all()"
     ],
     "language": "python",
     "metadata": {},
     "outputs": [
      {
       "metadata": {},
       "output_type": "pyout",
       "prompt_number": 12,
       "text": [
        "[Gene: (b3926, glpK), Value:  2.25, std: 0.00, Condition: glucose, NH4Cl, anaerobic, Strain: wt, array_experiment,\n",
        " Gene: (b3926, glpK), Value:  2.25, std: 0.00, Condition: glucose, NH4Cl, O2, Strain: wt, array_experiment,\n",
        " Gene: (b3926, glpK), Value:  2.25, std: 0.00, Condition: glucose, NH4Cl, NO3, Strain: wt, array_experiment,\n",
        " Gene: (b3926, glpK), Value:  2.62, std: 0.06, Condition: glucose, NH4Cl, O2, Strain: wt, array_experiment,\n",
        " Gene: (b3926, glpK), Value:  3.21, std: 0.06, Condition: glucose, leucine, O2, Strain: wt, array_experiment,\n",
        " Gene: (b3926, glpK), Value:  2.48, std: 0.03, Condition: glucose, adenine, O2, Strain: wt, array_experiment,\n",
        " Gene: (b3926, glpK), Value: 117.22, std:88.52, Condition: glucose, NH4Cl, O2, Strain: wt, rnaseq_experiment,\n",
        " Gene: (b3926, glpK), Value: 118.59, std: 7.89, Condition: glucose, NH4Cl, O2, Strain: wt, rnaseq_experiment,\n",
        " Gene: (b3926, glpK), Value: 44.85, std: 0.92, Condition: glucose, NH4Cl, O2, Strain: wt, rnaseq_experiment,\n",
        " Gene: (b3926, glpK), Value: 49.15, std: 5.54, Condition: glucose, cytidine, O2, Strain: wt, rnaseq_experiment,\n",
        " Gene: (b3926, glpK), Value: 47.09, std: 2.65, Condition: glucose, cytosine, O2, Strain: wt, rnaseq_experiment,\n",
        " Gene: (b3926, glpK), Value: 47.59, std:12.80, Condition: glucose, glutamine, O2, Strain: wt, rnaseq_experiment]"
       ]
      }
     ],
     "prompt_number": 12
    },
    {
     "cell_type": "heading",
     "level": 3,
     "metadata": {},
     "source": [
      "Differential Gene Expression Data"
     ]
    },
    {
     "cell_type": "markdown",
     "metadata": {},
     "source": [
      "| locus_id | gene_name | fold_change |   pval |  strain1 | strain2 | carbon_source1 | carbon_source2 | nitrogen_source1 | nitrogen_source2 | electron_acceptor1 | electron_acceptor2 | \n",
      "|----------|-----------|-------------|--------|----------|---------|---- -----------|----------------|------------------|------------------|--------------------|--------------------|\n",
      "|  b0001   |   thrL    |   2.1       |   .012 |    wt    |   wt    |   glucose      |  acetate       |    NH4Cl         |   NH4Cl          |    O2              |    O2              |     "
     ]
    },
    {
     "cell_type": "code",
     "collapsed": false,
     "input": [
      "session.query(dged).filter(and_(dged.gene_name.in_(['sucA','sucB']),\n",
      "                               dged.carbon_source1 == 'fructose')).all()"
     ],
     "language": "python",
     "metadata": {},
     "outputs": [
      {
       "metadata": {},
       "output_type": "pyout",
       "prompt_number": 5,
       "text": [
        "[Gene: (b0726, sucA), delta-crp/wt, fructose, NH4Cl, O2, Fold Change:  2.47, FDR:  0.00,\n",
        " Gene: (b0726, sucA), wt, fructose/glucose, NH4Cl, O2, Fold Change: -1.78, FDR:  0.03,\n",
        " Gene: (b0726, sucA), delta-crp, fructose/glucose, NH4Cl, O2, Fold Change:  0.67, FDR:  0.20,\n",
        " Gene: (b0726, sucA), delta-crp, fructose/glucose, NH4Cl, O2, Fold Change:  0.06, FDR:  0.94,\n",
        " Gene: (b0727, sucB), delta-crp/wt, fructose, NH4Cl, O2, Fold Change:  2.38, FDR:  0.00,\n",
        " Gene: (b0727, sucB), wt, fructose/glucose, NH4Cl, O2, Fold Change: -1.70, FDR:  0.03,\n",
        " Gene: (b0727, sucB), delta-crp, fructose/glucose, NH4Cl, O2, Fold Change:  0.62, FDR:  0.21,\n",
        " Gene: (b0727, sucB), delta-crp, fructose/glucose, NH4Cl, O2, Fold Change: -0.06, FDR:  0.34]"
       ]
      }
     ],
     "prompt_number": 5
    },
    {
     "cell_type": "code",
     "collapsed": false,
     "input": [
      "session.query(dged.value).filter(dged.gene_name.in_(['sucA','sucB'])).all()"
     ],
     "language": "python",
     "metadata": {},
     "outputs": [
      {
       "metadata": {},
       "output_type": "pyout",
       "prompt_number": 8,
       "text": [
        "[(-1.05668),\n",
        " (-1.05668),\n",
        " (1.07965),\n",
        " (1.07965),\n",
        " (-1.10332),\n",
        " (-1.10332),\n",
        " (2.4661),\n",
        " (2.4661),\n",
        " (1.87877),\n",
        " (1.87877),\n",
        " (-1.16853),\n",
        " (-1.16853),\n",
        " (-0.909772),\n",
        " (-0.909772),\n",
        " (-0.839486),\n",
        " (-0.839486),\n",
        " (-1.89617),\n",
        " (-1.89617),\n",
        " (2.49735),\n",
        " (2.49735),\n",
        " (0.875101),\n",
        " (0.875101),\n",
        " (1.8707),\n",
        " (1.8707),\n",
        " (-1.77703),\n",
        " (-1.77703),\n",
        " (-2.263),\n",
        " (-2.263),\n",
        " (-0.915208),\n",
        " (-0.915208),\n",
        " (1.43034),\n",
        " (1.43034),\n",
        " (0.674504),\n",
        " (0.674504),\n",
        " (0.0555931204215137),\n",
        " (0.0555931204215137),\n",
        " (-0.0963324849803397),\n",
        " (-0.0963324849803397),\n",
        " (-0.121869437206573),\n",
        " (-0.121869437206573),\n",
        " (0.968127),\n",
        " (0.968127),\n",
        " (-1.05049),\n",
        " (-1.05049),\n",
        " (2.38132),\n",
        " (2.38132),\n",
        " (2.18729),\n",
        " (2.18729),\n",
        " (0.920698),\n",
        " (0.920698),\n",
        " (-0.882855),\n",
        " (-0.882855),\n",
        " (-1.05183),\n",
        " (-1.05183),\n",
        " (-0.724741),\n",
        " (-0.724741),\n",
        " (-1.30119),\n",
        " (-1.30119),\n",
        " (1.48282),\n",
        " (1.48282),\n",
        " (0.859946),\n",
        " (0.859946),\n",
        " (1.02505),\n",
        " (1.02505),\n",
        " (1.84566),\n",
        " (1.84566),\n",
        " (-1.69757),\n",
        " (-1.69757),\n",
        " (-1.98902),\n",
        " (-1.98902),\n",
        " (-0.755685),\n",
        " (-0.755685),\n",
        " (0.846023),\n",
        " (0.846023),\n",
        " (0.618829),\n",
        " (0.618829),\n",
        " (-0.0637467552658677),\n",
        " (-0.0637467552658677),\n",
        " (-1.83071300300125),\n",
        " (-1.83071300300125),\n",
        " (0.364897356589321),\n",
        " (0.364897356589321)]"
       ]
      }
     ],
     "prompt_number": 8
    },
    {
     "cell_type": "heading",
     "level": 3,
     "metadata": {},
     "source": [
      "ChIP Peak Gene Expression "
     ]
    },
    {
     "cell_type": "markdown",
     "metadata": {},
     "source": [
      "| locus_id | gene_name | fold_change |   pval |  target | leftpos | rightpos |  peak_value |strain1 | strain2   | carbon_source1 | nitrogen_source | electron_acceptor |\n",
      "|----------|-----------|-------------|--------|---------|---------|--------- |-------------|--------|-----------|----------------|-----------------|-------------------|\n",
      "|  b0001   |   thrL    |   2.1       |   .012 |    ArcA |  192990 |  193015  |      876.3  |wt      |delta-arcA |   glucose      |   NH4Cl         |       anaerobic   |     "
     ]
    },
    {
     "cell_type": "code",
     "collapsed": false,
     "input": [
      "session.query(cpge).filter(cpge.gene_name.ilike('glp%')).all()"
     ],
     "language": "python",
     "metadata": {},
     "outputs": [
      {
       "metadata": {},
       "output_type": "pyout",
       "prompt_number": 21,
       "text": [
        "[TF: Crp, Gene: (glpX, b3925),  0.65,  0.23 wt-->delta-crp Condition: fructose, NH4Cl, O2 Peak: 4115765-4115966 value:12806.00,\n",
        " TF: Crp, Gene: (glpK, b3926), -1.82,  0.00 wt-->delta-crp Condition: fructose, NH4Cl, O2 Peak: 4115765-4115966 value:12806.00,\n",
        " TF: Crp, Gene: (glpX, b3925),  0.89,  0.21 wt-->delta-crp Condition: glycerol, NH4Cl, O2 Peak: 4115764-4115965 value:4585.00,\n",
        " TF: Crp, Gene: (glpX, b3925),  0.89,  0.21 wt-->delta-crp Condition: glycerol, NH4Cl, O2 Peak: 4116073-4116274 value:14009.00,\n",
        " TF: Crp, Gene: (glpX, b3925),  0.89,  0.21 wt-->delta-crp Condition: glycerol, NH4Cl, O2 Peak: 4115764-4115965 value:17469.00,\n",
        " TF: Crp, Gene: (glpX, b3925),  0.89,  0.21 wt-->delta-crp Condition: glycerol, NH4Cl, O2 Peak: 4115765-4115966 value:6228.00,\n",
        " TF: Crp, Gene: (glpK, b3926),  1.49,  0.05 wt-->delta-crp Condition: glycerol, NH4Cl, O2 Peak: 4115764-4115965 value:4585.00,\n",
        " TF: Crp, Gene: (glpK, b3926),  1.49,  0.05 wt-->delta-crp Condition: glycerol, NH4Cl, O2 Peak: 4116073-4116274 value:14009.00,\n",
        " TF: Crp, Gene: (glpK, b3926),  1.49,  0.05 wt-->delta-crp Condition: glycerol, NH4Cl, O2 Peak: 4115764-4115965 value:17469.00,\n",
        " TF: Crp, Gene: (glpK, b3926),  1.49,  0.05 wt-->delta-crp Condition: glycerol, NH4Cl, O2 Peak: 4115765-4115966 value:6228.00,\n",
        " TF: Crp, Gene: (glpF, b3927), -1.52,  0.01 wt-->delta-crp Condition: fructose, NH4Cl, O2 Peak: 4115765-4115966 value:12806.00,\n",
        " TF: Crp, Gene: (glpB, b2242),  4.06,  0.23 wt-->delta-crp Condition: glycerol, NH4Cl, O2 Peak: 2350360-2350561 value:15438.80,\n",
        " TF: Crp, Gene: (glpB, b2242),  4.06,  0.23 wt-->delta-crp Condition: glycerol, NH4Cl, O2 Peak: 2350274-2350475 value:8230.70,\n",
        " TF: Crp, Gene: (glpB, b2242),  4.06,  0.23 wt-->delta-crp Condition: glycerol, NH4Cl, O2 Peak: 2350199-2350400 value:9544.40,\n",
        " TF: Crp, Gene: (glpB, b2242),  4.06,  0.23 wt-->delta-crp Condition: glycerol, NH4Cl, O2 Peak: 2350370-2350571 value:13455.50,\n",
        " TF: Crp, Gene: (glpB, b2242),  4.06,  0.23 wt-->delta-crp Condition: glycerol, NH4Cl, O2 Peak: 2350378-2350579 value:15475.90,\n",
        " TF: Crp, Gene: (glpB, b2242),  4.06,  0.23 wt-->delta-crp Condition: glycerol, NH4Cl, O2 Peak: 2350513-2350714 value:23854.80,\n",
        " TF: Crp, Gene: (glpF, b3927),  2.94,  0.00 wt-->delta-crp Condition: glycerol, NH4Cl, O2 Peak: 4115764-4115965 value:4585.00,\n",
        " TF: Crp, Gene: (glpF, b3927),  2.94,  0.00 wt-->delta-crp Condition: glycerol, NH4Cl, O2 Peak: 4116073-4116274 value:14009.00,\n",
        " TF: Crp, Gene: (glpF, b3927),  2.94,  0.00 wt-->delta-crp Condition: glycerol, NH4Cl, O2 Peak: 4115764-4115965 value:17469.00,\n",
        " TF: Crp, Gene: (glpF, b3927),  2.94,  0.00 wt-->delta-crp Condition: glycerol, NH4Cl, O2 Peak: 4115765-4115966 value:6228.00,\n",
        " TF: Crp, Gene: (glpQ, b2239),  4.99,  0.00 wt-->delta-crp Condition: glycerol, NH4Cl, O2 Peak: 2350360-2350561 value:15438.80,\n",
        " TF: Crp, Gene: (glpQ, b2239),  4.99,  0.00 wt-->delta-crp Condition: glycerol, NH4Cl, O2 Peak: 2350274-2350475 value:8230.70,\n",
        " TF: Crp, Gene: (glpQ, b2239),  4.99,  0.00 wt-->delta-crp Condition: glycerol, NH4Cl, O2 Peak: 2350199-2350400 value:9544.40,\n",
        " TF: Crp, Gene: (glpQ, b2239),  4.99,  0.00 wt-->delta-crp Condition: glycerol, NH4Cl, O2 Peak: 2350370-2350571 value:13455.50,\n",
        " TF: Crp, Gene: (glpQ, b2239),  4.99,  0.00 wt-->delta-crp Condition: glycerol, NH4Cl, O2 Peak: 2350378-2350579 value:15475.90,\n",
        " TF: Crp, Gene: (glpQ, b2239),  4.99,  0.00 wt-->delta-crp Condition: glycerol, NH4Cl, O2 Peak: 2350513-2350714 value:23854.80,\n",
        " TF: Crp, Gene: (glpT, b2240),  7.11,  0.00 wt-->delta-crp Condition: glycerol, NH4Cl, O2 Peak: 2350360-2350561 value:15438.80,\n",
        " TF: Crp, Gene: (glpT, b2240),  7.11,  0.00 wt-->delta-crp Condition: glycerol, NH4Cl, O2 Peak: 2350274-2350475 value:8230.70,\n",
        " TF: Crp, Gene: (glpT, b2240),  7.11,  0.00 wt-->delta-crp Condition: glycerol, NH4Cl, O2 Peak: 2350199-2350400 value:9544.40,\n",
        " TF: Crp, Gene: (glpT, b2240),  7.11,  0.00 wt-->delta-crp Condition: glycerol, NH4Cl, O2 Peak: 2350370-2350571 value:13455.50,\n",
        " TF: Crp, Gene: (glpT, b2240),  7.11,  0.00 wt-->delta-crp Condition: glycerol, NH4Cl, O2 Peak: 2350378-2350579 value:15475.90,\n",
        " TF: Crp, Gene: (glpT, b2240),  7.11,  0.00 wt-->delta-crp Condition: glycerol, NH4Cl, O2 Peak: 2350513-2350714 value:23854.80]"
       ]
      }
     ],
     "prompt_number": 21
    },
    {
     "cell_type": "code",
     "collapsed": false,
     "input": [],
     "language": "python",
     "metadata": {},
     "outputs": []
    }
   ],
   "metadata": {}
  }
 ]
}