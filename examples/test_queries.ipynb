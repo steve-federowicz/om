{
 "metadata": {
  "name": "",
  "signature": "sha256:314ee2b6b372d2960b7288d029302cb76513cfa84b09804e1277ef97f3229f57"
 },
 "nbformat": 3,
 "nbformat_minor": 0,
 "worksheets": [
  {
   "cells": [
    {
     "cell_type": "code",
     "collapsed": false,
     "input": [
      "from om import base, settings\n",
      "from om.data import *\n",
      "from om.components import *\n",
      "\n",
      "from IPython.display import HTML\n",
      "from matplotlib import pylab as plt\n",
      "\n",
      "from math import log\n",
      "from itertools import combinations\n",
      "import pandas as pd\n",
      "\n",
      "ome = base.Session()\n",
      "genome_data = omics_database.genome_data\n",
      "%matplotlib inline"
     ],
     "language": "python",
     "metadata": {},
     "outputs": [
      {
       "output_type": "stream",
       "stream": "stderr",
       "text": [
        "/usr/local/Cellar/python/2.7.6/Frameworks/Python.framework/Versions/2.7/lib/python2.7/site-packages/pandas/io/excel.py:626: UserWarning: Installed openpyxl is not supported at this time. Use >=1.6.1 and <2.0.0.\n",
        "  .format(openpyxl_compat.start_ver, openpyxl_compat.stop_ver))\n"
       ]
      }
     ],
     "prompt_number": 1
    },
    {
     "cell_type": "code",
     "collapsed": false,
     "input": [
      "with open('/Volumes/extra/Dropbox/crp/data/annotation/ecocyc_tu.gff','wb') as tu_file:\n",
      "    for tu in ome.query(TU).all():\n",
      "        tu_file.write('%s\\t%s\\t%s\\t%s\\t%s\\t%s\\t%s\\t%s\\t%s\\n' % \n",
      "                      ('NC_000913','ecocyc_TUs', 'transcript', tu.genome_region.leftpos,\n",
      "                       tu.genome_region.rightpos, '.', tu.genome_region.strand, '.', tu.name))"
     ],
     "language": "python",
     "metadata": {},
     "outputs": [],
     "prompt_number": 10
    },
    {
     "cell_type": "code",
     "collapsed": false,
     "input": [
      "ome.query(ChIPExperiment).order_by(ChIPExperiment.name).first().fastq_files"
     ],
     "language": "python",
     "metadata": {},
     "outputs": [
      {
       "ename": "AttributeError",
       "evalue": "'ChIPExperiment' object has no attribute 'fastq_files'",
       "output_type": "pyerr",
       "traceback": [
        "\u001b[0;31m---------------------------------------------------------------------------\u001b[0m\n\u001b[0;31mAttributeError\u001b[0m                            Traceback (most recent call last)",
        "\u001b[0;32m<ipython-input-4-29699c6e51dc>\u001b[0m in \u001b[0;36m<module>\u001b[0;34m()\u001b[0m\n\u001b[0;32m----> 1\u001b[0;31m \u001b[0mome\u001b[0m\u001b[0;34m.\u001b[0m\u001b[0mquery\u001b[0m\u001b[0;34m(\u001b[0m\u001b[0mChIPExperiment\u001b[0m\u001b[0;34m)\u001b[0m\u001b[0;34m.\u001b[0m\u001b[0morder_by\u001b[0m\u001b[0;34m(\u001b[0m\u001b[0mChIPExperiment\u001b[0m\u001b[0;34m.\u001b[0m\u001b[0mname\u001b[0m\u001b[0;34m)\u001b[0m\u001b[0;34m.\u001b[0m\u001b[0mfirst\u001b[0m\u001b[0;34m(\u001b[0m\u001b[0;34m)\u001b[0m\u001b[0;34m.\u001b[0m\u001b[0mfastq_files\u001b[0m\u001b[0;34m\u001b[0m\u001b[0m\n\u001b[0m",
        "\u001b[0;31mAttributeError\u001b[0m: 'ChIPExperiment' object has no attribute 'fastq_files'"
       ]
      }
     ],
     "prompt_number": 4
    },
    {
     "cell_type": "code",
     "collapsed": false,
     "input": [
      "ome.query(RNASeqExperiment).all()"
     ],
     "language": "python",
     "metadata": {},
     "outputs": [
      {
       "metadata": {},
       "output_type": "pyout",
       "prompt_number": 2,
       "text": [
        "[RNASeqExperiment (#1, RNAseq_Ar3_glycerol_NH4Cl_O2_1):  1,\n",
        " RNASeqExperiment (#2, RNAseq_Ar3_glycerol_NH4Cl_O2_2):  2,\n",
        " RNASeqExperiment (#3, RNAseq_Ar3_glycerol_NH4Cl_O2_3):  3,\n",
        " RNASeqExperiment (#4, RNAseq_delAr1_glycerol_NH4Cl_O2_1):  1,\n",
        " RNASeqExperiment (#5, RNAseq_delAr1_glycerol_NH4Cl_O2_2):  2,\n",
        " RNASeqExperiment (#6, RNAseq_delAr1_glycerol_NH4Cl_O2_3):  3,\n",
        " RNASeqExperiment (#7, RNAseq_delAr1delAr2_glycerol_NH4Cl_O2_1):  1,\n",
        " RNASeqExperiment (#8, RNAseq_delAr1delAr2_glycerol_NH4Cl_O2_2):  2,\n",
        " RNASeqExperiment (#9, RNAseq_delAr1delAr2_glycerol_NH4Cl_O2_3):  3,\n",
        " RNASeqExperiment (#10, RNAseq_delAr2_glycerol_NH4Cl_O2_1):  1,\n",
        " RNASeqExperiment (#11, RNAseq_delAr2_glycerol_NH4Cl_O2_3):  3,\n",
        " RNASeqExperiment (#12, RNAseq_delta-crp_fructose_NH4Cl_O2_1):  1,\n",
        " RNASeqExperiment (#13, RNAseq_delta-crp_fructose_NH4Cl_O2_2):  2,\n",
        " RNASeqExperiment (#14, RNAseq_delta-crp_fructose_NH4Cl_O2_3):  3,\n",
        " RNASeqExperiment (#15, RNAseq_delta-crp_glucose_NH4Cl_O2_1):  1,\n",
        " RNASeqExperiment (#16, RNAseq_delta-crp_glucose_NH4Cl_O2_2):  2,\n",
        " RNASeqExperiment (#17, RNAseq_delta-crp_glucose_NH4Cl_O2_3):  3,\n",
        " RNASeqExperiment (#18, RNAseq_delta-crp_glycerol_NH4Cl_O2_1):  1,\n",
        " RNASeqExperiment (#19, RNAseq_delta-crp_glycerol_NH4Cl_O2_2):  2,\n",
        " RNASeqExperiment (#20, RNAseq_delta-crp_glycerol_NH4Cl_O2_3):  3,\n",
        " RNASeqExperiment (#21, RNAseq_wt_fructose_NH4Cl_O2_1):  1,\n",
        " RNASeqExperiment (#22, RNAseq_wt_fructose_NH4Cl_O2_2):  2,\n",
        " RNASeqExperiment (#23, RNAseq_wt_glucose_NH4Cl_O2_1):  1,\n",
        " RNASeqExperiment (#24, RNAseq_wt_glucose_NH4Cl_O2_2):  2,\n",
        " RNASeqExperiment (#25, RNAseq_wt_glycerol_NH4Cl_O2_1):  1,\n",
        " RNASeqExperiment (#26, RNAseq_wt_glycerol_NH4Cl_O2_2):  2,\n",
        " RNASeqExperiment (#27, RNAseq_delAr2_glycerol_NH4Cl_O2_2):  2,\n",
        " RNASeqExperiment (#28, RNAseq_bw25113_acetate_NH4Cl_O2_1_thiamine):  1,\n",
        " RNASeqExperiment (#29, RNAseq_bw25113_acetate_NH4Cl_O2_2_thiamine):  2,\n",
        " RNASeqExperiment (#30, RNAseq_bw25113_fumarate_NH4Cl_O2_1_thiamine):  1,\n",
        " RNASeqExperiment (#31, RNAseq_bw25113_fumarate_NH4Cl_O2_2_thiamine):  2,\n",
        " RNASeqExperiment (#32, RNAseq_bw25113_glucose_NH4Cl_O2_1_thiamine):  1,\n",
        " RNASeqExperiment (#33, RNAseq_bw25113_glucose_NH4Cl_O2_2_thiamine):  2,\n",
        " RNASeqExperiment (#34, RNAseq_bw25113_pyruvate_NH4Cl_O2_1_thiamine):  1,\n",
        " RNASeqExperiment (#35, RNAseq_bw25113_pyruvate_NH4Cl_O2_2_thiamine):  2,\n",
        " RNASeqExperiment (#36, RNAseq_delta-fur_glucose_NH4Cl_O2_1_dpd):  1,\n",
        " RNASeqExperiment (#37, RNAseq_delta-fur_glucose_NH4Cl_O2_1_FeCl2):  1,\n",
        " RNASeqExperiment (#38, RNAseq_delta-fur_glucose_NH4Cl_O2_2_dpd):  2,\n",
        " RNASeqExperiment (#39, RNAseq_delta-fur_glucose_NH4Cl_O2_2_FeCl2):  2,\n",
        " RNASeqExperiment (#40, RNAseq_wt_glucose_cytidine_O2_1):  1,\n",
        " RNASeqExperiment (#41, RNAseq_wt_glucose_cytidine_O2_2):  2,\n",
        " RNASeqExperiment (#42, RNAseq_wt_glucose_cytosine_O2_1):  1,\n",
        " RNASeqExperiment (#43, RNAseq_wt_glucose_cytosine_O2_2):  2,\n",
        " RNASeqExperiment (#44, RNAseq_wt_glucose_glutamine_O2_1):  1,\n",
        " RNASeqExperiment (#45, RNAseq_wt_glucose_glutamine_O2_2):  2,\n",
        " RNASeqExperiment (#46, RNAseq_wt_glucose_NH4Cl_O2_1_dpd):  1,\n",
        " RNASeqExperiment (#47, RNAseq_wt_glucose_NH4Cl_O2_1_FeCl2):  1,\n",
        " RNASeqExperiment (#48, RNAseq_wt_glucose_NH4Cl_O2_2_dpd):  2,\n",
        " RNASeqExperiment (#49, RNAseq_wt_glucose_NH4Cl_O2_2_FeCl2):  2,\n",
        " RNASeqExperiment (#50, RNAseq_wt_glucose_NH4Cl_O2_4):  4,\n",
        " RNASeqExperiment (#51, RNAseq_wt_glucose_NH4Cl_O2_5):  5]"
       ]
      }
     ],
     "prompt_number": 2
    },
    {
     "cell_type": "code",
     "collapsed": false,
     "input": [],
     "language": "python",
     "metadata": {},
     "outputs": []
    }
   ],
   "metadata": {}
  }
 ]
}