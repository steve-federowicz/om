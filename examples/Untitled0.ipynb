{
 "metadata": {
  "name": "",
  "signature": "sha256:2d7e9f3a0206d4dffa2e0e3e673eb826bb2eb9091ab52d0f006c895c7f29fbd8"
 },
 "nbformat": 3,
 "nbformat_minor": 0,
 "worksheets": [
  {
   "cells": [
    {
     "cell_type": "code",
     "collapsed": false,
     "input": [
      "from om import base, settings\n",
      "from om.components import *\n",
      "from om.data import *\n",
      "from om.util import *\n",
      "from scipy.spatial.distance import pdist, squareform\n",
      "from scipy.cluster.hierarchy import linkage, dendrogram\n",
      "\n",
      "import pandas as pd\n",
      "import numpy as np\n",
      "import math,cobra\n",
      "\n",
      "\n",
      "ome = base.Session()\n",
      "\n",
      "ged = GeneExpressionData\n",
      "dged = DifferentialGeneExpressionData\n",
      "cpge = ChIPPeakGeneExpression"
     ],
     "language": "python",
     "metadata": {},
     "outputs": [
      {
       "output_type": "stream",
       "stream": "stderr",
       "text": [
        "cobra/io/__init__.py:17 \u001b[1;31mUserWarning\u001b[0m: cobra.io.sbml requires libsbml\n"
       ]
      }
     ],
     "prompt_number": 1
    },
    {
     "cell_type": "code",
     "collapsed": false,
     "input": [
      "ome.query(DifferentialExpression).all()"
     ],
     "language": "python",
     "metadata": {},
     "outputs": [],
     "prompt_number": 7
    },
    {
     "cell_type": "code",
     "collapsed": false,
     "input": [
      "24990/4165."
     ],
     "language": "python",
     "metadata": {},
     "outputs": [
      {
       "metadata": {},
       "output_type": "pyout",
       "prompt_number": 6,
       "text": [
        "6.0"
       ]
      }
     ],
     "prompt_number": 6
    },
    {
     "cell_type": "code",
     "collapsed": false,
     "input": [
      "from om import data\n",
      "from om.loading import data_loading\n",
      "\n",
      "exp_objects = ome.query(data.NormalizedExpression).\\\n",
      "                                   join(data.AnalysisComposition, data.NormalizedExpression.id == data.AnalysisComposition.analysis_id).\\\n",
      "                                   join(data.ArrayExperiment, data.ArrayExperiment.id == data.AnalysisComposition.data_set_id).all()\n",
      "contrasts = data_loading.find_single_factor_pairwise_contrasts(exp_objects)"
     ],
     "language": "python",
     "metadata": {},
     "outputs": [],
     "prompt_number": 2
    },
    {
     "cell_type": "code",
     "collapsed": false,
     "input": [
      "for e1,e2 in contrasts: print e1.name,e2.name"
     ],
     "language": "python",
     "metadata": {},
     "outputs": [
      {
       "output_type": "stream",
       "stream": "stdout",
       "text": [
        "affyexp_wt_acetate_NH4Cl_O2 affyexp_wt_fructose_NH4Cl_O2\n",
        "affyexp_delta-cra_acetate_NH4Cl_O2 affyexp_wt_acetate_NH4Cl_O2\n",
        "affyexp_delta-fnr_glucose_NH4Cl_anaerobic affyexp_wt_glucose_NH4Cl_anaerobic\n",
        "affyexp_delta-fnr_glucose_NH4Cl_O2 affyexp_delta-fnr_glucose_NH4Cl_anaerobic\n",
        "affyexp_delta-narLnarP_glucose_NH4Cl_NO3 affyexp_delta-narLnarP_glucose_NH4Cl_anaerobic\n",
        "affyexp_delta-narLnarP_glucose_NH4Cl_NO3 affyexp_wt_glucose_NH4Cl_NO3\n",
        "affyexp_delta-narLnarP_glucose_NH4Cl_anaerobic affyexp_wt_glucose_NH4Cl_anaerobic\n",
        "affyexp_delta-arcAfnr_glucose_NH4Cl_O2 affyexp_delta-arcAfnr_glucose_NH4Cl_anaerobic\n",
        "affyexp_delta-arcAfnr_glucose_NH4Cl_anaerobic affyexp_wt_glucose_NH4Cl_anaerobic\n",
        "affyexp_delta-purR_glucose_adenine_O2 affyexp_wt_glucose_adenine_O2\n",
        "affyexp_wt_glucose_adenine_O2 affyexp_wt_glucose_leucine_O2\n",
        "affyexp_delta-crp_fructose_NH4Cl_O2 affyexp_wt_fructose_NH4Cl_O2\n",
        "affyexp_delta-cra_acetate_NH4Cl_O2 affyexp_delta-cra_glucose_NH4Cl_O2\n",
        "affyexp_delta-purR_glucose_NH4Cl_O2 affyexp_delta-purR_glucose_adenine_O2\n",
        "affyexp_delta-arcAfnr_glucose_NH4Cl_O2 affyexp_wt_glucose_NH4Cl_O2\n",
        "affyexp_delta-crp_fructose_NH4Cl_O2 affyexp_delta-crp_glucose_NH4Cl_O2\n",
        "affyexp_delta-lrp_glucose_NH4Cl_O2 affyexp_delta-lrp_glucose_leucine_O2\n",
        "affyexp_delta-narP_glucose_NH4Cl_NO3 affyexp_wt_glucose_NH4Cl_NO3\n",
        "affyexp_delta-narP_glucose_NH4Cl_NO3 affyexp_delta-narP_glucose_NH4Cl_anaerobic\n",
        "affyexp_wt_glucose_NH4Cl_NO3 affyexp_wt_glucose_NH4Cl_O2\n",
        "affyexp_wt_glucose_NH4Cl_O2 affyexp_wt_glucose_NH4Cl_anaerobic\n",
        "affyexp_delta-arcA_glucose_NH4Cl_O2 affyexp_wt_glucose_NH4Cl_O2\n",
        "affyexp_delta-fnr_glucose_NH4Cl_O2 affyexp_wt_glucose_NH4Cl_O2\n",
        "affyexp_delta-narL_glucose_NH4Cl_NO3 affyexp_delta-narL_glucose_NH4Cl_anaerobic\n",
        "affyexp_delta-narL_glucose_NH4Cl_anaerobic affyexp_wt_glucose_NH4Cl_anaerobic\n",
        "affyexp_delta-narL_glucose_NH4Cl_NO3 affyexp_wt_glucose_NH4Cl_NO3\n",
        "affyexp_wt_glucose_NH4Cl_NO3 affyexp_wt_glucose_NH4Cl_anaerobic\n",
        "affyexp_delta-arcA_glucose_NH4Cl_anaerobic affyexp_wt_glucose_NH4Cl_anaerobic\n",
        "affyexp_delta-arcA_glucose_NH4Cl_O2 affyexp_delta-arcA_glucose_NH4Cl_anaerobic\n",
        "affyexp_delta-cra_glucose_NH4Cl_O2 affyexp_delta-cra_glucose_NH4Cl_anaerobic\n",
        "affyexp_delta-narP_glucose_NH4Cl_anaerobic affyexp_wt_glucose_NH4Cl_anaerobic\n",
        "affyexp_delta-lrp_glucose_leucine_O2 affyexp_wt_glucose_leucine_O2\n"
       ]
      }
     ],
     "prompt_number": 8
    },
    {
     "cell_type": "code",
     "collapsed": false,
     "input": [],
     "language": "python",
     "metadata": {},
     "outputs": []
    }
   ],
   "metadata": {}
  }
 ]
}